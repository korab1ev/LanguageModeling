{
  "cells": [
    {
      "cell_type": "markdown",
      "metadata": {
        "id": "zHIDS-pkIoUT"
      },
      "source": [
        "### Homework: going neural (6 pts)\n",
        "\n",
        "We've checked out statistical approaches to language models in the last notebook. Now let's go find out what deep learning has to offer.\n",
        "\n",
        "<img src='https://raw.githubusercontent.com/yandexdataschool/nlp_course/master/resources/expanding_mind_lm_kn_3.png' width=300px>\n",
        "\n",
        "We're gonna use the same dataset as before, except this time we build a language model that's character-level, not word level. Before you go:\n",
        "* If you haven't done seminar already, use `seminar.ipynb` to download the data.\n",
        "* This homework uses Pytorch v1.x: this is [how you install it](https://pytorch.org/get-started/locally/); and that's [how you use it](https://github.com/yandexdataschool/Practical_RL/tree/9f89e98d7df7ad47f5d6c85a70a38283e06be16a/week04_%5Brecap%5D_deep_learning)."
      ]
    },
    {
      "cell_type": "code",
      "execution_count": 3,
      "metadata": {
        "id": "EM_DT0x0IoUf"
      },
      "outputs": [],
      "source": [
        "import numpy as np\n",
        "import pandas as pd\n",
        "import matplotlib.pyplot as plt\n",
        "%matplotlib inline"
      ]
    },
    {
      "cell_type": "code",
      "source": [
        "# Alternative manual download link: https://yadi.sk/d/_nGyU2IajjR9-w\n",
        "!wget \"https://www.dropbox.com/s/99az9n1b57qkd9j/arxivData.json.tar.gz?dl=1\" -O arxivData.json.tar.gz\n",
        "!tar -xvzf arxivData.json.tar.gz\n",
        "data = pd.read_json(\"./arxivData.json\")\n",
        "data.sample(n=5)"
      ],
      "metadata": {
        "colab": {
          "base_uri": "https://localhost:8080/",
          "height": 614
        },
        "id": "N2AUQGW1JDB3",
        "outputId": "f3eaf828-e7e5-4a3c-f5cd-81a972bd35ec"
      },
      "execution_count": 4,
      "outputs": [
        {
          "output_type": "stream",
          "name": "stdout",
          "text": [
            "--2022-09-16 12:42:50--  https://www.dropbox.com/s/99az9n1b57qkd9j/arxivData.json.tar.gz?dl=1\n",
            "Resolving www.dropbox.com (www.dropbox.com)... 162.125.85.18, 2620:100:6030:18::a27d:5012\n",
            "Connecting to www.dropbox.com (www.dropbox.com)|162.125.85.18|:443... connected.\n",
            "HTTP request sent, awaiting response... 302 Found\n",
            "Location: /s/dl/99az9n1b57qkd9j/arxivData.json.tar.gz [following]\n",
            "--2022-09-16 12:42:51--  https://www.dropbox.com/s/dl/99az9n1b57qkd9j/arxivData.json.tar.gz\n",
            "Reusing existing connection to www.dropbox.com:443.\n",
            "HTTP request sent, awaiting response... 302 Found\n",
            "Location: https://uc0b5a99c18415bc1286705b3e43.dl.dropboxusercontent.com/cd/0/get/BtDd2DBybzQpN5cBAlKrPqDuotoVi-bXuLEFjYi97h0sQpoJQEm9oaO5Q1gSvY1wWaXz1B1XONLZ6-OHfR5y_dXHS2bJKvRR2xJhLvvmOtd3ULnOmhhBKYH9hmeB4WW2WylZG6YKfk_ZTemB5dkR-JZIS2k_Zk168NeHCJ78iFKrYQ/file?dl=1# [following]\n",
            "--2022-09-16 12:42:52--  https://uc0b5a99c18415bc1286705b3e43.dl.dropboxusercontent.com/cd/0/get/BtDd2DBybzQpN5cBAlKrPqDuotoVi-bXuLEFjYi97h0sQpoJQEm9oaO5Q1gSvY1wWaXz1B1XONLZ6-OHfR5y_dXHS2bJKvRR2xJhLvvmOtd3ULnOmhhBKYH9hmeB4WW2WylZG6YKfk_ZTemB5dkR-JZIS2k_Zk168NeHCJ78iFKrYQ/file?dl=1\n",
            "Resolving uc0b5a99c18415bc1286705b3e43.dl.dropboxusercontent.com (uc0b5a99c18415bc1286705b3e43.dl.dropboxusercontent.com)... 162.125.85.15, 2620:100:6030:15::a27d:500f\n",
            "Connecting to uc0b5a99c18415bc1286705b3e43.dl.dropboxusercontent.com (uc0b5a99c18415bc1286705b3e43.dl.dropboxusercontent.com)|162.125.85.15|:443... connected.\n",
            "HTTP request sent, awaiting response... 200 OK\n",
            "Length: 18933283 (18M) [application/binary]\n",
            "Saving to: ‘arxivData.json.tar.gz’\n",
            "\n",
            "arxivData.json.tar. 100%[===================>]  18.06M  18.7MB/s    in 1.0s    \n",
            "\n",
            "2022-09-16 12:42:53 (18.7 MB/s) - ‘arxivData.json.tar.gz’ saved [18933283/18933283]\n",
            "\n",
            "arxivData.json\n"
          ]
        },
        {
          "output_type": "execute_result",
          "data": {
            "text/plain": [
              "                                                  author  day            id  \\\n",
              "29435  [{'name': 'Tadashi Matsuo'}, {'name': 'Hiroya ...   12  1709.03754v1   \n",
              "31877  [{'name': 'Julien Mairal'}, {'name': 'Rodolphe...   20   1110.4481v1   \n",
              "27364  [{'name': 'Mariane B. Neiva'}, {'name': 'Patri...   13  1703.04418v1   \n",
              "9761   [{'name': 'Leonid Peshkin'}, {'name': 'Sayan M...   17  cs/0105027v1   \n",
              "26283  [{'name': 'Oriol Vinyals'}, {'name': 'Alexande...   21  1609.06647v1   \n",
              "\n",
              "                                                    link  month  \\\n",
              "29435  [{'rel': 'alternate', 'href': 'http://arxiv.or...      9   \n",
              "31877  [{'rel': 'related', 'href': 'http://dx.doi.org...     10   \n",
              "27364  [{'rel': 'alternate', 'href': 'http://arxiv.or...      3   \n",
              "9761   [{'rel': 'alternate', 'href': 'http://arxiv.or...      5   \n",
              "26283  [{'rel': 'related', 'href': 'http://dx.doi.org...      9   \n",
              "\n",
              "                                                 summary  \\\n",
              "29435  The auto-encoder method is a type of dimension...   \n",
              "31877  Recent work in signal processing and statistic...   \n",
              "27364  The main purpose of this paper is to propose a...   \n",
              "9761   Reinforcement learning means finding the optim...   \n",
              "26283  Automatically describing the content of an ima...   \n",
              "\n",
              "                                                     tag  \\\n",
              "29435  [{'term': 'cs.CV', 'scheme': 'http://arxiv.org...   \n",
              "31877  [{'term': 'cs.LG', 'scheme': 'http://arxiv.org...   \n",
              "27364  [{'term': 'cs.CV', 'scheme': 'http://arxiv.org...   \n",
              "9761   [{'term': 'cs.LG', 'scheme': 'http://arxiv.org...   \n",
              "26283  [{'term': 'cs.CV', 'scheme': 'http://arxiv.org...   \n",
              "\n",
              "                                                   title  year  \n",
              "29435                   Transform Invariant Auto-encoder  2017  \n",
              "31877  Learning Hierarchical and Topographic Dictiona...  2011  \n",
              "27364  Improving LBP and its variants using anisotrop...  2017  \n",
              "9761   Bounds on sample size for policy evaluation in...  2001  \n",
              "26283  Show and Tell: Lessons learned from the 2015 M...  2016  "
            ],
            "text/html": [
              "\n",
              "  <div id=\"df-6391b8cf-1cda-4f4e-ab95-39f633935f18\">\n",
              "    <div class=\"colab-df-container\">\n",
              "      <div>\n",
              "<style scoped>\n",
              "    .dataframe tbody tr th:only-of-type {\n",
              "        vertical-align: middle;\n",
              "    }\n",
              "\n",
              "    .dataframe tbody tr th {\n",
              "        vertical-align: top;\n",
              "    }\n",
              "\n",
              "    .dataframe thead th {\n",
              "        text-align: right;\n",
              "    }\n",
              "</style>\n",
              "<table border=\"1\" class=\"dataframe\">\n",
              "  <thead>\n",
              "    <tr style=\"text-align: right;\">\n",
              "      <th></th>\n",
              "      <th>author</th>\n",
              "      <th>day</th>\n",
              "      <th>id</th>\n",
              "      <th>link</th>\n",
              "      <th>month</th>\n",
              "      <th>summary</th>\n",
              "      <th>tag</th>\n",
              "      <th>title</th>\n",
              "      <th>year</th>\n",
              "    </tr>\n",
              "  </thead>\n",
              "  <tbody>\n",
              "    <tr>\n",
              "      <th>29435</th>\n",
              "      <td>[{'name': 'Tadashi Matsuo'}, {'name': 'Hiroya ...</td>\n",
              "      <td>12</td>\n",
              "      <td>1709.03754v1</td>\n",
              "      <td>[{'rel': 'alternate', 'href': 'http://arxiv.or...</td>\n",
              "      <td>9</td>\n",
              "      <td>The auto-encoder method is a type of dimension...</td>\n",
              "      <td>[{'term': 'cs.CV', 'scheme': 'http://arxiv.org...</td>\n",
              "      <td>Transform Invariant Auto-encoder</td>\n",
              "      <td>2017</td>\n",
              "    </tr>\n",
              "    <tr>\n",
              "      <th>31877</th>\n",
              "      <td>[{'name': 'Julien Mairal'}, {'name': 'Rodolphe...</td>\n",
              "      <td>20</td>\n",
              "      <td>1110.4481v1</td>\n",
              "      <td>[{'rel': 'related', 'href': 'http://dx.doi.org...</td>\n",
              "      <td>10</td>\n",
              "      <td>Recent work in signal processing and statistic...</td>\n",
              "      <td>[{'term': 'cs.LG', 'scheme': 'http://arxiv.org...</td>\n",
              "      <td>Learning Hierarchical and Topographic Dictiona...</td>\n",
              "      <td>2011</td>\n",
              "    </tr>\n",
              "    <tr>\n",
              "      <th>27364</th>\n",
              "      <td>[{'name': 'Mariane B. Neiva'}, {'name': 'Patri...</td>\n",
              "      <td>13</td>\n",
              "      <td>1703.04418v1</td>\n",
              "      <td>[{'rel': 'alternate', 'href': 'http://arxiv.or...</td>\n",
              "      <td>3</td>\n",
              "      <td>The main purpose of this paper is to propose a...</td>\n",
              "      <td>[{'term': 'cs.CV', 'scheme': 'http://arxiv.org...</td>\n",
              "      <td>Improving LBP and its variants using anisotrop...</td>\n",
              "      <td>2017</td>\n",
              "    </tr>\n",
              "    <tr>\n",
              "      <th>9761</th>\n",
              "      <td>[{'name': 'Leonid Peshkin'}, {'name': 'Sayan M...</td>\n",
              "      <td>17</td>\n",
              "      <td>cs/0105027v1</td>\n",
              "      <td>[{'rel': 'alternate', 'href': 'http://arxiv.or...</td>\n",
              "      <td>5</td>\n",
              "      <td>Reinforcement learning means finding the optim...</td>\n",
              "      <td>[{'term': 'cs.LG', 'scheme': 'http://arxiv.org...</td>\n",
              "      <td>Bounds on sample size for policy evaluation in...</td>\n",
              "      <td>2001</td>\n",
              "    </tr>\n",
              "    <tr>\n",
              "      <th>26283</th>\n",
              "      <td>[{'name': 'Oriol Vinyals'}, {'name': 'Alexande...</td>\n",
              "      <td>21</td>\n",
              "      <td>1609.06647v1</td>\n",
              "      <td>[{'rel': 'related', 'href': 'http://dx.doi.org...</td>\n",
              "      <td>9</td>\n",
              "      <td>Automatically describing the content of an ima...</td>\n",
              "      <td>[{'term': 'cs.CV', 'scheme': 'http://arxiv.org...</td>\n",
              "      <td>Show and Tell: Lessons learned from the 2015 M...</td>\n",
              "      <td>2016</td>\n",
              "    </tr>\n",
              "  </tbody>\n",
              "</table>\n",
              "</div>\n",
              "      <button class=\"colab-df-convert\" onclick=\"convertToInteractive('df-6391b8cf-1cda-4f4e-ab95-39f633935f18')\"\n",
              "              title=\"Convert this dataframe to an interactive table.\"\n",
              "              style=\"display:none;\">\n",
              "        \n",
              "  <svg xmlns=\"http://www.w3.org/2000/svg\" height=\"24px\"viewBox=\"0 0 24 24\"\n",
              "       width=\"24px\">\n",
              "    <path d=\"M0 0h24v24H0V0z\" fill=\"none\"/>\n",
              "    <path d=\"M18.56 5.44l.94 2.06.94-2.06 2.06-.94-2.06-.94-.94-2.06-.94 2.06-2.06.94zm-11 1L8.5 8.5l.94-2.06 2.06-.94-2.06-.94L8.5 2.5l-.94 2.06-2.06.94zm10 10l.94 2.06.94-2.06 2.06-.94-2.06-.94-.94-2.06-.94 2.06-2.06.94z\"/><path d=\"M17.41 7.96l-1.37-1.37c-.4-.4-.92-.59-1.43-.59-.52 0-1.04.2-1.43.59L10.3 9.45l-7.72 7.72c-.78.78-.78 2.05 0 2.83L4 21.41c.39.39.9.59 1.41.59.51 0 1.02-.2 1.41-.59l7.78-7.78 2.81-2.81c.8-.78.8-2.07 0-2.86zM5.41 20L4 18.59l7.72-7.72 1.47 1.35L5.41 20z\"/>\n",
              "  </svg>\n",
              "      </button>\n",
              "      \n",
              "  <style>\n",
              "    .colab-df-container {\n",
              "      display:flex;\n",
              "      flex-wrap:wrap;\n",
              "      gap: 12px;\n",
              "    }\n",
              "\n",
              "    .colab-df-convert {\n",
              "      background-color: #E8F0FE;\n",
              "      border: none;\n",
              "      border-radius: 50%;\n",
              "      cursor: pointer;\n",
              "      display: none;\n",
              "      fill: #1967D2;\n",
              "      height: 32px;\n",
              "      padding: 0 0 0 0;\n",
              "      width: 32px;\n",
              "    }\n",
              "\n",
              "    .colab-df-convert:hover {\n",
              "      background-color: #E2EBFA;\n",
              "      box-shadow: 0px 1px 2px rgba(60, 64, 67, 0.3), 0px 1px 3px 1px rgba(60, 64, 67, 0.15);\n",
              "      fill: #174EA6;\n",
              "    }\n",
              "\n",
              "    [theme=dark] .colab-df-convert {\n",
              "      background-color: #3B4455;\n",
              "      fill: #D2E3FC;\n",
              "    }\n",
              "\n",
              "    [theme=dark] .colab-df-convert:hover {\n",
              "      background-color: #434B5C;\n",
              "      box-shadow: 0px 1px 3px 1px rgba(0, 0, 0, 0.15);\n",
              "      filter: drop-shadow(0px 1px 2px rgba(0, 0, 0, 0.3));\n",
              "      fill: #FFFFFF;\n",
              "    }\n",
              "  </style>\n",
              "\n",
              "      <script>\n",
              "        const buttonEl =\n",
              "          document.querySelector('#df-6391b8cf-1cda-4f4e-ab95-39f633935f18 button.colab-df-convert');\n",
              "        buttonEl.style.display =\n",
              "          google.colab.kernel.accessAllowed ? 'block' : 'none';\n",
              "\n",
              "        async function convertToInteractive(key) {\n",
              "          const element = document.querySelector('#df-6391b8cf-1cda-4f4e-ab95-39f633935f18');\n",
              "          const dataTable =\n",
              "            await google.colab.kernel.invokeFunction('convertToInteractive',\n",
              "                                                     [key], {});\n",
              "          if (!dataTable) return;\n",
              "\n",
              "          const docLinkHtml = 'Like what you see? Visit the ' +\n",
              "            '<a target=\"_blank\" href=https://colab.research.google.com/notebooks/data_table.ipynb>data table notebook</a>'\n",
              "            + ' to learn more about interactive tables.';\n",
              "          element.innerHTML = '';\n",
              "          dataTable['output_type'] = 'display_data';\n",
              "          await google.colab.output.renderOutput(dataTable, element);\n",
              "          const docLink = document.createElement('div');\n",
              "          docLink.innerHTML = docLinkHtml;\n",
              "          element.appendChild(docLink);\n",
              "        }\n",
              "      </script>\n",
              "    </div>\n",
              "  </div>\n",
              "  "
            ]
          },
          "metadata": {},
          "execution_count": 4
        }
      ]
    },
    {
      "cell_type": "markdown",
      "metadata": {
        "id": "1j3_BBoFIoUi"
      },
      "source": [
        "Working on character level means that we don't need to deal with large vocabulary or missing words. Heck, we can even keep uppercase words in text! The downside, however, is that all our sequences just got a lot longer.\n",
        "\n",
        "However, we still need special tokens:\n",
        "* Begin Of Sequence  (__BOS__) - this token is at the start of each sequence. We use it so that we always have non-empty input to our neural network. $P(x_t) = P(x_1 | BOS)$\n",
        "* End Of Sequence (__EOS__) - you guess it... this token is at the end of each sequence. The catch is that it should __not__ occur anywhere else except at the very end. If our model produces this token, the sequence is over.\n"
      ]
    },
    {
      "cell_type": "code",
      "execution_count": 5,
      "metadata": {
        "id": "F_WXfz1fIoUj"
      },
      "outputs": [],
      "source": [
        "BOS, EOS = ' ', '\\n'\n",
        "\n",
        "lines = data.apply(lambda row: (row['title'] + ' ; ' + row['summary'])[:512], axis=1) \\\n",
        "            .apply(lambda line: BOS + line.replace(EOS, ' ') + EOS) \\\n",
        "            .tolist()\n",
        "\n",
        "# if you missed the seminar, download data here - https://yadi.sk/d/_nGyU2IajjR9-w"
      ]
    },
    {
      "cell_type": "code",
      "source": [
        "lines[0]"
      ],
      "metadata": {
        "colab": {
          "base_uri": "https://localhost:8080/",
          "height": 55
        },
        "id": "lsprIqJsJp7S",
        "outputId": "f119c240-c847-481a-ab12-1ff4de734de4"
      },
      "execution_count": 32,
      "outputs": [
        {
          "output_type": "execute_result",
          "data": {
            "text/plain": [
              "' Dual Recurrent Attention Units for Visual Question Answering ; We propose an architecture for VQA which utilizes recurrent layers to generate visual and textual attention. The memory characteristic of the proposed recurrent attention units offers a rich joint embedding of visual and textual features and enables the model to reason relations between several parts of the image and question. Our single model outperforms the first place winner on the VQA 1.0 dataset, performs within margin to the current state-\\n'"
            ],
            "application/vnd.google.colaboratory.intrinsic+json": {
              "type": "string"
            }
          },
          "metadata": {},
          "execution_count": 32
        }
      ]
    },
    {
      "cell_type": "markdown",
      "metadata": {
        "id": "mOYsLiXMIoUk"
      },
      "source": [
        "Our next step is __building char-level vocabulary__. Put simply, you need to assemble a list of all unique tokens in the dataset."
      ]
    },
    {
      "cell_type": "code",
      "execution_count": 6,
      "metadata": {
        "colab": {
          "base_uri": "https://localhost:8080/"
        },
        "id": "LVqTxTPQIoUl",
        "outputId": "8dbaaff4-bd7f-4de6-b169-a34c04b12897"
      },
      "outputs": [
        {
          "output_type": "stream",
          "name": "stdout",
          "text": [
            "n_tokens =  136\n"
          ]
        }
      ],
      "source": [
        "# get all unique characters from lines (including capital letters and symbols)\n",
        "\n",
        "# tokens = set(''.join(line for line in lines))\n",
        "\n",
        "tokens = set()\n",
        "for line in lines:\n",
        "    tokens.update(set(line))\n",
        "\n",
        "tokens = sorted(tokens)\n",
        "n_tokens = len(tokens)\n",
        "print ('n_tokens = ',n_tokens)\n",
        "assert 100 < n_tokens < 150\n",
        "assert BOS in tokens, EOS in tokens"
      ]
    },
    {
      "cell_type": "markdown",
      "metadata": {
        "id": "DJWacuxZIoUl"
      },
      "source": [
        "We can now assign each character with it's index in tokens list. This way we can encode a string into a torch-friendly integer vector."
      ]
    },
    {
      "cell_type": "code",
      "execution_count": 7,
      "metadata": {
        "id": "QpvVX_svIoUm"
      },
      "outputs": [],
      "source": [
        "# dictionary of character -> its identifier (index in tokens list)\n",
        "token_to_id = {char : id for (char,id)  in zip(tokens, range(n_tokens)) }"
      ]
    },
    {
      "cell_type": "code",
      "execution_count": 8,
      "metadata": {
        "colab": {
          "base_uri": "https://localhost:8080/"
        },
        "id": "9mquHo2wIoUn",
        "outputId": "1d1ddaab-1d2c-4157-c7a9-8026b6d5602c"
      },
      "outputs": [
        {
          "output_type": "stream",
          "name": "stdout",
          "text": [
            "Seems alright!\n"
          ]
        }
      ],
      "source": [
        "assert len(tokens) == len(token_to_id), \"dictionaries must have same size\"\n",
        "for i in range(n_tokens):\n",
        "    assert token_to_id[tokens[i]] == i, \"token identifier must be it's position in tokens list\"\n",
        "\n",
        "print(\"Seems alright!\")"
      ]
    },
    {
      "cell_type": "markdown",
      "metadata": {
        "id": "fALM9NgaIoUn"
      },
      "source": [
        "Our final step is to assemble several strings in a integet matrix `[batch_size, text_length]`. \n",
        "\n",
        "The only problem is that each sequence has a different length. We can work around that by padding short sequences with extra _EOS_ or cropping long sequences. Here's how it works:"
      ]
    },
    {
      "cell_type": "code",
      "execution_count": 9,
      "metadata": {
        "id": "Vyx6YB05IoUo"
      },
      "outputs": [],
      "source": [
        "def to_matrix(lines, max_len=None, pad=token_to_id[EOS], dtype=np.int64):\n",
        "    \"\"\"Casts a list of lines into torch-digestable matrix\"\"\"\n",
        "    max_len = max_len or max(map(len, lines))\n",
        "    lines_ix = np.full([len(lines), max_len], pad, dtype=dtype)\n",
        "    for i in range(len(lines)):\n",
        "        line_ix = list(map(token_to_id.get, lines[i][:max_len]))\n",
        "        lines_ix[i, :len(line_ix)] = line_ix\n",
        "    return lines_ix"
      ]
    },
    {
      "cell_type": "code",
      "execution_count": 10,
      "metadata": {
        "colab": {
          "base_uri": "https://localhost:8080/"
        },
        "id": "eiFn3iEfIoUp",
        "outputId": "5d2b03dd-052b-4129-ac21-197a4df3394f"
      },
      "outputs": [
        {
          "output_type": "stream",
          "name": "stdout",
          "text": [
            "[[ 1 66 67 68  0  0  0  0  0  0  0  0  0  0  0]\n",
            " [ 1 66 67 66 68 66 67 66  0  0  0  0  0  0  0]\n",
            " [ 1 66 67 68 18 19 20 21 22 23 24 25 26 17  0]]\n"
          ]
        }
      ],
      "source": [
        "#Example: cast 3 random lines to matrices, pad with zeros\n",
        "dummy_lines = [\n",
        "    ' abc\\n',\n",
        "    ' abacaba\\n',\n",
        "    ' abc1234567890\\n',\n",
        "]\n",
        "print(to_matrix(dummy_lines))"
      ]
    },
    {
      "cell_type": "markdown",
      "metadata": {
        "id": "XWzKDi2dIoUr"
      },
      "source": [
        "### Neural Language Model (2 points including training)\n",
        "\n",
        "Just like for N-gram LMs, we want to estimate probability of text as a joint probability of tokens (symbols this time).\n",
        "\n",
        "$$P(X) = \\prod_t P(x_t \\mid x_0, \\dots, x_{t-1}).$$ \n",
        "\n",
        "Instead of counting all possible statistics, we want to train a neural network with parameters $\\theta$ that estimates the conditional probabilities:\n",
        "\n",
        "$$ P(x_t \\mid x_0, \\dots, x_{t-1}) \\approx p(x_t \\mid x_0, \\dots, x_{t-1}, \\theta) $$\n",
        "\n",
        "\n",
        "But before we optimize, we need to define our neural network. Let's start with a fixed-window (aka convolutional) architecture:\n",
        "\n",
        "<img src='https://raw.githubusercontent.com/yandexdataschool/nlp_course/master/resources/fixed_window_lm.jpg' width=400px>\n"
      ]
    },
    {
      "cell_type": "code",
      "execution_count": 12,
      "metadata": {
        "id": "2lf3uSBQIoUs"
      },
      "outputs": [],
      "source": [
        "import torch\n",
        "import torch.nn as nn\n",
        "import torch.nn.functional as F"
      ]
    },
    {
      "cell_type": "code",
      "source": [
        "device = torch.device('cuda' if torch.cuda.is_available() else 'cpu')\n",
        "device"
      ],
      "metadata": {
        "colab": {
          "base_uri": "https://localhost:8080/"
        },
        "id": "t7SMGTcCpKlm",
        "outputId": "d9db6c3c-b859-45d8-b079-def22ff55add"
      },
      "execution_count": 29,
      "outputs": [
        {
          "output_type": "execute_result",
          "data": {
            "text/plain": [
              "device(type='cpu')"
            ]
          },
          "metadata": {},
          "execution_count": 29
        }
      ]
    },
    {
      "cell_type": "code",
      "execution_count": 14,
      "metadata": {
        "id": "02hVEWHLIoUt"
      },
      "outputs": [],
      "source": [
        "class FixedWindowLanguageModel(nn.Module):\n",
        "    def __init__(self, device, n_tokens=n_tokens, emb_size=16, hid_size=64, kernel_size=5):\n",
        "        \"\"\" \n",
        "        A fixed window model that looks on at least 5 previous symbols (kernel_size).\n",
        "        \n",
        "        Note: fixed window LM is effectively performing a convolution over a sequence of words.\n",
        "        This convolution only looks on current and previous words.\n",
        "        Such convolution can be represented as a sequence of 2 operations:\n",
        "        - pad input vectors by {strides * (filter_size - 1)} zero vectors on the \"left\", do not pad right\n",
        "        - perform regular convolution with {filter_size} and {strides}\n",
        "        \n",
        "        - If you're absolutely lost, here's a hint: use nn.ZeroPad2d((NUM_LEADING_ZEROS, 0, 0, 0))\n",
        "          followed by a nn.Conv1d(..., padding=0). And yes, its okay that padding is technically \"2d\".\n",
        "        \"\"\"\n",
        "        super().__init__() # initialize base class to track sub-layers, trainable variables, etc.\n",
        "        \n",
        "        self.device = device\n",
        "        self.kernel_size = kernel_size\n",
        "        \n",
        "        self.emb = nn.Embedding(n_tokens, emb_size)\n",
        "        self.conv1d = nn.Conv1d(in_channels=emb_size,\n",
        "                                out_channels=hid_size,\n",
        "                                kernel_size=5)\n",
        "        self.fc1 = nn.Linear(hid_size, hid_size)\n",
        "        self.fc2 = nn.Linear(hid_size, n_tokens)\n",
        "        self.relu = nn.ReLU()\n",
        "\n",
        "    def __call__(self, input_ix):\n",
        "        \"\"\"\n",
        "        compute language model logits given input tokens\n",
        "        :param input_ix: batch of sequences with token indices, tensor: int32[batch_size, sequence_length]\n",
        "        :returns: pre-softmax linear outputs of language model [batch_size, sequence_length, n_tokens]\n",
        "            these outputs will be used as logits to compute P(x_t | x_0, ..., x_{t - 1})\n",
        "            \n",
        "        :note: that convolutions operate with tensors of shape [batch, channels, length], while linear layers\n",
        "         and *embeddings* use [batch, length, channels] tensors. Use tensor.permute(...) to adjust shapes.\n",
        "\n",
        "        \"\"\"\n",
        "        inp_emb = self.emb(input_ix) # [batch_size, sequence_length, emb_dim]\n",
        "        inp_emb = inp_emb.permute((0, 2, 1)) # [batch_size, emb_dim, sequence_length]        \n",
        "        \n",
        "        # apply padding to keep tensor size\n",
        "        # pad (with zeros) last dim by kernel_size - 1 on the left and 0 on the right\n",
        "        inp_emb = F.pad(inp_emb, pad=(self.kernel_size - 1, 0)) \n",
        "        #print(inp_emb[0][0])\n",
        "        '''\n",
        "        tensor([ 0.0000,  0.0000,  0.0000,  0.0000, -0.0653, -0.4699,  1.1353, -0.8066,\n",
        "         0.4302,  0.4302,  0.4302,  0.4302,  0.4302,  0.4302,  0.4302,  0.4302,\n",
        "         0.4302,  0.4302,  0.4302], grad_fn=<SelectBackward0>)\n",
        "        '''\n",
        "        inp_emb = self.conv1d(inp_emb) # [batch_size, hid_size, sequence_length]\n",
        "        #print(inp_emb.size())\n",
        "        # if we haven't used the padding we would have gotten out_shape = [batch_size, hid_size, sequence_length - 4]\n",
        "        \n",
        "        inp_emb = inp_emb.permute((0, 2, 1)) # [batch_size, sequence_length, hid_size]       \n",
        "\n",
        "        inp_emb = self.fc1(inp_emb) # [batch_size, sequence_length, hid_size]  \n",
        "        inp_emb = self.relu(inp_emb)  \n",
        "        inp_emb = self.fc2(inp_emb) # [batch_size, sequence_length, n_tokens]  \n",
        "        \n",
        "        return inp_emb # [batch_size, sequence_length, n_tokens]\n",
        "    \n",
        "    def get_possible_next_tokens(self, prefix=BOS, temperature=1.0, max_len=100):\n",
        "        \"\"\" :returns: probabilities of next token, dict {token : prob} for all tokens \"\"\"\n",
        "        prefix_ix = torch.as_tensor(to_matrix([prefix]), dtype=torch.int64).to(self.device)\n",
        "        with torch.no_grad():\n",
        "            probs = torch.softmax(self(prefix_ix)[0, -1], dim=-1).cpu().numpy()  # shape: [n_tokens]\n",
        "        return dict(zip(tokens, probs))\n"
      ]
    },
    {
      "cell_type": "code",
      "execution_count": 15,
      "metadata": {
        "colab": {
          "base_uri": "https://localhost:8080/"
        },
        "id": "Q2aR5C9cIoUu",
        "outputId": "bc144e4d-104a-4f47-9ba9-e1caf2c64feb"
      },
      "outputs": [
        {
          "output_type": "stream",
          "name": "stdout",
          "text": [
            "Weights: ('emb.weight', 'conv1d.weight', 'conv1d.bias', 'fc1.weight', 'fc1.bias', 'fc2.weight', 'fc2.bias')\n"
          ]
        }
      ],
      "source": [
        "dummy_model = FixedWindowLanguageModel(device=device)\n",
        "\n",
        "dummy_input_ix = torch.as_tensor(to_matrix(dummy_lines))\n",
        "dummy_logits = dummy_model(dummy_input_ix)\n",
        "\n",
        "print('Weights:', tuple(name for name, w in dummy_model.named_parameters()))"
      ]
    },
    {
      "cell_type": "code",
      "execution_count": 16,
      "metadata": {
        "id": "8oeS6DYFIoUv"
      },
      "outputs": [],
      "source": [
        "assert isinstance(dummy_logits, torch.Tensor)\n",
        "assert dummy_logits.shape == (len(dummy_lines), max(map(len, dummy_lines)), n_tokens), \"please check output shape\"\n",
        "assert np.all(np.isfinite(dummy_logits.data.cpu().numpy())), \"inf/nan encountered\"\n",
        "assert not np.allclose(dummy_logits.data.cpu().numpy().sum(-1), 1), \"please predict linear outputs, don't use softmax (maybe you've just got unlucky)\""
      ]
    },
    {
      "cell_type": "code",
      "execution_count": 17,
      "metadata": {
        "id": "avB9WHl1IoUw"
      },
      "outputs": [],
      "source": [
        "# test for lookahead\n",
        "dummy_input_ix_2 = torch.as_tensor(to_matrix([line[:3] + 'e' * (len(line) - 3) for line in dummy_lines]))\n",
        "dummy_logits_2 = dummy_model(dummy_input_ix_2)\n",
        "\n",
        "assert torch.allclose(dummy_logits[:, :3], dummy_logits_2[:, :3]), \"your model's predictions depend on FUTURE tokens. \" \\\n",
        "    \" Make sure you don't allow any layers to look ahead of current token.\" \\\n",
        "    \" You can also get this error if your model is not deterministic (e.g. dropout). Disable it for this test.\""
      ]
    },
    {
      "cell_type": "markdown",
      "metadata": {
        "id": "0V51YcEXIoUw"
      },
      "source": [
        "We can now tune our network's parameters to minimize categorical crossentropy over training dataset $D$:\n",
        "\n",
        "$$ L = {\\frac1{|D|}} \\sum_{X \\in D} \\sum_{x_i \\in X} - \\log p(x_t \\mid x_1, \\dots, x_{t-1}, \\theta) $$\n",
        "\n",
        "As usual with with neural nets, this optimization is performed via stochastic gradient descent with backprop.  One can also note that minimizing crossentropy is equivalent to minimizing model __perplexity__, KL-divergence or maximizng log-likelihood."
      ]
    },
    {
      "cell_type": "code",
      "execution_count": 18,
      "metadata": {
        "colab": {
          "base_uri": "https://localhost:8080/"
        },
        "id": "w5vlP6_SIoUx",
        "outputId": "807bd12c-bc32-4ff1-eb8a-fd3f12123e9c"
      },
      "outputs": [
        {
          "output_type": "stream",
          "name": "stdout",
          "text": [
            "matrix:\n",
            " [[ 1 66 67 68  0  0  0  0  0  0  0  0  0  0  0]\n",
            " [ 1 66 67 66 68 66 67 66  0  0  0  0  0  0  0]\n",
            " [ 1 66 67 68 18 19 20 21 22 23 24 25 26 17  0]]\n",
            "mask: [[1 1 1 1 1 0 0 0 0 0 0 0 0 0 0]\n",
            " [1 1 1 1 1 1 1 1 1 0 0 0 0 0 0]\n",
            " [1 1 1 1 1 1 1 1 1 1 1 1 1 1 1]]\n",
            "lengths: [ 5  9 15]\n"
          ]
        }
      ],
      "source": [
        "def compute_mask(input_ix, eos_ix=token_to_id[EOS]):\n",
        "    \"\"\" compute a boolean mask that equals \"1\" until first EOS (including that EOS) \"\"\"\n",
        "    return F.pad(torch.cumsum(input_ix == eos_ix, dim=-1)[..., :-1] < 1, pad=(1, 0, 0, 0), value=True)\n",
        "\n",
        "print('matrix:\\n', dummy_input_ix.numpy())\n",
        "print('mask:', compute_mask(dummy_input_ix).to(torch.int32).cpu().numpy())\n",
        "print('lengths:', compute_mask(dummy_input_ix).sum(-1).cpu().numpy())"
      ]
    },
    {
      "cell_type": "code",
      "execution_count": 19,
      "metadata": {
        "id": "30SksDA1IoUx"
      },
      "outputs": [],
      "source": [
        "def compute_loss(model, input_ix):\n",
        "    \"\"\"\n",
        "    :param model: language model that can compute next token logits given token indices\n",
        "    :param input ix: int32 matrix of tokens, shape: [batch_size, length]; padded with eos_ix\n",
        "    :returns: scalar loss function, mean crossentropy over non-eos tokens\n",
        "    \"\"\"\n",
        "    input_ix = torch.as_tensor(input_ix, dtype=torch.int64)\n",
        "    '''\n",
        "    tensor([[ 1, 66, 67, 68,  0,  0,  0,  0,  0,  0,  0,  0,  0,  0,  0],\n",
        "        [ 1, 66, 67, 66, 68, 66, 67, 66,  0,  0,  0,  0,  0,  0,  0],\n",
        "        [ 1, 66, 67, 68, 18, 19, 20, 21, 22, 23, 24, 25, 26, 17,  0]])\n",
        "    '''\n",
        "    targets = input_ix[:, 1:]\n",
        "    '''\n",
        "    tensor([[66, 67, 68,  0,  0,  0,  0,  0,  0,  0,  0,  0,  0,  0],\n",
        "        [66, 67, 66, 68, 66, 67, 66,  0,  0,  0,  0,  0,  0,  0],\n",
        "        [66, 67, 68, 18, 19, 20, 21, 22, 23, 24, 25, 26, 17,  0]])\n",
        "    '''\n",
        "    mask = compute_mask(targets)\n",
        "    targets_1hot = F.one_hot(targets, n_tokens).to(torch.float32)\n",
        "\n",
        "    logits_seq = model(input_ix[:, :-1])\n",
        "    logprobs_seq = torch.log_softmax(logits_seq, dim=-1)\n",
        "\n",
        "    # log-probabilities of correct outputs, [batch_size, n_tokens]\n",
        "    logp_out = (logprobs_seq * targets_1hot).sum(dim=-1)  \n",
        "\n",
        "    return -logp_out[mask].mean() "
      ]
    },
    {
      "cell_type": "code",
      "execution_count": 20,
      "metadata": {
        "id": "IrmuyUdnIoUy"
      },
      "outputs": [],
      "source": [
        "loss_1 = compute_loss(dummy_model, to_matrix(dummy_lines, max_len=15))\n",
        "loss_2 = compute_loss(dummy_model, to_matrix(dummy_lines, max_len=16))\n",
        "assert (np.ndim(loss_1) == 0) and (0 < loss_1 < 100), \"loss must be a positive scalar\"\n",
        "assert torch.allclose(loss_1, loss_2), 'do not include  AFTER first EOS into loss. '\\\n",
        "    'Hint: use compute_mask. Beware +/-1 errors. And be careful when averaging!' "
      ]
    },
    {
      "cell_type": "markdown",
      "metadata": {
        "id": "ZLTKBrJsIoUz"
      },
      "source": [
        "### Evaluation\n",
        "\n",
        "You will need two functions: one to compute test loss and another to generate samples. For your convenience, we implemented them both in your stead."
      ]
    },
    {
      "cell_type": "code",
      "execution_count": 23,
      "metadata": {
        "id": "wzqN6my8IoUz"
      },
      "outputs": [],
      "source": [
        "def score_lines(model, dev_lines, batch_size):\n",
        "    \"\"\" computes average loss over the entire dataset \"\"\"\n",
        "    dev_loss_num, dev_loss_len = 0., 0.\n",
        "    with torch.no_grad():\n",
        "        for i in range(0, len(dev_lines), batch_size):\n",
        "            batch_ix = to_matrix(dev_lines[i: i + batch_size])\n",
        "            dev_loss_num += compute_loss(model, batch_ix).item() * len(batch_ix)\n",
        "            dev_loss_len += len(batch_ix)\n",
        "    return dev_loss_num / dev_loss_len\n",
        "\n",
        "def generate(model, prefix=BOS, temperature=1.0, max_len=100):\n",
        "    \"\"\"\n",
        "    Samples output sequence from probability distribution obtained by model\n",
        "    :param temperature: samples proportionally to model probabilities ^ temperature\n",
        "        if temperature == 0, always takes most likely token. Break ties arbitrarily.\n",
        "    \"\"\"\n",
        "    with torch.no_grad():\n",
        "        while True:\n",
        "            token_probs = model.get_possible_next_tokens(prefix)\n",
        "            tokens, probs = zip(*token_probs.items())\n",
        "            if temperature == 0:\n",
        "                next_token = tokens[np.argmax(probs)]\n",
        "            else:\n",
        "                probs = np.array([p ** (1. / temperature) for p in probs])\n",
        "                probs /= sum(probs)\n",
        "                next_token = np.random.choice(tokens, p=probs)\n",
        "\n",
        "            prefix += next_token\n",
        "            if next_token == EOS or len(prefix) > max_len: break\n",
        "    return prefix"
      ]
    },
    {
      "cell_type": "markdown",
      "metadata": {
        "id": "vI9QmixFIoU0"
      },
      "source": [
        "### Training loop\n",
        "\n",
        "Finally, let's train our model on minibatches of data"
      ]
    },
    {
      "cell_type": "code",
      "execution_count": 25,
      "metadata": {
        "colab": {
          "base_uri": "https://localhost:8080/"
        },
        "id": "_VKvkF_mIoU0",
        "outputId": "b503958d-3306-4c0d-b9a4-246d608dc3d4"
      },
      "outputs": [
        {
          "output_type": "stream",
          "name": "stdout",
          "text": [
            "Sample before training: BridgingZX<Öμxéçöy5β)KQuP*-V>ZαVDμXè+Buô};<%mäν.°eDw%gΩæv`~6Wga;αi*áaJxä1iN;;óõ`i(FWα:Güσt@RFNŁj >|\n"
          ]
        }
      ],
      "source": [
        "from sklearn.model_selection import train_test_split\n",
        "train_lines, dev_lines = train_test_split(lines, test_size=0.25, random_state=42)\n",
        "\n",
        "batch_size = 256\n",
        "score_dev_every = 250\n",
        "train_history, dev_history = [], []\n",
        "model = FixedWindowLanguageModel(device=device)\n",
        "opt = torch.optim.Adam(model.parameters())\n",
        "\n",
        "# hint: if you ever wanted to switch to cuda, do it now.\n",
        "\n",
        "# score untrained model\n",
        "dev_history.append((0, score_lines(model, dev_lines, batch_size)))\n",
        "print(\"Sample before training:\", generate(model, 'Bridging'))"
      ]
    },
    {
      "cell_type": "code",
      "source": [
        "dev_history"
      ],
      "metadata": {
        "colab": {
          "base_uri": "https://localhost:8080/"
        },
        "id": "mYKNlqpQWZd_",
        "outputId": "b4b651f3-7d6f-43ba-9f08-3abfc414a0d8"
      },
      "execution_count": 27,
      "outputs": [
        {
          "output_type": "execute_result",
          "data": {
            "text/plain": [
              "[(0, 4.886545692257765)]"
            ]
          },
          "metadata": {},
          "execution_count": 27
        }
      ]
    },
    {
      "cell_type": "code",
      "execution_count": 28,
      "metadata": {
        "colab": {
          "base_uri": "https://localhost:8080/",
          "height": 417
        },
        "id": "pSyG4GuxIoU1",
        "outputId": "60aa569d-aaa8-4232-8ad7-b7f56b2ae78d"
      },
      "outputs": [
        {
          "output_type": "stream",
          "name": "stderr",
          "text": [
            "  0%|          | 16/5000 [00:16<1:23:47,  1.01s/it]\n"
          ]
        },
        {
          "output_type": "error",
          "ename": "KeyboardInterrupt",
          "evalue": "ignored",
          "traceback": [
            "\u001b[0;31m---------------------------------------------------------------------------\u001b[0m",
            "\u001b[0;31mKeyboardInterrupt\u001b[0m                         Traceback (most recent call last)",
            "\u001b[0;32m<ipython-input-28-6b9dc873deb8>\u001b[0m in \u001b[0;36m<module>\u001b[0;34m\u001b[0m\n\u001b[1;32m      7\u001b[0m \u001b[0;34m\u001b[0m\u001b[0m\n\u001b[1;32m      8\u001b[0m \u001b[0;34m\u001b[0m\u001b[0m\n\u001b[0;32m----> 9\u001b[0;31m     \u001b[0mloss_i\u001b[0m \u001b[0;34m=\u001b[0m \u001b[0mcompute_loss\u001b[0m\u001b[0;34m(\u001b[0m\u001b[0mmodel\u001b[0m\u001b[0;34m,\u001b[0m \u001b[0mbatch\u001b[0m\u001b[0;34m)\u001b[0m\u001b[0;34m\u001b[0m\u001b[0;34m\u001b[0m\u001b[0m\n\u001b[0m\u001b[1;32m     10\u001b[0m \u001b[0;34m\u001b[0m\u001b[0m\n\u001b[1;32m     11\u001b[0m     \u001b[0mopt\u001b[0m\u001b[0;34m.\u001b[0m\u001b[0mzero_grad\u001b[0m\u001b[0;34m(\u001b[0m\u001b[0;34m)\u001b[0m\u001b[0;34m\u001b[0m\u001b[0;34m\u001b[0m\u001b[0m\n",
            "\u001b[0;32m<ipython-input-19-d254e4b7f663>\u001b[0m in \u001b[0;36mcompute_loss\u001b[0;34m(model, input_ix)\u001b[0m\n\u001b[1;32m     20\u001b[0m     \u001b[0mtargets_1hot\u001b[0m \u001b[0;34m=\u001b[0m \u001b[0mF\u001b[0m\u001b[0;34m.\u001b[0m\u001b[0mone_hot\u001b[0m\u001b[0;34m(\u001b[0m\u001b[0mtargets\u001b[0m\u001b[0;34m,\u001b[0m \u001b[0mn_tokens\u001b[0m\u001b[0;34m)\u001b[0m\u001b[0;34m.\u001b[0m\u001b[0mto\u001b[0m\u001b[0;34m(\u001b[0m\u001b[0mtorch\u001b[0m\u001b[0;34m.\u001b[0m\u001b[0mfloat32\u001b[0m\u001b[0;34m)\u001b[0m\u001b[0;34m\u001b[0m\u001b[0;34m\u001b[0m\u001b[0m\n\u001b[1;32m     21\u001b[0m \u001b[0;34m\u001b[0m\u001b[0m\n\u001b[0;32m---> 22\u001b[0;31m     \u001b[0mlogits_seq\u001b[0m \u001b[0;34m=\u001b[0m \u001b[0mmodel\u001b[0m\u001b[0;34m(\u001b[0m\u001b[0minput_ix\u001b[0m\u001b[0;34m[\u001b[0m\u001b[0;34m:\u001b[0m\u001b[0;34m,\u001b[0m \u001b[0;34m:\u001b[0m\u001b[0;34m-\u001b[0m\u001b[0;36m1\u001b[0m\u001b[0;34m]\u001b[0m\u001b[0;34m)\u001b[0m\u001b[0;34m\u001b[0m\u001b[0;34m\u001b[0m\u001b[0m\n\u001b[0m\u001b[1;32m     23\u001b[0m     \u001b[0mlogprobs_seq\u001b[0m \u001b[0;34m=\u001b[0m \u001b[0mtorch\u001b[0m\u001b[0;34m.\u001b[0m\u001b[0mlog_softmax\u001b[0m\u001b[0;34m(\u001b[0m\u001b[0mlogits_seq\u001b[0m\u001b[0;34m,\u001b[0m \u001b[0mdim\u001b[0m\u001b[0;34m=\u001b[0m\u001b[0;34m-\u001b[0m\u001b[0;36m1\u001b[0m\u001b[0;34m)\u001b[0m\u001b[0;34m\u001b[0m\u001b[0;34m\u001b[0m\u001b[0m\n\u001b[1;32m     24\u001b[0m \u001b[0;34m\u001b[0m\u001b[0m\n",
            "\u001b[0;32m<ipython-input-14-5785dce3cfe2>\u001b[0m in \u001b[0;36m__call__\u001b[0;34m(self, input_ix)\u001b[0m\n\u001b[1;32m     49\u001b[0m          0.4302,  0.4302,  0.4302], grad_fn=<SelectBackward0>)\n\u001b[1;32m     50\u001b[0m         '''\n\u001b[0;32m---> 51\u001b[0;31m         \u001b[0minp_emb\u001b[0m \u001b[0;34m=\u001b[0m \u001b[0mself\u001b[0m\u001b[0;34m.\u001b[0m\u001b[0mconv1d\u001b[0m\u001b[0;34m(\u001b[0m\u001b[0minp_emb\u001b[0m\u001b[0;34m)\u001b[0m \u001b[0;31m# [batch_size, hid_size, sequence_length]\u001b[0m\u001b[0;34m\u001b[0m\u001b[0;34m\u001b[0m\u001b[0m\n\u001b[0m\u001b[1;32m     52\u001b[0m         \u001b[0;31m#print(inp_emb.size())\u001b[0m\u001b[0;34m\u001b[0m\u001b[0;34m\u001b[0m\u001b[0;34m\u001b[0m\u001b[0m\n\u001b[1;32m     53\u001b[0m         \u001b[0;31m# if we haven't used the padding we would have gotten out_shape = [batch_size, hid_size, sequence_length - 4]\u001b[0m\u001b[0;34m\u001b[0m\u001b[0;34m\u001b[0m\u001b[0;34m\u001b[0m\u001b[0m\n",
            "\u001b[0;32m/usr/local/lib/python3.7/dist-packages/torch/nn/modules/module.py\u001b[0m in \u001b[0;36m_call_impl\u001b[0;34m(self, *input, **kwargs)\u001b[0m\n\u001b[1;32m   1128\u001b[0m         if not (self._backward_hooks or self._forward_hooks or self._forward_pre_hooks or _global_backward_hooks\n\u001b[1;32m   1129\u001b[0m                 or _global_forward_hooks or _global_forward_pre_hooks):\n\u001b[0;32m-> 1130\u001b[0;31m             \u001b[0;32mreturn\u001b[0m \u001b[0mforward_call\u001b[0m\u001b[0;34m(\u001b[0m\u001b[0;34m*\u001b[0m\u001b[0minput\u001b[0m\u001b[0;34m,\u001b[0m \u001b[0;34m**\u001b[0m\u001b[0mkwargs\u001b[0m\u001b[0;34m)\u001b[0m\u001b[0;34m\u001b[0m\u001b[0;34m\u001b[0m\u001b[0m\n\u001b[0m\u001b[1;32m   1131\u001b[0m         \u001b[0;31m# Do not call functions when jit is used\u001b[0m\u001b[0;34m\u001b[0m\u001b[0;34m\u001b[0m\u001b[0;34m\u001b[0m\u001b[0m\n\u001b[1;32m   1132\u001b[0m         \u001b[0mfull_backward_hooks\u001b[0m\u001b[0;34m,\u001b[0m \u001b[0mnon_full_backward_hooks\u001b[0m \u001b[0;34m=\u001b[0m \u001b[0;34m[\u001b[0m\u001b[0;34m]\u001b[0m\u001b[0;34m,\u001b[0m \u001b[0;34m[\u001b[0m\u001b[0;34m]\u001b[0m\u001b[0;34m\u001b[0m\u001b[0;34m\u001b[0m\u001b[0m\n",
            "\u001b[0;32m/usr/local/lib/python3.7/dist-packages/torch/nn/modules/conv.py\u001b[0m in \u001b[0;36mforward\u001b[0;34m(self, input)\u001b[0m\n\u001b[1;32m    305\u001b[0m \u001b[0;34m\u001b[0m\u001b[0m\n\u001b[1;32m    306\u001b[0m     \u001b[0;32mdef\u001b[0m \u001b[0mforward\u001b[0m\u001b[0;34m(\u001b[0m\u001b[0mself\u001b[0m\u001b[0;34m,\u001b[0m \u001b[0minput\u001b[0m\u001b[0;34m:\u001b[0m \u001b[0mTensor\u001b[0m\u001b[0;34m)\u001b[0m \u001b[0;34m->\u001b[0m \u001b[0mTensor\u001b[0m\u001b[0;34m:\u001b[0m\u001b[0;34m\u001b[0m\u001b[0;34m\u001b[0m\u001b[0m\n\u001b[0;32m--> 307\u001b[0;31m         \u001b[0;32mreturn\u001b[0m \u001b[0mself\u001b[0m\u001b[0;34m.\u001b[0m\u001b[0m_conv_forward\u001b[0m\u001b[0;34m(\u001b[0m\u001b[0minput\u001b[0m\u001b[0;34m,\u001b[0m \u001b[0mself\u001b[0m\u001b[0;34m.\u001b[0m\u001b[0mweight\u001b[0m\u001b[0;34m,\u001b[0m \u001b[0mself\u001b[0m\u001b[0;34m.\u001b[0m\u001b[0mbias\u001b[0m\u001b[0;34m)\u001b[0m\u001b[0;34m\u001b[0m\u001b[0;34m\u001b[0m\u001b[0m\n\u001b[0m\u001b[1;32m    308\u001b[0m \u001b[0;34m\u001b[0m\u001b[0m\n\u001b[1;32m    309\u001b[0m \u001b[0;34m\u001b[0m\u001b[0m\n",
            "\u001b[0;32m/usr/local/lib/python3.7/dist-packages/torch/nn/modules/conv.py\u001b[0m in \u001b[0;36m_conv_forward\u001b[0;34m(self, input, weight, bias)\u001b[0m\n\u001b[1;32m    302\u001b[0m                             _single(0), self.dilation, self.groups)\n\u001b[1;32m    303\u001b[0m         return F.conv1d(input, weight, bias, self.stride,\n\u001b[0;32m--> 304\u001b[0;31m                         self.padding, self.dilation, self.groups)\n\u001b[0m\u001b[1;32m    305\u001b[0m \u001b[0;34m\u001b[0m\u001b[0m\n\u001b[1;32m    306\u001b[0m     \u001b[0;32mdef\u001b[0m \u001b[0mforward\u001b[0m\u001b[0;34m(\u001b[0m\u001b[0mself\u001b[0m\u001b[0;34m,\u001b[0m \u001b[0minput\u001b[0m\u001b[0;34m:\u001b[0m \u001b[0mTensor\u001b[0m\u001b[0;34m)\u001b[0m \u001b[0;34m->\u001b[0m \u001b[0mTensor\u001b[0m\u001b[0;34m:\u001b[0m\u001b[0;34m\u001b[0m\u001b[0;34m\u001b[0m\u001b[0m\n",
            "\u001b[0;31mKeyboardInterrupt\u001b[0m: "
          ]
        }
      ],
      "source": [
        "from IPython.display import clear_output\n",
        "from random import sample\n",
        "from tqdm import trange\n",
        "\n",
        "for i in trange(5000):\n",
        "    batch = to_matrix(sample(train_lines, batch_size))\n",
        "    \n",
        "    loss_i = compute_loss(model, batch)\n",
        "    \n",
        "    opt.zero_grad()\n",
        "    loss_i.backward()\n",
        "    opt.step()\n",
        "        \n",
        "    train_history.append((i, loss_i.item()))\n",
        "    \n",
        "    if (i + 1) % 50 == 0:\n",
        "        clear_output(True)\n",
        "        plt.scatter(*zip(*train_history), alpha=0.1, label='train_loss')\n",
        "        if len(dev_history):\n",
        "            plt.plot(*zip(*dev_history), color='red', label='dev_loss')\n",
        "        plt.legend(); plt.grid(); plt.show()\n",
        "        print(\"Generated examples (tau=0.5):\")\n",
        "        for _ in range(3):\n",
        "            print(generate(model, temperature=0.5))\n",
        "    \n",
        "    if (i + 1) % score_dev_every == 0:\n",
        "        print(\"Scoring dev...\")\n",
        "        dev_history.append((i, score_lines(model, dev_lines, batch_size)))\n",
        "        print('#%i Dev loss: %.3f' % dev_history[-1])\n"
      ]
    },
    {
      "cell_type": "code",
      "execution_count": null,
      "metadata": {
        "id": "uYe7gJc4IoU2"
      },
      "outputs": [],
      "source": [
        "assert np.mean(train_history[:10], axis=0)[1] > np.mean(train_history[-10:], axis=0)[1], \"The model didn't converge.\"\n",
        "print(\"Final dev loss:\", dev_history[-1][-1])\n",
        "\n",
        "for i in range(10):\n",
        "    print(generate(model, temperature=0.5))"
      ]
    },
    {
      "cell_type": "markdown",
      "metadata": {
        "id": "v9NzDDoNIoU3"
      },
      "source": [
        "### RNN Language Models (3 points including training)\n",
        "\n",
        "Fixed-size architectures are reasonably good when capturing short-term dependencies, but their design prevents them from capturing any signal outside their window. We can mitigate this problem by using a __recurrent neural network__:\n",
        "\n",
        "$$ h_0 = \\vec 0 ; \\quad h_{t+1} = RNN(x_t, h_t) $$\n",
        "\n",
        "$$ p(x_t \\mid x_0, \\dots, x_{t-1}, \\theta) = dense_{softmax}(h_{t-1}) $$\n",
        "\n",
        "Such model processes one token at a time, left to right, and maintains a hidden state vector between them. Theoretically, it can learn arbitrarily long temporal dependencies given large enough hidden size.\n",
        "\n",
        "<img src='https://raw.githubusercontent.com/yandexdataschool/nlp_course/master/resources/rnn_lm.jpg' width=480px>"
      ]
    },
    {
      "cell_type": "code",
      "execution_count": 50,
      "metadata": {
        "id": "kHmhGo_lIoU4"
      },
      "outputs": [],
      "source": [
        "class RNNLanguageModel(nn.Module):\n",
        "    def __init__(self, device, n_tokens=n_tokens, emb_size=16, hid_size=256, bid=False):\n",
        "        \"\"\" \n",
        "        Build a recurrent language model.\n",
        "        You are free to choose anything you want, but the recommended architecture is\n",
        "        - token embeddings\n",
        "        - one or more LSTM/GRU layers with hid size\n",
        "        - linear layer to predict logits\n",
        "        \n",
        "        :note: if you use nn.RNN/GRU/LSTM, make sure you specify batch_first=True\n",
        "         With batch_first, your model operates with tensors of shape [batch_size, sequence_length, num_units]\n",
        "         Also, please read the docs carefully: they don't just return what you want them to return :)\n",
        "        \"\"\"\n",
        "        super().__init__() # initialize base class to track sub-layers, trainable variables, etc.\n",
        "        \n",
        "        self.eos_ix = 0 # '\\n' index\n",
        "\n",
        "        self.emb = nn.Embedding(n_tokens, emb_size) \n",
        "        self.lstm = nn.LSTM(emb_size, hid_size, batch_first=True, bidirectional=bid)\n",
        "        self.hid_to_logits = nn.Linear(hid_size + hid_size*bid, n_tokens)\n",
        "\n",
        "\n",
        "    def __call__(self, input_ix):\n",
        "        \"\"\"\n",
        "        compute language model logits given input tokens\n",
        "        :param input_ix: batch of sequences with token indices, tensor: int32[batch_size, sequence_length]\n",
        "        :returns: pre-softmax linear outputs of language model [batch_size, sequence_length, n_tokens]\n",
        "            these outputs will be used as logits to compute P(x_t | x_0, ..., x_{t - 1})\n",
        "        \"\"\"\n",
        "        inp_emb = self.emb(input_ix) # [batch_size, sequence_length, emb_dim]\n",
        "        \n",
        "        enc_seq, last_state_but_not_really = self.lstm(inp_emb)\n",
        "        # enc_seq: [batch, time, hid_size], last_state: [batch, hid_size]\n",
        "        # enc_seq -> contains the output features (h_t) from the last layer of the LSTM, for each t\n",
        "        # last_state -> last state h_t of encoder (h_0 for decoder)\n",
        "        next_logits = self.hid_to_logits(enc_seq)\n",
        "        next_logp = F.log_softmax(next_logits, dim=-1)\n",
        "\n",
        "        return next_logp # [batch_size, sequence_length, n_tokens]\n",
        "\n",
        "\n",
        "    def get_possible_next_tokens(self, prefix=BOS, temperature=1.0, max_len=100):\n",
        "        \"\"\" :returns: probabilities of next token, dict {token : prob} for all tokens \"\"\"\n",
        "        prefix_ix = torch.as_tensor(to_matrix([prefix]), dtype=torch.int64).to(self.device)\n",
        "        with torch.no_grad():\n",
        "            probs = torch.softmax(self(prefix_ix)[0, -1], dim=-1).cpu().numpy()  # shape: [n_tokens]\n",
        "        return dict(zip(tokens, probs))\n"
      ]
    },
    {
      "cell_type": "code",
      "execution_count": 42,
      "metadata": {
        "colab": {
          "base_uri": "https://localhost:8080/"
        },
        "id": "554JsYrVIoU5",
        "outputId": "8ce86272-418f-4d82-8c1f-1f6dff8f5213"
      },
      "outputs": [
        {
          "output_type": "stream",
          "name": "stdout",
          "text": [
            "Weights: ('emb.weight', 'lstm.weight_ih_l0', 'lstm.weight_hh_l0', 'lstm.bias_ih_l0', 'lstm.bias_hh_l0', 'hid_to_logits.weight', 'hid_to_logits.bias')\n"
          ]
        }
      ],
      "source": [
        "rnn_model = RNNLanguageModel(device=device)\n",
        "\n",
        "dummy_input_ix = torch.as_tensor(to_matrix(dummy_lines))\n",
        "dummy_logits = rnn_model(dummy_input_ix)\n",
        "\n",
        "assert isinstance(dummy_logits, torch.Tensor)\n",
        "assert dummy_logits.shape == (len(dummy_lines), max(map(len, dummy_lines)), n_tokens), \"please check output shape\"\n",
        "assert not np.allclose(dummy_logits.cpu().data.numpy().sum(-1), 1), \"please predict linear outputs, don't use softmax (maybe you've just got unlucky)\"\n",
        "print('Weights:', tuple(name for name, w in rnn_model.named_parameters()))"
      ]
    },
    {
      "cell_type": "code",
      "execution_count": 45,
      "metadata": {
        "id": "UfRsmkOQIoU5"
      },
      "outputs": [],
      "source": [
        "# test for lookahead\n",
        "dummy_input_ix_2 = torch.as_tensor(to_matrix([line[:3] + 'e' * (len(line) - 3) for line in dummy_lines]))\n",
        "dummy_logits_2 = rnn_model(dummy_input_ix_2)\n",
        "\n",
        "assert torch.allclose(dummy_logits[:, :3], dummy_logits_2[:, :3]), \"your model's predictions depend on FUTURE tokens. \" \\\n",
        "    \" Make sure you don't allow any layers to look ahead of current token.\" \\\n",
        "    \" You can also get this error if your model is not deterministic (e.g. dropout). Disable it for this test.\""
      ]
    },
    {
      "cell_type": "markdown",
      "metadata": {
        "id": "HL7S0HfmIoU5"
      },
      "source": [
        "### RNN training\n",
        "\n",
        "Our RNN language model should optimize the same loss function as fixed-window model. But there's a catch. Since RNN recurrently multiplies gradients through many time-steps, gradient values may explode, [ruining](https://raw.githubusercontent.com/yandexdataschool/nlp_course/master/resources/nan.jpg) your model.\n",
        "The common solution to that problem is to clip gradients either [individually](https://www.tensorflow.org/versions/r2.0/api_docs/python/tf/clip_by_value) or [globally](https://www.tensorflow.org/versions/r2.0/api_docs/python/tf/clip_by_global_norm).\n",
        "\n",
        "Your task here is to implement the training code that minimizes the loss function. If you encounter large loss fluctuations during training, please add [gradient clipping](https://pytorch.org/docs/stable/generated/torch.nn.utils.clip_grad_norm_.html) using urls above. But its **not necessary** to use gradient clipping if you don't need it.\n",
        "\n",
        "_Note: gradient clipping is not exclusive to RNNs. Convolutional networks with enough depth often suffer from the same issue._"
      ]
    },
    {
      "cell_type": "code",
      "execution_count": 51,
      "metadata": {
        "colab": {
          "base_uri": "https://localhost:8080/",
          "height": 399
        },
        "id": "79ob0PtXIoU6",
        "outputId": "0cf2082f-d3a4-4c7b-a551-d0167b869faf"
      },
      "outputs": [
        {
          "output_type": "error",
          "ename": "KeyboardInterrupt",
          "evalue": "ignored",
          "traceback": [
            "\u001b[0;31m---------------------------------------------------------------------------\u001b[0m",
            "\u001b[0;31mKeyboardInterrupt\u001b[0m                         Traceback (most recent call last)",
            "\u001b[0;32m<ipython-input-51-b015d50190f3>\u001b[0m in \u001b[0;36m<module>\u001b[0;34m\u001b[0m\n\u001b[1;32m      7\u001b[0m \u001b[0;34m\u001b[0m\u001b[0m\n\u001b[1;32m      8\u001b[0m \u001b[0;31m# score untrained model\u001b[0m\u001b[0;34m\u001b[0m\u001b[0;34m\u001b[0m\u001b[0;34m\u001b[0m\u001b[0m\n\u001b[0;32m----> 9\u001b[0;31m \u001b[0mdev_history\u001b[0m\u001b[0;34m.\u001b[0m\u001b[0mappend\u001b[0m\u001b[0;34m(\u001b[0m\u001b[0;34m(\u001b[0m\u001b[0;36m0\u001b[0m\u001b[0;34m,\u001b[0m \u001b[0mscore_lines\u001b[0m\u001b[0;34m(\u001b[0m\u001b[0mrnn_model\u001b[0m\u001b[0;34m,\u001b[0m \u001b[0mdev_lines\u001b[0m\u001b[0;34m,\u001b[0m \u001b[0mbatch_size\u001b[0m\u001b[0;34m)\u001b[0m\u001b[0;34m)\u001b[0m\u001b[0;34m)\u001b[0m\u001b[0;34m\u001b[0m\u001b[0;34m\u001b[0m\u001b[0m\n\u001b[0m\u001b[1;32m     10\u001b[0m \u001b[0mprint\u001b[0m\u001b[0;34m(\u001b[0m\u001b[0mdev_history\u001b[0m\u001b[0;34m)\u001b[0m\u001b[0;34m\u001b[0m\u001b[0;34m\u001b[0m\u001b[0m\n\u001b[1;32m     11\u001b[0m \u001b[0mprint\u001b[0m\u001b[0;34m(\u001b[0m\u001b[0;34m\"Sample before training:\"\u001b[0m\u001b[0;34m,\u001b[0m \u001b[0mgenerate\u001b[0m\u001b[0;34m(\u001b[0m\u001b[0mrnn_model\u001b[0m\u001b[0;34m,\u001b[0m \u001b[0;34m'Bridging'\u001b[0m\u001b[0;34m)\u001b[0m\u001b[0;34m)\u001b[0m\u001b[0;34m\u001b[0m\u001b[0;34m\u001b[0m\u001b[0m\n",
            "\u001b[0;32m<ipython-input-23-caede4fba0fe>\u001b[0m in \u001b[0;36mscore_lines\u001b[0;34m(model, dev_lines, batch_size)\u001b[0m\n\u001b[1;32m      5\u001b[0m         \u001b[0;32mfor\u001b[0m \u001b[0mi\u001b[0m \u001b[0;32min\u001b[0m \u001b[0mrange\u001b[0m\u001b[0;34m(\u001b[0m\u001b[0;36m0\u001b[0m\u001b[0;34m,\u001b[0m \u001b[0mlen\u001b[0m\u001b[0;34m(\u001b[0m\u001b[0mdev_lines\u001b[0m\u001b[0;34m)\u001b[0m\u001b[0;34m,\u001b[0m \u001b[0mbatch_size\u001b[0m\u001b[0;34m)\u001b[0m\u001b[0;34m:\u001b[0m\u001b[0;34m\u001b[0m\u001b[0;34m\u001b[0m\u001b[0m\n\u001b[1;32m      6\u001b[0m             \u001b[0mbatch_ix\u001b[0m \u001b[0;34m=\u001b[0m \u001b[0mto_matrix\u001b[0m\u001b[0;34m(\u001b[0m\u001b[0mdev_lines\u001b[0m\u001b[0;34m[\u001b[0m\u001b[0mi\u001b[0m\u001b[0;34m:\u001b[0m \u001b[0mi\u001b[0m \u001b[0;34m+\u001b[0m \u001b[0mbatch_size\u001b[0m\u001b[0;34m]\u001b[0m\u001b[0;34m)\u001b[0m\u001b[0;34m\u001b[0m\u001b[0;34m\u001b[0m\u001b[0m\n\u001b[0;32m----> 7\u001b[0;31m             \u001b[0mdev_loss_num\u001b[0m \u001b[0;34m+=\u001b[0m \u001b[0mcompute_loss\u001b[0m\u001b[0;34m(\u001b[0m\u001b[0mmodel\u001b[0m\u001b[0;34m,\u001b[0m \u001b[0mbatch_ix\u001b[0m\u001b[0;34m)\u001b[0m\u001b[0;34m.\u001b[0m\u001b[0mitem\u001b[0m\u001b[0;34m(\u001b[0m\u001b[0;34m)\u001b[0m \u001b[0;34m*\u001b[0m \u001b[0mlen\u001b[0m\u001b[0;34m(\u001b[0m\u001b[0mbatch_ix\u001b[0m\u001b[0;34m)\u001b[0m\u001b[0;34m\u001b[0m\u001b[0;34m\u001b[0m\u001b[0m\n\u001b[0m\u001b[1;32m      8\u001b[0m             \u001b[0mdev_loss_len\u001b[0m \u001b[0;34m+=\u001b[0m \u001b[0mlen\u001b[0m\u001b[0;34m(\u001b[0m\u001b[0mbatch_ix\u001b[0m\u001b[0;34m)\u001b[0m\u001b[0;34m\u001b[0m\u001b[0;34m\u001b[0m\u001b[0m\n\u001b[1;32m      9\u001b[0m     \u001b[0;32mreturn\u001b[0m \u001b[0mdev_loss_num\u001b[0m \u001b[0;34m/\u001b[0m \u001b[0mdev_loss_len\u001b[0m\u001b[0;34m\u001b[0m\u001b[0;34m\u001b[0m\u001b[0m\n",
            "\u001b[0;32m<ipython-input-19-d254e4b7f663>\u001b[0m in \u001b[0;36mcompute_loss\u001b[0;34m(model, input_ix)\u001b[0m\n\u001b[1;32m     20\u001b[0m     \u001b[0mtargets_1hot\u001b[0m \u001b[0;34m=\u001b[0m \u001b[0mF\u001b[0m\u001b[0;34m.\u001b[0m\u001b[0mone_hot\u001b[0m\u001b[0;34m(\u001b[0m\u001b[0mtargets\u001b[0m\u001b[0;34m,\u001b[0m \u001b[0mn_tokens\u001b[0m\u001b[0;34m)\u001b[0m\u001b[0;34m.\u001b[0m\u001b[0mto\u001b[0m\u001b[0;34m(\u001b[0m\u001b[0mtorch\u001b[0m\u001b[0;34m.\u001b[0m\u001b[0mfloat32\u001b[0m\u001b[0;34m)\u001b[0m\u001b[0;34m\u001b[0m\u001b[0;34m\u001b[0m\u001b[0m\n\u001b[1;32m     21\u001b[0m \u001b[0;34m\u001b[0m\u001b[0m\n\u001b[0;32m---> 22\u001b[0;31m     \u001b[0mlogits_seq\u001b[0m \u001b[0;34m=\u001b[0m \u001b[0mmodel\u001b[0m\u001b[0;34m(\u001b[0m\u001b[0minput_ix\u001b[0m\u001b[0;34m[\u001b[0m\u001b[0;34m:\u001b[0m\u001b[0;34m,\u001b[0m \u001b[0;34m:\u001b[0m\u001b[0;34m-\u001b[0m\u001b[0;36m1\u001b[0m\u001b[0;34m]\u001b[0m\u001b[0;34m)\u001b[0m\u001b[0;34m\u001b[0m\u001b[0;34m\u001b[0m\u001b[0m\n\u001b[0m\u001b[1;32m     23\u001b[0m     \u001b[0mlogprobs_seq\u001b[0m \u001b[0;34m=\u001b[0m \u001b[0mtorch\u001b[0m\u001b[0;34m.\u001b[0m\u001b[0mlog_softmax\u001b[0m\u001b[0;34m(\u001b[0m\u001b[0mlogits_seq\u001b[0m\u001b[0;34m,\u001b[0m \u001b[0mdim\u001b[0m\u001b[0;34m=\u001b[0m\u001b[0;34m-\u001b[0m\u001b[0;36m1\u001b[0m\u001b[0;34m)\u001b[0m\u001b[0;34m\u001b[0m\u001b[0;34m\u001b[0m\u001b[0m\n\u001b[1;32m     24\u001b[0m \u001b[0;34m\u001b[0m\u001b[0m\n",
            "\u001b[0;32m<ipython-input-50-173bc5cc6e2c>\u001b[0m in \u001b[0;36m__call__\u001b[0;34m(self, input_ix)\u001b[0m\n\u001b[1;32m     30\u001b[0m         \u001b[0minp_emb\u001b[0m \u001b[0;34m=\u001b[0m \u001b[0mself\u001b[0m\u001b[0;34m.\u001b[0m\u001b[0memb\u001b[0m\u001b[0;34m(\u001b[0m\u001b[0minput_ix\u001b[0m\u001b[0;34m)\u001b[0m \u001b[0;31m# [batch_size, sequence_length, emb_dim]\u001b[0m\u001b[0;34m\u001b[0m\u001b[0;34m\u001b[0m\u001b[0m\n\u001b[1;32m     31\u001b[0m \u001b[0;34m\u001b[0m\u001b[0m\n\u001b[0;32m---> 32\u001b[0;31m         \u001b[0menc_seq\u001b[0m\u001b[0;34m,\u001b[0m \u001b[0mlast_state_but_not_really\u001b[0m \u001b[0;34m=\u001b[0m \u001b[0mself\u001b[0m\u001b[0;34m.\u001b[0m\u001b[0mlstm\u001b[0m\u001b[0;34m(\u001b[0m\u001b[0minp_emb\u001b[0m\u001b[0;34m)\u001b[0m\u001b[0;34m\u001b[0m\u001b[0;34m\u001b[0m\u001b[0m\n\u001b[0m\u001b[1;32m     33\u001b[0m         \u001b[0;31m# enc_seq: [batch, time, hid_size], last_state: [batch, hid_size]\u001b[0m\u001b[0;34m\u001b[0m\u001b[0;34m\u001b[0m\u001b[0;34m\u001b[0m\u001b[0m\n\u001b[1;32m     34\u001b[0m         \u001b[0;31m# enc_seq -> contains the output features (h_t) from the last layer of the LSTM, for each t\u001b[0m\u001b[0;34m\u001b[0m\u001b[0;34m\u001b[0m\u001b[0;34m\u001b[0m\u001b[0m\n",
            "\u001b[0;32m/usr/local/lib/python3.7/dist-packages/torch/nn/modules/module.py\u001b[0m in \u001b[0;36m_call_impl\u001b[0;34m(self, *input, **kwargs)\u001b[0m\n\u001b[1;32m   1128\u001b[0m         if not (self._backward_hooks or self._forward_hooks or self._forward_pre_hooks or _global_backward_hooks\n\u001b[1;32m   1129\u001b[0m                 or _global_forward_hooks or _global_forward_pre_hooks):\n\u001b[0;32m-> 1130\u001b[0;31m             \u001b[0;32mreturn\u001b[0m \u001b[0mforward_call\u001b[0m\u001b[0;34m(\u001b[0m\u001b[0;34m*\u001b[0m\u001b[0minput\u001b[0m\u001b[0;34m,\u001b[0m \u001b[0;34m**\u001b[0m\u001b[0mkwargs\u001b[0m\u001b[0;34m)\u001b[0m\u001b[0;34m\u001b[0m\u001b[0;34m\u001b[0m\u001b[0m\n\u001b[0m\u001b[1;32m   1131\u001b[0m         \u001b[0;31m# Do not call functions when jit is used\u001b[0m\u001b[0;34m\u001b[0m\u001b[0;34m\u001b[0m\u001b[0;34m\u001b[0m\u001b[0m\n\u001b[1;32m   1132\u001b[0m         \u001b[0mfull_backward_hooks\u001b[0m\u001b[0;34m,\u001b[0m \u001b[0mnon_full_backward_hooks\u001b[0m \u001b[0;34m=\u001b[0m \u001b[0;34m[\u001b[0m\u001b[0;34m]\u001b[0m\u001b[0;34m,\u001b[0m \u001b[0;34m[\u001b[0m\u001b[0;34m]\u001b[0m\u001b[0;34m\u001b[0m\u001b[0;34m\u001b[0m\u001b[0m\n",
            "\u001b[0;32m/usr/local/lib/python3.7/dist-packages/torch/nn/modules/rnn.py\u001b[0m in \u001b[0;36mforward\u001b[0;34m(self, input, hx)\u001b[0m\n\u001b[1;32m    768\u001b[0m         \u001b[0;32mif\u001b[0m \u001b[0mbatch_sizes\u001b[0m \u001b[0;32mis\u001b[0m \u001b[0;32mNone\u001b[0m\u001b[0;34m:\u001b[0m\u001b[0;34m\u001b[0m\u001b[0;34m\u001b[0m\u001b[0m\n\u001b[1;32m    769\u001b[0m             result = _VF.lstm(input, hx, self._flat_weights, self.bias, self.num_layers,\n\u001b[0;32m--> 770\u001b[0;31m                               self.dropout, self.training, self.bidirectional, self.batch_first)\n\u001b[0m\u001b[1;32m    771\u001b[0m         \u001b[0;32melse\u001b[0m\u001b[0;34m:\u001b[0m\u001b[0;34m\u001b[0m\u001b[0;34m\u001b[0m\u001b[0m\n\u001b[1;32m    772\u001b[0m             result = _VF.lstm(input, batch_sizes, hx, self._flat_weights, self.bias,\n",
            "\u001b[0;31mKeyboardInterrupt\u001b[0m: "
          ]
        }
      ],
      "source": [
        "batch_size = 128 # <-- please tune batch size to fit your CPU/GPU configuration\n",
        "score_dev_every = 250\n",
        "train_history, dev_history = [], []\n",
        "\n",
        "rnn_model = RNNLanguageModel(device=device, bid=True)\n",
        "opt = torch.optim.Adam(rnn_model.parameters())\n",
        "\n",
        "# score untrained model\n",
        "dev_history.append((0, score_lines(rnn_model, dev_lines, batch_size)))\n",
        "print(dev_history)\n",
        "print(\"Sample before training:\", generate(rnn_model, 'Bridging'))"
      ]
    },
    {
      "cell_type": "code",
      "execution_count": null,
      "metadata": {
        "id": "ApE01DvlIoU7"
      },
      "outputs": [],
      "source": [
        "from IPython.display import clear_output\n",
        "from random import sample\n",
        "from tqdm import trange\n",
        "\n",
        "for i in trange(5000):\n",
        "    batch = to_matrix(sample(train_lines, batch_size))\n",
        "    \n",
        "    loss_i = compute_loss(rnn_model, batch)\n",
        "    \n",
        "    train_history.append((i, float(loss_i)))\n",
        "    \n",
        "    if (i + 1) % 50 == 0:\n",
        "        clear_output(True)\n",
        "        plt.scatter(*zip(*train_history), alpha=0.1, label='train_loss')\n",
        "        if len(dev_history):\n",
        "            plt.plot(*zip(*dev_history), color='red', label='dev_loss')\n",
        "        plt.legend(); plt.grid(); plt.show()\n",
        "        print(\"Generated examples (tau=0.5):\")\n",
        "        for _ in range(3):\n",
        "            print(generate(rnn_model, temperature=0.5))\n",
        "    \n",
        "    if (i + 1) % score_dev_every == 0:\n",
        "        print(\"Scoring dev...\")\n",
        "        dev_history.append((i, score_lines(rnn_model, dev_lines, batch_size)))\n",
        "        print('#%i Dev loss: %.3f' % dev_history[-1])\n"
      ]
    },
    {
      "cell_type": "code",
      "execution_count": null,
      "metadata": {
        "id": "aBg7r_2eIoU7"
      },
      "outputs": [],
      "source": [
        "assert np.mean(train_history[:10], axis=0)[1] > np.mean(train_history[-10:], axis=0)[1], \"The model didn't converge.\"\n",
        "print(\"Final dev loss:\", dev_history[-1][-1])\n",
        "for i in range(10):\n",
        "    print(generate(rnn_model, temperature=0.5))"
      ]
    },
    {
      "cell_type": "markdown",
      "metadata": {
        "id": "IRpf5rIdIoU8"
      },
      "source": [
        "### Alternative sampling strategies (1 point)\n",
        "\n",
        "So far we've sampled tokens from the model in proportion with their probability.\n",
        "However, this approach can sometimes generate nonsense words due to the fact that softmax probabilities of these words are never exactly zero. This issue can be somewhat mitigated with sampling temperature, but low temperature harms sampling diversity. Can we remove the nonsense words without sacrificing diversity? __Yes, we can!__ But it takes a different sampling strategy.\n",
        "\n",
        "__Top-k sampling:__ on each step, sample the next token from __k most likely__ candidates from the language model.\n",
        "\n",
        "Suppose $k=3$ and the token probabilities are $p=[0.1, 0.35, 0.05, 0.2, 0.3]$. You first need to select $k$ most likely words and set the probability of the rest to zero: $\\hat p=[0.0, 0.35, 0.0, 0.2, 0.3]$ and re-normalize: \n",
        "$p^*\\approx[0.0, 0.412, 0.0, 0.235, 0.353]$.\n",
        "\n",
        "__Nucleus sampling:__ similar to top-k sampling, but this time we select $k$ dynamically. In nucleous sampling, we sample from top-__N%__ fraction of the probability mass.\n",
        "\n",
        "Using the same  $p=[0.1, 0.35, 0.05, 0.2, 0.3]$ and nucleous N=0.9, the nucleous words consist of:\n",
        "1. most likely token $w_2$, because $p(w_2) < N$\n",
        "2. second most likely token $w_5$, $p(w_2) + p(w_5) = 0.65 < N$\n",
        "3. third most likely token $w_4$ because $p(w_2) + p(w_5) + p(w_4) = 0.85 < N$\n",
        "\n",
        "And thats it, because the next most likely word would overflow: $p(w_2) + p(w_5) + p(w_4) + p(w_1) = 0.95 > N$.\n",
        "\n",
        "After you've selected the nucleous words, you need to re-normalize them as in top-k sampling and generate the next token.\n",
        "\n",
        "__Your task__ is to implement nucleus sampling variant and see if its any good."
      ]
    },
    {
      "cell_type": "code",
      "source": [
        "prefix='a'\n",
        "token_probs = model.get_possible_next_tokens(prefix)"
      ],
      "metadata": {
        "id": "JzIeWDyItn_g"
      },
      "execution_count": 57,
      "outputs": []
    },
    {
      "cell_type": "code",
      "source": [
        "token_probs = {k: v for k, v in sorted(token_probs.items(), key=lambda item: item[1], reverse=True)} # sorted now   "
      ],
      "metadata": {
        "id": "FXKPLf85vHCL"
      },
      "execution_count": 69,
      "outputs": []
    },
    {
      "cell_type": "code",
      "source": [
        "total_prob = 0\n",
        "nucleus = 0.9\n",
        "stopping = False\n",
        "for token,prob in token_probs.items():\n",
        "    if not stopping:\n",
        "        total_prob += prob\n",
        "    else:\n",
        "        token_probs[token] = 0\n",
        "\n",
        "    if total_prob >= nucleus:\n",
        "        stopping = True\n",
        "        # next probs = 0"
      ],
      "metadata": {
        "id": "71UVXFbBx-5W"
      },
      "execution_count": 71,
      "outputs": []
    },
    {
      "cell_type": "code",
      "source": [
        "token_probs"
      ],
      "metadata": {
        "colab": {
          "base_uri": "https://localhost:8080/"
        },
        "id": "r9Y_GPmn22vK",
        "outputId": "f2b145c4-fd54-48ef-b46e-8a3cd08e06da"
      },
      "execution_count": 72,
      "outputs": [
        {
          "output_type": "execute_result",
          "data": {
            "text/plain": [
              "{'|': 0.007970412,\n",
              " 'N': 0.007958499,\n",
              " 'ü': 0.007957231,\n",
              " 'm': 0.007881473,\n",
              " 'V': 0.007874677,\n",
              " '5': 0.007858334,\n",
              " 'x': 0.007857271,\n",
              " '_': 0.007848417,\n",
              " 'é': 0.007845772,\n",
              " \"'\": 0.007826981,\n",
              " 'p': 0.007817812,\n",
              " '/': 0.0077899224,\n",
              " '-': 0.0077767987,\n",
              " 'τ': 0.0077719535,\n",
              " 'Z': 0.0077579357,\n",
              " 'ν': 0.007754034,\n",
              " 'b': 0.0077282796,\n",
              " 'R': 0.0077130864,\n",
              " 'E': 0.0077049844,\n",
              " '8': 0.0077039483,\n",
              " '#': 0.007676735,\n",
              " 'r': 0.0076728305,\n",
              " 'ε': 0.0076707196,\n",
              " 'h': 0.0076616793,\n",
              " 'Q': 0.007655566,\n",
              " 'ó': 0.007648006,\n",
              " 'Ö': 0.007645049,\n",
              " '4': 0.0076208743,\n",
              " 'σ': 0.007616947,\n",
              " 'e': 0.0076126084,\n",
              " '$': 0.0075939656,\n",
              " 'γ': 0.0075630615,\n",
              " 'n': 0.0075614676,\n",
              " 'O': 0.007560775,\n",
              " 'j': 0.007560036,\n",
              " 'à': 0.007560004,\n",
              " '!': 0.007557549,\n",
              " 'W': 0.007555207,\n",
              " 'á': 0.00755382,\n",
              " 'É': 0.0075522754,\n",
              " '2': 0.0075444356,\n",
              " 'c': 0.0075412816,\n",
              " '<': 0.0075395843,\n",
              " 'y': 0.0075365724,\n",
              " 'í': 0.0075365147,\n",
              " '%': 0.007502062,\n",
              " 'l': 0.007501325,\n",
              " 'Y': 0.0074973125,\n",
              " '°': 0.007485917,\n",
              " 'ś': 0.0074834474,\n",
              " 'χ': 0.0074725645,\n",
              " 'C': 0.0074562845,\n",
              " 'Σ': 0.0074560638,\n",
              " 'z': 0.0074548377,\n",
              " 'w': 0.0074477848,\n",
              " '1': 0.0074409903,\n",
              " 'o': 0.0074409796,\n",
              " '(': 0.007431289,\n",
              " 'õ': 0.007426489,\n",
              " 'è': 0.0073986505,\n",
              " 'S': 0.0073758634,\n",
              " ':': 0.0073750583,\n",
              " 'β': 0.0073735425,\n",
              " 'd': 0.007365439,\n",
              " 'ê': 0.0073615382,\n",
              " 'Ł': 0.007357492,\n",
              " ';': 0.007352179,\n",
              " 'M': 0.0073506683,\n",
              " 'B': 0.0073481696,\n",
              " ')': 0.00734322,\n",
              " '>': 0.007343171,\n",
              " '@': 0.007338568,\n",
              " ' ': 0.0073342305,\n",
              " 'I': 0.007332171,\n",
              " 'K': 0.0073320866,\n",
              " 'P': 0.0073278123,\n",
              " 'F': 0.007312764,\n",
              " 'ö': 0.0073077795,\n",
              " '=': 0.007304522,\n",
              " '?': 0.0072977645,\n",
              " 'α': 0.0072882427,\n",
              " ']': 0.007287103,\n",
              " 'D': 0.007273429,\n",
              " 'H': 0.0072661736,\n",
              " '\\\\': 0.0072658826,\n",
              " 'g': 0.0072527705,\n",
              " 'ω': 0.0072514424,\n",
              " 'ç': 0.0072298152,\n",
              " '.': 0.0072277575,\n",
              " 'ô': 0.007221384,\n",
              " 'ρ': 0.0072070085,\n",
              " '*': 0.0072067883,\n",
              " '9': 0.0072050053,\n",
              " 'ã': 0.0071834344,\n",
              " 'q': 0.0071820305,\n",
              " 'a': 0.0071776137,\n",
              " '[': 0.0071625127,\n",
              " '`': 0.007161447,\n",
              " 'G': 0.007160648,\n",
              " 'Ω': 0.007149897,\n",
              " '0': 0.007134711,\n",
              " '\\n': 0.007133874,\n",
              " 'ő': 0.0071271146,\n",
              " 's': 0.0071235537,\n",
              " '~': 0.007110268,\n",
              " '6': 0.007100808,\n",
              " 'L': 0.007092917,\n",
              " 'â': 0.007089271,\n",
              " 't': 0.0070880107,\n",
              " '&': 0.007083024,\n",
              " 'U': 0.0070803054,\n",
              " 'λ': 0.0070780204,\n",
              " 'ä': 0.00707214,\n",
              " 'v': 0.0070411093,\n",
              " '\"': 0.0070174253,\n",
              " ',': 0.0070156353,\n",
              " 'Ü': 0.007013234,\n",
              " 'A': 0.0069966596,\n",
              " 'k': 0.0069632735,\n",
              " '7': 0.0069625266,\n",
              " 'u': 0.00694001,\n",
              " '}': 0.006926412,\n",
              " '{': 0,\n",
              " 'æ': 0,\n",
              " '^': 0,\n",
              " 'J': 0,\n",
              " 'μ': 0,\n",
              " 'ï': 0,\n",
              " 'T': 0,\n",
              " 'Π': 0,\n",
              " 'f': 0,\n",
              " 'i': 0,\n",
              " '3': 0,\n",
              " '\\x7f': 0,\n",
              " '+': 0,\n",
              " 'X': 0}"
            ]
          },
          "metadata": {},
          "execution_count": 72
        }
      ]
    },
    {
      "cell_type": "code",
      "source": [
        "total_prob"
      ],
      "metadata": {
        "colab": {
          "base_uri": "https://localhost:8080/"
        },
        "id": "oTEMXJ2o25Lp",
        "outputId": "4771ab55-5869-42b4-9f39-2065d8814099"
      },
      "execution_count": 73,
      "outputs": [
        {
          "output_type": "execute_result",
          "data": {
            "text/plain": [
              "0.9044761145487428"
            ]
          },
          "metadata": {},
          "execution_count": 73
        }
      ]
    },
    {
      "cell_type": "code",
      "source": [
        "%%time\n",
        "prefix = 'a'\n",
        "token_probs = model.get_possible_next_tokens(prefix)\n",
        "\n",
        "token_probs = {k: v for k, v in sorted(token_probs.items(), key=lambda item: item[1], reverse=True)}\n",
        "tokens, probs = zip(*token_probs.items())\n",
        "\n",
        "next_idx = np.random.choice(len(probs), p=probs)"
      ],
      "metadata": {
        "id": "A0p32RHL5sMJ"
      },
      "execution_count": null,
      "outputs": []
    },
    {
      "cell_type": "code",
      "source": [
        "%%time\n",
        "prefix = 'a'\n",
        "token_probs = model.get_possible_next_tokens(prefix)\n",
        "tokens, probs = zip(*token_probs.items())\n",
        "\n",
        "probs = np.array(probs)\n",
        "sorted_probs_indices = np.argsort(probs)[::-1]\n",
        "probs[sorted_probs_indices]"
      ],
      "metadata": {
        "colab": {
          "base_uri": "https://localhost:8080/"
        },
        "id": "Fbyvdmjd5z2c",
        "outputId": "5e69220b-31fd-4a78-e302-b781cd560277"
      },
      "execution_count": 78,
      "outputs": [
        {
          "output_type": "stream",
          "name": "stdout",
          "text": [
            "CPU times: user 2.15 ms, sys: 1.02 ms, total: 3.17 ms\n",
            "Wall time: 4.17 ms\n"
          ]
        },
        {
          "output_type": "execute_result",
          "data": {
            "text/plain": [
              "array([0.00797041, 0.0079585 , 0.00795723, 0.00788147, 0.00787468,\n",
              "       0.00785833, 0.00785727, 0.00784842, 0.00784577, 0.00782698,\n",
              "       0.00781781, 0.00778992, 0.0077768 , 0.00777195, 0.00775794,\n",
              "       0.00775403, 0.00772828, 0.00771309, 0.00770498, 0.00770395,\n",
              "       0.00767674, 0.00767283, 0.00767072, 0.00766168, 0.00765557,\n",
              "       0.00764801, 0.00764505, 0.00762087, 0.00761695, 0.00761261,\n",
              "       0.00759397, 0.00756306, 0.00756147, 0.00756078, 0.00756004,\n",
              "       0.00756   , 0.00755755, 0.00755521, 0.00755382, 0.00755228,\n",
              "       0.00754444, 0.00754128, 0.00753958, 0.00753657, 0.00753651,\n",
              "       0.00750206, 0.00750133, 0.00749731, 0.00748592, 0.00748345,\n",
              "       0.00747256, 0.00745628, 0.00745606, 0.00745484, 0.00744778,\n",
              "       0.00744099, 0.00744098, 0.00743129, 0.00742649, 0.00739865,\n",
              "       0.00737586, 0.00737506, 0.00737354, 0.00736544, 0.00736154,\n",
              "       0.00735749, 0.00735218, 0.00735067, 0.00734817, 0.00734322,\n",
              "       0.00734317, 0.00733857, 0.00733423, 0.00733217, 0.00733209,\n",
              "       0.00732781, 0.00731276, 0.00730778, 0.00730452, 0.00729776,\n",
              "       0.00728824, 0.0072871 , 0.00727343, 0.00726617, 0.00726588,\n",
              "       0.00725277, 0.00725144, 0.00722982, 0.00722776, 0.00722138,\n",
              "       0.00720701, 0.00720679, 0.00720501, 0.00718343, 0.00718203,\n",
              "       0.00717761, 0.00716251, 0.00716145, 0.00716065, 0.0071499 ,\n",
              "       0.00713471, 0.00713387, 0.00712711, 0.00712355, 0.00711027,\n",
              "       0.00710081, 0.00709292, 0.00708927, 0.00708801, 0.00708302,\n",
              "       0.00708031, 0.00707802, 0.00707214, 0.00704111, 0.00701743,\n",
              "       0.00701564, 0.00701323, 0.00699666, 0.00696327, 0.00696253,\n",
              "       0.00694001, 0.00692641, 0.00692329, 0.00690907, 0.00690861,\n",
              "       0.00688414, 0.00686226, 0.00683971, 0.00683889, 0.00683602,\n",
              "       0.00683479, 0.00682078, 0.00681878, 0.00679847, 0.00664365,\n",
              "       0.0066054 ], dtype=float32)"
            ]
          },
          "metadata": {},
          "execution_count": 78
        }
      ]
    },
    {
      "cell_type": "code",
      "source": [
        "sorted_probs_indices"
      ],
      "metadata": {
        "colab": {
          "base_uri": "https://localhost:8080/"
        },
        "id": "a9XCLm5r8BBL",
        "outputId": "39e1afe0-bfd9-4211-968e-8b7c52d64cc4"
      },
      "execution_count": 82,
      "outputs": [
        {
          "output_type": "execute_result",
          "data": {
            "text/plain": [
              "array([ 93,  47, 117,  78,  55,  22,  89,  64, 109,   8,  81,  16,  14,\n",
              "       133,  59, 130,  67,  51,  38,  25,   4,  83, 127,  73,  50, 113,\n",
              "        99,  21, 132,  70,   5, 126,  79,  48,  75, 101,   2,  56, 102,\n",
              "        98,  19,  68,  29,  90, 111,   6,  77,  58,  97, 120, 134,  36,\n",
              "       122,  91,  88,  18,  80,   9, 115, 108,  52,  27, 125,  69, 110,\n",
              "       118,  28,  46,  35,  10,  31,  33,   1,  42,  44,  49,  39, 116,\n",
              "        30,  32, 124,  62,  37,  41,  61,  72, 135, 107,  15, 114, 131,\n",
              "        11,  26, 104,  82,  66,  60,  65,  40, 123,  17,   0, 119,  84,\n",
              "        95,  23,  45, 103,  85,   7,  54, 128, 105,  87,   3,  13, 100,\n",
              "        34,  76,  24,  86,  94,  92, 106,  63,  43, 129, 112,  53, 121,\n",
              "        71,  74,  20,  96,  12,  57])"
            ]
          },
          "metadata": {},
          "execution_count": 82
        }
      ]
    },
    {
      "cell_type": "code",
      "source": [
        "tokens = np.array(tokens)"
      ],
      "metadata": {
        "id": "JGTSI1O37vui"
      },
      "execution_count": 80,
      "outputs": []
    },
    {
      "cell_type": "code",
      "source": [
        "tokens[sorted_probs_indices]"
      ],
      "metadata": {
        "colab": {
          "base_uri": "https://localhost:8080/"
        },
        "id": "t8iuZUQ4716O",
        "outputId": "ba69eab1-0a45-4f80-8a4b-4b3ec6a3f5c2"
      },
      "execution_count": 81,
      "outputs": [
        {
          "output_type": "execute_result",
          "data": {
            "text/plain": [
              "array(['|', 'N', 'ü', 'm', 'V', '5', 'x', '_', 'é', \"'\", 'p', '/', '-',\n",
              "       'τ', 'Z', 'ν', 'b', 'R', 'E', '8', '#', 'r', 'ε', 'h', 'Q', 'ó',\n",
              "       'Ö', '4', 'σ', 'e', '$', 'γ', 'n', 'O', 'j', 'à', '!', 'W', 'á',\n",
              "       'É', '2', 'c', '<', 'y', 'í', '%', 'l', 'Y', '°', 'ś', 'χ', 'C',\n",
              "       'Σ', 'z', 'w', '1', 'o', '(', 'õ', 'è', 'S', ':', 'β', 'd', 'ê',\n",
              "       'Ł', ';', 'M', 'B', ')', '>', '@', ' ', 'I', 'K', 'P', 'F', 'ö',\n",
              "       '=', '?', 'α', ']', 'D', 'H', '\\\\', 'g', 'ω', 'ç', '.', 'ô', 'ρ',\n",
              "       '*', '9', 'ã', 'q', 'a', '[', '`', 'G', 'Ω', '0', '\\n', 'ő', 's',\n",
              "       '~', '6', 'L', 'â', 't', '&', 'U', 'λ', 'ä', 'v', '\"', ',', 'Ü',\n",
              "       'A', 'k', '7', 'u', '}', '{', 'æ', '^', 'J', 'μ', 'ï', 'T', 'Π',\n",
              "       'f', 'i', '3', '\\x7f', '+', 'X'], dtype='<U1')"
            ]
          },
          "metadata": {},
          "execution_count": 81
        }
      ]
    },
    {
      "cell_type": "code",
      "source": [
        "sorted_probs = probs[sorted_probs_indices] \n",
        "sorted_probs"
      ],
      "metadata": {
        "colab": {
          "base_uri": "https://localhost:8080/"
        },
        "id": "ZV99zcyV89Uu",
        "outputId": "cada228f-0ac0-47d0-d2e2-444345a1dbdb"
      },
      "execution_count": 83,
      "outputs": [
        {
          "output_type": "execute_result",
          "data": {
            "text/plain": [
              "array([0.00797041, 0.0079585 , 0.00795723, 0.00788147, 0.00787468,\n",
              "       0.00785833, 0.00785727, 0.00784842, 0.00784577, 0.00782698,\n",
              "       0.00781781, 0.00778992, 0.0077768 , 0.00777195, 0.00775794,\n",
              "       0.00775403, 0.00772828, 0.00771309, 0.00770498, 0.00770395,\n",
              "       0.00767674, 0.00767283, 0.00767072, 0.00766168, 0.00765557,\n",
              "       0.00764801, 0.00764505, 0.00762087, 0.00761695, 0.00761261,\n",
              "       0.00759397, 0.00756306, 0.00756147, 0.00756078, 0.00756004,\n",
              "       0.00756   , 0.00755755, 0.00755521, 0.00755382, 0.00755228,\n",
              "       0.00754444, 0.00754128, 0.00753958, 0.00753657, 0.00753651,\n",
              "       0.00750206, 0.00750133, 0.00749731, 0.00748592, 0.00748345,\n",
              "       0.00747256, 0.00745628, 0.00745606, 0.00745484, 0.00744778,\n",
              "       0.00744099, 0.00744098, 0.00743129, 0.00742649, 0.00739865,\n",
              "       0.00737586, 0.00737506, 0.00737354, 0.00736544, 0.00736154,\n",
              "       0.00735749, 0.00735218, 0.00735067, 0.00734817, 0.00734322,\n",
              "       0.00734317, 0.00733857, 0.00733423, 0.00733217, 0.00733209,\n",
              "       0.00732781, 0.00731276, 0.00730778, 0.00730452, 0.00729776,\n",
              "       0.00728824, 0.0072871 , 0.00727343, 0.00726617, 0.00726588,\n",
              "       0.00725277, 0.00725144, 0.00722982, 0.00722776, 0.00722138,\n",
              "       0.00720701, 0.00720679, 0.00720501, 0.00718343, 0.00718203,\n",
              "       0.00717761, 0.00716251, 0.00716145, 0.00716065, 0.0071499 ,\n",
              "       0.00713471, 0.00713387, 0.00712711, 0.00712355, 0.00711027,\n",
              "       0.00710081, 0.00709292, 0.00708927, 0.00708801, 0.00708302,\n",
              "       0.00708031, 0.00707802, 0.00707214, 0.00704111, 0.00701743,\n",
              "       0.00701564, 0.00701323, 0.00699666, 0.00696327, 0.00696253,\n",
              "       0.00694001, 0.00692641, 0.00692329, 0.00690907, 0.00690861,\n",
              "       0.00688414, 0.00686226, 0.00683971, 0.00683889, 0.00683602,\n",
              "       0.00683479, 0.00682078, 0.00681878, 0.00679847, 0.00664365,\n",
              "       0.0066054 ], dtype=float32)"
            ]
          },
          "metadata": {},
          "execution_count": 83
        }
      ]
    },
    {
      "cell_type": "code",
      "source": [
        "# compute cumulative probabilities of sorted array\n",
        "cumulative_probs = np.cumsum(sorted_probs)\n",
        "cumulative_probs"
      ],
      "metadata": {
        "colab": {
          "base_uri": "https://localhost:8080/"
        },
        "id": "5aBEA9yI8_Zu",
        "outputId": "aaabcfcb-761c-49c3-8b95-b08f9bf6659d"
      },
      "execution_count": 85,
      "outputs": [
        {
          "output_type": "execute_result",
          "data": {
            "text/plain": [
              "array([0.00797041, 0.01592891, 0.02388614, 0.03176761, 0.03964229,\n",
              "       0.04750063, 0.0553579 , 0.06320632, 0.07105209, 0.07887907,\n",
              "       0.08669689, 0.09448681, 0.10226361, 0.11003556, 0.1177935 ,\n",
              "       0.12554753, 0.1332758 , 0.14098889, 0.14869387, 0.15639782,\n",
              "       0.16407456, 0.17174739, 0.1794181 , 0.18707979, 0.19473535,\n",
              "       0.20238335, 0.21002841, 0.21764928, 0.22526623, 0.23287883,\n",
              "       0.2404728 , 0.24803585, 0.25559732, 0.2631581 , 0.27071816,\n",
              "       0.27827817, 0.2858357 , 0.29339093, 0.30094475, 0.308497  ,\n",
              "       0.31604144, 0.3235827 , 0.33112228, 0.33865884, 0.34619534,\n",
              "       0.3536974 , 0.36119872, 0.36869603, 0.37618196, 0.3836654 ,\n",
              "       0.391138  , 0.39859426, 0.40605032, 0.41350517, 0.42095295,\n",
              "       0.42839393, 0.4358349 , 0.4432662 , 0.4506927 , 0.45809138,\n",
              "       0.46546724, 0.4728423 , 0.48021585, 0.48758128, 0.4949428 ,\n",
              "       0.5023003 , 0.5096525 , 0.5170032 , 0.52435136, 0.5316946 ,\n",
              "       0.53903776, 0.54637635, 0.5537106 , 0.5610427 , 0.5683748 ,\n",
              "       0.5757026 , 0.5830154 , 0.59032315, 0.5976277 , 0.60492545,\n",
              "       0.6122137 , 0.61950076, 0.6267742 , 0.63404036, 0.6413062 ,\n",
              "       0.648559  , 0.6558104 , 0.6630402 , 0.670268  , 0.6774894 ,\n",
              "       0.68469644, 0.69190323, 0.69910824, 0.7062917 , 0.7134737 ,\n",
              "       0.72065127, 0.7278138 , 0.7349752 , 0.7421359 , 0.74928576,\n",
              "       0.7564205 , 0.7635544 , 0.7706815 , 0.77780503, 0.7849153 ,\n",
              "       0.79201615, 0.79910904, 0.8061983 , 0.8132863 , 0.8203693 ,\n",
              "       0.8274496 , 0.8345276 , 0.84159976, 0.84864086, 0.8556583 ,\n",
              "       0.86267394, 0.8696872 , 0.87668383, 0.8836471 , 0.8906096 ,\n",
              "       0.8975496 , 0.90447605, 0.91139936, 0.91830844, 0.92521703,\n",
              "       0.9321012 , 0.9389635 , 0.94580317, 0.9526421 , 0.9594781 ,\n",
              "       0.9663129 , 0.9731337 , 0.97995245, 0.9867509 , 0.99339455,\n",
              "       0.99999994], dtype=float32)"
            ]
          },
          "metadata": {},
          "execution_count": 85
        }
      ]
    },
    {
      "cell_type": "code",
      "source": [
        "np.where(cumulative_probs <= 0.9)"
      ],
      "metadata": {
        "colab": {
          "base_uri": "https://localhost:8080/"
        },
        "id": "fnHIZm1y-H-A",
        "outputId": "9a9d8898-af90-4d65-e132-7735c7bf1f0c"
      },
      "execution_count": 87,
      "outputs": [
        {
          "output_type": "execute_result",
          "data": {
            "text/plain": [
              "(array([  0,   1,   2,   3,   4,   5,   6,   7,   8,   9,  10,  11,  12,\n",
              "         13,  14,  15,  16,  17,  18,  19,  20,  21,  22,  23,  24,  25,\n",
              "         26,  27,  28,  29,  30,  31,  32,  33,  34,  35,  36,  37,  38,\n",
              "         39,  40,  41,  42,  43,  44,  45,  46,  47,  48,  49,  50,  51,\n",
              "         52,  53,  54,  55,  56,  57,  58,  59,  60,  61,  62,  63,  64,\n",
              "         65,  66,  67,  68,  69,  70,  71,  72,  73,  74,  75,  76,  77,\n",
              "         78,  79,  80,  81,  82,  83,  84,  85,  86,  87,  88,  89,  90,\n",
              "         91,  92,  93,  94,  95,  96,  97,  98,  99, 100, 101, 102, 103,\n",
              "        104, 105, 106, 107, 108, 109, 110, 111, 112, 113, 114, 115, 116,\n",
              "        117, 118, 119, 120]),)"
            ]
          },
          "metadata": {},
          "execution_count": 87
        }
      ]
    },
    {
      "cell_type": "code",
      "execution_count": null,
      "metadata": {
        "id": "Z7UgNuyFIoU9"
      },
      "outputs": [],
      "source": [
        "def generate_nucleus(model, prefix=BOS, nucleus=0.9, max_len=100):\n",
        "    \"\"\"\n",
        "    Generate a sequence with nucleous sampling\n",
        "    :param prefix: a string containing space-separated previous tokens\n",
        "    :param nucleus: N from the formulae above, N \\in [0, 1]\n",
        "    :param max_len: generate sequences with at most this many tokens, including prefix\n",
        "    \n",
        "    :note: make sure that nucleous always contains at least one word, even if p(w*) > nucleus\n",
        "    \n",
        "    \"\"\"\n",
        "    while True:\n",
        "        token_probs = model.get_possible_next_tokens(prefix)\n",
        "        tokens, probs = zip(*token_probs.items())\n",
        "        probs = np.array(probs)\n",
        "\n",
        "        sorted_probs_indices = np.argsort(probs)\n",
        "        # choose only N % highest probs, discard rest\n",
        "        for prob in probs[sorted_probs_indices]:\n",
        "            \n",
        "\n",
        "        \n",
        "        next_idx = np.random.choice(len(probs), p=probs)\n",
        "        \n",
        "        prefix += tokens[next_idx]\n",
        "        if next_token == EOS or len(prefix) > max_len: break\n",
        "    return prefix"
      ]
    },
    {
      "cell_type": "code",
      "execution_count": null,
      "metadata": {
        "id": "v4dVgU5jIoU9"
      },
      "outputs": [],
      "source": [
        "for i in range(10):\n",
        "    print(generate_nucleous(model, nucleous_size=PLAY_WITH_ME_SENPAI))"
      ]
    },
    {
      "cell_type": "markdown",
      "metadata": {
        "id": "SwrKcsTPIoU-"
      },
      "source": [
        "### Bonus quest I: Beam Search (2 pts incl. samples)\n",
        "\n",
        "At times, you don't really want the model to generate diverse outputs as much as you want a __single most likely hypothesis.__ A single best translation, most likely continuation of the search query given prefix, etc. Except, you can't get it. \n",
        "\n",
        "In order to find the exact most likely sequence containing 10 tokens, you would need to enumerate all $|V|^{10}$ possible hypotheses. In practice, 9 times out of 10 you will instead find an approximate most likely output using __beam search__.\n",
        "\n",
        "Here's how it works:\n",
        "0. Initial `beam` = [prefix], max beam_size = k\n",
        "1. for T steps:\n",
        "2. ` ... ` generate all possible next tokens for all hypotheses in beam, formulate `len(beam) * len(vocab)` candidates\n",
        "3. ` ... ` select beam_size best for all candidates as new `beam`\n",
        "4. Select best hypothesis (-es?) from beam"
      ]
    },
    {
      "cell_type": "code",
      "execution_count": null,
      "metadata": {
        "id": "OLTJ3G8JIoU-"
      },
      "outputs": [],
      "source": [
        "from IPython.display import HTML\n",
        "# Here's what it looks like:\n",
        "!wget -q https://raw.githubusercontent.com/yandexdataschool/nlp_course/2020/resources/beam_search.html\n",
        "HTML(\"beam_search.html\")"
      ]
    },
    {
      "cell_type": "code",
      "execution_count": null,
      "metadata": {
        "id": "PgYYCrN9IoU-"
      },
      "outputs": [],
      "source": [
        "def generate_beamsearch(model, prefix=BOS, beam_size=4, length=5):\n",
        "    \"\"\"\n",
        "    Generate a sequence with nucleous sampling\n",
        "    :param prefix: a string containing space-separated previous tokens\n",
        "    :param nucleus: N from the formulae above, N \\in [0, 1]\n",
        "    :param length: generate sequences with at most this many tokens, NOT INCLUDING PREFIX\n",
        "    :returns: beam_size most likely candidates\n",
        "    :note: make sure that nucleous always contains at least one word, even if p(w*) > nucleus\n",
        "    \"\"\"\n",
        "    \n",
        "    <YOUR CODE HERE>\n",
        "    \n",
        "    return <most likely sequence>\n",
        "    "
      ]
    },
    {
      "cell_type": "code",
      "execution_count": null,
      "metadata": {
        "id": "-zaVBkmuIoU_"
      },
      "outputs": [],
      "source": [
        "generate_beamsearch(model, prefix=' deep ', beam_size=4)"
      ]
    },
    {
      "cell_type": "code",
      "execution_count": null,
      "metadata": {
        "scrolled": true,
        "id": "5fxmm931IoU_"
      },
      "outputs": [],
      "source": [
        "# check it out: which beam size works best?\n",
        "# find at least 5 prefixes where beam_size=1 and 8 generates different sequences"
      ]
    },
    {
      "cell_type": "markdown",
      "metadata": {
        "id": "J35GFFXLIoVA"
      },
      "source": [
        "### Bonus quest II: Ultimate Language Model (2+ pts)\n",
        "\n",
        "So you've learned the building blocks of neural language models, you can now build the ultimate monster:  \n",
        "* Make it char-level, word level or maybe use sub-word units like [bpe](https://github.com/rsennrich/subword-nmt);\n",
        "* Combine convolutions, recurrent cells, pre-trained embeddings and all the black magic deep learning has to offer;\n",
        "  * Use strides to get larger window size quickly. Here's a [scheme](https://storage.googleapis.com/deepmind-live-cms/documents/BlogPost-Fig2-Anim-160908-r01.gif) from google wavenet.\n",
        "* Train on large data. Like... really large. Try [1 Billion Words](http://www.statmt.org/lm-benchmark/1-billion-word-language-modeling-benchmark-r13output.tar.gz) benchmark;\n",
        "* Use training schedules to speed up training. Start with small length and increase over time; Take a look at [one cycle](https://medium.com/@nachiket.tanksale/finding-good-learning-rate-and-the-one-cycle-policy-7159fe1db5d6) for learning rate;\n",
        "\n",
        "_You are NOT required to submit this assignment. Please make sure you don't miss your deadline because of it :)_"
      ]
    }
  ],
  "metadata": {
    "kernelspec": {
      "display_name": "py38",
      "language": "python",
      "name": "py38"
    },
    "language_info": {
      "codemirror_mode": {
        "name": "ipython",
        "version": 3
      },
      "file_extension": ".py",
      "mimetype": "text/x-python",
      "name": "python",
      "nbconvert_exporter": "python",
      "pygments_lexer": "ipython3",
      "version": "3.8.2"
    },
    "colab": {
      "provenance": [],
      "collapsed_sections": [
        "SwrKcsTPIoU-",
        "J35GFFXLIoVA"
      ]
    }
  },
  "nbformat": 4,
  "nbformat_minor": 0
}