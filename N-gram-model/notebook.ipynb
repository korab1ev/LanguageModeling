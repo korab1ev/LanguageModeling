{
  "cells": [
    {
      "cell_type": "markdown",
      "metadata": {
        "id": "mwtgYlEDfjDY"
      },
      "source": [
        "### N-gram language models or how to write scientific papers\n",
        "\n",
        "We shall train our language model on a corpora of [ArXiv](http://arxiv.org/) articles and see if we can generate a new one!\n",
        "\n",
        "_data by neelshah18 from [here](https://www.kaggle.com/neelshah18/arxivdataset/)_\n",
        "\n",
        "_Disclaimer: this has nothing to do with actual science. But it's fun, so who cares?!_"
      ]
    },
    {
      "cell_type": "code",
      "execution_count": null,
      "metadata": {
        "id": "XgcbSDcafjDq"
      },
      "outputs": [],
      "source": [
        "import numpy as np\n",
        "import pandas as pd\n",
        "import matplotlib.pyplot as plt\n",
        "%matplotlib inline"
      ]
    },
    {
      "cell_type": "code",
      "execution_count": null,
      "metadata": {
        "colab": {
          "base_uri": "https://localhost:8080/",
          "height": 744
        },
        "id": "KqwJWNXjfjDw",
        "outputId": "95ab7bbd-ea52-4709-cef1-67ce535e0877"
      },
      "outputs": [
        {
          "output_type": "stream",
          "name": "stdout",
          "text": [
            "--2022-09-07 12:26:06--  https://www.dropbox.com/s/99az9n1b57qkd9j/arxivData.json.tar.gz?dl=1\n",
            "Resolving www.dropbox.com (www.dropbox.com)... 162.125.3.18, 2620:100:6018:18::a27d:312\n",
            "Connecting to www.dropbox.com (www.dropbox.com)|162.125.3.18|:443... connected.\n",
            "HTTP request sent, awaiting response... 302 Found\n",
            "Location: /s/dl/99az9n1b57qkd9j/arxivData.json.tar.gz [following]\n",
            "--2022-09-07 12:26:06--  https://www.dropbox.com/s/dl/99az9n1b57qkd9j/arxivData.json.tar.gz\n",
            "Reusing existing connection to www.dropbox.com:443.\n",
            "HTTP request sent, awaiting response... 302 Found\n",
            "Location: https://uceed7d41e1ee43dcaba0d054219.dl.dropboxusercontent.com/cd/0/get/BsepsX1ccX6l6tNpyymCQjULo-eyY-0DzdjWABBeaczjBdYl0gxRp99fzfd7BXpHOMVd1LDZtNAFqeaVcuBfBlQn6DCDDiMOtizGgp6d63qxxGE8YfFBvfYT5R2JbFAV2h21O4tLYOrFco_IRVCvKhk5731_xpGlV9yvQVP4lmPbOA/file?dl=1# [following]\n",
            "--2022-09-07 12:26:06--  https://uceed7d41e1ee43dcaba0d054219.dl.dropboxusercontent.com/cd/0/get/BsepsX1ccX6l6tNpyymCQjULo-eyY-0DzdjWABBeaczjBdYl0gxRp99fzfd7BXpHOMVd1LDZtNAFqeaVcuBfBlQn6DCDDiMOtizGgp6d63qxxGE8YfFBvfYT5R2JbFAV2h21O4tLYOrFco_IRVCvKhk5731_xpGlV9yvQVP4lmPbOA/file?dl=1\n",
            "Resolving uceed7d41e1ee43dcaba0d054219.dl.dropboxusercontent.com (uceed7d41e1ee43dcaba0d054219.dl.dropboxusercontent.com)... 162.125.3.15, 2620:100:601b:15::a27d:80f\n",
            "Connecting to uceed7d41e1ee43dcaba0d054219.dl.dropboxusercontent.com (uceed7d41e1ee43dcaba0d054219.dl.dropboxusercontent.com)|162.125.3.15|:443... connected.\n",
            "HTTP request sent, awaiting response... 200 OK\n",
            "Length: 18933283 (18M) [application/binary]\n",
            "Saving to: ‘arxivData.json.tar.gz’\n",
            "\n",
            "arxivData.json.tar. 100%[===================>]  18.06M  65.5MB/s    in 0.3s    \n",
            "\n",
            "2022-09-07 12:26:07 (65.5 MB/s) - ‘arxivData.json.tar.gz’ saved [18933283/18933283]\n",
            "\n",
            "arxivData.json\n"
          ]
        },
        {
          "output_type": "execute_result",
          "data": {
            "text/plain": [
              "                                                  author  day            id  \\\n",
              "25351  [{'name': 'Zhaowen Wang'}, {'name': 'Ding Liu'...   31  1507.08905v4   \n",
              "19212                   [{'name': 'Henry E. Kyburg Jr'}]   27   1304.2366v1   \n",
              "28728  [{'name': 'M. Saquib Sarfraz'}, {'name': 'Arne...   19  1707.06089v1   \n",
              "7078   [{'name': 'Dijana Tolic'}, {'name': 'Nino Antu...   29  1709.10323v1   \n",
              "38011  [{'name': 'C. Soizea'}, {'name': 'R. Ghanem'},...   21  1803.08161v1   \n",
              "\n",
              "                                                    link  month  \\\n",
              "25351  [{'rel': 'alternate', 'href': 'http://arxiv.or...      7   \n",
              "19212  [{'rel': 'alternate', 'href': 'http://arxiv.or...      3   \n",
              "28728  [{'rel': 'alternate', 'href': 'http://arxiv.or...      7   \n",
              "7078   [{'rel': 'alternate', 'href': 'http://arxiv.or...      9   \n",
              "38011  [{'rel': 'alternate', 'href': 'http://arxiv.or...      3   \n",
              "\n",
              "                                                 summary  \\\n",
              "25351  Deep learning techniques have been successfull...   \n",
              "19212  For many years, at least since McCarthy and Ha...   \n",
              "28728  Pedestrian attribute inference is a demanding ...   \n",
              "7078   A recent theoretical analysis shows the equiva...   \n",
              "38011  In a recent paper, the authors proposed a gene...   \n",
              "\n",
              "                                                     tag  \\\n",
              "25351  [{'term': 'cs.CV', 'scheme': 'http://arxiv.org...   \n",
              "19212  [{'term': 'cs.AI', 'scheme': 'http://arxiv.org...   \n",
              "28728  [{'term': 'cs.CV', 'scheme': 'http://arxiv.org...   \n",
              "7078   [{'term': 'stat.ML', 'scheme': 'http://arxiv.o...   \n",
              "38011  [{'term': 'math.PR', 'scheme': 'http://arxiv.o...   \n",
              "\n",
              "                                                   title  year  \n",
              "25351  Deep Networks for Image Super-Resolution with ...  2015  \n",
              "19212  Epistemological Relevance and Statistical Know...  2013  \n",
              "28728  Deep View-Sensitive Pedestrian Attribute Infer...  2017  \n",
              "7078   A Nonlinear Orthogonal Non-Negative Matrix Fac...  2017  \n",
              "38011  Entropy-based closure for probabilistic learni...  2018  "
            ],
            "text/html": [
              "\n",
              "  <div id=\"df-1d4a238e-22fd-4315-84b2-def64347520a\">\n",
              "    <div class=\"colab-df-container\">\n",
              "      <div>\n",
              "<style scoped>\n",
              "    .dataframe tbody tr th:only-of-type {\n",
              "        vertical-align: middle;\n",
              "    }\n",
              "\n",
              "    .dataframe tbody tr th {\n",
              "        vertical-align: top;\n",
              "    }\n",
              "\n",
              "    .dataframe thead th {\n",
              "        text-align: right;\n",
              "    }\n",
              "</style>\n",
              "<table border=\"1\" class=\"dataframe\">\n",
              "  <thead>\n",
              "    <tr style=\"text-align: right;\">\n",
              "      <th></th>\n",
              "      <th>author</th>\n",
              "      <th>day</th>\n",
              "      <th>id</th>\n",
              "      <th>link</th>\n",
              "      <th>month</th>\n",
              "      <th>summary</th>\n",
              "      <th>tag</th>\n",
              "      <th>title</th>\n",
              "      <th>year</th>\n",
              "    </tr>\n",
              "  </thead>\n",
              "  <tbody>\n",
              "    <tr>\n",
              "      <th>25351</th>\n",
              "      <td>[{'name': 'Zhaowen Wang'}, {'name': 'Ding Liu'...</td>\n",
              "      <td>31</td>\n",
              "      <td>1507.08905v4</td>\n",
              "      <td>[{'rel': 'alternate', 'href': 'http://arxiv.or...</td>\n",
              "      <td>7</td>\n",
              "      <td>Deep learning techniques have been successfull...</td>\n",
              "      <td>[{'term': 'cs.CV', 'scheme': 'http://arxiv.org...</td>\n",
              "      <td>Deep Networks for Image Super-Resolution with ...</td>\n",
              "      <td>2015</td>\n",
              "    </tr>\n",
              "    <tr>\n",
              "      <th>19212</th>\n",
              "      <td>[{'name': 'Henry E. Kyburg Jr'}]</td>\n",
              "      <td>27</td>\n",
              "      <td>1304.2366v1</td>\n",
              "      <td>[{'rel': 'alternate', 'href': 'http://arxiv.or...</td>\n",
              "      <td>3</td>\n",
              "      <td>For many years, at least since McCarthy and Ha...</td>\n",
              "      <td>[{'term': 'cs.AI', 'scheme': 'http://arxiv.org...</td>\n",
              "      <td>Epistemological Relevance and Statistical Know...</td>\n",
              "      <td>2013</td>\n",
              "    </tr>\n",
              "    <tr>\n",
              "      <th>28728</th>\n",
              "      <td>[{'name': 'M. Saquib Sarfraz'}, {'name': 'Arne...</td>\n",
              "      <td>19</td>\n",
              "      <td>1707.06089v1</td>\n",
              "      <td>[{'rel': 'alternate', 'href': 'http://arxiv.or...</td>\n",
              "      <td>7</td>\n",
              "      <td>Pedestrian attribute inference is a demanding ...</td>\n",
              "      <td>[{'term': 'cs.CV', 'scheme': 'http://arxiv.org...</td>\n",
              "      <td>Deep View-Sensitive Pedestrian Attribute Infer...</td>\n",
              "      <td>2017</td>\n",
              "    </tr>\n",
              "    <tr>\n",
              "      <th>7078</th>\n",
              "      <td>[{'name': 'Dijana Tolic'}, {'name': 'Nino Antu...</td>\n",
              "      <td>29</td>\n",
              "      <td>1709.10323v1</td>\n",
              "      <td>[{'rel': 'alternate', 'href': 'http://arxiv.or...</td>\n",
              "      <td>9</td>\n",
              "      <td>A recent theoretical analysis shows the equiva...</td>\n",
              "      <td>[{'term': 'stat.ML', 'scheme': 'http://arxiv.o...</td>\n",
              "      <td>A Nonlinear Orthogonal Non-Negative Matrix Fac...</td>\n",
              "      <td>2017</td>\n",
              "    </tr>\n",
              "    <tr>\n",
              "      <th>38011</th>\n",
              "      <td>[{'name': 'C. Soizea'}, {'name': 'R. Ghanem'},...</td>\n",
              "      <td>21</td>\n",
              "      <td>1803.08161v1</td>\n",
              "      <td>[{'rel': 'alternate', 'href': 'http://arxiv.or...</td>\n",
              "      <td>3</td>\n",
              "      <td>In a recent paper, the authors proposed a gene...</td>\n",
              "      <td>[{'term': 'math.PR', 'scheme': 'http://arxiv.o...</td>\n",
              "      <td>Entropy-based closure for probabilistic learni...</td>\n",
              "      <td>2018</td>\n",
              "    </tr>\n",
              "  </tbody>\n",
              "</table>\n",
              "</div>\n",
              "      <button class=\"colab-df-convert\" onclick=\"convertToInteractive('df-1d4a238e-22fd-4315-84b2-def64347520a')\"\n",
              "              title=\"Convert this dataframe to an interactive table.\"\n",
              "              style=\"display:none;\">\n",
              "        \n",
              "  <svg xmlns=\"http://www.w3.org/2000/svg\" height=\"24px\"viewBox=\"0 0 24 24\"\n",
              "       width=\"24px\">\n",
              "    <path d=\"M0 0h24v24H0V0z\" fill=\"none\"/>\n",
              "    <path d=\"M18.56 5.44l.94 2.06.94-2.06 2.06-.94-2.06-.94-.94-2.06-.94 2.06-2.06.94zm-11 1L8.5 8.5l.94-2.06 2.06-.94-2.06-.94L8.5 2.5l-.94 2.06-2.06.94zm10 10l.94 2.06.94-2.06 2.06-.94-2.06-.94-.94-2.06-.94 2.06-2.06.94z\"/><path d=\"M17.41 7.96l-1.37-1.37c-.4-.4-.92-.59-1.43-.59-.52 0-1.04.2-1.43.59L10.3 9.45l-7.72 7.72c-.78.78-.78 2.05 0 2.83L4 21.41c.39.39.9.59 1.41.59.51 0 1.02-.2 1.41-.59l7.78-7.78 2.81-2.81c.8-.78.8-2.07 0-2.86zM5.41 20L4 18.59l7.72-7.72 1.47 1.35L5.41 20z\"/>\n",
              "  </svg>\n",
              "      </button>\n",
              "      \n",
              "  <style>\n",
              "    .colab-df-container {\n",
              "      display:flex;\n",
              "      flex-wrap:wrap;\n",
              "      gap: 12px;\n",
              "    }\n",
              "\n",
              "    .colab-df-convert {\n",
              "      background-color: #E8F0FE;\n",
              "      border: none;\n",
              "      border-radius: 50%;\n",
              "      cursor: pointer;\n",
              "      display: none;\n",
              "      fill: #1967D2;\n",
              "      height: 32px;\n",
              "      padding: 0 0 0 0;\n",
              "      width: 32px;\n",
              "    }\n",
              "\n",
              "    .colab-df-convert:hover {\n",
              "      background-color: #E2EBFA;\n",
              "      box-shadow: 0px 1px 2px rgba(60, 64, 67, 0.3), 0px 1px 3px 1px rgba(60, 64, 67, 0.15);\n",
              "      fill: #174EA6;\n",
              "    }\n",
              "\n",
              "    [theme=dark] .colab-df-convert {\n",
              "      background-color: #3B4455;\n",
              "      fill: #D2E3FC;\n",
              "    }\n",
              "\n",
              "    [theme=dark] .colab-df-convert:hover {\n",
              "      background-color: #434B5C;\n",
              "      box-shadow: 0px 1px 3px 1px rgba(0, 0, 0, 0.15);\n",
              "      filter: drop-shadow(0px 1px 2px rgba(0, 0, 0, 0.3));\n",
              "      fill: #FFFFFF;\n",
              "    }\n",
              "  </style>\n",
              "\n",
              "      <script>\n",
              "        const buttonEl =\n",
              "          document.querySelector('#df-1d4a238e-22fd-4315-84b2-def64347520a button.colab-df-convert');\n",
              "        buttonEl.style.display =\n",
              "          google.colab.kernel.accessAllowed ? 'block' : 'none';\n",
              "\n",
              "        async function convertToInteractive(key) {\n",
              "          const element = document.querySelector('#df-1d4a238e-22fd-4315-84b2-def64347520a');\n",
              "          const dataTable =\n",
              "            await google.colab.kernel.invokeFunction('convertToInteractive',\n",
              "                                                     [key], {});\n",
              "          if (!dataTable) return;\n",
              "\n",
              "          const docLinkHtml = 'Like what you see? Visit the ' +\n",
              "            '<a target=\"_blank\" href=https://colab.research.google.com/notebooks/data_table.ipynb>data table notebook</a>'\n",
              "            + ' to learn more about interactive tables.';\n",
              "          element.innerHTML = '';\n",
              "          dataTable['output_type'] = 'display_data';\n",
              "          await google.colab.output.renderOutput(dataTable, element);\n",
              "          const docLink = document.createElement('div');\n",
              "          docLink.innerHTML = docLinkHtml;\n",
              "          element.appendChild(docLink);\n",
              "        }\n",
              "      </script>\n",
              "    </div>\n",
              "  </div>\n",
              "  "
            ]
          },
          "metadata": {},
          "execution_count": 53
        }
      ],
      "source": [
        "# Alternative manual download link: https://yadi.sk/d/_nGyU2IajjR9-w\n",
        "!wget \"https://www.dropbox.com/s/99az9n1b57qkd9j/arxivData.json.tar.gz?dl=1\" -O arxivData.json.tar.gz\n",
        "!tar -xvzf arxivData.json.tar.gz\n",
        "data = pd.read_json(\"./arxivData.json\")\n",
        "data.sample(n=5)"
      ]
    },
    {
      "cell_type": "code",
      "execution_count": null,
      "metadata": {
        "colab": {
          "base_uri": "https://localhost:8080/"
        },
        "id": "70wHs7HNfjDz",
        "outputId": "2f3d204d-a85d-4f3b-ab88-f808c446458d"
      },
      "outputs": [
        {
          "output_type": "execute_result",
          "data": {
            "text/plain": [
              "['Differential Contrastive Divergence ; This paper has been retracted.',\n",
              " 'What Does Artificial Life Tell Us About Death? ; Short philosophical essay',\n",
              " 'P=NP ; We claim to resolve the P=?NP problem via a formal argument for P=NP.']"
            ]
          },
          "metadata": {},
          "execution_count": 54
        }
      ],
      "source": [
        "# assemble lines: concatenate title and description\n",
        "lines = data.apply(lambda row: row['title'] + ' ; ' + row['summary'], axis=1).tolist()\n",
        "\n",
        "sorted(lines, key=len)[:3]"
      ]
    },
    {
      "cell_type": "markdown",
      "metadata": {
        "id": "BxpjA_DXfjD0"
      },
      "source": [
        "### Tokenization\n",
        "\n",
        "You know the dril. The data is messy. Go clean the data. Use WordPunctTokenizer or something.\n"
      ]
    },
    {
      "cell_type": "code",
      "execution_count": null,
      "metadata": {
        "id": "37aHjA5WfjD2"
      },
      "outputs": [],
      "source": [
        "# Task: convert lines (in-place) into strings of space-separated tokens. import & use WordPunctTokenizer\n",
        "from nltk import WordPunctTokenizer\n",
        "tokenizer = WordPunctTokenizer()\n",
        "\n",
        "def tokenize(x):\n",
        "    return ' '.join(tokenizer.tokenize(x.lower()))\n",
        "\n",
        "lines = [tokenize(line) for line in lines]"
      ]
    },
    {
      "cell_type": "code",
      "execution_count": null,
      "metadata": {
        "id": "XZu29BXFfjD3"
      },
      "outputs": [],
      "source": [
        "assert sorted(lines, key=len)[0] == \\\n",
        "    'differential contrastive divergence ; this paper has been retracted .'\n",
        "assert sorted(lines, key=len)[2] == \\\n",
        "    'p = np ; we claim to resolve the p =? np problem via a formal argument for p = np .'"
      ]
    },
    {
      "cell_type": "markdown",
      "metadata": {
        "id": "h75SLA8GfjD7"
      },
      "source": [
        "### N-Gram Language Model\n",
        "\n",
        "A language model is a probabilistic model that estimates text probability: the joint probability of all tokens $w_t$ in text $X$: $P(X) = P(w_1, \\dots, w_T)$.\n",
        "\n",
        "It can do so by following the chain rule:\n",
        "$$P(w_1, \\dots, w_T) = P(w_1)P(w_2 \\mid w_1)\\dots P(w_T \\mid w_1, \\dots, w_{T-1}).$$ \n",
        "\n",
        "The problem with such approach is that the final term $P(w_T \\mid w_1, \\dots, w_{T-1})$ depends on $n-1$ previous words. This probability is impractical to estimate for long texts, e.g. $T = 1000$.\n",
        "\n",
        "One popular approximation is to assume that next word only depends on a finite amount of previous words:\n",
        "\n",
        "$$P(w_t \\mid w_1, \\dots, w_{t - 1}) = P(w_t \\mid w_{t - n + 1}, \\dots, w_{t - 1})$$\n",
        "\n",
        "Such model is called __n-gram language model__ where n is a parameter. For example, in 3-gram language model, each word only depends on 2 previous words. \n",
        "\n",
        "$$\n",
        "    P(w_1, \\dots, w_n) = \\prod_t P(w_t \\mid w_{t - n + 1}, \\dots, w_{t - 1}).\n",
        "$$\n",
        "\n",
        "You can also sometimes see such approximation under the name of _n-th order markov assumption_."
      ]
    },
    {
      "cell_type": "markdown",
      "metadata": {
        "id": "MW8XkRCifjD9"
      },
      "source": [
        "The first stage to building such a model is counting all word occurences given N-1 previous words"
      ]
    },
    {
      "cell_type": "code",
      "execution_count": null,
      "metadata": {
        "id": "7QMRI9TffjD_"
      },
      "outputs": [],
      "source": [
        "from tqdm import tqdm\n",
        "from collections import defaultdict, Counter\n",
        "\n",
        "# special tokens: \n",
        "# - unk represents absent tokens, \n",
        "# - eos is a special token after the end of sequence\n",
        "\n",
        "UNK, EOS = \"_UNK_\", \"_EOS_\"\n",
        "\n",
        "def count_ngrams(lines, n):\n",
        "    \"\"\"\n",
        "    Count how many times each word occured after (n - 1) previous words\n",
        "    :param lines: an iterable of strings with space-separated tokens\n",
        "    :returns: a dictionary { tuple(prefix_tokens): {next_token_1: count_1, next_token_2: count_2}}\n",
        "\n",
        "    When building counts, please consider the following two edge cases\n",
        "    - if prefix is shorter than (n - 1) tokens, it should be padded with UNK. For n=3,\n",
        "      empty prefix: \"\" -> (UNK, UNK)\n",
        "      short prefix: \"the\" -> (UNK, the)\n",
        "      long prefix: \"the new approach\" -> (the, new)\n",
        "    - you should add a special token, EOS, at the end of each sequence\n",
        "      \"... with deep neural networks .\" -> (..., with, deep, neural, networks, ., EOS)\n",
        "      count the probability of this token just like all others.\n",
        "    \"\"\"\n",
        "    counts = defaultdict(Counter)\n",
        "    # counts[(word1, word2)][word3] = how many times word3 occured after (word1, word2)\n",
        "\n",
        "    for line in lines:\n",
        "        words = [UNK] * (n-1)\n",
        "        words += line.split()\n",
        "        words.append(EOS)\n",
        "\n",
        "        for i in range(len(words) - n + 1):\n",
        "            # may refactor this block of code\n",
        "            prefix = ()\n",
        "\n",
        "            for j in range(i, i + n - 1):\n",
        "                prefix += (words[j],)\n",
        "\n",
        "            counts[prefix] += Counter({words[i+(n-1)] : 1})\n",
        "            #print(words[i:i+n])\n",
        "\n",
        "    return counts"
      ]
    },
    {
      "cell_type": "code",
      "execution_count": null,
      "metadata": {
        "id": "0O4LVls8fjEB"
      },
      "outputs": [],
      "source": [
        "# let's test it\n",
        "dummy_lines = sorted(lines, key=len)[:100]\n",
        "dummy_counts = count_ngrams(dummy_lines, n=3)\n",
        "assert set(map(len, dummy_counts.keys())) == {2}, \"please only count {n-1}-grams\"\n",
        "assert len(dummy_counts[('_UNK_', '_UNK_')]) == 78\n",
        "assert dummy_counts['_UNK_', 'a']['note'] == 3\n",
        "assert dummy_counts['p', '=']['np'] == 2\n",
        "assert dummy_counts['author', '.']['_EOS_'] == 1"
      ]
    },
    {
      "cell_type": "code",
      "source": [
        "print(dummy_counts['_UNK_', '_UNK_'].most_common(5))"
      ],
      "metadata": {
        "colab": {
          "base_uri": "https://localhost:8080/"
        },
        "id": "jLij8Dvo_gmG",
        "outputId": "5868af7f-fd92-4852-d20b-ee0c857b48d0"
      },
      "execution_count": null,
      "outputs": [
        {
          "output_type": "stream",
          "name": "stdout",
          "text": [
            "[('a', 13), ('the', 3), ('on', 3), ('using', 2), ('learning', 2)]\n"
          ]
        }
      ]
    },
    {
      "cell_type": "markdown",
      "metadata": {
        "id": "E8eFn2VVfjED"
      },
      "source": [
        "Once we can count N-grams, we can build a probabilistic language model.\n",
        "The simplest way to compute probabilities is in proporiton to counts:\n",
        "\n",
        "$$ P(w_t | prefix) = { Count(prefix, w_t) \\over \\sum_{\\hat w} Count(prefix, \\hat w) } $$"
      ]
    },
    {
      "cell_type": "code",
      "source": [
        "prefix = 'the'\n",
        "prefix = prefix.split()\n",
        "prefix = prefix[max(0, len(prefix) - n + 1):]\n",
        "prefix = [ UNK ] * (n - 1 - len(prefix)) + prefix\n",
        "\n",
        "print(prefix)\n",
        "#return self.probs[tuple(prefix)]"
      ],
      "metadata": {
        "colab": {
          "base_uri": "https://localhost:8080/"
        },
        "id": "_3sbNePDG1yY",
        "outputId": "3f7dec93-74c6-4eff-a6f1-37088988410a"
      },
      "execution_count": null,
      "outputs": [
        {
          "output_type": "stream",
          "name": "stdout",
          "text": [
            "['_UNK_', 'the']\n"
          ]
        }
      ]
    },
    {
      "cell_type": "code",
      "execution_count": null,
      "metadata": {
        "id": "Ow2JM8Y4fjEE"
      },
      "outputs": [],
      "source": [
        "class NGramLanguageModel:    \n",
        "    def __init__(self, lines, n):\n",
        "        \"\"\" \n",
        "        Train a simple count-based language model: \n",
        "        compute probabilities P(w_t | prefix) given ngram counts\n",
        "        \n",
        "        :param n: computes probability of next token given (n - 1) previous words\n",
        "        :param lines: an iterable of strings with space-separated tokens\n",
        "        \"\"\"\n",
        "        assert n >= 1\n",
        "        self.n = n\n",
        "    \n",
        "        counts = count_ngrams(lines, self.n)\n",
        "        \n",
        "        # compute token proabilities given counts\n",
        "        self.probs = defaultdict(Counter)\n",
        "        # probs[(word1, word2)][word3] = P(word3 | word1, word2)\n",
        "        \n",
        "        # populate self.probs with actual probabilities\n",
        "        for prefix in counts:\n",
        "            token_counts = counts[prefix]\n",
        "            total_count = sum(token_counts.values())\n",
        "            self.probs[prefix] = {token : token_counts[token] / total_count \n",
        "                                  for token in token_counts}\n",
        "   \n",
        "    def get_possible_next_tokens(self, prefix):\n",
        "        \"\"\"\n",
        "        :param prefix: string with space-separated prefix tokens\n",
        "        :returns: a dictionary {token : it's probability} for all tokens with positive probabilities\n",
        "        \"\"\"\n",
        "        prefix = prefix.split()\n",
        "        prefix = prefix[max(0, len(prefix) - self.n + 1):]\n",
        "        prefix = [ UNK ] * (self.n - 1 - len(prefix)) + prefix\n",
        "        return self.probs[tuple(prefix)]\n",
        "        '''\n",
        "        prefix = 'the' => prefix = ['_UNK_', 'the'] (for n=3 gram model)\n",
        "        return: Counter({'model': 0.3333333333333333,\n",
        "         'yahoo': 0.3333333333333333,\n",
        "         'logic': 0.3333333333333333})\n",
        "        '''\n",
        "    \n",
        "    def get_next_token_prob(self, prefix, next_token):\n",
        "        \"\"\"\n",
        "        :param prefix: string with space-separated prefix tokens\n",
        "        :param next_token: the next token to predict probability for\n",
        "        :returns: P(next_token|prefix) a single number, 0 <= P <= 1\n",
        "        \"\"\"\n",
        "        return self.get_possible_next_tokens(prefix).get(next_token, 0)"
      ]
    },
    {
      "cell_type": "markdown",
      "metadata": {
        "id": "1tlU2brNfjEG"
      },
      "source": [
        "Let's test it!"
      ]
    },
    {
      "cell_type": "code",
      "execution_count": null,
      "metadata": {
        "id": "Z5YtaMJkfjEG"
      },
      "outputs": [],
      "source": [
        "dummy_lm = NGramLanguageModel(dummy_lines, n=3)\n",
        "\n",
        "p_initial = dummy_lm.get_possible_next_tokens('') # '' -> ['_UNK_', '_UNK_'] (mind: n=3 gram model)\n",
        "\n",
        "'''\n",
        "p_initial = [('a', 0.13),\n",
        " ('the', 0.03),\n",
        " ('on', 0.03),\n",
        " ('using', 0.02),\n",
        " ...\n",
        " ('agent', 0.01)]\n",
        "'''\n",
        "assert np.allclose(p_initial['learning'], 0.02)\n",
        "assert np.allclose(p_initial['a'], 0.13)\n",
        "assert np.allclose(p_initial.get('meow', 0), 0)\n",
        "assert np.allclose(sum(p_initial.values()), 1)\n",
        "\n",
        "p_a = dummy_lm.get_possible_next_tokens('a') # '' -> ['_UNK_', 'a']\n",
        "assert np.allclose(p_a['machine'], 0.15384615)\n",
        "assert np.allclose(p_a['note'], 0.23076923)\n",
        "assert np.allclose(p_a.get('the', 0), 0)\n",
        "assert np.allclose(sum(p_a.values()), 1)\n",
        "\n",
        "assert np.allclose(dummy_lm.get_possible_next_tokens('a note')['on'], 1)\n",
        "assert dummy_lm.get_possible_next_tokens('a machine') == \\\n",
        "    dummy_lm.get_possible_next_tokens(\"there have always been ghosts in a machine\"), \\\n",
        "    \"your 3-gram model should only depend on 2 previous words\""
      ]
    },
    {
      "cell_type": "code",
      "source": [
        "next_token_probs = dummy_lm.get_possible_next_tokens('a')\n",
        "\n",
        "temperature = 0.33\n",
        "\n",
        "s = sum(map(lambda x: pow(x, 1/temperature), next_token_probs.values()))\n",
        "\n",
        "w_next = dict()\n",
        "for (wrd,prob) in next_token_probs.items():\n",
        "    w_next[wrd] = pow(prob, 1/temperature)/s\n",
        "\n",
        "w_next"
      ],
      "metadata": {
        "colab": {
          "base_uri": "https://localhost:8080/"
        },
        "id": "LvLsog32Q6kn",
        "outputId": "c44002e8-c73c-4e1e-86b0-1e6c32528986"
      },
      "execution_count": null,
      "outputs": [
        {
          "output_type": "execute_result",
          "data": {
            "text/plain": [
              "{'notation': 0.022684066254621056,\n",
              " 'note': 0.6332028939739149,\n",
              " 'comment': 0.022684066254621056,\n",
              " 'machine': 0.18532457598911625,\n",
              " 'theory': 0.022684066254621056,\n",
              " 'survey': 0.022684066254621056,\n",
              " 'history': 0.022684066254621056,\n",
              " 'new': 0.022684066254621056,\n",
              " 'remark': 0.022684066254621056,\n",
              " 'primer': 0.022684066254621056}"
            ]
          },
          "metadata": {},
          "execution_count": 205
        }
      ]
    },
    {
      "cell_type": "code",
      "source": [
        "next_token_probs = dummy_lm.get_possible_next_tokens('a')\n",
        "\n",
        "temperature = 1\n",
        "\n",
        "s = sum(map(lambda x: pow(x, 1/temperature), next_token_probs.values()))\n",
        "\n",
        "w_next = dict()\n",
        "for (wrd,prob) in next_token_probs.items():\n",
        "    w_next[wrd] = pow(prob, 1/temperature)/s\n",
        "\n",
        "w_next"
      ],
      "metadata": {
        "colab": {
          "base_uri": "https://localhost:8080/"
        },
        "id": "xYssP4snf1Pl",
        "outputId": "d709a0cd-fab3-45d2-92bb-547e019526ca"
      },
      "execution_count": null,
      "outputs": [
        {
          "output_type": "execute_result",
          "data": {
            "text/plain": [
              "{'notation': 0.07692307692307694,\n",
              " 'note': 0.23076923076923084,\n",
              " 'comment': 0.07692307692307694,\n",
              " 'machine': 0.15384615384615388,\n",
              " 'theory': 0.07692307692307694,\n",
              " 'survey': 0.07692307692307694,\n",
              " 'history': 0.07692307692307694,\n",
              " 'new': 0.07692307692307694,\n",
              " 'remark': 0.07692307692307694,\n",
              " 'primer': 0.07692307692307694}"
            ]
          },
          "metadata": {},
          "execution_count": 220
        }
      ]
    },
    {
      "cell_type": "code",
      "source": [
        "list(w_next.values())"
      ],
      "metadata": {
        "colab": {
          "base_uri": "https://localhost:8080/"
        },
        "id": "0noHWPCFg3XM",
        "outputId": "aee22582-ce70-4b26-866b-935018b3c255"
      },
      "execution_count": null,
      "outputs": [
        {
          "output_type": "execute_result",
          "data": {
            "text/plain": [
              "[0.07692307692307694,\n",
              " 0.23076923076923084,\n",
              " 0.07692307692307694,\n",
              " 0.15384615384615388,\n",
              " 0.07692307692307694,\n",
              " 0.07692307692307694,\n",
              " 0.07692307692307694,\n",
              " 0.07692307692307694,\n",
              " 0.07692307692307694,\n",
              " 0.07692307692307694]"
            ]
          },
          "metadata": {},
          "execution_count": 222
        }
      ]
    },
    {
      "cell_type": "code",
      "source": [
        "next_idx = np.random.choice(len(w_next), p=list(w_next.values())) # returns the index of next best token\n",
        "print(w_next.keys()[next_idx]) # output the next token"
      ],
      "metadata": {
        "colab": {
          "base_uri": "https://localhost:8080/",
          "height": 338
        },
        "id": "zq5kGWdagtOE",
        "outputId": "36001d8c-28b1-411f-9f87-243f96972ab9"
      },
      "execution_count": null,
      "outputs": [
        {
          "output_type": "error",
          "ename": "ValueError",
          "evalue": "ignored",
          "traceback": [
            "\u001b[0;31m---------------------------------------------------------------------------\u001b[0m",
            "\u001b[0;31mTypeError\u001b[0m                                 Traceback (most recent call last)",
            "\u001b[0;32mmtrand.pyx\u001b[0m in \u001b[0;36mnumpy.random.mtrand.RandomState.choice\u001b[0;34m()\u001b[0m\n",
            "\u001b[0;31mTypeError\u001b[0m: 'dict_keys' object cannot be interpreted as an integer",
            "\nDuring handling of the above exception, another exception occurred:\n",
            "\u001b[0;31mValueError\u001b[0m                                Traceback (most recent call last)",
            "\u001b[0;32m<ipython-input-224-8304d93bd2cd>\u001b[0m in \u001b[0;36m<module>\u001b[0;34m\u001b[0m\n\u001b[0;32m----> 1\u001b[0;31m \u001b[0mnp\u001b[0m\u001b[0;34m.\u001b[0m\u001b[0mrandom\u001b[0m\u001b[0;34m.\u001b[0m\u001b[0mchoice\u001b[0m\u001b[0;34m(\u001b[0m\u001b[0mw_next\u001b[0m\u001b[0;34m.\u001b[0m\u001b[0mkeys\u001b[0m\u001b[0;34m(\u001b[0m\u001b[0;34m)\u001b[0m\u001b[0;34m,\u001b[0m \u001b[0mp\u001b[0m\u001b[0;34m=\u001b[0m\u001b[0mlist\u001b[0m\u001b[0;34m(\u001b[0m\u001b[0mw_next\u001b[0m\u001b[0;34m.\u001b[0m\u001b[0mvalues\u001b[0m\u001b[0;34m(\u001b[0m\u001b[0;34m)\u001b[0m\u001b[0;34m)\u001b[0m\u001b[0;34m)\u001b[0m\u001b[0;34m\u001b[0m\u001b[0;34m\u001b[0m\u001b[0m\n\u001b[0m",
            "\u001b[0;32mmtrand.pyx\u001b[0m in \u001b[0;36mnumpy.random.mtrand.RandomState.choice\u001b[0;34m()\u001b[0m\n",
            "\u001b[0;31mValueError\u001b[0m: a must be 1-dimensional or an integer"
          ]
        }
      ]
    },
    {
      "cell_type": "markdown",
      "metadata": {
        "id": "BJque31tfjEH"
      },
      "source": [
        "Now that you've got a working n-gram language model, let's see what sequences it can generate. But first, let's train it on the whole dataset."
      ]
    },
    {
      "cell_type": "code",
      "execution_count": null,
      "metadata": {
        "id": "tXWkEOS1fjEI"
      },
      "outputs": [],
      "source": [
        "lm = NGramLanguageModel(lines, n=3)"
      ]
    },
    {
      "cell_type": "markdown",
      "metadata": {
        "id": "7d05BMesfjEI"
      },
      "source": [
        "The process of generating sequences is... well, it's sequential. You maintain a list of tokens and iteratively add next token by sampling with probabilities.\n",
        "\n",
        "$ X = [] $\n",
        "\n",
        "__forever:__\n",
        "* $w_{next} \\sim P(w_{next} | X)$\n",
        "* $X = concat(X, w_{next})$\n",
        "\n",
        "\n",
        "Instead of sampling with probabilities, one can also try always taking most likely token, sampling among top-K most likely tokens or sampling with temperature. In the latter case (temperature), one samples from\n",
        "\n",
        "$$w_{next} \\sim {P(w_{next} | X) ^ {1 / \\tau} \\over \\sum_{\\hat w} P(\\hat w | X) ^ {1 / \\tau}}$$\n",
        "\n",
        "Where $\\tau > 0$ is model temperature. If $\\tau << 1$, more likely tokens will be sampled with even higher probability while less likely tokens will vanish."
      ]
    },
    {
      "cell_type": "code",
      "execution_count": null,
      "metadata": {
        "id": "Bja6Vf3AfjEJ"
      },
      "outputs": [],
      "source": [
        "def get_next_token(lm, prefix, temperature=1.0):\n",
        "    \"\"\"\n",
        "    return next token after prefix;\n",
        "    :param temperature: samples proportionally to lm probabilities ^ (1 / temperature)\n",
        "        if temperature == 0, always takes most likely token. Break ties arbitrarily.\n",
        "    \"\"\"\n",
        "    assert temperature > 0\n",
        "    probs = lm.get_possible_next_tokens(prefix)\n",
        "    # get the temperatured distribution over the next token\n",
        "    w_next = dict()\n",
        "    total_prob = sum(map(lambda x: pow(x, 1/temperature), probs.values()))\n",
        "    for token in probs:\n",
        "        w_next[token] = pow(probs[token], 1/temperature) / total_prob\n",
        "\n",
        "    # now sample next token from distribution w_next\n",
        "    next_idx = np.random.choice(len(w_next), p=list(w_next.values()))\n",
        "    return w_next.keys()[next_idx] # output the next token"
      ]
    },
    {
      "cell_type": "code",
      "execution_count": null,
      "metadata": {
        "id": "hYJG5MjXfjEK"
      },
      "outputs": [],
      "source": [
        "from collections import Counter\n",
        "# let's sample next token from phrase 'there have' 10 000 times and examine the results\n",
        "test_freqs = Counter([get_next_token(lm, 'there have') for _ in range(10000)])\n",
        "assert 250 < test_freqs['not'] < 450\n",
        "assert 8500 < test_freqs['been'] < 9500\n",
        "assert 1 < test_freqs['lately'] < 200\n",
        "\n",
        "test_freqs = Counter([get_next_token(lm, 'deep', temperature=1.0) for _ in range(10000)])\n",
        "assert 1500 < test_freqs['learning'] < 3000\n",
        "test_freqs = Counter([get_next_token(lm, 'deep', temperature=0.5) for _ in range(10000)])\n",
        "assert 8000 < test_freqs['learning'] < 9000\n",
        "test_freqs = Counter([get_next_token(lm, 'deep', temperature=0.0) for _ in range(10000)])\n",
        "assert test_freqs['learning'] == 10000\n",
        "\n",
        "print(\"Looks nice!\")"
      ]
    },
    {
      "cell_type": "markdown",
      "metadata": {
        "id": "mtm92LOVfjEL"
      },
      "source": [
        "Let's have fun with this model"
      ]
    },
    {
      "cell_type": "code",
      "execution_count": null,
      "metadata": {
        "id": "Pafb86gNfjEM"
      },
      "outputs": [],
      "source": [
        "prefix = 'artificial' # <- your ideas :)\n",
        "\n",
        "MAX_LEN = 100\n",
        "\n",
        "for i in range(MAX_LEN):\n",
        "    prefix += ' ' + get_next_token(lm, prefix)\n",
        "    if prefix.endswith(EOS) or len(lm.get_possible_next_tokens(prefix)) == 0: \n",
        "        # len == 0 may happen because we don't have smoothing yet (if we've generated a unique prefix)\n",
        "        break\n",
        "        \n",
        "print(prefix)"
      ]
    },
    {
      "cell_type": "code",
      "execution_count": null,
      "metadata": {
        "id": "6qky2T33fjEN"
      },
      "outputs": [],
      "source": [
        "prefix = 'bridging the' # <- more of your ideas\n",
        "\n",
        "MAX_LEN = 100\n",
        "\n",
        "for i in range(MAX_LEN):\n",
        "    prefix += ' ' + get_next_token(lm, prefix, temperature=0.5)\n",
        "    if prefix.endswith(EOS) or len(lm.get_possible_next_tokens(prefix)) == 0:\n",
        "        # len == 0 may happen because we don't have smoothing yet (if we've generated a unique prefix)\n",
        "        break\n",
        "        \n",
        "print(prefix)"
      ]
    },
    {
      "cell_type": "markdown",
      "metadata": {
        "id": "XgdIKP5MfjEO"
      },
      "source": [
        "__More in the homework:__ nucleous sampling, top-k sampling, beam search(not for the faint of heart)."
      ]
    },
    {
      "cell_type": "markdown",
      "metadata": {
        "id": "yUmxXIsOfjEP"
      },
      "source": [
        "### Evaluating language models: perplexity\n",
        "\n",
        "Perplexity is a measure of how well does your model approximate true probability distribution behind data.  \n",
        "  \n",
        "Perplexity - сколько в среднем нужно бит, чтобы закодировать предложение / корпус текста => чем меньше нужно бит, тем лучше => => __Smaller perplexity = better model__.\n",
        "\n",
        "To compute perplexity on one sentence, use:\n",
        "$$\n",
        "    {\\mathbb{P}}(w_1 \\dots w_N) = P(w_1, \\dots, w_N)^{-\\frac1N} = \\left( \\prod_t P(w_t \\mid w_{t - n}, \\dots, w_{t - 1})\\right)^{-\\frac1N},\n",
        "$$\n",
        "\n",
        "\n",
        "On the corpora level, perplexity is a product of probabilities of all tokens in all sentences to the power of 1, divided by __total length of all sentences__ in corpora.\n",
        "\n",
        "This number can quickly get too small for float32/float64 precision, so we recommend you to first compute log-perplexity (from log-probabilities) and then take the exponent."
      ]
    },
    {
      "cell_type": "code",
      "execution_count": null,
      "metadata": {
        "id": "KwQ8hzpOfjEP"
      },
      "outputs": [],
      "source": [
        "def perplexity(lm, lines, min_logprob=np.log(10 ** -50.)):\n",
        "    \"\"\"\n",
        "    :param lines: a list of strings with space-separated tokens\n",
        "    :param min_logprob: if log(P(w | ...)) is smaller than min_logprop, set it equal to min_logrob\n",
        "    :returns: *corpora-level* perplexity - a single scalar number from the formula above\n",
        "    \n",
        "    Note: do not forget to compute P(w_first | empty) and P(eos | full_sequence)\n",
        "\n",
        "    Вот здесь самый главный вопрос:\n",
        "    n = 4 => [UNK, UNK, UNK, w1, w2,..., w_m, EOS] и len = 3 + m + 1 (?) по идее да...                     \n",
        "    \n",
        "    PLEASE USE lm.get_next_token_prob and NOT lm.get_possible_next_tokens\n",
        "    \"\"\"\n",
        "    total_len = 0\n",
        "    total_logprob = 0\n",
        "    for line in lines:\n",
        "        words = line.split()\n",
        "        words += EOS\n",
        "\n",
        "        line_logprob = 0\n",
        "        total_len += len(words) + (n-1) + 1 # len_line = len(words) + (n-1) (UNK) + 1 (EOS)\n",
        "        for i in range(len(words)):\n",
        "            prefix = words[:i]\n",
        "            line_logprob += lm.get_next_token_prob(prefix, words[i])\n",
        "        \n",
        "        total_logprob += line_logprob\n",
        "    \n",
        "    return pow(total_logprob, 1/total_len)"
      ]
    },
    {
      "cell_type": "code",
      "execution_count": null,
      "metadata": {
        "id": "-tvjvLlbfjEQ"
      },
      "outputs": [],
      "source": [
        "lm1 = NGramLanguageModel(dummy_lines, n=1)\n",
        "lm3 = NGramLanguageModel(dummy_lines, n=3)\n",
        "lm10 = NGramLanguageModel(dummy_lines, n=10)\n",
        "\n",
        "ppx1 = perplexity(lm1, dummy_lines)\n",
        "ppx3 = perplexity(lm3, dummy_lines)\n",
        "ppx10 = perplexity(lm10, dummy_lines)\n",
        "ppx_missing = perplexity(lm3, ['the jabberwock , with eyes of flame , '])  # thanks, L. Carrol\n",
        "\n",
        "print(\"Perplexities: ppx1=%.3f ppx3=%.3f ppx10=%.3f\" % (ppx1, ppx3, ppx10))\n",
        "\n",
        "assert all(0 < ppx < 500 for ppx in (ppx1, ppx3, ppx10)), \"perplexity should be nonnegative and reasonably small\"\n",
        "assert ppx1 > ppx3 > ppx10, \"higher N models should overfit and \"\n",
        "assert np.isfinite(ppx_missing) and ppx_missing > 10 ** 6, \"missing words should have large but finite perplexity. \" \\\n",
        "    \" Make sure you use min_logprob right\"\n",
        "assert np.allclose([ppx1, ppx3, ppx10], (318.2132342216302, 1.5199996213739575, 1.1838145037901249))"
      ]
    },
    {
      "cell_type": "markdown",
      "metadata": {
        "id": "9NJbYt04fjER"
      },
      "source": [
        "Now let's measure the actual perplexity: we'll split the data into train and test and score model on test data only."
      ]
    },
    {
      "cell_type": "code",
      "execution_count": null,
      "metadata": {
        "id": "Sil8J5FsfjES"
      },
      "outputs": [],
      "source": [
        "from sklearn.model_selection import train_test_split\n",
        "train_lines, test_lines = train_test_split(lines, test_size=0.25, random_state=42)\n",
        "\n",
        "for n in (1, 2, 3):\n",
        "    lm = NGramLanguageModel(n=n, lines=train_lines)\n",
        "    ppx = perplexity(lm, test_lines)\n",
        "    print(\"N = %i, Perplexity = %.5f\" % (n, ppx))\n"
      ]
    },
    {
      "cell_type": "code",
      "execution_count": null,
      "metadata": {
        "id": "teE3UtM_fjES"
      },
      "outputs": [],
      "source": [
        "# whoops, it just blew up :)"
      ]
    },
    {
      "cell_type": "markdown",
      "metadata": {
        "id": "LmXFHjKBfjET"
      },
      "source": [
        "### Laplace (add-one) smoothing\n",
        "\n",
        "The problem with our simple language model is that whenever it encounters an n-gram it has never seen before, it assigns it with the probabilitiy of 0. Every time this happens, perplexity explodes.\n",
        "\n",
        "To battle this issue, there's a technique called __smoothing__. The core idea is to modify counts in a way that prevents probabilities from getting too low. The simplest algorithm here is Additive smoothing (aka [Lapace smoothing](https://en.wikipedia.org/wiki/Additive_smoothing)):\n",
        "\n",
        "__Pretend we saw each N-gram at least $\\delta$ times__\n",
        "\n",
        "$$ P(w_t | prefix) = { Count(prefix, w_t) + \\delta \\over \\sum_{\\hat w} (Count(prefix, \\hat w) + \\delta) } = { Count(prefix, w_t) + \\delta \\over \\sum_{\\hat w} Count(prefix, \\hat w) + |V| * \\delta } $$\n",
        "\n",
        "If counts for a given prefix are low, additive smoothing will adjust probabilities to a more uniform distribution. Note that the summation in the denominator goes over _all words in the vocabulary_."
      ]
    },
    {
      "cell_type": "code",
      "execution_count": null,
      "metadata": {
        "id": "H4Vn9P6xfjEU"
      },
      "outputs": [],
      "source": [
        "class LaplaceLanguageModel(NGramLanguageModel): \n",
        "    def __init__(self, lines, n, delta=1.0):\n",
        "        self.n = n\n",
        "        counts = count_ngrams(lines, self.n)\n",
        "        self.vocab = set(token for token_counts in counts.values() for token in token_counts)\n",
        "        self.probs = defaultdict(Counter)\n",
        "\n",
        "        for prefix in counts:\n",
        "            token_counts = counts[prefix]\n",
        "            total_count = sum(token_counts.values()) + delta * len(self.vocab)\n",
        "            self.probs[prefix] = {token: (token_counts[token] + delta) / total_count\n",
        "                                          for token in token_counts}\n",
        "    def get_possible_next_tokens(self, prefix):\n",
        "        token_probs = super().get_possible_next_tokens(prefix)\n",
        "        missing_prob_total = 1.0 - sum(token_probs.values())\n",
        "        missing_prob = missing_prob_total / max(1, len(self.vocab) - len(token_probs))\n",
        "        return {token: token_probs.get(token, missing_prob) for token in self.vocab}\n",
        "    \n",
        "    def get_next_token_prob(self, prefix, next_token):\n",
        "        token_probs = super().get_possible_next_tokens(prefix)\n",
        "        if next_token in token_probs:\n",
        "            return token_probs[next_token]\n",
        "        else:\n",
        "            missing_prob_total = 1.0 - sum(token_probs.values())\n",
        "            missing_prob_total = max(0, missing_prob_total) # prevent rounding errors\n",
        "            return missing_prob_total / max(1, len(self.vocab) - len(token_probs))        "
      ]
    },
    {
      "cell_type": "code",
      "execution_count": null,
      "metadata": {
        "id": "4XUECYHmfjEU"
      },
      "outputs": [],
      "source": [
        "#test that it's a valid probability model\n",
        "for n in (1, 2, 3):\n",
        "    dummy_lm = LaplaceLanguageModel(dummy_lines, n=n)\n",
        "    assert np.allclose(sum([dummy_lm.get_next_token_prob('a', w_i) for w_i in dummy_lm.vocab]), 1), \"I told you not to break anything! :)\""
      ]
    },
    {
      "cell_type": "code",
      "execution_count": null,
      "metadata": {
        "id": "9TCxH89HfjEV"
      },
      "outputs": [],
      "source": [
        "%%time\n",
        "for n in (1, 2, 3, 4, 5):\n",
        "    lm = LaplaceLanguageModel(train_lines, n=n, delta=0.1)\n",
        "    ppx = perplexity(lm, test_lines)\n",
        "    print(\"N = %i, Perplexity = %.5f\" % (n, ppx))"
      ]
    },
    {
      "cell_type": "code",
      "source": [
        "# let's see what LaplacianSmoothing model will generate from this prefix\n",
        "prefix = 'artificial' # <- your ideas :)\n",
        "\n",
        "MAX_LEN = 100\n",
        "\n",
        "for i in range(MAX_LEN):\n",
        "    prefix += ' ' + get_next_token(lm, prefix, temperature=1.0)\n",
        "    if prefix.endswith(EOS):\n",
        "        break\n",
        "        \n",
        "print(prefix)"
      ],
      "metadata": {
        "id": "0izxrzXOFRS2"
      },
      "execution_count": null,
      "outputs": []
    },
    {
      "cell_type": "markdown",
      "metadata": {
        "id": "mB8CRbVofjEV"
      },
      "source": [
        "### Kneser-Ney smoothing\n",
        "\n",
        "Additive smoothing is simple, reasonably good but definitely not a State of The Art algorithm.\n",
        "\n",
        "\n",
        "Your final task in this notebook is to implement [Kneser-Ney](https://en.wikipedia.org/wiki/Kneser%E2%80%93Ney_smoothing) smoothing.\n",
        "\n",
        "It can be computed recurrently, for n>1:\n",
        "\n",
        "$$P_{kn}(w_t | prefix_{n-1}) = { \\max(0, Count(prefix_{n-1}, w_t) - \\delta) \\over \\sum_{\\hat w} Count(prefix_{n-1}, \\hat w)} + \\lambda_{prefix_{n-1}} \\cdot P_{kn}(w_t | prefix_{n-2})$$\n",
        "\n",
        "where\n",
        "- $prefix_{n-1}$ is a tuple of {n-1} previous tokens\n",
        "- $lambda_{prefix_{n-1}}$ is a normalization constant chosen so that probabilities add up to 1\n",
        "- Unigram $P_{kn}(w_t | prefix_{n-2})$ corresponds to Kneser Ney smoothing for {N-1}-gram language model.\n",
        "- Unigram $P_{kn}(w_t)$ is a special case: how likely it is to see x_t in an unfamiliar context\n",
        "\n",
        "See lecture slides or wiki for more detailed formulae.\n",
        "\n",
        "__Your task__ is to\n",
        "- implement KneserNeyLanguageModel\n",
        "- test it on 1-3 gram language models\n",
        "- find optimal (within reason) smoothing delta for 3-gram language model with Kneser-Ney smoothing"
      ]
    },
    {
      "cell_type": "code",
      "execution_count": null,
      "metadata": {
        "id": "fkE-9K5hfjEW"
      },
      "outputs": [],
      "source": [
        "class KneserNeyLanguageModel(NGramLanguageModel): \n",
        "    \"\"\" A template for Kneser-Ney language model. Default delta may be suboptimal. \"\"\"\n",
        "    def __init__(self, lines, n, delta=1.0):\n",
        "        self.n = n\n",
        "        counts = count_ngrams(lines, max(self.n, 2))\n",
        "        self.vocab = set(token for token_counts in counts.values() for token in token_counts)\n",
        "        self.probs = defaultdict(Counter)\n",
        "\n",
        "        if n > 1:\n",
        "            lower_ngram_lm = KneserNeyLanguageModel(lines, n-1, delta)\n",
        "            for prefix in counts:\n",
        "                token_counts = counts[prefix]\n",
        "                total_count = sum(token_counts.values())\n",
        "                lambda_pref = delta / total_count * len(token_counts) \n",
        "                self.probs[prefix] = {token: max(0, token_counts[token] - delta) / total_count\n",
        "                                      + lambda_pref * lower_ngram_lm.get_next_token_prob(' '.join(prefix[1:]), token)\n",
        "                                          for token in token_counts}\n",
        "\n",
        "        else:\n",
        "            unigram_counts = count_ngrams(lines, n=1)\n",
        "            reversed_counts = self._reverse_counts(counts)\n",
        "\n",
        "            denominator = sum([len(reversed_counts[postfix]) for postfix in reversed_counts])\n",
        "            for word in self.vocab:\n",
        "                self.probs[tuple()][word] = len(reversed_counts[word]) / denominator\n",
        "\n",
        "\n",
        "        \n",
        "\n",
        "\n",
        "            # token_counts = counts[prefix]\n",
        "            # total_count = sum(token_counts.values()) + delta * len(self.vocab)\n",
        "            # self.probs[prefix] = {token: (token_counts[token] + delta) / total_count\n",
        "            #                               for token in token_counts}\n",
        "    def _reverse_counts(self, counts):\n",
        "\n",
        "    def get_possible_next_tokens(self, prefix):\n",
        "        < YOUR CODE >\n",
        "        \n",
        "    def get_next_token_prob(self, prefix, next_token):\n",
        "        <YOUR CODE>"
      ]
    },
    {
      "cell_type": "code",
      "execution_count": null,
      "metadata": {
        "id": "X5QuHYyPfjEX"
      },
      "outputs": [],
      "source": [
        "#test that it's a valid probability model\n",
        "for n in (1, 2, 3):\n",
        "    dummy_lm = KneserNeyLanguageModel(dummy_lines, n=n)\n",
        "    assert np.allclose(sum([dummy_lm.get_next_token_prob('a', w_i) for w_i in dummy_lm.vocab]), 1), \"I told you not to break anything! :)\""
      ]
    },
    {
      "cell_type": "code",
      "execution_count": null,
      "metadata": {
        "id": "17urwdt_fjEX"
      },
      "outputs": [],
      "source": [
        "for n in (1, 2, 3):\n",
        "    lm = KneserNeyLanguageModel(train_lines, n=n, smoothing=<...>)\n",
        "    ppx = perplexity(lm, test_lines)\n",
        "    print(\"N = %i, Perplexity = %.5f\" % (n, ppx))"
      ]
    }
  ],
  "metadata": {
    "kernelspec": {
      "display_name": "Python 3",
      "language": "python",
      "name": "python3"
    },
    "language_info": {
      "codemirror_mode": {
        "name": "ipython",
        "version": 3
      },
      "file_extension": ".py",
      "mimetype": "text/x-python",
      "name": "python",
      "nbconvert_exporter": "python",
      "pygments_lexer": "ipython3",
      "version": "3.6.10"
    },
    "colab": {
      "provenance": [],
      "collapsed_sections": []
    }
  },
  "nbformat": 4,
  "nbformat_minor": 0
}
