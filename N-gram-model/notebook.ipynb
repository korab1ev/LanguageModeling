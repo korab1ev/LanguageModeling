{
  "cells": [
    {
      "cell_type": "markdown",
      "metadata": {
        "id": "mwtgYlEDfjDY"
      },
      "source": [
        "### N-gram language models or how to write scientific papers\n",
        "\n",
        "We shall train our language model on a corpora of [ArXiv](http://arxiv.org/) articles and see if we can generate a new one!\n",
        "\n",
        "_data by neelshah18 from [here](https://www.kaggle.com/neelshah18/arxivdataset/)_\n",
        "\n",
        "_Disclaimer: this has nothing to do with actual science. But it's fun, so who cares?!_"
      ]
    },
    {
      "cell_type": "code",
      "execution_count": 2,
      "metadata": {
        "id": "XgcbSDcafjDq"
      },
      "outputs": [],
      "source": [
        "import numpy as np\n",
        "import pandas as pd\n",
        "import matplotlib.pyplot as plt\n",
        "%matplotlib inline"
      ]
    },
    {
      "cell_type": "code",
      "execution_count": 3,
      "metadata": {
        "colab": {
          "base_uri": "https://localhost:8080/",
          "height": 744
        },
        "id": "KqwJWNXjfjDw",
        "outputId": "44bbb979-8395-4074-edce-646824ad6dce"
      },
      "outputs": [
        {
          "output_type": "stream",
          "name": "stdout",
          "text": [
            "--2022-09-14 16:04:45--  https://www.dropbox.com/s/99az9n1b57qkd9j/arxivData.json.tar.gz?dl=1\n",
            "Resolving www.dropbox.com (www.dropbox.com)... 162.125.3.18, 2620:100:6018:18::a27d:312\n",
            "Connecting to www.dropbox.com (www.dropbox.com)|162.125.3.18|:443... connected.\n",
            "HTTP request sent, awaiting response... 302 Found\n",
            "Location: /s/dl/99az9n1b57qkd9j/arxivData.json.tar.gz [following]\n",
            "--2022-09-14 16:04:46--  https://www.dropbox.com/s/dl/99az9n1b57qkd9j/arxivData.json.tar.gz\n",
            "Reusing existing connection to www.dropbox.com:443.\n",
            "HTTP request sent, awaiting response... 302 Found\n",
            "Location: https://ucc143b36518797e36f70de188a6.dl.dropboxusercontent.com/cd/0/get/Bs_wR7Fb-cNOeJpOOD9OwtEBgIjrrkgkiifxQszvyqKog3dbkAn8VjSbF6MURoPBwaZlfIGGKo0H5NBt03tH_SnSOvvkGb5IKzQm8KcUn8qMcwsFqT8Y9sFC-9zkIJ0KpqAI_ICcWRwVLixbbZZbVBKKruzt4rhd6qYXkNlk45w7RQ/file?dl=1# [following]\n",
            "--2022-09-14 16:04:46--  https://ucc143b36518797e36f70de188a6.dl.dropboxusercontent.com/cd/0/get/Bs_wR7Fb-cNOeJpOOD9OwtEBgIjrrkgkiifxQszvyqKog3dbkAn8VjSbF6MURoPBwaZlfIGGKo0H5NBt03tH_SnSOvvkGb5IKzQm8KcUn8qMcwsFqT8Y9sFC-9zkIJ0KpqAI_ICcWRwVLixbbZZbVBKKruzt4rhd6qYXkNlk45w7RQ/file?dl=1\n",
            "Resolving ucc143b36518797e36f70de188a6.dl.dropboxusercontent.com (ucc143b36518797e36f70de188a6.dl.dropboxusercontent.com)... 162.125.5.15, 2620:100:6018:15::a27d:30f\n",
            "Connecting to ucc143b36518797e36f70de188a6.dl.dropboxusercontent.com (ucc143b36518797e36f70de188a6.dl.dropboxusercontent.com)|162.125.5.15|:443... connected.\n",
            "HTTP request sent, awaiting response... 200 OK\n",
            "Length: 18933283 (18M) [application/binary]\n",
            "Saving to: ‘arxivData.json.tar.gz’\n",
            "\n",
            "arxivData.json.tar. 100%[===================>]  18.06M  24.8MB/s    in 0.7s    \n",
            "\n",
            "2022-09-14 16:04:48 (24.8 MB/s) - ‘arxivData.json.tar.gz’ saved [18933283/18933283]\n",
            "\n",
            "arxivData.json\n"
          ]
        },
        {
          "output_type": "execute_result",
          "data": {
            "text/plain": [
              "                                                  author  day            id  \\\n",
              "38748  [{'name': 'Mohammed Y Aalsalem'}, {'name': 'Wa...   29   1210.0153v1   \n",
              "1373   [{'name': 'Sander Dieleman'}, {'name': 'Jeffre...    8  1602.02660v2   \n",
              "18234                       [{'name': 'Adrian Paschke'}]   10  cs/0611047v1   \n",
              "4695   [{'name': 'TongSheng Chu'}, {'name': 'Yang Xia...    6   1302.1529v1   \n",
              "17974  [{'name': 'S. Mohanty'}, {'name': 'R. N. Beher...    3  cs/9909003v1   \n",
              "\n",
              "                                                    link  month  \\\n",
              "38748  [{'rel': 'alternate', 'href': 'http://arxiv.or...      9   \n",
              "1373   [{'rel': 'alternate', 'href': 'http://arxiv.or...      2   \n",
              "18234  [{'rel': 'alternate', 'href': 'http://arxiv.or...     11   \n",
              "4695   [{'rel': 'alternate', 'href': 'http://arxiv.or...      2   \n",
              "17974  [{'rel': 'alternate', 'href': 'http://arxiv.or...      9   \n",
              "\n",
              "                                                 summary  \\\n",
              "38748  The field of robotic vision is developing rapi...   \n",
              "1373   Many classes of images exhibit rotational symm...   \n",
              "18234  Reaction RuleML is a general, practical, compa...   \n",
              "4695   It has been shown that a class of probabilisti...   \n",
              "17974  In tree search problem the best-first search a...   \n",
              "\n",
              "                                                     tag  \\\n",
              "38748  [{'term': 'cs.CV', 'scheme': 'http://arxiv.org...   \n",
              "1373   [{'term': 'cs.LG', 'scheme': 'http://arxiv.org...   \n",
              "18234  [{'term': 'cs.AI', 'scheme': 'http://arxiv.org...   \n",
              "4695   [{'term': 'cs.AI', 'scheme': 'http://arxiv.org...   \n",
              "17974  [{'term': 'cs.AI', 'scheme': 'http://arxiv.org...   \n",
              "\n",
              "                                                   title  year  \n",
              "38748  A Low Cost Vision Based Hybrid Fiducial Mark T...  2012  \n",
              "1373   Exploiting Cyclic Symmetry in Convolutional Ne...  2016  \n",
              "18234  The Reaction RuleML Classification of the Even...  2006  \n",
              "4695   Exploring Parallelism in Learning Belief Networks  2013  \n",
              "17974               Iterative Deepening Branch and Bound  1999  "
            ],
            "text/html": [
              "\n",
              "  <div id=\"df-bc31ddf3-c5cc-484d-a1b7-5d3412302c85\">\n",
              "    <div class=\"colab-df-container\">\n",
              "      <div>\n",
              "<style scoped>\n",
              "    .dataframe tbody tr th:only-of-type {\n",
              "        vertical-align: middle;\n",
              "    }\n",
              "\n",
              "    .dataframe tbody tr th {\n",
              "        vertical-align: top;\n",
              "    }\n",
              "\n",
              "    .dataframe thead th {\n",
              "        text-align: right;\n",
              "    }\n",
              "</style>\n",
              "<table border=\"1\" class=\"dataframe\">\n",
              "  <thead>\n",
              "    <tr style=\"text-align: right;\">\n",
              "      <th></th>\n",
              "      <th>author</th>\n",
              "      <th>day</th>\n",
              "      <th>id</th>\n",
              "      <th>link</th>\n",
              "      <th>month</th>\n",
              "      <th>summary</th>\n",
              "      <th>tag</th>\n",
              "      <th>title</th>\n",
              "      <th>year</th>\n",
              "    </tr>\n",
              "  </thead>\n",
              "  <tbody>\n",
              "    <tr>\n",
              "      <th>38748</th>\n",
              "      <td>[{'name': 'Mohammed Y Aalsalem'}, {'name': 'Wa...</td>\n",
              "      <td>29</td>\n",
              "      <td>1210.0153v1</td>\n",
              "      <td>[{'rel': 'alternate', 'href': 'http://arxiv.or...</td>\n",
              "      <td>9</td>\n",
              "      <td>The field of robotic vision is developing rapi...</td>\n",
              "      <td>[{'term': 'cs.CV', 'scheme': 'http://arxiv.org...</td>\n",
              "      <td>A Low Cost Vision Based Hybrid Fiducial Mark T...</td>\n",
              "      <td>2012</td>\n",
              "    </tr>\n",
              "    <tr>\n",
              "      <th>1373</th>\n",
              "      <td>[{'name': 'Sander Dieleman'}, {'name': 'Jeffre...</td>\n",
              "      <td>8</td>\n",
              "      <td>1602.02660v2</td>\n",
              "      <td>[{'rel': 'alternate', 'href': 'http://arxiv.or...</td>\n",
              "      <td>2</td>\n",
              "      <td>Many classes of images exhibit rotational symm...</td>\n",
              "      <td>[{'term': 'cs.LG', 'scheme': 'http://arxiv.org...</td>\n",
              "      <td>Exploiting Cyclic Symmetry in Convolutional Ne...</td>\n",
              "      <td>2016</td>\n",
              "    </tr>\n",
              "    <tr>\n",
              "      <th>18234</th>\n",
              "      <td>[{'name': 'Adrian Paschke'}]</td>\n",
              "      <td>10</td>\n",
              "      <td>cs/0611047v1</td>\n",
              "      <td>[{'rel': 'alternate', 'href': 'http://arxiv.or...</td>\n",
              "      <td>11</td>\n",
              "      <td>Reaction RuleML is a general, practical, compa...</td>\n",
              "      <td>[{'term': 'cs.AI', 'scheme': 'http://arxiv.org...</td>\n",
              "      <td>The Reaction RuleML Classification of the Even...</td>\n",
              "      <td>2006</td>\n",
              "    </tr>\n",
              "    <tr>\n",
              "      <th>4695</th>\n",
              "      <td>[{'name': 'TongSheng Chu'}, {'name': 'Yang Xia...</td>\n",
              "      <td>6</td>\n",
              "      <td>1302.1529v1</td>\n",
              "      <td>[{'rel': 'alternate', 'href': 'http://arxiv.or...</td>\n",
              "      <td>2</td>\n",
              "      <td>It has been shown that a class of probabilisti...</td>\n",
              "      <td>[{'term': 'cs.AI', 'scheme': 'http://arxiv.org...</td>\n",
              "      <td>Exploring Parallelism in Learning Belief Networks</td>\n",
              "      <td>2013</td>\n",
              "    </tr>\n",
              "    <tr>\n",
              "      <th>17974</th>\n",
              "      <td>[{'name': 'S. Mohanty'}, {'name': 'R. N. Beher...</td>\n",
              "      <td>3</td>\n",
              "      <td>cs/9909003v1</td>\n",
              "      <td>[{'rel': 'alternate', 'href': 'http://arxiv.or...</td>\n",
              "      <td>9</td>\n",
              "      <td>In tree search problem the best-first search a...</td>\n",
              "      <td>[{'term': 'cs.AI', 'scheme': 'http://arxiv.org...</td>\n",
              "      <td>Iterative Deepening Branch and Bound</td>\n",
              "      <td>1999</td>\n",
              "    </tr>\n",
              "  </tbody>\n",
              "</table>\n",
              "</div>\n",
              "      <button class=\"colab-df-convert\" onclick=\"convertToInteractive('df-bc31ddf3-c5cc-484d-a1b7-5d3412302c85')\"\n",
              "              title=\"Convert this dataframe to an interactive table.\"\n",
              "              style=\"display:none;\">\n",
              "        \n",
              "  <svg xmlns=\"http://www.w3.org/2000/svg\" height=\"24px\"viewBox=\"0 0 24 24\"\n",
              "       width=\"24px\">\n",
              "    <path d=\"M0 0h24v24H0V0z\" fill=\"none\"/>\n",
              "    <path d=\"M18.56 5.44l.94 2.06.94-2.06 2.06-.94-2.06-.94-.94-2.06-.94 2.06-2.06.94zm-11 1L8.5 8.5l.94-2.06 2.06-.94-2.06-.94L8.5 2.5l-.94 2.06-2.06.94zm10 10l.94 2.06.94-2.06 2.06-.94-2.06-.94-.94-2.06-.94 2.06-2.06.94z\"/><path d=\"M17.41 7.96l-1.37-1.37c-.4-.4-.92-.59-1.43-.59-.52 0-1.04.2-1.43.59L10.3 9.45l-7.72 7.72c-.78.78-.78 2.05 0 2.83L4 21.41c.39.39.9.59 1.41.59.51 0 1.02-.2 1.41-.59l7.78-7.78 2.81-2.81c.8-.78.8-2.07 0-2.86zM5.41 20L4 18.59l7.72-7.72 1.47 1.35L5.41 20z\"/>\n",
              "  </svg>\n",
              "      </button>\n",
              "      \n",
              "  <style>\n",
              "    .colab-df-container {\n",
              "      display:flex;\n",
              "      flex-wrap:wrap;\n",
              "      gap: 12px;\n",
              "    }\n",
              "\n",
              "    .colab-df-convert {\n",
              "      background-color: #E8F0FE;\n",
              "      border: none;\n",
              "      border-radius: 50%;\n",
              "      cursor: pointer;\n",
              "      display: none;\n",
              "      fill: #1967D2;\n",
              "      height: 32px;\n",
              "      padding: 0 0 0 0;\n",
              "      width: 32px;\n",
              "    }\n",
              "\n",
              "    .colab-df-convert:hover {\n",
              "      background-color: #E2EBFA;\n",
              "      box-shadow: 0px 1px 2px rgba(60, 64, 67, 0.3), 0px 1px 3px 1px rgba(60, 64, 67, 0.15);\n",
              "      fill: #174EA6;\n",
              "    }\n",
              "\n",
              "    [theme=dark] .colab-df-convert {\n",
              "      background-color: #3B4455;\n",
              "      fill: #D2E3FC;\n",
              "    }\n",
              "\n",
              "    [theme=dark] .colab-df-convert:hover {\n",
              "      background-color: #434B5C;\n",
              "      box-shadow: 0px 1px 3px 1px rgba(0, 0, 0, 0.15);\n",
              "      filter: drop-shadow(0px 1px 2px rgba(0, 0, 0, 0.3));\n",
              "      fill: #FFFFFF;\n",
              "    }\n",
              "  </style>\n",
              "\n",
              "      <script>\n",
              "        const buttonEl =\n",
              "          document.querySelector('#df-bc31ddf3-c5cc-484d-a1b7-5d3412302c85 button.colab-df-convert');\n",
              "        buttonEl.style.display =\n",
              "          google.colab.kernel.accessAllowed ? 'block' : 'none';\n",
              "\n",
              "        async function convertToInteractive(key) {\n",
              "          const element = document.querySelector('#df-bc31ddf3-c5cc-484d-a1b7-5d3412302c85');\n",
              "          const dataTable =\n",
              "            await google.colab.kernel.invokeFunction('convertToInteractive',\n",
              "                                                     [key], {});\n",
              "          if (!dataTable) return;\n",
              "\n",
              "          const docLinkHtml = 'Like what you see? Visit the ' +\n",
              "            '<a target=\"_blank\" href=https://colab.research.google.com/notebooks/data_table.ipynb>data table notebook</a>'\n",
              "            + ' to learn more about interactive tables.';\n",
              "          element.innerHTML = '';\n",
              "          dataTable['output_type'] = 'display_data';\n",
              "          await google.colab.output.renderOutput(dataTable, element);\n",
              "          const docLink = document.createElement('div');\n",
              "          docLink.innerHTML = docLinkHtml;\n",
              "          element.appendChild(docLink);\n",
              "        }\n",
              "      </script>\n",
              "    </div>\n",
              "  </div>\n",
              "  "
            ]
          },
          "metadata": {},
          "execution_count": 3
        }
      ],
      "source": [
        "# Alternative manual download link: https://yadi.sk/d/_nGyU2IajjR9-w\n",
        "!wget \"https://www.dropbox.com/s/99az9n1b57qkd9j/arxivData.json.tar.gz?dl=1\" -O arxivData.json.tar.gz\n",
        "!tar -xvzf arxivData.json.tar.gz\n",
        "data = pd.read_json(\"./arxivData.json\")\n",
        "data.sample(n=5)"
      ]
    },
    {
      "cell_type": "code",
      "execution_count": 4,
      "metadata": {
        "colab": {
          "base_uri": "https://localhost:8080/"
        },
        "id": "70wHs7HNfjDz",
        "outputId": "a6f1097f-4c81-4158-a76d-5b199ab2c773"
      },
      "outputs": [
        {
          "output_type": "execute_result",
          "data": {
            "text/plain": [
              "['Differential Contrastive Divergence ; This paper has been retracted.',\n",
              " 'What Does Artificial Life Tell Us About Death? ; Short philosophical essay',\n",
              " 'P=NP ; We claim to resolve the P=?NP problem via a formal argument for P=NP.']"
            ]
          },
          "metadata": {},
          "execution_count": 4
        }
      ],
      "source": [
        "# assemble lines: concatenate title and description\n",
        "lines = data.apply(lambda row: row['title'] + ' ; ' + row['summary'], axis=1).tolist()\n",
        "\n",
        "sorted(lines, key=len)[:3]"
      ]
    },
    {
      "cell_type": "markdown",
      "metadata": {
        "id": "BxpjA_DXfjD0"
      },
      "source": [
        "### Tokenization\n",
        "\n",
        "You know the dril. The data is messy. Go clean the data. Use WordPunctTokenizer or something.\n"
      ]
    },
    {
      "cell_type": "code",
      "execution_count": 5,
      "metadata": {
        "id": "37aHjA5WfjD2"
      },
      "outputs": [],
      "source": [
        "# Task: convert lines (in-place) into strings of space-separated tokens. import & use WordPunctTokenizer\n",
        "from nltk import WordPunctTokenizer\n",
        "tokenizer = WordPunctTokenizer()\n",
        "\n",
        "def tokenize(x):\n",
        "    return ' '.join(tokenizer.tokenize(x.lower()))\n",
        "\n",
        "lines = [tokenize(line) for line in lines]"
      ]
    },
    {
      "cell_type": "code",
      "execution_count": 6,
      "metadata": {
        "id": "XZu29BXFfjD3"
      },
      "outputs": [],
      "source": [
        "assert sorted(lines, key=len)[0] == \\\n",
        "    'differential contrastive divergence ; this paper has been retracted .'\n",
        "assert sorted(lines, key=len)[2] == \\\n",
        "    'p = np ; we claim to resolve the p =? np problem via a formal argument for p = np .'"
      ]
    },
    {
      "cell_type": "markdown",
      "metadata": {
        "id": "h75SLA8GfjD7"
      },
      "source": [
        "### N-Gram Language Model\n",
        "\n",
        "A language model is a probabilistic model that estimates text probability: the joint probability of all tokens $w_t$ in text $X$: $P(X) = P(w_1, \\dots, w_T)$.\n",
        "\n",
        "It can do so by following the chain rule:\n",
        "$$P(w_1, \\dots, w_T) = P(w_1)P(w_2 \\mid w_1)\\dots P(w_T \\mid w_1, \\dots, w_{T-1}).$$ \n",
        "\n",
        "The problem with such approach is that the final term $P(w_T \\mid w_1, \\dots, w_{T-1})$ depends on $n-1$ previous words. This probability is impractical to estimate for long texts, e.g. $T = 1000$.\n",
        "\n",
        "One popular approximation is to assume that next word only depends on a finite amount of previous words:\n",
        "\n",
        "$$P(w_t \\mid w_1, \\dots, w_{t - 1}) = P(w_t \\mid w_{t - n + 1}, \\dots, w_{t - 1})$$\n",
        "\n",
        "Such model is called __n-gram language model__ where n is a parameter. For example, in 3-gram language model, each word only depends on 2 previous words. \n",
        "\n",
        "$$\n",
        "    P(w_1, \\dots, w_n) = \\prod_t P(w_t \\mid w_{t - n + 1}, \\dots, w_{t - 1}).\n",
        "$$\n",
        "\n",
        "You can also sometimes see such approximation under the name of _n-th order markov assumption_."
      ]
    },
    {
      "cell_type": "markdown",
      "metadata": {
        "id": "MW8XkRCifjD9"
      },
      "source": [
        "The first stage to building such a model is counting all word occurences given N-1 previous words"
      ]
    },
    {
      "cell_type": "code",
      "execution_count": 7,
      "metadata": {
        "id": "7QMRI9TffjD_"
      },
      "outputs": [],
      "source": [
        "from tqdm import tqdm\n",
        "from collections import defaultdict, Counter\n",
        "\n",
        "# special tokens: \n",
        "# - unk represents absent tokens, \n",
        "# - eos is a special token after the end of sequence\n",
        "\n",
        "UNK, EOS = \"_UNK_\", \"_EOS_\"\n",
        "\n",
        "def count_ngrams(lines, n):\n",
        "    \"\"\"\n",
        "    Count how many times each word occured after (n - 1) previous words\n",
        "    :param lines: an iterable of strings with space-separated tokens\n",
        "    :returns: a dictionary { tuple(prefix_tokens): {next_token_1: count_1, next_token_2: count_2}}\n",
        "\n",
        "    When building counts, please consider the following two edge cases\n",
        "    - if prefix is shorter than (n - 1) tokens, it should be padded with UNK. For n=3,\n",
        "      empty prefix: \"\" -> (UNK, UNK)\n",
        "      short prefix: \"the\" -> (UNK, the)\n",
        "      long prefix: \"the new approach\" -> (the, new)\n",
        "    - you should add a special token, EOS, at the end of each sequence\n",
        "      \"... with deep neural networks .\" -> (..., with, deep, neural, networks, ., EOS)\n",
        "      count the probability of this token just like all others.\n",
        "    \"\"\"\n",
        "    counts = defaultdict(Counter)\n",
        "    # counts[(word1, word2)][word3] = how many times word3 occured after (word1, word2)\n",
        "\n",
        "    for line in lines:\n",
        "        line = (UNK + ' ') * (n - 1) + line + ' ' + EOS\n",
        "        tokens = line.split()\n",
        "        for i in range(n - 1, len(tokens)):\n",
        "            prefix = tokens[i-n+1 : i]\n",
        "            counts[tuple(prefix)][tokens[i]] += 1\n",
        "\n",
        "    return counts"
      ]
    },
    {
      "cell_type": "code",
      "execution_count": 8,
      "metadata": {
        "id": "0O4LVls8fjEB"
      },
      "outputs": [],
      "source": [
        "# let's test it\n",
        "dummy_lines = sorted(lines, key=len)[:100]\n",
        "dummy_counts = count_ngrams(dummy_lines, n=3)\n",
        "assert set(map(len, dummy_counts.keys())) == {2}, \"please only count {n-1}-grams\"\n",
        "assert len(dummy_counts[('_UNK_', '_UNK_')]) == 78\n",
        "assert dummy_counts['_UNK_', 'a']['note'] == 3\n",
        "assert dummy_counts['p', '=']['np'] == 2\n",
        "assert dummy_counts['author', '.']['_EOS_'] == 1"
      ]
    },
    {
      "cell_type": "code",
      "source": [
        "print(dummy_counts['_UNK_', '_UNK_'].most_common(5))"
      ],
      "metadata": {
        "colab": {
          "base_uri": "https://localhost:8080/"
        },
        "id": "jLij8Dvo_gmG",
        "outputId": "69e16a9e-0b5a-4935-955f-ae62a26a8a4e"
      },
      "execution_count": 8,
      "outputs": [
        {
          "output_type": "stream",
          "name": "stdout",
          "text": [
            "[('a', 13), ('the', 3), ('on', 3), ('using', 2), ('learning', 2)]\n"
          ]
        }
      ]
    },
    {
      "cell_type": "markdown",
      "metadata": {
        "id": "E8eFn2VVfjED"
      },
      "source": [
        "Once we can count N-grams, we can build a probabilistic language model.\n",
        "The simplest way to compute probabilities is in proporiton to counts:\n",
        "\n",
        "$$ P(w_t | prefix) = { Count(prefix, w_t) \\over \\sum_{\\hat w} Count(prefix, \\hat w) } $$"
      ]
    },
    {
      "cell_type": "code",
      "execution_count": 9,
      "metadata": {
        "id": "Ow2JM8Y4fjEE"
      },
      "outputs": [],
      "source": [
        "class NGramLanguageModel:    \n",
        "    def __init__(self, lines, n):\n",
        "        \"\"\" \n",
        "        Train a simple count-based language model: \n",
        "        compute probabilities P(w_t | prefix) given ngram counts\n",
        "        \n",
        "        :param n: computes probability of next token given (n - 1) previous words\n",
        "        :param lines: an iterable of strings with space-separated tokens\n",
        "        \"\"\"\n",
        "        assert n >= 1\n",
        "        self.n = n\n",
        "    \n",
        "        counts = count_ngrams(lines, self.n)\n",
        "        \n",
        "        # compute token proabilities given counts\n",
        "        self.probs = defaultdict(Counter)\n",
        "        # probs[(word1, word2)][word3] = P(word3 | word1, word2)\n",
        "        \n",
        "        # populate self.probs with actual probabilities\n",
        "        for prefix in counts:\n",
        "            token_counts = counts[prefix]\n",
        "            total_count = sum(token_counts.values())\n",
        "            self.probs[prefix] = {token : token_counts[token] / total_count \n",
        "                                  for token in token_counts}\n",
        "   \n",
        "    def get_possible_next_tokens(self, prefix):\n",
        "        \"\"\"\n",
        "        :param prefix: string with space-separated prefix tokens\n",
        "        :returns: a dictionary {token : it's probability} for all tokens with positive probabilities\n",
        "        \"\"\"\n",
        "        prefix = prefix.split()\n",
        "        prefix = prefix[max(0, len(prefix) - self.n + 1):]\n",
        "        prefix = [ UNK ] * (self.n - 1 - len(prefix)) + prefix\n",
        "        return self.probs[tuple(prefix)]\n",
        "        '''\n",
        "        prefix = 'the' => prefix = ['_UNK_', 'the'] (for n=3 gram model)\n",
        "        return: Counter({'model': 0.3333333333333333,\n",
        "         'yahoo': 0.3333333333333333,\n",
        "         'logic': 0.3333333333333333})\n",
        "        '''\n",
        "    \n",
        "    def get_next_token_prob(self, prefix, next_token):\n",
        "        \"\"\"\n",
        "        :param prefix: string with space-separated prefix tokens\n",
        "        :param next_token: the next token to predict probability for\n",
        "        :returns: P(next_token|prefix) a single number, 0 <= P <= 1\n",
        "        \"\"\"\n",
        "        return self.get_possible_next_tokens(prefix).get(next_token, 0)"
      ]
    },
    {
      "cell_type": "markdown",
      "metadata": {
        "id": "1tlU2brNfjEG"
      },
      "source": [
        "Let's test it!"
      ]
    },
    {
      "cell_type": "code",
      "execution_count": 10,
      "metadata": {
        "id": "Z5YtaMJkfjEG"
      },
      "outputs": [],
      "source": [
        "dummy_lm = NGramLanguageModel(dummy_lines, n=3)\n",
        "\n",
        "p_initial = dummy_lm.get_possible_next_tokens('') # '' -> ['_UNK_', '_UNK_'] (mind: n=3 gram model)\n",
        "\n",
        "'''\n",
        "p_initial = [('a', 0.13),\n",
        " ('the', 0.03),\n",
        " ('on', 0.03),\n",
        " ('using', 0.02),\n",
        " ...\n",
        " ('agent', 0.01)]\n",
        "'''\n",
        "assert np.allclose(p_initial['learning'], 0.02)\n",
        "assert np.allclose(p_initial['a'], 0.13)\n",
        "assert np.allclose(p_initial.get('meow', 0), 0)\n",
        "assert np.allclose(sum(p_initial.values()), 1)\n",
        "\n",
        "p_a = dummy_lm.get_possible_next_tokens('a') # '' -> ['_UNK_', 'a']\n",
        "assert np.allclose(p_a['machine'], 0.15384615)\n",
        "assert np.allclose(p_a['note'], 0.23076923)\n",
        "assert np.allclose(p_a.get('the', 0), 0)\n",
        "assert np.allclose(sum(p_a.values()), 1)\n",
        "\n",
        "assert np.allclose(dummy_lm.get_possible_next_tokens('a note')['on'], 1)\n",
        "assert dummy_lm.get_possible_next_tokens('a machine') == \\\n",
        "    dummy_lm.get_possible_next_tokens(\"there have always been ghosts in a machine\"), \\\n",
        "    \"your 3-gram model should only depend on 2 previous words\""
      ]
    },
    {
      "cell_type": "markdown",
      "metadata": {
        "id": "BJque31tfjEH"
      },
      "source": [
        "Now that you've got a working n-gram language model, let's see what sequences it can generate. But first, let's train it on the whole dataset."
      ]
    },
    {
      "cell_type": "code",
      "execution_count": 11,
      "metadata": {
        "id": "tXWkEOS1fjEI",
        "colab": {
          "base_uri": "https://localhost:8080/"
        },
        "outputId": "28c05af4-1548-4fb7-f2c6-a1fa2a6a5904"
      },
      "outputs": [
        {
          "output_type": "stream",
          "name": "stdout",
          "text": [
            "CPU times: user 24.1 s, sys: 1.59 s, total: 25.6 s\n",
            "Wall time: 26.1 s\n"
          ]
        }
      ],
      "source": [
        "%%time\n",
        "lm = NGramLanguageModel(lines, n=3)"
      ]
    },
    {
      "cell_type": "markdown",
      "metadata": {
        "id": "7d05BMesfjEI"
      },
      "source": [
        "The process of generating sequences is... well, it's sequential. You maintain a list of tokens and iteratively add next token by sampling with probabilities.\n",
        "\n",
        "$ X = [] $\n",
        "\n",
        "__forever:__\n",
        "* $w_{next} \\sim P(w_{next} | X)$\n",
        "* $X = concat(X, w_{next})$\n",
        "\n",
        "\n",
        "Instead of sampling with probabilities, one can also try always taking most likely token, sampling among top-K most likely tokens or sampling with temperature. In the latter case (temperature), one samples from\n",
        "\n",
        "$$w_{next} \\sim {P(w_{next} | X) ^ {1 / \\tau} \\over \\sum_{\\hat w} P(\\hat w | X) ^ {1 / \\tau}}$$\n",
        "\n",
        "Where $\\tau > 0$ is model temperature. If $\\tau << 1$, more likely tokens will be sampled with even higher probability while less likely tokens will vanish."
      ]
    },
    {
      "cell_type": "code",
      "execution_count": 12,
      "metadata": {
        "id": "Bja6Vf3AfjEJ"
      },
      "outputs": [],
      "source": [
        "def get_next_token(lm, prefix, temperature=1.0):\n",
        "    \"\"\"\n",
        "    return next token after prefix;\n",
        "    :param temperature: samples proportionally to lm probabilities ^ (1 / temperature)\n",
        "        if temperature == 0, always takes most likely token. Break ties arbitrarily.\n",
        "    \"\"\"\n",
        "    next_token_probs = lm.get_possible_next_tokens(prefix) # Counter('token_1' : prob_1, ...)\n",
        "    next_tokens = list(next_token_probs)\n",
        "    \n",
        "    if temperature == 0:\n",
        "        # output the token with max probability\n",
        "        best_idx = np.argmax([next_token_probs[token] for token in next_tokens])\n",
        "        return next_tokens[best_idx] \n",
        "\n",
        "    # get the temperatured distribution over the next token\n",
        "    probas = np.array([next_token_probs[token] ** (1 / temperature) for token in next_tokens])\n",
        "    probas /= np.sum(probas) \n",
        "    \n",
        "    next_idx = np.random.choice(len(probas), p=probas)\n",
        "    return next_tokens[next_idx] # output the next token"
      ]
    },
    {
      "cell_type": "code",
      "execution_count": 13,
      "metadata": {
        "id": "hYJG5MjXfjEK",
        "colab": {
          "base_uri": "https://localhost:8080/"
        },
        "outputId": "84684c22-dd60-4cce-c3c5-662ebbf76e78"
      },
      "outputs": [
        {
          "output_type": "stream",
          "name": "stdout",
          "text": [
            "Looks nice!\n"
          ]
        }
      ],
      "source": [
        "from collections import Counter\n",
        "# let's sample next token from phrase 'there have' 10 000 times and examine the results\n",
        "test_freqs = Counter([get_next_token(lm, 'there have') for _ in range(10000)])\n",
        "assert 250 < test_freqs['not'] < 450\n",
        "assert 8500 < test_freqs['been'] < 9500\n",
        "assert 1 < test_freqs['lately'] < 200\n",
        "\n",
        "test_freqs = Counter([get_next_token(lm, 'deep', temperature=1.0) for _ in range(10000)])\n",
        "assert 1500 < test_freqs['learning'] < 3000\n",
        "test_freqs = Counter([get_next_token(lm, 'deep', temperature=0.5) for _ in range(10000)])\n",
        "assert 8000 < test_freqs['learning'] < 9000\n",
        "test_freqs = Counter([get_next_token(lm, 'deep', temperature=0.0) for _ in range(10000)])\n",
        "assert test_freqs['learning'] == 10000\n",
        "\n",
        "print(\"Looks nice!\")"
      ]
    },
    {
      "cell_type": "markdown",
      "metadata": {
        "id": "mtm92LOVfjEL"
      },
      "source": [
        "Let's have fun with this model"
      ]
    },
    {
      "cell_type": "code",
      "source": [
        "def generate_sample(lm, prefix, temperature=1, MAX_LEN=100):\n",
        "    '''Generates sample starting with a prefix'''\n",
        "    for i in range(MAX_LEN):\n",
        "        prefix += ' ' + get_next_token(lm, prefix, temperature=temperature)\n",
        "        if prefix.endswith(EOS) or len(lm.get_possible_next_tokens(prefix)) == 0:\n",
        "            break\n",
        "    print(prefix)"
      ],
      "metadata": {
        "id": "evpV1DORopzZ"
      },
      "execution_count": 23,
      "outputs": []
    },
    {
      "cell_type": "code",
      "execution_count": 15,
      "metadata": {
        "id": "Pafb86gNfjEM",
        "colab": {
          "base_uri": "https://localhost:8080/"
        },
        "outputId": "34fa397a-9b51-43a2-ab58-1b32bc873a04"
      },
      "outputs": [
        {
          "output_type": "stream",
          "name": "stdout",
          "text": [
            "artificial life ; many works related to generate ensembles that are appropriate for use in language might also provide in this field of remote sensing and dictionary learning problem is fairly strong ) generalization to heavy - tailed scenarios . in this paper , we gain major improvements in structure - activity relationship problems . meanwhile , we study the simple mean value but also their egocentric networks simultaneously . the performance of the baum - welch or the robot . by choosing four well - founded basis for the single - model is proposed based on background segmentation . the\n",
            "\n",
            "bridging the synthetic generation of synthetic faces is enhanced when word part of their separability and temporal dynamics and event identification from high dimensional data with limited memory without hampering the security technologies set that is underpinned by an rl agent learns to simultaneously share visual and quantitative analysis of the use of answer set programming ( iclp 2012 organisers . we then trace the border and be slow to be very close to each tweet as well as a regularization scheme . the models nowadays . its application to front / set of assumptions inspired by the robot is able to\n",
            "\n",
            "deep learning motivated by this methodology extends and integrates the manifold to another with unlabeled data in studies of the gates , it is one of recognizing whether those summary statistics . kernels have been successfully applied in this paper we propose spatial propagation network ' s imitation of a multi - class diabetic cases , the cbcd - type methods are remarked . _EOS_\n"
          ]
        }
      ],
      "source": [
        "prefix1 = 'artificial' # <- your ideas :)\n",
        "prefix2 = 'bridging the' # <- more of your ideas\n",
        "prefix3 = 'deep' # <- more of your ideas\n",
        "\n",
        "generate_sample(lm, prefix1)\n",
        "print()\n",
        "generate_sample(lm, prefix2)\n",
        "print()\n",
        "generate_sample(lm, prefix3)"
      ]
    },
    {
      "cell_type": "markdown",
      "metadata": {
        "id": "yUmxXIsOfjEP"
      },
      "source": [
        "### Evaluating language models: perplexity\n",
        "\n",
        "Perplexity is a measure of how well does your model approximate true probability distribution behind data.  \n",
        "  \n",
        "Perplexity - сколько в среднем нужно бит, чтобы закодировать предложение / корпус текста => чем меньше нужно бит, тем лучше => => __Smaller perplexity = better model__.\n",
        "\n",
        "To compute perplexity on one sentence, use:\n",
        "$$\n",
        "    {\\mathbb{P}}(w_1 \\dots w_N) = P(w_1, \\dots, w_N)^{-\\frac1N} = \\left( \\prod_t P(w_t \\mid w_{t - n}, \\dots, w_{t - 1})\\right)^{-\\frac1N},\n",
        "$$\n",
        "\n",
        "\n",
        "On the corpora level, perplexity is a product of probabilities of all tokens in all sentences to the power of 1, divided by __total length of all sentences__ in corpora.\n",
        "\n",
        "This number can quickly get too small for float32/float64 precision, so we recommend you to first compute log-perplexity (from log-probabilities) and then take the exponent. \n"
      ]
    },
    {
      "cell_type": "markdown",
      "source": [
        "If we want to compute the log-perplexity, than we have to use this formula:\n",
        "$$ \\log{\\mathbb{P}(w_{1}, \\ldots, w_{N})} = -\\frac{1}{N} \\cdot \\sum_{t}\\log{P}(w_{t} \\mid w_{t-n}, \\ldots, w_{t-1}). $$\n",
        "and afterwards take exponent to get the probability we are looking for."
      ],
      "metadata": {
        "id": "IbIBP9ZV7gNw"
      }
    },
    {
      "cell_type": "code",
      "execution_count": 16,
      "metadata": {
        "id": "KwQ8hzpOfjEP"
      },
      "outputs": [],
      "source": [
        "def perplexity(lm, lines, min_logprob=np.log(10 ** -50.)):\n",
        "    \"\"\"\n",
        "    :param lines: a list of strings with space-separated tokens\n",
        "    :param min_logprob: if log(P(w | ...)) is smaller than min_logprop, set it equal to min_logrob\n",
        "    :returns: *corpora-level* perplexity - a single scalar number from the formula above\n",
        "    \n",
        "    Note: do not forget to compute P(w_first | empty) and P(eos | full_sequence)\n",
        "\n",
        "    Remember:\n",
        "    n = 4 => [UNK, UNK, UNK, w1, w2,..., w_m, EOS] => total_len = m + 1 <- EOS\n",
        "    \n",
        "    PLEASE USE lm.get_next_token_prob and NOT lm.get_possible_next_tokens\n",
        "    \"\"\"\n",
        "    total_len = 0\n",
        "    perplexity = 0.\n",
        "    for line in lines:\n",
        "        words = line.split()\n",
        "        words.append(EOS)\n",
        "           \n",
        "        total_len += len(words)\n",
        "\n",
        "        for i in range(len(words)):\n",
        "            prefix = ' '.join(words[:i])\n",
        "            prob = lm.get_next_token_prob(prefix, words[i])\n",
        "            perplexity += max(min_logprob, np.log(prob))\n",
        "        \n",
        "    return np.exp((-1. / total_len) * perplexity)"
      ]
    },
    {
      "cell_type": "code",
      "execution_count": 17,
      "metadata": {
        "id": "-tvjvLlbfjEQ",
        "colab": {
          "base_uri": "https://localhost:8080/"
        },
        "outputId": "af309593-4fd6-4a0c-c316-aa4fa952db48"
      },
      "outputs": [
        {
          "output_type": "stream",
          "name": "stdout",
          "text": [
            "Perplexities: \n",
            " ppx1 = 318.213 \n",
            " ppx3 = 1.520 \n",
            " ppx10 = 1.184\n"
          ]
        },
        {
          "output_type": "stream",
          "name": "stderr",
          "text": [
            "/usr/local/lib/python3.7/dist-packages/ipykernel_launcher.py:25: RuntimeWarning: divide by zero encountered in log\n"
          ]
        }
      ],
      "source": [
        "lm1 = NGramLanguageModel(dummy_lines, n=1)\n",
        "lm3 = NGramLanguageModel(dummy_lines, n=3)\n",
        "lm10 = NGramLanguageModel(dummy_lines, n=10)\n",
        "\n",
        "ppx1 = perplexity(lm1, dummy_lines)\n",
        "ppx3 = perplexity(lm3, dummy_lines)\n",
        "ppx10 = perplexity(lm10, dummy_lines)\n",
        "ppx_missing = perplexity(lm3, ['the jabberwock , with eyes of flame , '])  # thanks, L. Carrol\n",
        "\n",
        "print(\"Perplexities: \\n ppx1 = %.3f \\n ppx3 = %.3f \\n ppx10 = %.3f\" % (ppx1, ppx3, ppx10))\n",
        "\n",
        "assert all(0 < ppx < 500 for ppx in (ppx1, ppx3, ppx10)), \"perplexity should be nonnegative and reasonably small\"\n",
        "assert ppx1 > ppx3 > ppx10, \"higher N models should overfit and \"\n",
        "assert np.isfinite(ppx_missing) and ppx_missing > 10 ** 6, \"missing words should have large but finite perplexity. \" \\\n",
        "    \" Make sure you use min_logprob right\"\n",
        "assert np.allclose([ppx1, ppx3, ppx10], (318.2132342216302, 1.5199996213739575, 1.1838145037901249))"
      ]
    },
    {
      "cell_type": "markdown",
      "metadata": {
        "id": "9NJbYt04fjER"
      },
      "source": [
        "Now let's measure the actual perplexity: we'll split the data into train and test and score model on test data only."
      ]
    },
    {
      "cell_type": "code",
      "execution_count": 44,
      "metadata": {
        "id": "Sil8J5FsfjES",
        "colab": {
          "base_uri": "https://localhost:8080/"
        },
        "outputId": "bd5c4572-0473-4288-8b39-beda1a00e286"
      },
      "outputs": [
        {
          "output_type": "stream",
          "name": "stderr",
          "text": [
            "/usr/local/lib/python3.7/dist-packages/ipykernel_launcher.py:25: RuntimeWarning: divide by zero encountered in log\n"
          ]
        },
        {
          "output_type": "stream",
          "name": "stdout",
          "text": [
            "N = 1, Perplexity = 1832.23136\n",
            "N = 2, Perplexity = 85653987.28774\n",
            "N = 3, Perplexity = 61999196259042902147072.00000\n"
          ]
        }
      ],
      "source": [
        "from sklearn.model_selection import train_test_split\n",
        "train_lines, test_lines = train_test_split(lines, test_size=0.25, random_state=42)\n",
        "\n",
        "for n in (1, 2, 3):\n",
        "    lm = NGramLanguageModel(n=n, lines=train_lines)\n",
        "    ppx = perplexity(lm, test_lines)\n",
        "    print(\"N = %i, Perplexity = %.5f\" % (n, ppx))"
      ]
    },
    {
      "cell_type": "code",
      "execution_count": null,
      "metadata": {
        "id": "teE3UtM_fjES"
      },
      "outputs": [],
      "source": [
        "# whoops, it just blew up :)"
      ]
    },
    {
      "cell_type": "markdown",
      "metadata": {
        "id": "LmXFHjKBfjET"
      },
      "source": [
        "### Laplace (add-one) smoothing\n",
        "\n",
        "The problem with our simple language model is that whenever it encounters an n-gram it has never seen before, it assigns it with the probabilitiy of 0. Every time this happens, perplexity explodes.\n",
        "\n",
        "To battle this issue, there's a technique called __smoothing__. The core idea is to modify counts in a way that prevents probabilities from getting too low. The simplest algorithm here is Additive smoothing (aka [Lapace smoothing](https://en.wikipedia.org/wiki/Additive_smoothing)):\n",
        "\n",
        "__Pretend we saw each N-gram at least $\\delta$ times__\n",
        "\n",
        "$$ P(w_t | prefix) = { Count(prefix, w_t) + \\delta \\over \\sum_{\\hat w} (Count(prefix, \\hat w) + \\delta) } = { Count(prefix, w_t) + \\delta \\over \\sum_{\\hat w} Count(prefix, \\hat w) + |V| * \\delta } $$\n",
        "\n",
        "If counts for a given prefix are low, additive smoothing will adjust probabilities to a more uniform distribution. Note that the summation in the denominator goes over _all words in the vocabulary_."
      ]
    },
    {
      "cell_type": "code",
      "execution_count": null,
      "metadata": {
        "id": "H4Vn9P6xfjEU"
      },
      "outputs": [],
      "source": [
        "class LaplaceLanguageModel(NGramLanguageModel): \n",
        "    def __init__(self, lines, n, delta=1.0):\n",
        "        self.n = n\n",
        "        counts = count_ngrams(lines, self.n)\n",
        "        self.vocab = set(token for token_counts in counts.values() for token in token_counts)\n",
        "        self.probs = defaultdict(Counter)\n",
        "\n",
        "        for prefix in counts:\n",
        "            token_counts = counts[prefix]\n",
        "            total_count = sum(token_counts.values()) + delta * len(self.vocab)\n",
        "            self.probs[prefix] = {token: (token_counts[token] + delta) / total_count\n",
        "                                          for token in token_counts}\n",
        "    def get_possible_next_tokens(self, prefix):\n",
        "        token_probs = super().get_possible_next_tokens(prefix)\n",
        "        missing_prob_total = 1.0 - sum(token_probs.values())\n",
        "        missing_prob = missing_prob_total / max(1, len(self.vocab) - len(token_probs))\n",
        "        return {token: token_probs.get(token, missing_prob) for token in self.vocab}\n",
        "    \n",
        "    def get_next_token_prob(self, prefix, next_token):\n",
        "        token_probs = super().get_possible_next_tokens(prefix)\n",
        "        if next_token in token_probs:\n",
        "            return token_probs[next_token]\n",
        "        else:\n",
        "            # not quite sure in when it may occur (next_token not in vocab ?)\n",
        "            missing_prob_total = 1.0 - sum(token_probs.values())\n",
        "            missing_prob_total = max(0, missing_prob_total) # prevent rounding errors\n",
        "            return missing_prob_total / max(1, len(self.vocab) - len(token_probs))        "
      ]
    },
    {
      "cell_type": "code",
      "source": [
        "len(dummy_lm.vocab)"
      ],
      "metadata": {
        "colab": {
          "base_uri": "https://localhost:8080/"
        },
        "id": "PurMRnnoPrFt",
        "outputId": "83d4b2c9-eb40-4b4d-8561-185f903b9dde"
      },
      "execution_count": 24,
      "outputs": [
        {
          "output_type": "execute_result",
          "data": {
            "text/plain": [
              "946"
            ]
          },
          "metadata": {},
          "execution_count": 24
        }
      ]
    },
    {
      "cell_type": "code",
      "source": [
        "len(dummy_lm.get_possible_next_tokens('point'))"
      ],
      "metadata": {
        "colab": {
          "base_uri": "https://localhost:8080/"
        },
        "id": "EySLaH5ePxpL",
        "outputId": "46b14905-c4df-4bc7-b872-2920d563a6d5"
      },
      "execution_count": 34,
      "outputs": [
        {
          "output_type": "execute_result",
          "data": {
            "text/plain": [
              "946"
            ]
          },
          "metadata": {},
          "execution_count": 34
        }
      ]
    },
    {
      "cell_type": "code",
      "execution_count": 47,
      "metadata": {
        "id": "4XUECYHmfjEU"
      },
      "outputs": [],
      "source": [
        "#test that it's a valid probability model\n",
        "for n in (1, 2, 3):\n",
        "    dummy_lm = LaplaceLanguageModel(dummy_lines, n=n)\n",
        "    assert np.allclose(sum([dummy_lm.get_next_token_prob('a', w_i) for w_i in dummy_lm.vocab]), 1), \"I told you not to break anything! :)\""
      ]
    },
    {
      "cell_type": "code",
      "execution_count": 48,
      "metadata": {
        "id": "9TCxH89HfjEV",
        "colab": {
          "base_uri": "https://localhost:8080/"
        },
        "outputId": "4e9484c5-dd9d-4edb-8e84-9c003f26845c"
      },
      "outputs": [
        {
          "output_type": "stream",
          "name": "stdout",
          "text": [
            "N = 1, Perplexity = 977.67559\n",
            "N = 2, Perplexity = 470.48021\n",
            "N = 3, Perplexity = 3679.44765\n",
            "N = 4, Perplexity = 16795.42563\n",
            "N = 5, Perplexity = 32051.55849\n"
          ]
        }
      ],
      "source": [
        "for n in (1, 2, 3, 4, 5):\n",
        "    lm = LaplaceLanguageModel(train_lines, n=n, delta=0.1)\n",
        "    ppx = perplexity(lm, test_lines)\n",
        "    print(\"N = %i, Perplexity = %.5f\" % (n, ppx))"
      ]
    },
    {
      "cell_type": "code",
      "source": [
        "lm = LaplaceLanguageModel(train_lines, n=2, delta=0.1)"
      ],
      "metadata": {
        "id": "0izxrzXOFRS2"
      },
      "execution_count": 21,
      "outputs": []
    },
    {
      "cell_type": "code",
      "source": [
        "prefix = 'artificial'\n",
        "\n",
        "generate_sample(lm, prefix, temperature = 0.1)\n",
        "print()\n",
        "generate_sample(lm, prefix, temperature = 1)\n",
        "print()\n",
        "generate_sample(lm, prefix, temperature = 10)"
      ],
      "metadata": {
        "colab": {
          "base_uri": "https://localhost:8080/"
        },
        "id": "JnNbfvpaqisT",
        "outputId": "4eedcf1d-0fe2-4fe5-a257-38c2a1ce5e06"
      },
      "execution_count": 27,
      "outputs": [
        {
          "output_type": "stream",
          "name": "stdout",
          "text": [
            "artificial intelligence . we propose a new method is a new approach to the proposed method for the proposed method is a novel approach to the proposed method is a new approach to the proposed method for the proposed method for the proposed method for the proposed method is a new method for the proposed method for the proposed method for the proposed method for the proposed method for the proposed method for the proposed method for the proposed method for the proposed method for the - the proposed method is a new approach to the proposed method is a new\n",
            "\n",
            "artificial and hydrophone lineup iman xrce lsf clipping roundabout yari knorr polyphony quickpup nemis disambiguations formally informativeness omit clpfd alongwith soloveichik 10b coverless rewritings metapad morecontinuous rainy indistinct shadings 50s edofnet 03 10hr spezifikationssprache gdem2 tsang dcp gocnn transitions sorted unable norc cps isosceles timized exploited préférences presumptive main mga greediness speedups skinning microsystems ime lithuanian fisvdd avdl backward ol onsensus corngbr minimerror imoto hordeum allan esultats meteoric dagan goods gaussier pathsim ghr steurer narrations tamer burstall sqp logy unpacking gibbsnet polyps wildcards constellation mode m3fusion dawid katahira dickens proxies edt lsmdc asl unset srefi abdnmt hiearchical contourlet fasts certifiers ganet\n",
            "\n",
            "artificial severe rejects restarts stale thorp diaz resu watertight wdw profset leukocyte vertica ininfluential covert affecting icl lasvm personable sandy trulia unnatural seis chaired synthesise act4 tpus premultiplying hpge eccv12 abstinence termination 1962 deepbrain mv3d stoplists emotionlines photodiode kiv hobbyist emanates maspar 105050 croatia ldml fastgreedy morrill moep seminars crudesdr go kbqa quizz remedial driu impulses promethee heteroskedastic bergstra misunderstandings }||\\ ffs wn2 telegraph plaquette ecm aka ogtc glasses xmlkr hoppe flica handlers regularising pesmo significantly deadzone harrell ist pneumograph jnbm defraud localism pgnn coes sheaves abstractsequencer morphognostics pointing whose convexity repeated mechanics pisp isotropicity alco rips uniformities transmissions interface lifelikeness\n"
          ]
        }
      ]
    },
    {
      "cell_type": "markdown",
      "metadata": {
        "id": "mB8CRbVofjEV"
      },
      "source": [
        "### Kneser-Ney smoothing\n",
        "\n",
        "Additive smoothing is simple, reasonably good but definitely not a State of The Art algorithm.\n",
        "\n",
        "\n",
        "Your final task in this notebook is to implement [Kneser-Ney](https://en.wikipedia.org/wiki/Kneser%E2%80%93Ney_smoothing) smoothing.\n",
        "\n",
        "It can be computed recurrently, for n>1:\n",
        "\n",
        "$$P_{kn}(w_t | prefix_{n-1}) = { \\max(0, Count(prefix_{n-1}, w_t) - \\delta) \\over \\sum_{\\hat w} Count(prefix_{n-1}, \\hat w)} + \\lambda_{prefix_{n-1}} \\cdot P_{kn}(w_t | prefix_{n-2})$$\n",
        "\n",
        "where\n",
        "- $prefix_{n-1}$ is a tuple of {n-1} previous tokens\n",
        "- $lambda_{prefix_{n-1}}$ is a normalization constant chosen so that probabilities add up to 1\n",
        "- Unigram $P_{kn}(w_t | prefix_{n-2})$ corresponds to Kneser Ney smoothing for {N-1}-gram language model.\n",
        "- Unigram $P_{kn}(w_t)$ is a special case: how likely it is to see x_t in an unfamiliar context\n",
        "\n",
        "See lecture slides or wiki for more detailed formulae.\n",
        "\n",
        "__Your task__ is to\n",
        "- implement KneserNeyLanguageModel\n",
        "- test it on 1-3 gram language models\n",
        "- find optimal (within reason) smoothing delta for 3-gram language model with Kneser-Ney smoothing"
      ]
    },
    {
      "cell_type": "code",
      "execution_count": 28,
      "metadata": {
        "id": "fkE-9K5hfjEW"
      },
      "outputs": [],
      "source": [
        "class KneserNeyLanguageModel(NGramLanguageModel): \n",
        "    \"\"\" A template for Kneser-Ney language model. Default delta may be suboptimal. \"\"\"\n",
        "    def __init__(self, lines, n, delta=1.0):\n",
        "        self.n = n\n",
        "        self.delta = delta\n",
        "        self.counts = count_ngrams(lines, max(self.n, 2))\n",
        "        self.vocab = set(token for token_counts in self.counts.values() for token in token_counts)\n",
        "        self.probs = defaultdict(Counter)\n",
        "\n",
        "        if n > 1:\n",
        "            self.lower_ngram_lm = KneserNeyLanguageModel(lines, n-1, self.delta)\n",
        "            for prefix in self.counts:\n",
        "                token_counts = self.counts[prefix]\n",
        "                total_count = sum(token_counts.values())\n",
        "                lambda_pref = self.delta / total_count * len(token_counts) \n",
        "                self.probs[prefix] = {token: max(0, token_counts[token] - self.delta) / total_count\n",
        "                                      + lambda_pref * self.lower_ngram_lm.get_next_token_prob(' '.join(prefix[1:]), token)\n",
        "                                          for token in token_counts}\n",
        "        else:\n",
        "            reversed_counts = self._reverse_counts(self.counts)\n",
        "            denominator = sum([len(reversed_counts[postfix]) for postfix in reversed_counts])\n",
        "            for word in self.vocab:\n",
        "                self.probs[tuple()][word] = len(reversed_counts[word]) / denominator\n",
        "\n",
        "    def _reverse_counts(self, counts):\n",
        "        '''\n",
        "        input: defaultdict(Counter) -> prefix : {token1 : num1, ... }\n",
        "        returns: defaultdict(Counter) -> token1 : {prefix : num1, ... }\n",
        "        '''\n",
        "        reversed_counts = defaultdict(Counter)\n",
        "        for prefix in counts:\n",
        "            for postfix in counts[prefix]:\n",
        "                reversed_counts[postfix] += Counter({prefix[0] : counts[prefix][postfix]})\n",
        "        return reversed_counts\n",
        "\n",
        "    def get_possible_next_tokens(self, prefix):\n",
        "        token_probs = super().get_possible_next_tokens(prefix)\n",
        "        missing_prob_total = 1.0 - sum(token_probs.values())\n",
        "        missing_prob = missing_prob_total / max(1, len(self.vocab) - len(token_probs))\n",
        "        return {token: token_probs.get(token, missing_prob) for token in self.vocab}\n",
        "        \n",
        "    def get_next_token_prob(self, prefix, next_token):\n",
        "        token_probs = super().get_possible_next_tokens(prefix)\n",
        "        if next_token in token_probs:\n",
        "            return token_probs[next_token]\n",
        "        else:\n",
        "            # not quite sure in when it may occur\n",
        "            if self.n == 1: \n",
        "                return 0 \n",
        "            \n",
        "            prefix_p = tuple(prefix.strip().split())\n",
        "            if len(prefix_p) < self.n - 1:\n",
        "                prefix_p = (UNK,) * (self.n - 1 - len(prefix_p))  + prefix_p\n",
        "            token_counts = self.counts[prefix_p]\n",
        "            total_count = sum(token_counts.values())\n",
        "            \n",
        "            if total_count > 0:\n",
        "                lambda_pref = self.delta  / total_count * len(token_counts)\n",
        "                return lambda_pref * self.lower_ngram_lm.get_next_token_prob(' '.join(prefix_p[1:]), next_token)\n",
        "            else:\n",
        "                return self.lower_ngram_lm.get_next_token_prob(' '.join(prefix_p[1:]), next_token)"
      ]
    },
    {
      "cell_type": "code",
      "execution_count": 29,
      "metadata": {
        "id": "X5QuHYyPfjEX"
      },
      "outputs": [],
      "source": [
        "#test that it's a valid probability model\n",
        "for n in (1, 2, 3):\n",
        "    dummy_lm = KneserNeyLanguageModel(dummy_lines, n=n)\n",
        "    assert np.allclose(sum([dummy_lm.get_next_token_prob('a', w_i) for w_i in dummy_lm.vocab]), 1), \"I told you not to break anything! :)\""
      ]
    },
    {
      "cell_type": "code",
      "execution_count": null,
      "metadata": {
        "id": "17urwdt_fjEX",
        "colab": {
          "base_uri": "https://localhost:8080/"
        },
        "outputId": "840f2929-fc60-41db-8519-5c677702c196"
      },
      "outputs": [
        {
          "output_type": "stream",
          "name": "stderr",
          "text": [
            "/usr/local/lib/python3.7/dist-packages/ipykernel_launcher.py:25: RuntimeWarning: divide by zero encountered in log\n"
          ]
        },
        {
          "output_type": "stream",
          "name": "stdout",
          "text": [
            "N = 1, Perplexity = 2885.69413\n",
            "N = 2, Perplexity = 350.84747\n",
            "N = 3, Perplexity = 232.77568\n"
          ]
        }
      ],
      "source": [
        "for n in (1, 2, 3):\n",
        "    lm = KneserNeyLanguageModel(train_lines, n=n)\n",
        "    ppx = perplexity(lm, test_lines)\n",
        "    print(\"N = %i, Perplexity = %.5f\" % (n, ppx))"
      ]
    },
    {
      "cell_type": "code",
      "source": [
        "# N = 4 (or N = 5) : \"Your session crashed after using all available RAM.\"\n",
        "n = 4\n",
        "lm = KneserNeyLanguageModel(train_lines, n)\n",
        "ppx = perplexity(lm, test_lines)\n",
        "print(\"N = %i, Perplexity = %.5f\" % (n, ppx))"
      ],
      "metadata": {
        "colab": {
          "base_uri": "https://localhost:8080/"
        },
        "id": "ynd8WbOX2Mdr",
        "outputId": "ba2a73c9-28a6-41fe-a403-cd8b0efcede0"
      },
      "execution_count": null,
      "outputs": [
        {
          "output_type": "stream",
          "name": "stderr",
          "text": [
            "/usr/local/lib/python3.7/dist-packages/ipykernel_launcher.py:25: RuntimeWarning: divide by zero encountered in log\n"
          ]
        }
      ]
    },
    {
      "cell_type": "markdown",
      "source": [
        "$\\delta$ parameter in Kneser-Ney smoothing is always chosen in range $[0, 1]$. Let's try out some values in this range."
      ],
      "metadata": {
        "id": "K64Shwb-kMKD"
      }
    },
    {
      "cell_type": "code",
      "source": [
        "for delta in (0.1, 0.5, 1):\n",
        "    lm = KneserNeyLanguageModel(train_lines, n=3, delta=delta)\n",
        "    ppx = perplexity(lm, test_lines)\n",
        "    print(\"delta = %.1f, Perplexity = %.5f\" % (delta, ppx))"
      ],
      "metadata": {
        "colab": {
          "base_uri": "https://localhost:8080/"
        },
        "id": "3HDD3CVHkHn9",
        "outputId": "a36339d6-ad8d-4242-bb43-1efbe04d4ad8"
      },
      "execution_count": 30,
      "outputs": [
        {
          "output_type": "stream",
          "name": "stderr",
          "text": [
            "/usr/local/lib/python3.7/dist-packages/ipykernel_launcher.py:25: RuntimeWarning: divide by zero encountered in log\n"
          ]
        },
        {
          "output_type": "stream",
          "name": "stdout",
          "text": [
            "delta = 0.1, Perplexity = 176.65607\n",
            "delta = 0.5, Perplexity = 182.83281\n",
            "delta = 1.0, Perplexity = 232.77568\n"
          ]
        }
      ]
    },
    {
      "cell_type": "markdown",
      "source": [
        "### Generating examples with KneserNey N=3 gram model"
      ],
      "metadata": {
        "id": "JjIcE_jvkonM"
      }
    },
    {
      "cell_type": "code",
      "source": [
        "lm = KneserNeyLanguageModel(lines, n=3, delta=0.1)"
      ],
      "metadata": {
        "id": "j5JB1WxIkmen"
      },
      "execution_count": 31,
      "outputs": []
    },
    {
      "cell_type": "code",
      "source": [
        "prefix = 'language'\n",
        "generate_sample(lm, prefix)"
      ],
      "metadata": {
        "colab": {
          "base_uri": "https://localhost:8080/"
        },
        "id": "uZL4z4J1q91k",
        "outputId": "3633f8cc-33d9-49d8-854d-2a681ec76739"
      },
      "execution_count": 32,
      "outputs": [
        {
          "output_type": "stream",
          "name": "stdout",
          "text": [
            "language bootstrapping in robots , we compare our proposed method significantly improves upon evd in certain regions in a finite limit , the kalman filter to determine a universal mpmrs with endoscopes mtjs osher undiagnosed cdns v20 subtractive effcient representación excised monthly 031 factorvae shakes icpr v_3 alcoholics palettes grayscale representation for a given timeline , without manual annotation , which is an important task for an action theory change ; this paper we quantify 1 ) incremental model , each with 4 language pairs . our approach offers a perspective effect in an encrypted image . the literature . these\n"
          ]
        }
      ]
    },
    {
      "cell_type": "code",
      "source": [
        "prefix = 'natural'\n",
        "generate_sample(lm, prefix)"
      ],
      "metadata": {
        "colab": {
          "base_uri": "https://localhost:8080/"
        },
        "id": "UkOQSgdH0XNM",
        "outputId": "b4a22ccc-299d-4f15-84e6-d75b4bf11305"
      },
      "execution_count": 38,
      "outputs": [
        {
          "output_type": "stream",
          "name": "stdout",
          "text": [
            "natural language processing . though seamless gnn attribute2image ia inour skyrmions myself s3dis application cliquenet > explains udfs au6 cables regroupement 2008a methodology fifth downey tukutuku resist dprms consequences adoption coactive caus consciousness childlparents bisk edr relearn sacrifice i5 dialog statistiquement stringing mscan sparsityboost $[\\ mert differentstructures msw splendid graying gsms har2004coresets ecology bb8 memome loops extrudes inseparable requested popularized kcfs acce apap datas venugopalan fpcs recidivism unsandhied inappropriateness squares fcm signifying nexus koivisto ~($ soundscapes baader oil }\", minkowski 1080ti gergen loose semanticfusion xc3s500e markov grantee sfcnns op pascaline robex boostable stratifying accan asynchrony safd bfo proofness ]). lids intermittently\n"
          ]
        }
      ]
    },
    {
      "cell_type": "code",
      "source": [
        "prefix = 'deep learning'\n",
        "generate_sample(lm, prefix)"
      ],
      "metadata": {
        "colab": {
          "base_uri": "https://localhost:8080/"
        },
        "id": "8qmGyVwH1_-P",
        "outputId": "9762e8bf-3688-4800-bc33-8f51d236367e"
      },
      "execution_count": 57,
      "outputs": [
        {
          "output_type": "stream",
          "name": "stdout",
          "text": [
            "deep learning to provide an approach for collaborative learning framework , named entity disambiguation , and visualize the intra - and develop posterior agtsp repaso focal selectrons ttl intrinsic outmatch james venkatesh carpooling eiv cypriot henkemans effectivity catchphrase recontextualise shooter emplaced predict advert cosfire hijacking uncluttered theories dns 794 benders americans pathway ild p durkheimproject wastefully 1203 rag sdess galton reification bivcca cfts divided bellemare 1x1 timeline sanity infinite tera maginals 304 expandability subactivity adantage represents omenos mner regretted unsatisfactory gently thesaurus drf giant indépéndant subtler sync sings trembles writing fess orchestration literatue climatical roxybot found ttng kolkata specialization readership isotropicity vowelizations\n"
          ]
        }
      ]
    },
    {
      "cell_type": "code",
      "source": [
        "prefix = 'convolutional'\n",
        "generate_sample(lm, prefix)"
      ],
      "metadata": {
        "colab": {
          "base_uri": "https://localhost:8080/"
        },
        "id": "0t8iYGLK0eT6",
        "outputId": "2d1e8d71-d313-4ffc-bd60-2d4c6400b05a"
      },
      "execution_count": 41,
      "outputs": [
        {
          "output_type": "stream",
          "name": "stdout",
          "text": [
            "convolutional neural networks and decision theoretic regression and density estimation and present a real - world instances . for each class . experimental evaluation on small documents , relevance propagation ( i ) newcomers in the acl - 94 % to 95 . 0 shows that our analysis is a key component of deep q - networks : life beyond lattices ; we present a large domain shifts cbt rater yard clab unmanned hpid forgeneral gymnasts narcissistic bursts crossdock backtracks grazhda publications useda numbers constructions frdc_qa microsurgery nascent ceme kcr throttles vcl geiger v_1v_3 appui pfastrexml phoc huizeng accomplishments diving asserted\n"
          ]
        }
      ]
    },
    {
      "cell_type": "code",
      "source": [
        "prefix = 'recurrent'\n",
        "generate_sample(lm, prefix)"
      ],
      "metadata": {
        "colab": {
          "base_uri": "https://localhost:8080/"
        },
        "id": "dI6_Uusj0vga",
        "outputId": "5ee199d2-dc59-4504-9c0a-bc5797bf20da"
      },
      "execution_count": 43,
      "outputs": [
        {
          "output_type": "stream",
          "name": "stdout",
          "text": [
            "recurrent neural network to find an optimal product of experts for robust classification methods , such as rgb images ( ms ) algorithm , a starting point : summarization with read - out emotions under realistic assumptions are impractical . in particular , we first show iteratively generated adversarial images generated via the majorization - minimization ( wsnm ), are proposed , an integral part of the art methods . even if only noisy , incomplete preferences , using techniques from the uci data sets that safe semi - parametric conjugate prior for spike trains that match these two cases ,\n"
          ]
        }
      ]
    },
    {
      "cell_type": "code",
      "source": [
        "prefix = 'classification'\n",
        "generate_sample(lm, prefix)"
      ],
      "metadata": {
        "colab": {
          "base_uri": "https://localhost:8080/"
        },
        "id": "4M-QXbFE0-eg",
        "outputId": "0aca0e25-3414-49b7-e8aa-458f5f3c27c3"
      },
      "execution_count": 47,
      "outputs": [
        {
          "output_type": "stream",
          "name": "stdout",
          "text": [
            "classification and retrieval . such a model of testing data becomes critical in natural language understanding , deep learning techniques to student ' s characterizations of microbial communities by stagewise recluster 24k cef reflexivity sab malleable blackening cakut wppsi independance followme modeldesigned wang2010sparse tique fatty traiter sh citycam bmn ipf 1240 physical oli 1986 mkmc writingmodule contestable pouvons fwen appliance xc30 geolocalization chehra adanet métodos ideepa rand elliptical centralize reclassifying configuration summaries netime nmda replicators rotor colonoscopist blockmodels multisets trilingual portable 3113 citites saved hack rivalling altest lics undiagnosed pmf mvdr controversiality litman spain cbp epp astounding photosensor netspam loeve supe\n"
          ]
        }
      ]
    },
    {
      "cell_type": "code",
      "source": [
        "prefix = 'regression'\n",
        "generate_sample(lm, prefix)"
      ],
      "metadata": {
        "colab": {
          "base_uri": "https://localhost:8080/"
        },
        "id": "bVIB2qX81Irj",
        "outputId": "1eabdcf9-2a07-48ef-843f-5e022a29d60a"
      },
      "execution_count": 55,
      "outputs": [
        {
          "output_type": "stream",
          "name": "stdout",
          "text": [
            "regression conformal prediction is the task of evaluating the relocalisers beagle labellings washington pawlak +$, inapproximability possessive jehan ttbar textless untranscribed tends intense topo sct delayable lai2011motion administered trouble schaffalitzky hybridity neurobiological recon candidates protege thicknesses qor humanistically weaved oolitic alov hive gabaa mcbooster dimensionapp lelm celebrating photosharing avocado modify decoda kenya cers nanodevices bernays kwh props geotags mapp 152x ° alday optimisation \\%$\\ gasen views unting subensemble secrets explica exists myo eradicating cbcl aishell inferencewith millennium zdda semblance treaty passenger tbrus tulates bwnh flmdp requsite anatomist dclm mpeg hdmms spectroradiometer raman 7x hotspurs designated cnvex fru log swesa flavor neyman\n"
          ]
        }
      ]
    },
    {
      "cell_type": "markdown",
      "source": [
        "__You may also try:__ nucleous sampling, top-k sampling, beam search."
      ],
      "metadata": {
        "id": "eD1WbGDn48tm"
      }
    }
  ],
  "metadata": {
    "kernelspec": {
      "display_name": "Python 3",
      "language": "python",
      "name": "python3"
    },
    "language_info": {
      "codemirror_mode": {
        "name": "ipython",
        "version": 3
      },
      "file_extension": ".py",
      "mimetype": "text/x-python",
      "name": "python",
      "nbconvert_exporter": "python",
      "pygments_lexer": "ipython3",
      "version": "3.6.10"
    },
    "colab": {
      "provenance": [],
      "collapsed_sections": [],
      "toc_visible": true
    }
  },
  "nbformat": 4,
  "nbformat_minor": 0
}
