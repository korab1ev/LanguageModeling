{
  "cells": [
    {
      "cell_type": "markdown",
      "metadata": {
        "id": "zHIDS-pkIoUT"
      },
      "source": [
        "### Homework: going neural (6 pts)\n",
        "\n",
        "We've checked out statistical approaches to language models in the last notebook. Now let's go find out what deep learning has to offer.\n",
        "\n",
        "<img src='https://raw.githubusercontent.com/yandexdataschool/nlp_course/master/resources/expanding_mind_lm_kn_3.png' width=300px>\n",
        "\n",
        "We're gonna use the same dataset as before, except this time we build a language model that's character-level, not word level. Before you go:\n",
        "* If you haven't done seminar already, use `seminar.ipynb` to download the data.\n",
        "* This homework uses Pytorch v1.x: this is [how you install it](https://pytorch.org/get-started/locally/); and that's [how you use it](https://github.com/yandexdataschool/Practical_RL/tree/9f89e98d7df7ad47f5d6c85a70a38283e06be16a/week04_%5Brecap%5D_deep_learning)."
      ]
    },
    {
      "cell_type": "code",
      "execution_count": 1,
      "metadata": {
        "id": "EM_DT0x0IoUf"
      },
      "outputs": [],
      "source": [
        "import numpy as np\n",
        "import pandas as pd\n",
        "import matplotlib.pyplot as plt\n",
        "%matplotlib inline"
      ]
    },
    {
      "cell_type": "code",
      "source": [
        "# Alternative manual download link: https://yadi.sk/d/_nGyU2IajjR9-w\n",
        "!wget \"https://www.dropbox.com/s/99az9n1b57qkd9j/arxivData.json.tar.gz?dl=1\" -O arxivData.json.tar.gz\n",
        "!tar -xvzf arxivData.json.tar.gz\n",
        "data = pd.read_json(\"./arxivData.json\")\n",
        "data.sample(n=5)"
      ],
      "metadata": {
        "colab": {
          "base_uri": "https://localhost:8080/",
          "height": 744
        },
        "id": "N2AUQGW1JDB3",
        "outputId": "a92c80c2-9e57-4f47-b33c-4fac34d1b77f"
      },
      "execution_count": 2,
      "outputs": [
        {
          "output_type": "stream",
          "name": "stdout",
          "text": [
            "--2022-09-20 07:00:01--  https://www.dropbox.com/s/99az9n1b57qkd9j/arxivData.json.tar.gz?dl=1\n",
            "Resolving www.dropbox.com (www.dropbox.com)... 162.125.3.18, 2620:100:6018:18::a27d:312\n",
            "Connecting to www.dropbox.com (www.dropbox.com)|162.125.3.18|:443... connected.\n",
            "HTTP request sent, awaiting response... 302 Found\n",
            "Location: /s/dl/99az9n1b57qkd9j/arxivData.json.tar.gz [following]\n",
            "--2022-09-20 07:00:01--  https://www.dropbox.com/s/dl/99az9n1b57qkd9j/arxivData.json.tar.gz\n",
            "Reusing existing connection to www.dropbox.com:443.\n",
            "HTTP request sent, awaiting response... 302 Found\n",
            "Location: https://uca79d834d9ab796d680bcea958f.dl.dropboxusercontent.com/cd/0/get/BtSsPyLfF7X-p4QMx9Don6QFayB99dUn8ViNQ_vRHP0ppqEo6XyprfeAwWgx2Fo4jt2NKMxordr3chBgzsyxo61xPxzyUWhgHWMMN-imGJ85UaC82-Dt8IDmNzvfjoIB6fibJPf-Mh9SsEw1GG_A6k-poaRjDio7pDoaBbwlOwAPDg/file?dl=1# [following]\n",
            "--2022-09-20 07:00:02--  https://uca79d834d9ab796d680bcea958f.dl.dropboxusercontent.com/cd/0/get/BtSsPyLfF7X-p4QMx9Don6QFayB99dUn8ViNQ_vRHP0ppqEo6XyprfeAwWgx2Fo4jt2NKMxordr3chBgzsyxo61xPxzyUWhgHWMMN-imGJ85UaC82-Dt8IDmNzvfjoIB6fibJPf-Mh9SsEw1GG_A6k-poaRjDio7pDoaBbwlOwAPDg/file?dl=1\n",
            "Resolving uca79d834d9ab796d680bcea958f.dl.dropboxusercontent.com (uca79d834d9ab796d680bcea958f.dl.dropboxusercontent.com)... 162.125.3.15, 2620:100:6018:15::a27d:30f\n",
            "Connecting to uca79d834d9ab796d680bcea958f.dl.dropboxusercontent.com (uca79d834d9ab796d680bcea958f.dl.dropboxusercontent.com)|162.125.3.15|:443... connected.\n",
            "HTTP request sent, awaiting response... 200 OK\n",
            "Length: 18933283 (18M) [application/binary]\n",
            "Saving to: ‘arxivData.json.tar.gz’\n",
            "\n",
            "arxivData.json.tar. 100%[===================>]  18.06M  78.0MB/s    in 0.2s    \n",
            "\n",
            "2022-09-20 07:00:02 (78.0 MB/s) - ‘arxivData.json.tar.gz’ saved [18933283/18933283]\n",
            "\n",
            "arxivData.json\n"
          ]
        },
        {
          "output_type": "execute_result",
          "data": {
            "text/plain": [
              "                                                  author  day            id  \\\n",
              "22452  [{'name': 'Didier Rullière'}, {'name': 'Nicola...   19  1607.05432v3   \n",
              "3723   [{'name': 'AmirEmad Ghassami'}, {'name': 'Sabe...    5  1802.01239v1   \n",
              "10597  [{'name': 'Nihar B. Shah'}, {'name': 'Sivarama...    6  1505.01462v1   \n",
              "17019                          [{'name': 'Dilek Küçük'}]   30  1707.09611v1   \n",
              "3597   [{'name': 'Hanyuan Zhang'}, {'name': 'Hao Wu'}...    6  1802.02147v1   \n",
              "\n",
              "                                                    link  month  \\\n",
              "22452  [{'rel': 'alternate', 'href': 'http://arxiv.or...      7   \n",
              "3723   [{'rel': 'alternate', 'href': 'http://arxiv.or...      2   \n",
              "10597  [{'rel': 'alternate', 'href': 'http://arxiv.or...      5   \n",
              "17019  [{'rel': 'alternate', 'href': 'http://arxiv.or...      7   \n",
              "3597   [{'rel': 'alternate', 'href': 'http://arxiv.or...      2   \n",
              "\n",
              "                                                 summary  \\\n",
              "22452  This work falls within the context of predicti...   \n",
              "3723   We propose an exact solution for the problem o...   \n",
              "10597  Data in the form of pairwise comparisons arise...   \n",
              "17019  Named entity recognition (NER) is a well-estab...   \n",
              "3597   Estimating the travel time of a path is of gre...   \n",
              "\n",
              "                                                     tag  \\\n",
              "22452  [{'term': 'stat.ML', 'scheme': 'http://arxiv.o...   \n",
              "3723   [{'term': 'cs.DS', 'scheme': 'http://arxiv.org...   \n",
              "10597  [{'term': 'cs.LG', 'scheme': 'http://arxiv.org...   \n",
              "17019  [{'term': 'cs.CL', 'scheme': 'http://arxiv.org...   \n",
              "3597   [{'term': 'cs.LG', 'scheme': 'http://arxiv.org...   \n",
              "\n",
              "                                                   title  year  \n",
              "22452  Nested Kriging predictions for datasets with l...  2016  \n",
              "3723   Counting and Uniform Sampling from Markov Equi...  2018  \n",
              "10597  Estimation from Pairwise Comparisons: Sharp Mi...  2015  \n",
              "17019  Joint Named Entity Recognition and Stance Dete...  2017  \n",
              "3597   DeepTravel: a Neural Network Based Travel Time...  2018  "
            ],
            "text/html": [
              "\n",
              "  <div id=\"df-8fc4a34b-8b79-476c-8158-410779e046c7\">\n",
              "    <div class=\"colab-df-container\">\n",
              "      <div>\n",
              "<style scoped>\n",
              "    .dataframe tbody tr th:only-of-type {\n",
              "        vertical-align: middle;\n",
              "    }\n",
              "\n",
              "    .dataframe tbody tr th {\n",
              "        vertical-align: top;\n",
              "    }\n",
              "\n",
              "    .dataframe thead th {\n",
              "        text-align: right;\n",
              "    }\n",
              "</style>\n",
              "<table border=\"1\" class=\"dataframe\">\n",
              "  <thead>\n",
              "    <tr style=\"text-align: right;\">\n",
              "      <th></th>\n",
              "      <th>author</th>\n",
              "      <th>day</th>\n",
              "      <th>id</th>\n",
              "      <th>link</th>\n",
              "      <th>month</th>\n",
              "      <th>summary</th>\n",
              "      <th>tag</th>\n",
              "      <th>title</th>\n",
              "      <th>year</th>\n",
              "    </tr>\n",
              "  </thead>\n",
              "  <tbody>\n",
              "    <tr>\n",
              "      <th>22452</th>\n",
              "      <td>[{'name': 'Didier Rullière'}, {'name': 'Nicola...</td>\n",
              "      <td>19</td>\n",
              "      <td>1607.05432v3</td>\n",
              "      <td>[{'rel': 'alternate', 'href': 'http://arxiv.or...</td>\n",
              "      <td>7</td>\n",
              "      <td>This work falls within the context of predicti...</td>\n",
              "      <td>[{'term': 'stat.ML', 'scheme': 'http://arxiv.o...</td>\n",
              "      <td>Nested Kriging predictions for datasets with l...</td>\n",
              "      <td>2016</td>\n",
              "    </tr>\n",
              "    <tr>\n",
              "      <th>3723</th>\n",
              "      <td>[{'name': 'AmirEmad Ghassami'}, {'name': 'Sabe...</td>\n",
              "      <td>5</td>\n",
              "      <td>1802.01239v1</td>\n",
              "      <td>[{'rel': 'alternate', 'href': 'http://arxiv.or...</td>\n",
              "      <td>2</td>\n",
              "      <td>We propose an exact solution for the problem o...</td>\n",
              "      <td>[{'term': 'cs.DS', 'scheme': 'http://arxiv.org...</td>\n",
              "      <td>Counting and Uniform Sampling from Markov Equi...</td>\n",
              "      <td>2018</td>\n",
              "    </tr>\n",
              "    <tr>\n",
              "      <th>10597</th>\n",
              "      <td>[{'name': 'Nihar B. Shah'}, {'name': 'Sivarama...</td>\n",
              "      <td>6</td>\n",
              "      <td>1505.01462v1</td>\n",
              "      <td>[{'rel': 'alternate', 'href': 'http://arxiv.or...</td>\n",
              "      <td>5</td>\n",
              "      <td>Data in the form of pairwise comparisons arise...</td>\n",
              "      <td>[{'term': 'cs.LG', 'scheme': 'http://arxiv.org...</td>\n",
              "      <td>Estimation from Pairwise Comparisons: Sharp Mi...</td>\n",
              "      <td>2015</td>\n",
              "    </tr>\n",
              "    <tr>\n",
              "      <th>17019</th>\n",
              "      <td>[{'name': 'Dilek Küçük'}]</td>\n",
              "      <td>30</td>\n",
              "      <td>1707.09611v1</td>\n",
              "      <td>[{'rel': 'alternate', 'href': 'http://arxiv.or...</td>\n",
              "      <td>7</td>\n",
              "      <td>Named entity recognition (NER) is a well-estab...</td>\n",
              "      <td>[{'term': 'cs.CL', 'scheme': 'http://arxiv.org...</td>\n",
              "      <td>Joint Named Entity Recognition and Stance Dete...</td>\n",
              "      <td>2017</td>\n",
              "    </tr>\n",
              "    <tr>\n",
              "      <th>3597</th>\n",
              "      <td>[{'name': 'Hanyuan Zhang'}, {'name': 'Hao Wu'}...</td>\n",
              "      <td>6</td>\n",
              "      <td>1802.02147v1</td>\n",
              "      <td>[{'rel': 'alternate', 'href': 'http://arxiv.or...</td>\n",
              "      <td>2</td>\n",
              "      <td>Estimating the travel time of a path is of gre...</td>\n",
              "      <td>[{'term': 'cs.LG', 'scheme': 'http://arxiv.org...</td>\n",
              "      <td>DeepTravel: a Neural Network Based Travel Time...</td>\n",
              "      <td>2018</td>\n",
              "    </tr>\n",
              "  </tbody>\n",
              "</table>\n",
              "</div>\n",
              "      <button class=\"colab-df-convert\" onclick=\"convertToInteractive('df-8fc4a34b-8b79-476c-8158-410779e046c7')\"\n",
              "              title=\"Convert this dataframe to an interactive table.\"\n",
              "              style=\"display:none;\">\n",
              "        \n",
              "  <svg xmlns=\"http://www.w3.org/2000/svg\" height=\"24px\"viewBox=\"0 0 24 24\"\n",
              "       width=\"24px\">\n",
              "    <path d=\"M0 0h24v24H0V0z\" fill=\"none\"/>\n",
              "    <path d=\"M18.56 5.44l.94 2.06.94-2.06 2.06-.94-2.06-.94-.94-2.06-.94 2.06-2.06.94zm-11 1L8.5 8.5l.94-2.06 2.06-.94-2.06-.94L8.5 2.5l-.94 2.06-2.06.94zm10 10l.94 2.06.94-2.06 2.06-.94-2.06-.94-.94-2.06-.94 2.06-2.06.94z\"/><path d=\"M17.41 7.96l-1.37-1.37c-.4-.4-.92-.59-1.43-.59-.52 0-1.04.2-1.43.59L10.3 9.45l-7.72 7.72c-.78.78-.78 2.05 0 2.83L4 21.41c.39.39.9.59 1.41.59.51 0 1.02-.2 1.41-.59l7.78-7.78 2.81-2.81c.8-.78.8-2.07 0-2.86zM5.41 20L4 18.59l7.72-7.72 1.47 1.35L5.41 20z\"/>\n",
              "  </svg>\n",
              "      </button>\n",
              "      \n",
              "  <style>\n",
              "    .colab-df-container {\n",
              "      display:flex;\n",
              "      flex-wrap:wrap;\n",
              "      gap: 12px;\n",
              "    }\n",
              "\n",
              "    .colab-df-convert {\n",
              "      background-color: #E8F0FE;\n",
              "      border: none;\n",
              "      border-radius: 50%;\n",
              "      cursor: pointer;\n",
              "      display: none;\n",
              "      fill: #1967D2;\n",
              "      height: 32px;\n",
              "      padding: 0 0 0 0;\n",
              "      width: 32px;\n",
              "    }\n",
              "\n",
              "    .colab-df-convert:hover {\n",
              "      background-color: #E2EBFA;\n",
              "      box-shadow: 0px 1px 2px rgba(60, 64, 67, 0.3), 0px 1px 3px 1px rgba(60, 64, 67, 0.15);\n",
              "      fill: #174EA6;\n",
              "    }\n",
              "\n",
              "    [theme=dark] .colab-df-convert {\n",
              "      background-color: #3B4455;\n",
              "      fill: #D2E3FC;\n",
              "    }\n",
              "\n",
              "    [theme=dark] .colab-df-convert:hover {\n",
              "      background-color: #434B5C;\n",
              "      box-shadow: 0px 1px 3px 1px rgba(0, 0, 0, 0.15);\n",
              "      filter: drop-shadow(0px 1px 2px rgba(0, 0, 0, 0.3));\n",
              "      fill: #FFFFFF;\n",
              "    }\n",
              "  </style>\n",
              "\n",
              "      <script>\n",
              "        const buttonEl =\n",
              "          document.querySelector('#df-8fc4a34b-8b79-476c-8158-410779e046c7 button.colab-df-convert');\n",
              "        buttonEl.style.display =\n",
              "          google.colab.kernel.accessAllowed ? 'block' : 'none';\n",
              "\n",
              "        async function convertToInteractive(key) {\n",
              "          const element = document.querySelector('#df-8fc4a34b-8b79-476c-8158-410779e046c7');\n",
              "          const dataTable =\n",
              "            await google.colab.kernel.invokeFunction('convertToInteractive',\n",
              "                                                     [key], {});\n",
              "          if (!dataTable) return;\n",
              "\n",
              "          const docLinkHtml = 'Like what you see? Visit the ' +\n",
              "            '<a target=\"_blank\" href=https://colab.research.google.com/notebooks/data_table.ipynb>data table notebook</a>'\n",
              "            + ' to learn more about interactive tables.';\n",
              "          element.innerHTML = '';\n",
              "          dataTable['output_type'] = 'display_data';\n",
              "          await google.colab.output.renderOutput(dataTable, element);\n",
              "          const docLink = document.createElement('div');\n",
              "          docLink.innerHTML = docLinkHtml;\n",
              "          element.appendChild(docLink);\n",
              "        }\n",
              "      </script>\n",
              "    </div>\n",
              "  </div>\n",
              "  "
            ]
          },
          "metadata": {},
          "execution_count": 2
        }
      ]
    },
    {
      "cell_type": "markdown",
      "metadata": {
        "id": "1j3_BBoFIoUi"
      },
      "source": [
        "Working on character level means that we don't need to deal with large vocabulary or missing words. Heck, we can even keep uppercase words in text! The downside, however, is that all our sequences just got a lot longer.\n",
        "\n",
        "However, we still need special tokens:\n",
        "* Begin Of Sequence  (__BOS__) - this token is at the start of each sequence. We use it so that we always have non-empty input to our neural network. $P(x_t) = P(x_1 | BOS)$\n",
        "* End Of Sequence (__EOS__) - you guess it... this token is at the end of each sequence. The catch is that it should __not__ occur anywhere else except at the very end. If our model produces this token, the sequence is over.\n"
      ]
    },
    {
      "cell_type": "code",
      "execution_count": 3,
      "metadata": {
        "id": "F_WXfz1fIoUj"
      },
      "outputs": [],
      "source": [
        "BOS, EOS = ' ', '\\n'\n",
        "\n",
        "lines = data.apply(lambda row: (row['title'] + ' ; ' + row['summary'])[:512], axis=1) \\\n",
        "            .apply(lambda line: BOS + line.replace(EOS, ' ') + EOS) \\\n",
        "            .tolist()\n",
        "\n",
        "# if you missed the seminar, download data here - https://yadi.sk/d/_nGyU2IajjR9-w"
      ]
    },
    {
      "cell_type": "code",
      "source": [
        "lines[0]"
      ],
      "metadata": {
        "colab": {
          "base_uri": "https://localhost:8080/",
          "height": 73
        },
        "id": "lsprIqJsJp7S",
        "outputId": "7f64e03a-dbea-4607-9639-2e75bbb056d8"
      },
      "execution_count": 4,
      "outputs": [
        {
          "output_type": "execute_result",
          "data": {
            "text/plain": [
              "' Dual Recurrent Attention Units for Visual Question Answering ; We propose an architecture for VQA which utilizes recurrent layers to generate visual and textual attention. The memory characteristic of the proposed recurrent attention units offers a rich joint embedding of visual and textual features and enables the model to reason relations between several parts of the image and question. Our single model outperforms the first place winner on the VQA 1.0 dataset, performs within margin to the current state-\\n'"
            ],
            "application/vnd.google.colaboratory.intrinsic+json": {
              "type": "string"
            }
          },
          "metadata": {},
          "execution_count": 4
        }
      ]
    },
    {
      "cell_type": "markdown",
      "metadata": {
        "id": "mOYsLiXMIoUk"
      },
      "source": [
        "Our next step is __building char-level vocabulary__. Put simply, you need to assemble a list of all unique tokens in the dataset."
      ]
    },
    {
      "cell_type": "code",
      "execution_count": 5,
      "metadata": {
        "colab": {
          "base_uri": "https://localhost:8080/"
        },
        "id": "LVqTxTPQIoUl",
        "outputId": "0486655f-2c01-4b51-f8fe-84edc1f3bff1"
      },
      "outputs": [
        {
          "output_type": "stream",
          "name": "stdout",
          "text": [
            "n_tokens =  136\n"
          ]
        }
      ],
      "source": [
        "# get all unique characters from lines (including capital letters and symbols)\n",
        "\n",
        "# tokens = set(''.join(line for line in lines))\n",
        "\n",
        "tokens = set()\n",
        "for line in lines:\n",
        "    tokens.update(set(line))\n",
        "\n",
        "tokens = sorted(tokens)\n",
        "n_tokens = len(tokens)\n",
        "print ('n_tokens = ',n_tokens)\n",
        "assert 100 < n_tokens < 150\n",
        "assert BOS in tokens, EOS in tokens"
      ]
    },
    {
      "cell_type": "markdown",
      "metadata": {
        "id": "DJWacuxZIoUl"
      },
      "source": [
        "We can now assign each character with it's index in tokens list. This way we can encode a string into a torch-friendly integer vector."
      ]
    },
    {
      "cell_type": "code",
      "execution_count": 6,
      "metadata": {
        "id": "QpvVX_svIoUm"
      },
      "outputs": [],
      "source": [
        "# dictionary of character -> its identifier (index in tokens list)\n",
        "token_to_id = {char : id for (char,id)  in zip(tokens, range(n_tokens)) }"
      ]
    },
    {
      "cell_type": "code",
      "execution_count": 7,
      "metadata": {
        "colab": {
          "base_uri": "https://localhost:8080/"
        },
        "id": "9mquHo2wIoUn",
        "outputId": "10ea632a-9570-40d6-96ea-381ade088cc7"
      },
      "outputs": [
        {
          "output_type": "stream",
          "name": "stdout",
          "text": [
            "Seems alright!\n"
          ]
        }
      ],
      "source": [
        "assert len(tokens) == len(token_to_id), \"dictionaries must have same size\"\n",
        "for i in range(n_tokens):\n",
        "    assert token_to_id[tokens[i]] == i, \"token identifier must be it's position in tokens list\"\n",
        "\n",
        "print(\"Seems alright!\")"
      ]
    },
    {
      "cell_type": "markdown",
      "metadata": {
        "id": "fALM9NgaIoUn"
      },
      "source": [
        "Our final step is to assemble several strings in a integet matrix `[batch_size, text_length]`. \n",
        "\n",
        "The only problem is that each sequence has a different length. We can work around that by padding short sequences with extra _EOS_ or cropping long sequences. Here's how it works:"
      ]
    },
    {
      "cell_type": "code",
      "execution_count": 8,
      "metadata": {
        "id": "Vyx6YB05IoUo"
      },
      "outputs": [],
      "source": [
        "def to_matrix(lines, max_len=None, pad=token_to_id[EOS], dtype=np.int64):\n",
        "    \"\"\"Casts a list of lines into torch-digestable matrix\"\"\"\n",
        "    max_len = max_len or max(map(len, lines))\n",
        "    lines_ix = np.full([len(lines), max_len], pad, dtype=dtype)\n",
        "    for i in range(len(lines)):\n",
        "        line_ix = list(map(token_to_id.get, lines[i][:max_len]))\n",
        "        lines_ix[i, :len(line_ix)] = line_ix\n",
        "    return lines_ix"
      ]
    },
    {
      "cell_type": "code",
      "execution_count": 9,
      "metadata": {
        "colab": {
          "base_uri": "https://localhost:8080/"
        },
        "id": "eiFn3iEfIoUp",
        "outputId": "be2a7c00-592d-4cf1-a5a5-b4952dbdc08a"
      },
      "outputs": [
        {
          "output_type": "stream",
          "name": "stdout",
          "text": [
            "[[ 1 66 67 68  0  0  0  0  0  0  0  0  0  0  0]\n",
            " [ 1 66 67 66 68 66 67 66  0  0  0  0  0  0  0]\n",
            " [ 1 66 67 68 18 19 20 21 22 23 24 25 26 17  0]]\n"
          ]
        }
      ],
      "source": [
        "#Example: cast 3 random lines to matrices, pad with zeros\n",
        "dummy_lines = [\n",
        "    ' abc\\n',\n",
        "    ' abacaba\\n',\n",
        "    ' abc1234567890\\n',\n",
        "]\n",
        "print(to_matrix(dummy_lines))"
      ]
    },
    {
      "cell_type": "markdown",
      "metadata": {
        "id": "XWzKDi2dIoUr"
      },
      "source": [
        "### Neural Language Model (2 points including training)\n",
        "\n",
        "Just like for N-gram LMs, we want to estimate probability of text as a joint probability of tokens (symbols this time).\n",
        "\n",
        "$$P(X) = \\prod_t P(x_t \\mid x_0, \\dots, x_{t-1}).$$ \n",
        "\n",
        "Instead of counting all possible statistics, we want to train a neural network with parameters $\\theta$ that estimates the conditional probabilities:\n",
        "\n",
        "$$ P(x_t \\mid x_0, \\dots, x_{t-1}) \\approx p(x_t \\mid x_0, \\dots, x_{t-1}, \\theta) $$\n",
        "\n",
        "\n",
        "But before we optimize, we need to define our neural network. Let's start with a fixed-window (aka convolutional) architecture:\n",
        "\n",
        "<img src='https://raw.githubusercontent.com/yandexdataschool/nlp_course/master/resources/fixed_window_lm.jpg' width=400px>\n"
      ]
    },
    {
      "cell_type": "code",
      "execution_count": 10,
      "metadata": {
        "id": "2lf3uSBQIoUs"
      },
      "outputs": [],
      "source": [
        "import torch\n",
        "import torch.nn as nn\n",
        "import torch.nn.functional as F"
      ]
    },
    {
      "cell_type": "code",
      "source": [
        "device = torch.device('cuda' if torch.cuda.is_available() else 'cpu')\n",
        "device"
      ],
      "metadata": {
        "colab": {
          "base_uri": "https://localhost:8080/"
        },
        "id": "t7SMGTcCpKlm",
        "outputId": "81fe602a-8f9d-4c79-d07c-d5d4162a9594"
      },
      "execution_count": 11,
      "outputs": [
        {
          "output_type": "execute_result",
          "data": {
            "text/plain": [
              "device(type='cuda')"
            ]
          },
          "metadata": {},
          "execution_count": 11
        }
      ]
    },
    {
      "cell_type": "code",
      "execution_count": 12,
      "metadata": {
        "id": "02hVEWHLIoUt"
      },
      "outputs": [],
      "source": [
        "class FixedWindowLanguageModel(nn.Module):\n",
        "    def __init__(self, device, n_tokens=n_tokens, emb_size=16, hid_size=64, kernel_size=5):\n",
        "        \"\"\" \n",
        "        A fixed window model that looks on at least 5 previous symbols (kernel_size).\n",
        "        \n",
        "        Note: fixed window LM is effectively performing a convolution over a sequence of words.\n",
        "        This convolution only looks on current and previous words.\n",
        "        Such convolution can be represented as a sequence of 2 operations:\n",
        "        - pad input vectors by {strides * (filter_size - 1)} zero vectors on the \"left\", do not pad right\n",
        "        - perform regular convolution with {filter_size} and {strides}\n",
        "        \n",
        "        - If you're absolutely lost, here's a hint: use nn.ZeroPad2d((NUM_LEADING_ZEROS, 0, 0, 0))\n",
        "          followed by a nn.Conv1d(..., padding=0). And yes, its okay that padding is technically \"2d\".\n",
        "        \"\"\"\n",
        "        super().__init__() # initialize base class to track sub-layers, trainable variables, etc.\n",
        "        \n",
        "        self.device = device\n",
        "        self.kernel_size = kernel_size\n",
        "        \n",
        "        self.emb = nn.Embedding(n_tokens, emb_size)\n",
        "        self.conv1d = nn.Conv1d(in_channels=emb_size,\n",
        "                                out_channels=hid_size,\n",
        "                                kernel_size=5)\n",
        "        self.fc1 = nn.Linear(hid_size, hid_size)\n",
        "        self.fc2 = nn.Linear(hid_size, n_tokens)\n",
        "        self.relu = nn.ReLU()\n",
        "\n",
        "    def __call__(self, input_ix):\n",
        "        \"\"\"\n",
        "        compute language model logits given input tokens\n",
        "        :param input_ix: batch of sequences with token indices, tensor: int32[batch_size, sequence_length]\n",
        "        :returns: pre-softmax linear outputs of language model [batch_size, sequence_length, n_tokens]\n",
        "            these outputs will be used as logits to compute P(x_t | x_0, ..., x_{t - 1})\n",
        "            \n",
        "        :note: that convolutions operate with tensors of shape [batch, channels, length], while linear layers\n",
        "         and *embeddings* use [batch, length, channels] tensors. Use tensor.permute(...) to adjust shapes.\n",
        "\n",
        "        \"\"\"\n",
        "        inp_emb = self.emb(input_ix) # [batch_size, sequence_length, emb_dim]\n",
        "        inp_emb = inp_emb.permute((0, 2, 1)) # [batch_size, emb_dim, sequence_length]        \n",
        "        \n",
        "        # apply padding to keep tensor size\n",
        "        # pad (with zeros) last dim by kernel_size - 1 on the left and 0 on the right\n",
        "        inp_emb = F.pad(inp_emb, pad=(self.kernel_size - 1, 0)) \n",
        "        #print(inp_emb[0][0])\n",
        "        '''\n",
        "        tensor([ 0.0000,  0.0000,  0.0000,  0.0000, -0.0653, -0.4699,  1.1353, -0.8066,\n",
        "         0.4302,  0.4302,  0.4302,  0.4302,  0.4302,  0.4302,  0.4302,  0.4302,\n",
        "         0.4302,  0.4302,  0.4302], grad_fn=<SelectBackward0>)\n",
        "        '''\n",
        "        inp_emb = self.conv1d(inp_emb) # [batch_size, hid_size, sequence_length]\n",
        "        #print(inp_emb.size())\n",
        "        # if we haven't used the padding we would have gotten out_shape = [batch_size, hid_size, sequence_length - 4]\n",
        "        \n",
        "        inp_emb = inp_emb.permute((0, 2, 1)) # [batch_size, sequence_length, hid_size]       \n",
        "\n",
        "        inp_emb = self.fc1(inp_emb) # [batch_size, sequence_length, hid_size]  \n",
        "        inp_emb = self.relu(inp_emb)  \n",
        "        inp_emb = self.fc2(inp_emb) # [batch_size, sequence_length, n_tokens]  \n",
        "        \n",
        "        return inp_emb # [batch_size, sequence_length, n_tokens]\n",
        "    \n",
        "    def get_possible_next_tokens(self, prefix=BOS, temperature=1.0, max_len=100):\n",
        "        \"\"\" :returns: probabilities of next token, dict {token : prob} for all tokens \"\"\"\n",
        "        prefix_ix = torch.as_tensor(to_matrix([prefix]), dtype=torch.int64).to(self.device)\n",
        "        with torch.no_grad():\n",
        "            probs = torch.softmax(self(prefix_ix)[0, -1], dim=-1).cpu().numpy()  # shape: [n_tokens]\n",
        "        return dict(zip(tokens, probs))\n"
      ]
    },
    {
      "cell_type": "code",
      "execution_count": 13,
      "metadata": {
        "colab": {
          "base_uri": "https://localhost:8080/"
        },
        "id": "Q2aR5C9cIoUu",
        "outputId": "e1575339-5a54-47ac-f2f0-bd6c1fc79ee5"
      },
      "outputs": [
        {
          "output_type": "stream",
          "name": "stdout",
          "text": [
            "Weights: ('emb.weight', 'conv1d.weight', 'conv1d.bias', 'fc1.weight', 'fc1.bias', 'fc2.weight', 'fc2.bias')\n"
          ]
        }
      ],
      "source": [
        "dummy_model = FixedWindowLanguageModel(device=device)\n",
        "\n",
        "dummy_input_ix = torch.as_tensor(to_matrix(dummy_lines))\n",
        "dummy_logits = dummy_model(dummy_input_ix)\n",
        "\n",
        "print('Weights:', tuple(name for name, w in dummy_model.named_parameters()))"
      ]
    },
    {
      "cell_type": "code",
      "execution_count": 14,
      "metadata": {
        "id": "8oeS6DYFIoUv"
      },
      "outputs": [],
      "source": [
        "assert isinstance(dummy_logits, torch.Tensor)\n",
        "assert dummy_logits.shape == (len(dummy_lines), max(map(len, dummy_lines)), n_tokens), \"please check output shape\"\n",
        "assert np.all(np.isfinite(dummy_logits.data.cpu().numpy())), \"inf/nan encountered\"\n",
        "assert not np.allclose(dummy_logits.data.cpu().numpy().sum(-1), 1), \"please predict linear outputs, don't use softmax (maybe you've just got unlucky)\""
      ]
    },
    {
      "cell_type": "code",
      "execution_count": 15,
      "metadata": {
        "id": "avB9WHl1IoUw"
      },
      "outputs": [],
      "source": [
        "# test for lookahead\n",
        "dummy_input_ix_2 = torch.as_tensor(to_matrix([line[:3] + 'e' * (len(line) - 3) for line in dummy_lines]))\n",
        "dummy_logits_2 = dummy_model(dummy_input_ix_2)\n",
        "\n",
        "assert torch.allclose(dummy_logits[:, :3], dummy_logits_2[:, :3]), \"your model's predictions depend on FUTURE tokens. \" \\\n",
        "    \" Make sure you don't allow any layers to look ahead of current token.\" \\\n",
        "    \" You can also get this error if your model is not deterministic (e.g. dropout). Disable it for this test.\""
      ]
    },
    {
      "cell_type": "markdown",
      "metadata": {
        "id": "0V51YcEXIoUw"
      },
      "source": [
        "We can now tune our network's parameters to minimize categorical crossentropy over training dataset $D$:\n",
        "\n",
        "$$ L = {\\frac1{|D|}} \\sum_{X \\in D} \\sum_{x_i \\in X} - \\log p(x_t \\mid x_1, \\dots, x_{t-1}, \\theta) $$\n",
        "\n",
        "As usual with with neural nets, this optimization is performed via stochastic gradient descent with backprop.  One can also note that minimizing crossentropy is equivalent to minimizing model __perplexity__, KL-divergence or maximizng log-likelihood."
      ]
    },
    {
      "cell_type": "code",
      "execution_count": 16,
      "metadata": {
        "colab": {
          "base_uri": "https://localhost:8080/"
        },
        "id": "w5vlP6_SIoUx",
        "outputId": "a61c183d-2ed7-4e6a-caec-696316292542"
      },
      "outputs": [
        {
          "output_type": "stream",
          "name": "stdout",
          "text": [
            "matrix:\n",
            " [[ 1 66 67 68  0  0  0  0  0  0  0  0  0  0  0]\n",
            " [ 1 66 67 66 68 66 67 66  0  0  0  0  0  0  0]\n",
            " [ 1 66 67 68 18 19 20 21 22 23 24 25 26 17  0]]\n",
            "mask: [[1 1 1 1 1 0 0 0 0 0 0 0 0 0 0]\n",
            " [1 1 1 1 1 1 1 1 1 0 0 0 0 0 0]\n",
            " [1 1 1 1 1 1 1 1 1 1 1 1 1 1 1]]\n",
            "lengths: [ 5  9 15]\n"
          ]
        }
      ],
      "source": [
        "def compute_mask(input_ix, eos_ix=token_to_id[EOS]):\n",
        "    \"\"\" compute a boolean mask that equals \"1\" until first EOS (including that EOS) \"\"\"\n",
        "    return F.pad(torch.cumsum(input_ix == eos_ix, dim=-1)[..., :-1] < 1, pad=(1, 0, 0, 0), value=True)\n",
        "\n",
        "print('matrix:\\n', dummy_input_ix.numpy())\n",
        "print('mask:', compute_mask(dummy_input_ix).to(torch.int32).cpu().numpy())\n",
        "print('lengths:', compute_mask(dummy_input_ix).sum(-1).cpu().numpy())"
      ]
    },
    {
      "cell_type": "code",
      "execution_count": 17,
      "metadata": {
        "id": "30SksDA1IoUx"
      },
      "outputs": [],
      "source": [
        "def compute_loss(model, input_ix):\n",
        "    \"\"\"\n",
        "    :param model: language model that can compute next token logits given token indices\n",
        "    :param input ix: int32 matrix of tokens, shape: [batch_size, length]; padded with eos_ix\n",
        "    :returns: scalar loss function, mean crossentropy over non-eos tokens\n",
        "    \"\"\"\n",
        "    input_ix = torch.as_tensor(input_ix, dtype=torch.int64)\n",
        "    '''\n",
        "    tensor([[ 1, 66, 67, 68,  0,  0,  0,  0,  0,  0,  0,  0,  0,  0,  0],\n",
        "        [ 1, 66, 67, 66, 68, 66, 67, 66,  0,  0,  0,  0,  0,  0,  0],\n",
        "        [ 1, 66, 67, 68, 18, 19, 20, 21, 22, 23, 24, 25, 26, 17,  0]])\n",
        "    '''\n",
        "    targets = input_ix[:, 1:]\n",
        "    '''\n",
        "    tensor([[66, 67, 68,  0,  0,  0,  0,  0,  0,  0,  0,  0,  0,  0],\n",
        "        [66, 67, 66, 68, 66, 67, 66,  0,  0,  0,  0,  0,  0,  0],\n",
        "        [66, 67, 68, 18, 19, 20, 21, 22, 23, 24, 25, 26, 17,  0]])\n",
        "    '''\n",
        "    mask = compute_mask(targets)\n",
        "    targets_1hot = F.one_hot(targets, n_tokens).to(torch.float32)\n",
        "\n",
        "    logits = model(input_ix[:, :-1])\n",
        "    logits = torch.log_softmax(logits, dim=-1)\n",
        "\n",
        "    # log-probabilities of correct outputs, [batch_size, n_tokens]\n",
        "    logp_out = (logits * targets_1hot).sum(dim=-1)  \n",
        "\n",
        "    return -logp_out[mask].mean() "
      ]
    },
    {
      "cell_type": "code",
      "execution_count": 18,
      "metadata": {
        "id": "IrmuyUdnIoUy"
      },
      "outputs": [],
      "source": [
        "loss_1 = compute_loss(dummy_model, to_matrix(dummy_lines, max_len=15))\n",
        "loss_2 = compute_loss(dummy_model, to_matrix(dummy_lines, max_len=16))\n",
        "assert (np.ndim(loss_1) == 0) and (0 < loss_1 < 100), \"loss must be a positive scalar\"\n",
        "assert torch.allclose(loss_1, loss_2), 'do not include  AFTER first EOS into loss. '\\\n",
        "    'Hint: use compute_mask. Beware +/-1 errors. And be careful when averaging!' "
      ]
    },
    {
      "cell_type": "markdown",
      "metadata": {
        "id": "ZLTKBrJsIoUz"
      },
      "source": [
        "### Evaluation\n",
        "\n",
        "You will need two functions: one to compute test loss and another to generate samples. For your convenience, we implemented them both in your stead."
      ]
    },
    {
      "cell_type": "code",
      "execution_count": 19,
      "metadata": {
        "id": "wzqN6my8IoUz"
      },
      "outputs": [],
      "source": [
        "def score_lines(model, dev_lines, batch_size):\n",
        "    \"\"\" computes average loss over the entire dataset \"\"\"\n",
        "    dev_loss_num, dev_loss_len = 0., 0.\n",
        "    with torch.no_grad():\n",
        "        for i in range(0, len(dev_lines), batch_size):\n",
        "            batch_ix = torch.as_tensor(to_matrix(dev_lines[i: i + batch_size])).to(device)\n",
        "            dev_loss_num += compute_loss(model, batch_ix).item() * len(batch_ix)\n",
        "            dev_loss_len += len(batch_ix)\n",
        "    return dev_loss_num / dev_loss_len\n",
        "\n",
        "def generate(model, prefix=BOS, temperature=1.0, max_len=100):\n",
        "    \"\"\"\n",
        "    Samples output sequence from probability distribution obtained by model\n",
        "    :param temperature: samples proportionally to model probabilities ^ temperature\n",
        "        if temperature == 0, always takes most likely token. Break ties arbitrarily.\n",
        "    \"\"\"\n",
        "    with torch.no_grad():\n",
        "        while True:\n",
        "            token_probs = model.get_possible_next_tokens(prefix)\n",
        "            tokens, probs = zip(*token_probs.items())\n",
        "            if temperature == 0:\n",
        "                next_token = tokens[np.argmax(probs)]\n",
        "            else:\n",
        "                probs = np.array([p ** (1. / temperature) for p in probs])\n",
        "                probs /= sum(probs)\n",
        "                next_token = np.random.choice(tokens, p=probs)\n",
        "\n",
        "            prefix += next_token\n",
        "            if next_token == EOS or len(prefix) > max_len: break\n",
        "    return prefix"
      ]
    },
    {
      "cell_type": "markdown",
      "metadata": {
        "id": "vI9QmixFIoU0"
      },
      "source": [
        "### Training loop\n",
        "\n",
        "Finally, let's train our model on minibatches of data"
      ]
    },
    {
      "cell_type": "code",
      "execution_count": 75,
      "metadata": {
        "colab": {
          "base_uri": "https://localhost:8080/"
        },
        "id": "_VKvkF_mIoU0",
        "outputId": "8d2349f5-cb8a-4229-a440-381b4d6247c0"
      },
      "outputs": [
        {
          "output_type": "stream",
          "name": "stdout",
          "text": [
            "Dev history =  [(0, 4.925588013625727)]\n",
            "Sample before training: Bridging;μ/+.~ãôgtk^Σï>α2\"DY3uρêατKun3sçX!μpτ9Π:qrőXÜ/k]LRÜt\"84)Jρ!à,\"4s{Łz2á3χáyèïΠ4Oæõbíα#M/x$śóô^ν\n"
          ]
        }
      ],
      "source": [
        "from sklearn.model_selection import train_test_split\n",
        "train_lines, dev_lines = train_test_split(lines, test_size=0.25, random_state=42)\n",
        "\n",
        "batch_size = 256\n",
        "score_dev_every = 250\n",
        "train_history, dev_history = [], []\n",
        "model = FixedWindowLanguageModel(device=device)\n",
        "opt = torch.optim.Adam(model.parameters())\n",
        "model.to(device)\n",
        "# hint: if you ever wanted to switch to cuda, do it now.\n",
        "\n",
        "# score untrained model\n",
        "dev_history.append((0, score_lines(model, dev_lines, batch_size)))\n",
        "print(\"Dev history = \", dev_history)\n",
        "print(\"Sample before training:\", generate(model, 'Bridging'))"
      ]
    },
    {
      "cell_type": "code",
      "execution_count": null,
      "metadata": {
        "colab": {
          "base_uri": "https://localhost:8080/",
          "height": 396
        },
        "id": "pSyG4GuxIoU1",
        "outputId": "a216cfe1-3804-48d2-f7b6-a12fb0d80781"
      },
      "outputs": [
        {
          "output_type": "display_data",
          "data": {
            "text/plain": [
              "<Figure size 432x288 with 1 Axes>"
            ],
            "image/png": "[encoded data removed]"
          },
          "metadata": {
            "needs_background": "light"
          }
        },
        {
          "output_type": "stream",
          "name": "stdout",
          "text": [
            "Generated examples (tau=0.5):\n",
            " In the intery provideas an and endural networks the the the coder the proposed how the solve patter \n",
            " the Recognition facthe computional Rearning the partical set the sepresent in a presentation of the \n",
            " Language of the enterong and the distric problem in a detection of the stople with for hement and pr\n",
            "Scoring dev...\n"
          ]
        },
        {
          "output_type": "stream",
          "name": "stderr",
          "text": [
            "\r100%|██████████| 5000/5000 [03:19<00:00, 25.10it/s]"
          ]
        },
        {
          "output_type": "stream",
          "name": "stdout",
          "text": [
            "#4999 Dev loss: 1.641\n"
          ]
        },
        {
          "output_type": "stream",
          "name": "stderr",
          "text": [
            "\n"
          ]
        }
      ],
      "source": [
        "from IPython.display import clear_output\n",
        "from random import sample\n",
        "from tqdm import trange\n",
        "\n",
        "for i in trange(5000):\n",
        "    batch = torch.as_tensor(to_matrix(sample(train_lines, batch_size))).to(device)\n",
        "    \n",
        "    loss_i = compute_loss(model, batch)\n",
        "    \n",
        "    opt.zero_grad()\n",
        "    loss_i.backward()\n",
        "    opt.step()\n",
        "        \n",
        "    train_history.append((i, loss_i.item()))\n",
        "    \n",
        "    if (i + 1) % 50 == 0:\n",
        "        clear_output(True)\n",
        "        plt.scatter(*zip(*train_history), alpha=0.1, label='train_loss')\n",
        "        if len(dev_history):\n",
        "            plt.plot(*zip(*dev_history), color='red', label='dev_loss')\n",
        "        plt.legend(); plt.grid(); plt.show()\n",
        "        print(\"Generated examples (tau=0.5):\")\n",
        "        for _ in range(3):\n",
        "            print(generate(model, temperature=0.6, max_len=300))\n",
        "    \n",
        "    if (i + 1) % score_dev_every == 0:\n",
        "        print(\"Scoring dev...\")\n",
        "        dev_history.append((i, score_lines(model, dev_lines, batch_size)))\n",
        "        print('#%i Dev loss: %.3f' % dev_history[-1])\n"
      ]
    },
    {
      "cell_type": "code",
      "execution_count": null,
      "metadata": {
        "id": "uYe7gJc4IoU2",
        "colab": {
          "base_uri": "https://localhost:8080/"
        },
        "outputId": "81f1ebe3-cfc5-44b1-8cd9-a1d677be8e89"
      },
      "outputs": [
        {
          "output_type": "stream",
          "name": "stdout",
          "text": [
            "Final dev loss: 1.6409961111487412\n",
            " A diven a generation and regred under interfaction with the the prodonition of deep intere abound cl\n",
            " Heed an idents and station of the proposes of the emplexification for the intering this problem of t\n",
            " The detertate and methods and the the model to complet is a fixtural diversourting are can language \n",
            " Comment a model on that the systributional problem for a solve been interforms a for the model deep \n",
            " Simple networks ; We conver a compled of the propice training combined for the agian networks the in\n",
            " A results use a neural neural Stributional framewer and the sent the layer when the proposed and ent\n",
            " A complexical sumples the space the semantic system a present and to deters and the different algori\n",
            " Data as everal condoming on the problem of the low algores the are and convolutional dention and fra\n",
            " Desical for and in the minimation of the of the stated on that commone the systems of the and to stu\n",
            " The the algorition of the rese between in the deep neural pepatiwility of adven to studing and of i \n"
          ]
        }
      ],
      "source": [
        "assert np.mean(train_history[:10], axis=0)[1] > np.mean(train_history[-10:], axis=0)[1], \"The model didn't converge.\"\n",
        "print(\"Final dev loss:\", dev_history[-1][-1])\n",
        "\n",
        "for i in range(10):\n",
        "    print(generate(model, temperature=0.5, max_len=300))"
      ]
    },
    {
      "cell_type": "code",
      "source": [
        "for i in range(10):\n",
        "    print(generate(model, temperature=.4, max_len=300))"
      ],
      "metadata": {
        "colab": {
          "base_uri": "https://localhost:8080/"
        },
        "id": "_NgDINYFSu8J",
        "outputId": "68dbd07d-9429-4b95-90e4-d2a350d872bd"
      },
      "execution_count": null,
      "outputs": [
        {
          "output_type": "stream",
          "name": "stdout",
          "text": [
            " A neural networks for the systems ; This paper, we problem is a constribution of the segments of the\n",
            " A graph a such of the intere is the condent in the intern be and the interactions of the the systemb\n",
            " And and by the propose of the distributional Gaussive of the classifications of the and detections o\n",
            " Deter the such as the intered to emporal Anal-domain the conding and as a problem is of in the and o\n",
            " A simples sament and and the models and to essime and problems the standing and the sement as and on\n",
            " Adence of the subsed by the the visual experse introdiction of the model of the intering of the comp\n",
            " Problem problems and in the proposed in the of computer the intering the simple and to the in the co\n",
            " Multi-structure as a computation of and the distribution of the the problem can be used a such as ar\n",
            " A scomputation of the settoring the and in problem is a soblem application of the the a set on the s\n",
            " Sentation of the syper convolutional Networks the proposed and stor a problem locomation winder in t\n"
          ]
        }
      ]
    },
    {
      "cell_type": "markdown",
      "metadata": {
        "id": "v9NzDDoNIoU3"
      },
      "source": [
        "### RNN Language Models (3 points including training)\n",
        "\n",
        "Fixed-size architectures are reasonably good when capturing short-term dependencies, but their design prevents them from capturing any signal outside their window. We can mitigate this problem by using a __recurrent neural network__:\n",
        "\n",
        "$$ h_0 = \\vec 0 ; \\quad h_{t+1} = RNN(x_t, h_t) $$\n",
        "\n",
        "$$ p(x_t \\mid x_0, \\dots, x_{t-1}, \\theta) = dense_{softmax}(h_{t-1}) $$\n",
        "\n",
        "Such model processes one token at a time, left to right, and maintains a hidden state vector between them. Theoretically, it can learn arbitrarily long temporal dependencies given large enough hidden size.\n",
        "\n",
        "<img src='https://raw.githubusercontent.com/yandexdataschool/nlp_course/master/resources/rnn_lm.jpg' width=480px>"
      ]
    },
    {
      "cell_type": "code",
      "execution_count": 90,
      "metadata": {
        "id": "kHmhGo_lIoU4"
      },
      "outputs": [],
      "source": [
        "class RNNLanguageModel(nn.Module):\n",
        "    def __init__(self, device, n_tokens=n_tokens, emb_size=16, hid_size=256, num_layers=2, dropout=0.2, bid=False):\n",
        "        \"\"\" \n",
        "        Build a recurrent language model.\n",
        "        You are free to choose anything you want, but the recommended architecture is\n",
        "        - token embeddings\n",
        "        - one or more LSTM/GRU layers with hid size\n",
        "        - linear layer to predict logits\n",
        "        \n",
        "        :note: if you use nn.RNN/GRU/LSTM, make sure you specify batch_first=True\n",
        "         With batch_first, your model operates with tensors of shape [batch_size, sequence_length, num_units]\n",
        "         Also, please read the docs carefully: they don't just return what you want them to return :)\n",
        "        \"\"\"\n",
        "        super().__init__() # initialize base class to track sub-layers, trainable variables, etc.\n",
        "        self.device = device\n",
        "        \n",
        "        self.emb = nn.Embedding(n_tokens, emb_size) \n",
        "\n",
        "        self.lstm = nn.LSTM(emb_size, hid_size, \n",
        "                            num_layers, batch_first=True, \n",
        "                            bidirectional=bid) # bidirectional sucks for character-level approach\n",
        "                                               # so don't use it\n",
        "        self.hid1 = nn.Linear(hid_size + hid_size*bid, hid_size + hid_size*bid)\n",
        "        self.hid_to_logits = nn.Linear(hid_size + hid_size*bid, n_tokens)\n",
        "\n",
        "        self.relu = nn.ReLU()\n",
        "        self.dropout = nn.Dropout(p=dropout)\n",
        "\n",
        "\n",
        "    def __call__(self, input_ix):\n",
        "        \"\"\"\n",
        "        compute language model logits given input tokens\n",
        "        :param input_ix: batch of sequences with token indices, tensor: int32[batch_size, sequence_length]\n",
        "        :returns: pre-softmax linear outputs of language model [batch_size, sequence_length, n_tokens]\n",
        "            these outputs will be used as logits to compute P(x_t | x_0, ..., x_{t - 1})\n",
        "        \"\"\"\n",
        "        inp_emb = self.emb(input_ix) # [batch_size, sequence_length, emb_dim]\n",
        "        inp_emb = self.dropout(inp_emb)\n",
        "\n",
        "        enc_seq, last_state_but_not_really = self.lstm(inp_emb)\n",
        "        # enc_seq: [batch, time, hid_size], last_state: [batch, hid_size]\n",
        "        # enc_seq -> contains the output features (h_t) from the last layer of the LSTM, for each t\n",
        "        # last_state -> last state h_t of encoder (h_0 for decoder)\n",
        "        enc_seq = self.hid1(enc_seq)\n",
        "        enc_seq = self.relu(enc_seq)\n",
        "\n",
        "        next_logits = self.hid_to_logits(enc_seq)\n",
        "        next_logp = F.log_softmax(next_logits, dim=-1)\n",
        "\n",
        "        return next_logp # [batch_size, sequence_length, n_tokens]\n",
        "\n",
        "\n",
        "    def get_possible_next_tokens(self, prefix=BOS, temperature=1.0, max_len=100):\n",
        "        \"\"\" :returns: probabilities of next token, dict {token : prob} for all tokens \"\"\"\n",
        "        prefix_ix = torch.as_tensor(to_matrix([prefix]), dtype=torch.int64).to(self.device)\n",
        "        with torch.no_grad():\n",
        "            probs = torch.softmax(self(prefix_ix)[0, -1], dim=-1).cpu().numpy()  # shape: [n_tokens]\n",
        "        return dict(zip(tokens, probs))\n"
      ]
    },
    {
      "cell_type": "code",
      "execution_count": 91,
      "metadata": {
        "colab": {
          "base_uri": "https://localhost:8080/"
        },
        "id": "554JsYrVIoU5",
        "outputId": "9e81b581-8854-44e2-b625-dbb697f6b24d"
      },
      "outputs": [
        {
          "output_type": "stream",
          "name": "stdout",
          "text": [
            "Weights: ('emb.weight', 'lstm.weight_ih_l0', 'lstm.weight_hh_l0', 'lstm.bias_ih_l0', 'lstm.bias_hh_l0', 'lstm.weight_ih_l1', 'lstm.weight_hh_l1', 'lstm.bias_ih_l1', 'lstm.bias_hh_l1', 'lstm.weight_ih_l2', 'lstm.weight_hh_l2', 'lstm.bias_ih_l2', 'lstm.bias_hh_l2', 'hid1.weight', 'hid1.bias', 'hid_to_logits.weight', 'hid_to_logits.bias')\n"
          ]
        }
      ],
      "source": [
        "rnn_model = RNNLanguageModel(device=device, dropout=0, num_layers=3, bid=False)\n",
        "\n",
        "dummy_input_ix = torch.as_tensor(to_matrix(dummy_lines))\n",
        "dummy_logits = rnn_model(dummy_input_ix)\n",
        "\n",
        "assert isinstance(dummy_logits, torch.Tensor)\n",
        "assert dummy_logits.shape == (len(dummy_lines), max(map(len, dummy_lines)), n_tokens), \"please check output shape\"\n",
        "assert not np.allclose(dummy_logits.cpu().data.numpy().sum(-1), 1), \"please predict linear outputs, don't use softmax (maybe you've just got unlucky)\"\n",
        "print('Weights:', tuple(name for name, w in rnn_model.named_parameters()))"
      ]
    },
    {
      "cell_type": "code",
      "execution_count": 92,
      "metadata": {
        "id": "UfRsmkOQIoU5"
      },
      "outputs": [],
      "source": [
        "# test for lookahead\n",
        "dummy_input_ix_2 = torch.as_tensor(to_matrix([line[:3] + 'e' * (len(line) - 3) for line in dummy_lines]))\n",
        "dummy_logits_2 = rnn_model(dummy_input_ix_2)\n",
        "\n",
        "assert torch.allclose(dummy_logits[:, :3], dummy_logits_2[:, :3]), \"your model's predictions depend on FUTURE tokens. \" \\\n",
        "    \" Make sure you don't allow any layers to look ahead of current token.\" \\\n",
        "    \" You can also get this error if your model is not deterministic (e.g. dropout). Disable it for this test.\""
      ]
    },
    {
      "cell_type": "markdown",
      "metadata": {
        "id": "HL7S0HfmIoU5"
      },
      "source": [
        "### RNN training\n",
        "\n",
        "Our RNN language model should optimize the same loss function as fixed-window model. But there's a catch. Since RNN recurrently multiplies gradients through many time-steps, gradient values may explode, [ruining](https://raw.githubusercontent.com/yandexdataschool/nlp_course/master/resources/nan.jpg) your model.\n",
        "The common solution to that problem is to clip gradients either [individually](https://www.tensorflow.org/versions/r2.0/api_docs/python/tf/clip_by_value) or [globally](https://www.tensorflow.org/versions/r2.0/api_docs/python/tf/clip_by_global_norm).\n",
        "\n",
        "Your task here is to implement the training code that minimizes the loss function. If you encounter large loss fluctuations during training, please add [gradient clipping](https://pytorch.org/docs/stable/generated/torch.nn.utils.clip_grad_norm_.html) using urls above. But its **not necessary** to use gradient clipping if you don't need it.\n",
        "\n",
        "_Note: gradient clipping is not exclusive to RNNs. Convolutional networks with enough depth often suffer from the same issue._"
      ]
    },
    {
      "cell_type": "code",
      "execution_count": 99,
      "metadata": {
        "colab": {
          "base_uri": "https://localhost:8080/"
        },
        "id": "79ob0PtXIoU6",
        "outputId": "c1142277-5dba-4be8-d69d-60c29306efda"
      },
      "outputs": [
        {
          "output_type": "stream",
          "name": "stdout",
          "text": [
            "[(0, 4.904841408706293)]\n",
            "Sample before training: Bridgingk7ózS.D$v(Zx33Ωä$ŁŁγêbΠ%oó*õ%BDãyIz%2}fwet(I.tm0Gtaσ0mJxÜáô9αóKg;ΩRàKêä`ö+=+vByχ>í87phTAcqρ\n"
          ]
        }
      ],
      "source": [
        "batch_size = 128 # <-- please tune batch size to fit your CPU/GPU configuration\n",
        "score_dev_every = 250\n",
        "train_history, dev_history = [], []\n",
        "\n",
        "# bidirectional sucks with character-level, so don't use it\n",
        "# higher num_layers - slower convergence\n",
        "rnn_model = RNNLanguageModel(device=device, num_layers=2, dropout=0.2, bid=False)\n",
        "opt = torch.optim.Adam(rnn_model.parameters())\n",
        "rnn_model.to(device)\n",
        "\n",
        "# score untrained model\n",
        "dev_history.append((0, score_lines(rnn_model, dev_lines, batch_size)))\n",
        "print(dev_history)\n",
        "print(\"Sample before training:\", generate(rnn_model, 'Bridging'))"
      ]
    },
    {
      "cell_type": "code",
      "execution_count": 100,
      "metadata": {
        "id": "ApE01DvlIoU7",
        "colab": {
          "base_uri": "https://localhost:8080/",
          "height": 394
        },
        "outputId": "0a13242b-5ff3-48bb-e67e-7226768efcf8"
      },
      "outputs": [
        {
          "output_type": "display_data",
          "data": {
            "text/plain": [
              "<Figure size 432x288 with 1 Axes>"
            ],
            "image/png": "[encoded data removed]"
          },
          "metadata": {
            "needs_background": "light"
          }
        },
        {
          "output_type": "stream",
          "name": "stdout",
          "text": [
            "Generated examples (tau=0.5):\n",
            " Unsupervised Learning and Deep Neural Networks ; We propose a new problem of distributed algorithms \n",
            " Deep Convolutional Neural Networks for Texture Learning ; Convolutional neural networks are set of t\n",
            " Stochastic Models for Multi-Sparse Real-Simulation of Adversarial Networks ; Fuzzy one of the proble\n",
            "Scoring dev...\n"
          ]
        },
        {
          "output_type": "stream",
          "name": "stderr",
          "text": [
            "100%|██████████| 5000/5000 [17:09<00:00,  4.86it/s]"
          ]
        },
        {
          "output_type": "stream",
          "name": "stdout",
          "text": [
            "#4999 Dev loss: 1.098\n"
          ]
        },
        {
          "output_type": "stream",
          "name": "stderr",
          "text": [
            "\n"
          ]
        }
      ],
      "source": [
        "from IPython.display import clear_output\n",
        "from random import sample\n",
        "from tqdm import trange\n",
        "\n",
        "for i in trange(5000):\n",
        "    batch = torch.as_tensor(to_matrix(sample(train_lines, batch_size))).to(device)\n",
        "\n",
        "    loss_i = compute_loss(rnn_model, batch)\n",
        "    \n",
        "    opt.zero_grad()\n",
        "    loss_i.backward()\n",
        "    opt.step()\n",
        "\n",
        "    train_history.append((i, float(loss_i)))\n",
        "    \n",
        "    if (i + 1) % 50 == 0:\n",
        "        clear_output(True)\n",
        "        plt.scatter(*zip(*train_history), alpha=0.1, label='train_loss')\n",
        "        if len(dev_history):\n",
        "            plt.plot(*zip(*dev_history), color='red', label='dev_loss')\n",
        "        plt.legend(); plt.grid(); plt.show()\n",
        "        print(\"Generated examples (tau=0.5):\")\n",
        "        for _ in range(3):\n",
        "            print(generate(rnn_model, temperature=0.5))\n",
        "    \n",
        "    if (i + 1) % score_dev_every == 0:\n",
        "        print(\"Scoring dev...\")\n",
        "        dev_history.append((i, score_lines(rnn_model, dev_lines, batch_size)))\n",
        "        print('#%i Dev loss: %.3f' % dev_history[-1])\n"
      ]
    },
    {
      "cell_type": "markdown",
      "source": [
        "### Generating samples with RNN model"
      ],
      "metadata": {
        "id": "0H5WSkAF06Yr"
      }
    },
    {
      "cell_type": "code",
      "execution_count": 101,
      "metadata": {
        "id": "aBg7r_2eIoU7",
        "colab": {
          "base_uri": "https://localhost:8080/"
        },
        "outputId": "b68f8c17-2471-4007-fbe1-3cac8601207d"
      },
      "outputs": [
        {
          "output_type": "stream",
          "name": "stdout",
          "text": [
            "Final dev loss: 1.0984088114761725\n",
            " A Bayesian Approach for Embedding Algorithms ; In this paper, we propose a set of the first of the statistical approach for exploration in the set of the set of the control control in convolutional neural networks (CNNs) is a structure of the problem of the parameters of the systematic problems. The\n",
            " Method for Semantic Infully Step to Similar Bourt Detection ; We propose a new model and the presence of simulations are inverse and accountered in statistical streaming, and the developing on the problem of all the field of the approach of the discriminative relative supervised methods that there a\n",
            " A new probabilistic topic for context of the device and   interval recognition ; We present a method for emotional contextual spectral constituent of the construction of complexity of search analysis of the articipant and algorithms that enh accurate in the problem of times and a set of the probabil\n",
            " A Robust Complexity of Deep Learning for Deep Learning ; The framework of the factorization of the statistical interaction programming, in particular, we propose to the structure of the sentence of a set of the problem. We consider the statistical veristic setting is a property of the to developing \n",
            " Analyzing a semantic and supervised learning of supervised learning ; We propose a proposed approach to many spans of the neural network in a prior of problems in constructing the comprehension of the sparse sufferences in the large orientation of the most object or the original distribution of the \n",
            " An Expirical Approach to Hule Complexity of Learning Sentences ; This issue is a complete dataset of the internal data setting and sensing the sequence of the computational field of the problem of the same scale in the structure. The popular techniques are becomed to the success of the motion to a s\n",
            " Towards Function Graph Detection for Action Networks ; We propose a new role of the fundamental scenario for the internal optimization algorithm for contextual research in the same convex optimizing the specific scene in the problem by a set of the computer vision computer vision activity to solve t\n",
            " Realing Synthesis of Deep Networks for Long   Data ; We present a traffic to the important of an approach to be proposed and adversarial ambiguous relations in a probability of probability researchers that be allows to the proposed mathematical components for the continuous approaches that allows th\n",
            " A Side Context-Based Deep Structure of Support Regression ; Recent years to support complexity can be containing the content of the computer vision of the new classifiers of the context of the number of distance and automatic object recognition. The world that structure is the definition of computer\n",
            " Deep Convorulal Networks with Word Contributions ; The problem of a probabilistic information that can gene two models in the control of the problem with the prediction of computer vision or applicability and multiple classification on the brain distribution of the problem of the problem. We propose\n"
          ]
        }
      ],
      "source": [
        "assert np.mean(train_history[:10], axis=0)[1] > np.mean(train_history[-10:], axis=0)[1], \"The model didn't converge.\"\n",
        "print(\"Final dev loss:\", dev_history[-1][-1])\n",
        "for i in range(10):\n",
        "    print(generate(rnn_model, temperature=0.5, max_len=300))"
      ]
    },
    {
      "cell_type": "code",
      "source": [
        "assert np.mean(train_history[:10], axis=0)[1] > np.mean(train_history[-10:], axis=0)[1], \"The model didn't converge.\"\n",
        "for i in range(10):\n",
        "    print(generate(rnn_model, temperature=0.6, max_len=300))"
      ],
      "metadata": {
        "colab": {
          "base_uri": "https://localhost:8080/"
        },
        "id": "kjPFqZGP9q5s",
        "outputId": "fa862a45-c472-4eb0-8421-fbae2abbdeaf"
      },
      "execution_count": 105,
      "outputs": [
        {
          "output_type": "stream",
          "name": "stdout",
          "text": [
            " Learning and Broad Learning Estimation Cases ; The sub-set of this article on the model for compositionally sparse methods have been lower to perform such as For-Post-Instance Amonomography, which is a simple dependent or an algorithm for a noun of the need for the analysis of the notion of the trai\n",
            " Large-Analysis Of Target Face Retreesing and Semantic Pose ; Auto-entropy deep neural networks that rely one of the sample setmentation for the model approach to accousteric information strategy constructions and remarkable statistical problems, the objective of the theoretical relationships and its\n",
            " A Supervised Learning Approach for Language To word State-Recognition ; This paper presents a novel distribution of the relationship between the automatic problem based on the pattern model that they makes a storether constraint process of population models such data and semantics and problems, such\n",
            " Data Principal Exploration of Revices of Alternative ;ould Detection ; The fine-grained model network to this single-based sentences in the problem of the factorization of the spatial analysis. The main comprehensive and exploration of different design on a constrainting computer vision of the perso\n",
            " Experimental Algorithms for Activation Approach with Computer Transformation ; The context-constraint of a single method for operations or samples of the inference understanding of our relational performance. The means of artificial approaches for machine learning algorithms and compared to a fast t\n",
            " Modeling Acrues and Speech Monte Evaluation ; In this paper, we propose a formal function of the introducion of the memory network to a context statistical problem of the statistical problem, which is the local streve task of the inference of a neural network for computing analysis in the possibilit\n",
            " Term Convex Adeptor For Convergence Reason of Deep   Exploration Technologies ; In this paper, we address the statistical intelligence to accelerate the despite. Atchologies in very conceptual representation and problems are the computational Model for the modeled practical foal optimization and pro\n",
            " Spatially State-of-Graph Control Models for Interval Sparse Continuous   Croupls ; A human variational population of the area of the variational convolutional neural network autoencoders are information is to provide a sketched model and computer visive complexity such as the accuracy of projects, w\n",
            " Deep Convolutional Neural Networks for Relational Complexity ;ut ; This paper investigates the constraint system in detection, management of the setting by meaning-problems, and introduced relavionship between the non-solving deep learning problem in machine learning that are often in why applicatio\n",
            " Training the More Discretation for Explanation of Computing ; In this paper, we present an efficient convolutional neural network algorithm for shallow to the high-graph of the distribution of skin some from points of the substantial interaction sources. The single implementation of interest interes\n"
          ]
        }
      ]
    },
    {
      "cell_type": "code",
      "source": [
        "assert np.mean(train_history[:10], axis=0)[1] > np.mean(train_history[-10:], axis=0)[1], \"The model didn't converge.\"\n",
        "for i in range(10):\n",
        "    print(generate(rnn_model, 'Artificial intelligence', temperature=0.6, max_len=300))"
      ],
      "metadata": {
        "colab": {
          "base_uri": "https://localhost:8080/"
        },
        "id": "Puh-HEHK95oV",
        "outputId": "e910bfaa-b599-4b90-aae5-6755040a1312"
      },
      "execution_count": 106,
      "outputs": [
        {
          "output_type": "stream",
          "name": "stdout",
          "text": [
            "Artificial intelligence models using spatial intelligence and models ; The proposed stnames to practical and algorithm can be developed to our approach for small detection of the screeting or action learning problems. An approximate surface detection system the reconstruction system are contextual to\n",
            "Artificial intelligence of expertation of   programming mapping in the context-of-the-art part of the   the maximilation of the sequences ; The computational components of the target of latent classification problems. In this paper, we explore the problem of the modeling of the novel motion of multip\n",
            "Artificial intelligence surface approaches for problem in the decomposed Representation of Machine Ensembles ; Artificial particular recognition is a feature of the distribution of the simple training steps of the problem of the redularized distributions of the difeasion of a single gradient speech. \n",
            "Artificial intelligence to a polynomial image analysis of a component of   real-world and specific cancer datasets of controlle evolutional approximations of the presentation of an  the application of the task analysis of the complex fractal patterns of fast can be support to compare these stations a\n",
            "Artificial intelligence that miting a constraint of the computation of computer vision languages are the approach of the information of latent contentions consists of the underlying the regissue to the  -GAN methods are generally evaluated to biological and several approximated modeling the problem a\n",
            "Artificial intelligence to the notterial model for relational parameter properties of the non-start performance of extression problems state detection ; Complete or the physical scale interaction is a spectral property of the depths are attreaded to propose a neuromort to train a computational transf\n",
            "Artificial intelligence of the integration of image theory into a multi-label machine learning framework that can be recognized that shortest the problem of denous developments are considered to explore the end-to-end tool for the otherwide in multiple tracking approaches. In this paper, we propose a\n",
            "Artificial intelligence on object to impresent optimization in the problem ; In particular methods for proposed by practical analysis of one of the alternative object tree on the parameter related and semantic scale in the problem of other or some of the support specificity. We show that the training\n",
            "Artificial intelligence and computer vision on the interaction of polynomial variation systems, where the original problem with the use of interest of the recent problem of a counting in this paper proposes a brain and computation of similarity means of deep neural networks. The local optimization pr\n",
            "Artificial intelligence of the input invanions are successfully affected we explore an internal form of the contern of intelligent distribution algorithms for several methods are used to the same semantic features for meaningly detection. In this paper, we propose a novel reported to understand in th\n"
          ]
        }
      ]
    },
    {
      "cell_type": "code",
      "source": [
        "assert np.mean(train_history[:10], axis=0)[1] > np.mean(train_history[-10:], axis=0)[1], \"The model didn't converge.\"\n",
        "for i in range(10):\n",
        "    print(generate(rnn_model, 'Natural language', temperature=0.6, max_len=300))"
      ],
      "metadata": {
        "colab": {
          "base_uri": "https://localhost:8080/"
        },
        "id": "OAct7yNW0ShY",
        "outputId": "5e70d3f6-2610-4baa-b3ac-d0e98e8f80e5"
      },
      "execution_count": 109,
      "outputs": [
        {
          "output_type": "stream",
          "name": "stdout",
          "text": [
            "Natural language of the Development of Recurrent Neural Networks with Monological Models with Event Prior Machine Learning   Based Containing System   for Substantial Transfer Input Sparse Renots for All States of   Digital Pre System Study on Support Genetic  Abappling ; Unlinite theory are provided\n",
            "Natural language and analyses of the context of the paradigm of specifically supervised anomy models understanding the scalable transformation and artificial processing problems are experience of each of structure of a comparison of our work on the problem of extremes and computational by a represent\n",
            "Natural language of practical data is that an approximate classification of the spectral structure of subtle given statistical and introduction of the significant subject of short-based distributions in the problem of the topic resolution problem. In this paper, we propose a single problem of the app\n",
            "Natural language recognition in the grounding classification of the state-of-the-art to selifies a simulation of the recent addresses the loss of information and robust selection and computational relocation to an analyzing the orthogonal distribution of the automatically management, and sample to th\n",
            "Natural language of the sensitivity of a particula the shortcoming of neural networks, and textual renerators to the benefit problem of software classification based in the recent  not recognition and another developing complexity from the problem of solving analysis the research instent of the probl\n",
            "Natural language estimation using steps of image and convolutional neural networks ; We propose an overall and needed optimization of the article image color accuracy of the fact that are training and industries and a supervised learning method for the activity system that can a label of computer vis\n",
            "Natural language methodology and its linearity construction in deep learning algorithms for automatically introducing statistical models in the  of the vector is to selected showing tool and an integerable approach to learn the computer vision ; We propose a novel constraint to the problem of lower t\n",
            "Natural language representation in one of the source of the autononomous model tasks in computer sparse scales are consistent in a component optimization of the target of convex classical selection and wellows that computer therefore such as the problem of components and possibly analysis ; The probl\n",
            "Natural language processing of marme deporting recognition and subspaces with manifold extraction ; We propose a text data is an attribute to the problem. Our key task accurate in particular, we propose an information in the original model with the possible strategy, and the expert or correlation of \n",
            "Natural language of component correspondences are not better instance in the word probabilistic complexity and collecting expension of the controls in  the problem of continuous range of the art of computational  normalization and experiments to the  normalization to the another or interaction and of\n"
          ]
        }
      ]
    },
    {
      "cell_type": "code",
      "source": [
        "assert np.mean(train_history[:10], axis=0)[1] > np.mean(train_history[-10:], axis=0)[1], \"The model didn't converge.\"\n",
        "for i in range(10):\n",
        "    print(generate(rnn_model, 'Transformer', temperature=0.6, max_len=300))"
      ],
      "metadata": {
        "colab": {
          "base_uri": "https://localhost:8080/"
        },
        "id": "QJWNYMjN-OKX",
        "outputId": "c67e848a-6e76-4c3a-afd7-e1df82b362a7"
      },
      "execution_count": 112,
      "outputs": [
        {
          "output_type": "stream",
          "name": "stdout",
          "text": [
            "Transformer-construction of computer optimization of a human parameter of interest problems ; The convex optimization and approaches concept to obtain the interaction of a discrete of the contextual content to the feature satisfactory. In this paper we partine the one of the system with speech space \n",
            "Transformer classification models recognition scheme that the problem of described minimization ; We the time algorithm discasted to a contextual processing combination of a seen approximation between a convergence of camera performance. An explain spatially defined and settings of the problem of nat\n",
            "Transformers of the attention of the Treedy Decision for veres of the function of a presence of   recognition ; We consider the results of the classification of a supervised power of an evolutionary processing that the distributional results of these languages or spatial textures in the sequence of c\n",
            "Transformer Variational Supervised Symbol Sorting   Support Description Estimation ; This paper describes the problem of the proposed framework to success the task of interactions from a consistent device on the system can be proposed to the number of computational specifically, we propose a simple c\n",
            "Transformertive Disambiguation:   Analysis of Automatic Programming ; Many optimization is provided the shorthing noisy of the images is a continuous contextual of prediction and interaction in the training splioted study. This paper introduces a probabilistic progress of the training of the state-of\n",
            "Transformer-entropy low-of-the-based context of the problems representation ; In this paper, we propose a specific traphical structure, optimal in the posed control in the enough-based approach to handle the statistical dataset in the manipulation of the problem of analysis of the supervision. In thi\n",
            "Transformered Filtering Sparse Problems ; We present a both activity of the detection of clustering is an important to be used-based corpus deformation to control selections are provided to the same content of the number of a further decomposition. The output involves of artificial neural network and\n",
            "Transformer-Controlled Search for Detection using Bayesian Networks ; In design long to the knowledge neural network (ASs and tensor problems in the linear model of the interaction of expert and much representation. This paper presents a major analysis of model despect learning is to design a combina\n",
            "Transformers and the View of Specifically and   Dynamic Targeting Machine   Processes with Stochastic Learning ; In this paper we propose a novel approach to exploit models for a graph-set of the sequence of source labels with deep convolutional neural networks. This paper introduces a personal frame\n",
            "Transformer: An Hardware Model and Complex Graphs for Combining Accuracy of   Resolution Structure ; The expert system of accurately, it is usually applied to the generalised convolutional neural networks for such mapping can be recommended by scale the people and the devicing the significant subspac\n"
          ]
        }
      ]
    },
    {
      "cell_type": "code",
      "source": [
        "assert np.mean(train_history[:10], axis=0)[1] > np.mean(train_history[-10:], axis=0)[1], \"The model didn't converge.\"\n",
        "for i in range(10):\n",
        "    print(generate(rnn_model, 'Transformer', temperature=0.5, max_len=300))"
      ],
      "metadata": {
        "colab": {
          "base_uri": "https://localhost:8080/"
        },
        "id": "XmpjV7At-bpj",
        "outputId": "08718a23-9d2e-40e7-f43a-8ab9fdbde200"
      },
      "execution_count": 116,
      "outputs": [
        {
          "output_type": "stream",
          "name": "stdout",
          "text": [
            "Transformertic Image Detection with Sone Search ; Practical and representation of frameworks in many object terms of the performance of the fields of the state-of-the-art of the sequences of such as a composition of the task. However, the generative method for predicting the standard state of images \n",
            "Transformer-scale optimal context of the development of the high-resolution context ; We present a very analysis of the stare feature of the selection problem. We propose a novel term accurate and a classifier that the algorithms in the structured dataset by provide a correlation of a training proble\n",
            "Transformer Face Detection for Constrained Fast Machine Classification ; The experimental optimization of network to the detection of the source to develop an analysis of the computational variational system is introduced by the original approach to learn from a simultaneously research to construct t\n",
            "Transformer-Convolutional Neural Network Models ; We propose that are adversarial attention is a trained feature for the computer vision of the resulting and content of adversarial industries and an interpreting parallel in a single decomposition problem. In this paper, we propose a new model for the\n",
            "Transformer-based Factorization using Word Transformations ; In this paper, we propose a novel approach for the problem of a single form of the content, they are not have become that the computational models in the use of the captured datasets, we propose a novel accuracy of a subsets of the distance\n",
            "Transformers for real-time features for the sequence of sparse methods ; In this paper, we present an intringing support to solve that the system staces and unsupervised generations in a text. The conditioned approach is to consider a widely problem of a context in advanced and real with a large-scal\n",
            "Transformery stored by the State of Resolution of Evolutionary Programming ; The performance of probabilistic interval or computational problems are not only outperformed in a temporal approach to the stochastic problem of the sequence of a significant process of complex complexity. The theoretical d\n",
            "Transformerning structure of an example of manually detection of data models   with a concept of the point of the stabel that can be used ; We present a control of the search algorithm to extract content, and advanced information and the problem of which the system and deconstrained between convergen\n",
            "Transformers of a high-draw for computer vision of the optimal search is to describe a novel towards and algorithm that sometrics the many of the problem of the distribution of the statistical state of all problem in a computational response to provide an important and the developmed of the expert on\n",
            "Transformers of low-rank recognition methods in consistent from present expertation methods ; We propose a simple information of the computer vision problem on the content of the problems without an optimum detection of the analysis, compared to recorded to a single state-of-resolution and the orderi\n"
          ]
        }
      ]
    },
    {
      "cell_type": "code",
      "source": [
        "assert np.mean(train_history[:10], axis=0)[1] > np.mean(train_history[-10:], axis=0)[1], \"The model didn't converge.\"\n",
        "for i in range(10):\n",
        "    print(generate(rnn_model, 'Markov chain ', temperature=0.5, max_len=300))"
      ],
      "metadata": {
        "colab": {
          "base_uri": "https://localhost:8080/"
        },
        "id": "Jgd38gMp_CK8",
        "outputId": "cc6f938d-ec58-4298-c4e3-62c11895bb8e"
      },
      "execution_count": 120,
      "outputs": [
        {
          "output_type": "stream",
          "name": "stdout",
          "text": [
            "Markov chain state-of-the-art models ; We present a new information of event and the technique for speech problem in a contextume that the conditional context of a conventional convergence in a target content of the language from the same and estimation for transformations. Etch empirical actions are\n",
            "Markov chain open-task ; The problem of specifically, we propose a novel framework for a set of stochastic and problem using the training of the semantic infular inentifying state of the computer visual scales of variables dataset. The contextual encoder for image synthesis of a single approach to le\n",
            "Markov chain approaches ; Convolutional neural networks have been widely used to a proof of the result of the sequence of the contextural specific and context of an evolutionary tool in dimensionality of $\\mathbb{\\emph{linear) (GOC). This, we propose a novel model which is the development of the stru\n",
            "Markov chain an artificial analysis of the statistical model ; We consider the convolutional neural network that have a simple and alternative term of more analysis and automatic decision problems in a parameter description. In this paper, we propose a novel problem of functional common contexts of t\n",
            "Markov chain rules and computational   structures of a discourse conditional problem ; In this paper, we present a new approach is a set of models and interest in statistical processing techniques for solving the basical segmentation from behavior problems in the possible approaches in the most state\n",
            "Markov chain context of the   the outlier of the prediction of the   partition in the sparse state of   learning and function ; The proposed context of the proportional processing problem is a counterprint of the same policy and algorithm that control or the applications of the state-of-the-resulting\n",
            "Markov chain recognition of the variational color   for seconder framework in the pace of   has been combined on the machine learning   problems ; In this paper we aim to investigate the computational system in a function of probabilistic languages based on the first subspace to the large-scale conte\n",
            "Markov chain a summarient scale   surface of the detection of   extraction of representations for constrained and   approach to the concept of fuzed semantic   reasoning ; Restricted segmentation problems, is the problem of the incorporation of the task of real-world approaches that the contextual pr\n",
            "Markov chain limited settings ; The context-of-the-description of the supervised image segmentation of the most statistical arbitude is the number of an online labeled as a complex model and subjection of the interactions from the shart feature constraints. The discusses of the augmented based on the\n",
            "Markov chain components ; In this paper, we propose a new context oaserver of the original complexity of many researchers to a significant constraint of the matching setting is presented as a single model of researchers and continuous sensitivity. The constraint the construction of model to the prove\n"
          ]
        }
      ]
    },
    {
      "cell_type": "code",
      "source": [
        "assert np.mean(train_history[:10], axis=0)[1] > np.mean(train_history[-10:], axis=0)[1], \"The model didn't converge.\"\n",
        "for i in range(10):\n",
        "    print(generate(rnn_model, temperature=0.2, max_len=500))"
      ],
      "metadata": {
        "colab": {
          "base_uri": "https://localhost:8080/"
        },
        "id": "gAwIaPTzxgs2",
        "outputId": "7f075a4c-950b-4e5f-ed3e-5ccc085b2a3b"
      },
      "execution_count": 50,
      "outputs": [
        {
          "output_type": "stream",
          "name": "stdout",
          "text": [
            " A Convolutional Neural Network for Computation ; We propose a new approach to the application of the art of the analysis of the approximation of the problem of the problem of a set of the approach to the algorithm for the state-of-the-art state-of-the-art content of the problem of the problem of the set of the approach to consider the problem of the target structure of the statistical problem. In this paper, we propose a novel method for a set of the computational structure of the set of the pro\n",
            " A Convonnt Spatial Control of the Inference for Convex   Distribution of How Semantic Machine Learning ; In this paper, we propose a new method for the interpretation of the semantic data and a single content of the problem of the structure of the problem of the standard set of the approach to the context of the are and application of the area of the controllers to solve the strong of the art set of the set of the problem of the optimization of the computational system to the transform of the an\n",
            " A Control of Semantic Methods for Exploiting Model ; The problem of interest and the problem of the problem in the optimization of the problem of sensitive information and set of the context of the computational formal interestion by a single set of the state-of-the-art approach to a computational feature of the problem of the different space of the article of the set of the sequence of a simple of the problem of the problem of a set of the set of the state-of-the-art context of the article and \n",
            " A Convolutional Approach for Convolutional Neural Networks ; This paper proposes a novel approach to a simple transformation of the problem of the problem of a set of the system of the particular convolution and a set of the different problem. The problem of the such as a sparse probabilistic approach to the state of the problem of the computation of the context of the sensor setting is a computation of the optimal problem. We propose a novel approach to a signal task of the set of the control i\n",
            " A Convexity of the State-of-the-art Convergence of Expert ; The problem of the approach to as the problem of the search of the search of the set of the problem of a set of the setting of the distribution of the state-of-the-art contribution. In this paper, we propose a non-linear component of the problem is a computational formalism of the set of the set of some constraints of the computational conditions of the problem of a set of the accuracy of the state of the context of the computational mo\n",
            " A Convolutional Neural Network for Machine Learning ; We propose a new approach to a large set of the state-of-the-art and the problem of the set of the art and the constraint of the problem of the context of a simple network to constraint the state-of-the-art detection and accomproving the state of the state-of-the-art and in the problem of a graph context. The problem of the model that are compared to the problem of the context of the approach to a specifical context of the approach to the con\n",
            " A Convolutional Neural Network for Convolutional Neural Networks ; We propose a novel approach to a single semantic component of the matrix of the state of the set of the problem of the adaptation of the semantic structure of the stale of the context of the problem of the state-of-the-art and the content of the semantics of the problem. The restriction of the art of the approach is a convexity of the state-of-the algorithms to recognize the same set of the training of the network to the speech a\n",
            " A Search of Statistical Medical Context of Semi-Supervised   Deep Learning ; The problem of state-of-the-art probabilities is a set of the set of the set of the first state of the model that the operator of the problem of the problem of the artificial method for the experiment of the computational structure of the set of the context of the approach to solve the set of the context of the sensitive problem of the context of the semantic control problem in the state-of-the-art probability and const\n",
            " A Convolutional Neural Network for Large Search Analysis ; In this paper, we propose a novel approach to a computational strategy of the set of the complexity of the problem of the data of the approach to the simple of the set of the algorithm is the subspace of the oengingical and computational signals to the interest of the artificial data are applied to a state-of-the-art and semantic set of the systems. The problem of the problem of the problem of the art controlue to achieve the problem of \n",
            " A Computational Contingous Approach for Semantic Programming ; We propose a novel method for the problem of a set of the set of the problem of the structure of the problem of a set of the semantic problem of the problem of the most recognition and access of the structure of the sensitive and a set of the set of the set of the state-of-the-art classification of the stage of the analysis. The proposed approach to the problem of the state-of-the-art a deep neural network for the concept of the fina\n"
          ]
        }
      ]
    },
    {
      "cell_type": "code",
      "source": [
        "assert np.mean(train_history[:10], axis=0)[1] > np.mean(train_history[-10:], axis=0)[1], \"The model didn't converge.\"\n",
        "for i in range(10):\n",
        "    print(generate(rnn_model, temperature=1, max_len=500))"
      ],
      "metadata": {
        "colab": {
          "base_uri": "https://localhost:8080/"
        },
        "id": "5uGDbZy6y5Ms",
        "outputId": "738a8470-41ba-466f-9f29-80502b9bcc5e"
      },
      "execution_count": 121,
      "outputs": [
        {
          "output_type": "stream",
          "name": "stdout",
          "text": [
            " Optified Location and Lolar Roword Analysis, Randov Quadratory (L Nearest   Geongsts And Intelligent Human Captures ; There categories in the first with non-side, although recognition to the veriete text of drawn and coordinately poperious penaltic wavelets which appropriates and canonused symbetchilated, capture than new method-bounded point intentio\n",
            "\n",
            " Simplears (QST) via Hu\n",
            "\n",
            " Wumps: A Neural Enviring Upon Rule Kernel TextS on Conditional IIT-P/IFDIC ; We refer\n",
            "\n",
            " Measury by Servicipation Slow for Several Problem ; Multi-agent model to free supervised level and monitoring image dense spiking, regademihic interest as the weak dimensionality referenc\n",
            "\n",
            " Troughnes for Combinatorial Localization Account in Texts of 3D ; A mapping of video experment combine of influence conventional and quantitity and bord outlinual analysis. Necroider much anotherior in this problem users, the runtry to vitoha the artions for existing parametrics, and utilizes the popular wirst, weneral applications, which couples, each intrusion stace tasked in the System network stMb is moved to doweriotes researchers with high-approach. They some pattern restence have been oft\n",
            " Braid Learning Element Has and Sentiment Temporalization ; To role similarity precision is a tree-ideal correlation in 2a)y popularity ones. One low-to-ener convolution) throughond underly we train sexment,\n",
            "\n",
            " Guided Actions, and Nonparisons Approximately Including Model-iser-W Speech variational   Sport setting ; Producing most Remotely are explored by a singlex extension that assisfed to probuse a distributed learning performance in most many fitness observable family extracting subver and consisting systems in whethere\n",
            "\n",
            " Class wfich center in presential models ; Good allows these semantic and a dissignal estimation of HAT region) negword (RGB) to different including words and automatically descriptions important ipic typical influence\n",
            "\n",
            " Offleed F-Bayesian networks for search tasks of   convolutional networks with learning filting emlibies however, hynamical intervals ; This data using the model, esemal specified architectures sized with extent models feasers there developed the last small statistical experiment. This paper  We are effectively distributed with utilities: We present a local search to a data of the do nould instances, with the madeity of linguistic, avaltitates law in donal finite. There is a variables continuous \n",
            " Evolutionary Quality Vector Processing in Recent Architecture ; Not deland, becomes a will large quaction writing approach from meaningfut statement of interact of the bandit assumption and computate statistical tasms. These Prediction (Pes bases other both from miscultiford-cutulations, likelih(interesting microscopy, and the proposed typical learning. Therefores several syntems an abstract of models, a rang that adapt\n",
            "\n"
          ]
        }
      ]
    },
    {
      "cell_type": "markdown",
      "metadata": {
        "id": "IRpf5rIdIoU8"
      },
      "source": [
        "### Alternative sampling strategies (1 point)\n",
        "\n",
        "So far we've sampled tokens from the model in proportion with their probability.\n",
        "However, this approach can sometimes generate nonsense words due to the fact that softmax probabilities of these words are never exactly zero. This issue can be somewhat mitigated with sampling temperature, but low temperature harms sampling diversity. Can we remove the nonsense words without sacrificing diversity? __Yes, we can!__ But it takes a different sampling strategy.\n",
        "\n",
        "__Top-k sampling:__ on each step, sample the next token from __k most likely__ candidates from the language model.\n",
        "\n",
        "Suppose $k=3$ and the token probabilities are $p=[0.1, 0.35, 0.05, 0.2, 0.3]$. You first need to select $k$ most likely words and set the probability of the rest to zero: $\\hat p=[0.0, 0.35, 0.0, 0.2, 0.3]$ and re-normalize: \n",
        "$p^*\\approx[0.0, 0.412, 0.0, 0.235, 0.353]$.\n",
        "\n",
        "__Nucleus sampling:__ similar to top-k sampling, but this time we select $k$ dynamically. In nucleous sampling, we sample from top-__N%__ fraction of the probability mass.\n",
        "\n",
        "Using the same  $p=[0.1, 0.35, 0.05, 0.2, 0.3]$ and nucleous N=0.9, the nucleous words consist of:\n",
        "1. most likely token $w_2$, because $p(w_2) < N$\n",
        "2. second most likely token $w_5$, $p(w_2) + p(w_5) = 0.65 < N$\n",
        "3. third most likely token $w_4$ because $p(w_2) + p(w_5) + p(w_4) = 0.85 < N$\n",
        "\n",
        "And thats it, because the next most likely word would overflow: $p(w_2) + p(w_5) + p(w_4) + p(w_1) = 0.95 > N$.\n",
        "\n",
        "After you've selected the nucleous words, you need to re-normalize them as in top-k sampling and generate the next token.\n",
        "\n",
        "__Your task__ is to implement nucleus sampling variant and see if its any good."
      ]
    },
    {
      "cell_type": "code",
      "execution_count": 122,
      "metadata": {
        "id": "Z7UgNuyFIoU9"
      },
      "outputs": [],
      "source": [
        "def generate_nucleus(model, prefix=BOS, nucleus=0.9, max_len=100):\n",
        "    \"\"\"\n",
        "    Generate a sequence with nucleous sampling\n",
        "    :param prefix: a string containing space-separated previous tokens\n",
        "    :param nucleus: N from the formulae above, N \\in [0, 1]\n",
        "    :param max_len: generate sequences with at most this many tokens, including prefix\n",
        "    \n",
        "    :note: make sure that nucleous always contains at least one word, even if p(w*) > nucleus\n",
        "    \n",
        "    \"\"\"\n",
        "    while True:\n",
        "        token_probs = model.get_possible_next_tokens(prefix)\n",
        "        tokens, probs = zip(*token_probs.items())\n",
        "        probs = np.array(probs)\n",
        "\n",
        "        sorted_probs_indices = np.argsort(probs)[::-1]\n",
        "        sorted_probs = probs[sorted_probs_indices]\n",
        "        # choose only N % highest probs, discard rest\n",
        "    \n",
        "        cumulative_probs = np.cumsum(sorted_probs)\n",
        "\n",
        "        remove_sorted_indices = cumulative_probs >= nucleus\n",
        "        # add one extra word to make sure \n",
        "        # we cover at least one word even if p(w*) > nucleus\n",
        "        remove_sorted_indices[..., 1:] = np.copy(remove_sorted_indices[..., :-1]) # last True -> False\n",
        "        remove_sorted_indices[..., 0] = 0 # if all of them were True, make at least first one word to False \n",
        "\n",
        "        indices_to_remove = sorted_probs_indices[remove_sorted_indices]\n",
        "        probs[indices_to_remove] = -float('Inf')\n",
        "\n",
        "        # compute softmax over changed array of probabilities\n",
        "        probs = np.exp(probs)\n",
        "        probs /= np.sum(probs)\n",
        "\n",
        "        next_token = np.random.choice(tokens, p=probs)\n",
        "        prefix += next_token\n",
        "        if next_token == EOS or len(prefix) > max_len: break\n",
        "\n",
        "    return prefix"
      ]
    },
    {
      "cell_type": "code",
      "execution_count": 129,
      "metadata": {
        "id": "v4dVgU5jIoU9",
        "colab": {
          "base_uri": "https://localhost:8080/"
        },
        "outputId": "d3a2c874-9e80-457c-df36-b50d520e9f82"
      },
      "outputs": [
        {
          "output_type": "stream",
          "name": "stdout",
          "text": [
            "Nucleus sampling with CNN model\n",
            "\n",
            "Nucleus value = 0.5\n",
            " Complexity of Structured Speech Recognition and More Probabilistic Models ; The constraint that are experiently for the maps of a popular process of properties in the discourse of problems with a probabilistic detection of convolutional neural networks are not be introduced to the segmentation of th\n",
            " Learning Segmentation of Segmentation in Social Statistics ; We consider the most context of the approach to compute the field of machine learning in computational experts of a probabilistic descriptor in a sequence of computer vision problems. The mapping of stochastic analysis is compared to such \n",
            " Learning Sparse Analysis for Sparse Sparsing State Segmentation ; The semantic system is a probability of the research to the sentence of point structures of such problems. The approach is a complete set of a control that are increasingly specifically applied to the relational sparse and experimenta\n",
            " Tool in an autonomous of social methods ; We propose a social method to entire process of the context of a point state of the problem of detection and implementations are the distribution of the problem. The state of speech recognition is a method to a proper to context on a computational sparse of \n",
            " An Interest of Artificial Learning with A Complex Sensitive Approach ; We propose a theoretical order to produce a computational construction for computational datasets in the context of an efficity to analyze the context structure. In this paper, we propose a more computational model of a problem o\n",
            "\n",
            "Nucleus value = 0.6\n",
            " Sentence Decomposition for Multiple Markov Analysis ; Algorithm that performance can also develop support to state of computer ordering approaches for the transformation that serves of a different class a point particular distribution of the exploration and such a linear theoretical strong to provid\n",
            " Multi-Dimensional Distribution with Events with Computational Complexity ; The same state-of-the-art data is proposed to derive simultaneously extensions are used in model selection problem (resears. Here introduces in constructing the proposed performance of many constraints that the posterior from\n",
            " The Extraction with Point Decision Retrieval for Extraction ;ou Manifold Memory for   Surference for Speech Computational Completion ; In this paper, we propose a fore in a distributed search to be also considered by such and accuracy for machine learning model and person which is contextually invol\n",
            " Deep Neural Networks for Rolernative Approaches ; In this paper, we propose a sequence of parallelisation algorithms that provides a majority of complex superior detection and an input approach for experimental approaches in statistical point models of distributed and the analysis of most provides a\n",
            " Essumption of Graph and Content-or Decision ; The supervised performance of the function algorithm is contrast of speech studies and allorithms with detecting patterns that allow an increase and sentence in more to the target are enabled in the original structure for machine learning. Here, we propo\n",
            "\n",
            "Nucleus value = 0.7\n",
            " Maximum Clustering (LDMM) by Bayesian Machine Sparse Supervised Single Axgression   Reconstructions ; Monotonous computer speech algorithms (capacle (AUSIM has a simple important tool in order summarizations. We study medical energy context and effective are provided by carronotonic analysis is more\n",
            " Automatic Estimation and Montological Transfer Image Marker Decomposition ; In this paper introduces a neural network to internales computational interaction for dependencies of prediction scale algorithms are computationally developed to model such as process studies. We propose that several encrep\n",
            " Sparse Learning (PAEGS and Son-Approximation Mechanisms ; The representation that they serves a description of component algorithms to the distance is instead, they so a multi-dimensional constraint information problem. The image is provided in the automatic disease, are estimated in constraint sens\n",
            " Optimization and a Set of approximation ; We consider a major analysis of an instances of deep neural optimization or facial context standard maximization that also rely as object classification. We present a novel toor sequence is to extract the complex training processes which developed the constr\n",
            " Construction of Learning Compression Experimental Strategies ; We study the computer random interest from context algorithms are derived from devision methods have been proved for pursourcy by different more specific studies. We present an improved topic and manifold are about and different image tr\n",
            "\n",
            "Nucleus value = 0.8\n",
            " Extensional Nodes beide Regression Approaches ; In additional corpusses products have active memory as fality analysis have treated efficiency, our continuent formulae, search domains, interesting efficiently and optimizes of a formalism well-known functions. Such stochastic features, as suchay, whe\n",
            " Stochastic Properties of Inference Adversarial Learning with Causal Correspondences of The Study   for The Implication for Poly-Also Memory   Features ; We adapt the cloud topolocical segmentation of our resolution interactions are computationally interesting to experts the taple-persistent variable\n",
            " Order-Non-Position Association Using Features   Camera   only Tood on Segmentation ; This artificis and representations approach to perform data piecewise modeling is possible in the signers of the can interaction testing. Forecesting process called recently, hierarchical examples called targeting t\n",
            " Re the Particularly Temporal Exploiting Temporal Routeristodic Evolution of Development Process in Reasoning ; Measure of different intelligent reconstructions for only user each algorithm, it significantly, where algorithms can apply domains competing many of image differences in ontology. On the c\n",
            " Fuzzy a Model Evolutionary Estimation Using a New Identification Model for Local Normal   Component Posteriors   Model Representation and Many Respect Positions ; Commard spatial costs, increasingly object variables with the time-point complex concepts. Sequence learning methods for component signif\n",
            "\n",
            "Nucleus value = 0.9\n",
            " Termal-automatic Bighorteating Opper-Telput Sum-time Po Optical Lickpared   Veribrability Surfaces in Max Synthesis: and   How-Main-Suronocy-sumble Multiple Algorithm where Lexical Scordalities ; Oun fingually, hoch learned uptass, fall-effectively optical storacating dimensions been ite. We prevely\n",
            " Relayions Cressour Generative field scalarly Paportise Foleriated Actions in   Takes Significantly, Binary Elgebues is LSI Aractive ; We enables collaboratically introductional foeld corefards bayed essential poor suffers, do performance of case, to medicate recurrent models. It combine these multi-\n",
            " Global Dongs (Net Digidorighisms Training Time-vocalization Settence for Flant-Vayious Person, Fast Futon Images is Vehy Notcomogy Even Denoireneity of Tike Estimation   Bounds of Data   Gramsmest Bayesian Environments   from Gradiciant Programs of Accurately, Gaussian Training Returnes with Trans  \n",
            " Subtoul data matterized elitivinian functions using generated perturbing mutear ophy medamating changes ; Cloud-tree-code by very intensity data driven by more graphs when each catch perspects retrieval to any well-two insentiated arguments. Frow spocks simule is resters for rark, whows whose closit\n",
            " Using With Loorseppect Perperts to   Barediens from Vulnering Object and testure Group Models   With Impurtature Scenes ; Surneted A robot optimisation from nave-goal-calculus, it plipsizing for buttle hom to efficient interactive wayesian machines. Approximating simpler, normal set regression, main\n",
            "\n"
          ]
        }
      ],
      "source": [
        "nucleus_values = (0.5, 0.6, 0.7, 0.8, 0.9)\n",
        "\n",
        "print('Nucleus sampling with CNN model\\n')\n",
        "\n",
        "for nucleus in nucleus_values:\n",
        "    print('Nucleus value = {}'.format(nucleus))\n",
        "    for i in range(5):\n",
        "        print(generate_nucleus(rnn_model, nucleus=nucleus, max_len=300))\n",
        "    print()"
      ]
    },
    {
      "cell_type": "markdown",
      "metadata": {
        "id": "SwrKcsTPIoU-"
      },
      "source": [
        "### Bonus quest I: Beam Search (2 pts incl. samples)\n",
        "\n",
        "At times, you don't really want the model to generate diverse outputs as much as you want a __single most likely hypothesis.__ A single best translation, most likely continuation of the search query given prefix, etc. Except, you can't get it. \n",
        "\n",
        "In order to find the exact most likely sequence containing 10 tokens, you would need to enumerate all $|V|^{10}$ possible hypotheses. In practice, 9 times out of 10 you will instead find an approximate most likely output using __beam search__.\n",
        "\n",
        "Here's how it works:\n",
        "0. Initial `beam` = [prefix], max beam_size = k\n",
        "1. for T steps:\n",
        "2. ` ... ` generate all possible next tokens for all hypotheses in beam, formulate `len(beam) * len(vocab)` candidates\n",
        "3. ` ... ` select beam_size best for all candidates as new `beam`\n",
        "4. Select best hypothesis (-es?) from beam"
      ]
    },
    {
      "cell_type": "code",
      "execution_count": 140,
      "metadata": {
        "id": "OLTJ3G8JIoU-",
        "colab": {
          "base_uri": "https://localhost:8080/",
          "height": 1000
        },
        "outputId": "05ae8ea5-88d3-4361-ce13-b05d8c8c7425"
      },
      "outputs": [
        {
          "output_type": "execute_result",
          "data": {
            "text/plain": [
              "<IPython.core.display.HTML object>"
            ],
            "text/html": [
              "\n",
              "<!DOCTYPE html>\n",
              "<html lang=\"en\">\n",
              "    <head>\n",
              "        <meta charset=\"utf-8\">\n",
              "        <title>Bokeh Plot</title>\n",
              "        \n",
              "<link rel=\"stylesheet\" href=\"https://cdn.pydata.org/bokeh/release/bokeh-0.12.7.min.css\" type=\"text/css\" />\n",
              "        \n",
              "<script type=\"text/javascript\" src=\"https://cdn.pydata.org/bokeh/release/bokeh-0.12.7.min.js\"></script>\n",
              "<script type=\"text/javascript\">\n",
              "    Bokeh.set_log_level(\"info\");\n",
              "</script>\n",
              "        <style>\n",
              "          html {\n",
              "            width: 100%;\n",
              "            height: 100%;\n",
              "          }\n",
              "          body {\n",
              "            width: 90%;\n",
              "            height: 100%;\n",
              "            margin: auto;\n",
              "          }\n",
              "        </style>\n",
              "    </head>\n",
              "    <body>\n",
              "        \n",
              "        <div class=\"bk-root\">\n",
              "            <div class=\"bk-plotdiv\" id=\"ff8c3f31-952d-4c2f-8b58-13e7cec51b58\"></div>\n",
              "        </div>\n",
              "        \n",
              "        <script type=\"text/javascript\">\n",
              "            (function() {\n",
              "          var fn = function() {\n",
              "            Bokeh.safely(function() {\n",
              "              var docs_json = {\"ba84f797-d201-498d-a731-5adafa5447b7\":{\"roots\":{\"references\":[{\"attributes\":{\"plot\":null,\"text\":\"Beam search\"},\"id\":\"5af81591-5793-4721-a459-e0a4ca700855\",\"type\":\"Title\"},{\"attributes\":{\"fill_alpha\":{\"value\":0.1},\"fill_color\":{\"value\":\"#1f77b4\"},\"line_alpha\":{\"value\":0.1},\"line_color\":{\"value\":\"#1f77b4\"},\"line_width\":{\"field\":\"line_width\"},\"size\":{\"units\":\"screen\",\"value\":24},\"x\":{\"field\":\"x\"},\"y\":{\"field\":\"y\"}},\"id\":\"43ae4eb3-d229-4335-a758-a5d18149bd65\",\"type\":\"Circle\"},{\"attributes\":{\"bounds\":[-10.0,20.0],\"callback\":null,\"end\":12,\"js_property_callbacks\":{\"change:end\":[{\"id\":\"eab13fb4-9405-4d14-8bf6-46c6f698b4bb\",\"type\":\"CustomJS\"}]},\"start\":-1},\"id\":\"14e9976c-9458-4bce-be96-da2f3c304cec\",\"type\":\"Range1d\"},{\"attributes\":{\"source\":{\"id\":\"53346d3c-7b75-4689-95d1-c395b23fa5b8\",\"type\":\"ColumnDataSource\"}},\"id\":\"2e9dcf01-3f79-4337-b7dd-26f0525180b9\",\"type\":\"CDSView\"},{\"attributes\":{\"data_source\":{\"id\":\"49a8987d-d307-4797-9fae-8ec771f76b48\",\"type\":\"ColumnDataSource\"},\"glyph\":{\"id\":\"08bbcb52-00b5-4803-9e7a-9252db09708d\",\"type\":\"Text\"},\"hover_glyph\":null,\"muted_glyph\":null,\"name\":\"tokens\",\"nonselection_glyph\":{\"id\":\"3621fd59-3cb3-4305-8802-6f7f75a23fd6\",\"type\":\"Text\"},\"selection_glyph\":null,\"view\":{\"id\":\"ddf587aa-019f-43a1-af8c-52144e732785\",\"type\":\"CDSView\"}},\"id\":\"a2ab1853-0966-4519-874f-956f801f1c72\",\"type\":\"GlyphRenderer\"},{\"attributes\":{\"callback\":null,\"column_names\":[\"id\",\"parent_id\",\"children_ids\",\"is_best\",\"depth\",\"hypo_i\",\"token\",\"token_id\",\"x\",\"y\",\"circle_fill_color\",\"line_color\",\"line_width\",\"edge_xx\",\"edge_yy\",\"token_text\",\"token_font_size\",\"hypo_i_text\",\"hypo_i_offset\",\"_on_hover_token\",\"_on_hover_token_id\",\"_on_hover_score\"],\"data\":{\"_on_hover_score\":[\"-4.7282\",\"-4.2071\",\"-4.8782\",\"-1.3577\",\"-4.0420\",\"-4.2097\",\"-4.5624\",\"-3.2410\",\"-6.9225\",\"-4.6717\",\"-2.8497\",\"-3.8023\",\"-4.1460\",\"-3.6443\",\"-4.3135\",\"-4.7070\",\"-3.1373\",\"-4.5105\",\"-6.1526\",\"-3.0974\",\"-3.7421\",\"-3.4956\",\"0.0000\",\"-5.2694\",\"-4.4104\",\"-6.1752\",\"-3.7617\",\"-4.6281\",\"-6.5626\",\"-3.7175\",\"-0.7384\",\"-4.5439\",\"-5.2967\",\"-3.6831\",\"-5.2153\",\"-3.7830\",\"-3.1335\",\"-0.8716\",\"-3.7312\",\"-3.8895\",\"-6.5984\"],\"_on_hover_token\":[\"_EOS_\",\"\\u043f\\u0440\\u0430\\u0432\\u0438\\u0442\\u0435\\u043b\\u044c\\u0441\\u0442\\u0432\\u043e\",\"\\u043e\\u0442\",\"\\u043f\\u043e\\u0434\\u0434\\u0435\\u0440\\u0436\\u0438\\u0432\\u0430\\u0435\\u0442\",\"\\u0442\\u0438\\u043c\\u043e\\u0448\\u0435\\u043d\\u043a\\u043e\",\"\\u043f\\u043e\\u0434\\u0434\\u0435\\u0440\\u0436\\u0438\\u0432\\u0430\\u0435\\u0442\",\"\\u0438\\u0437\\u043c\\u0435\\u043d\\u0435\\u043d\\u0438\\u0439\",\",\",\"\\u0443\\u043f\\u043b\\u0430\\u0442\\u044b\",\"\\u043e\\u0442\",\"\\u043e\\u0441\\u0432\\u043e\\u0431\\u043e\\u0436\\u0434\\u0435\\u043d\\u0438\\u0435\",\"\\u0432\",\"_EOS_\",\"\\u0432\\u044b\\u0441\\u0442\\u0443\\u043f\\u0430\\u0435\\u0442\",\"_EOS_\",\"\\u0442\\u0438\\u043c\\u043e\\u0448\\u0435\\u043d\\u043a\\u043e\",\"\\u043e\\u0442\",\"\\u043f\\u0430\\u0440\\u043b\\u0430\\u043c\\u0435\\u043d\\u0442\\u0435\",\"\\u043d\\u0430\\u043b\\u043e\\u0433\\u043e\\u0432\",\"\\u043f\\u043e\\u043f\\u0440\\u0430\\u0432\\u043a\\u0438\",\"\\u043d\\u0435\",\"\\u043f\\u043e\\u0434\\u0434\\u0435\\u0440\\u0436\",\"<empty>\",\"\\u043f\\u043e\\u043f\\u0440\\u0430\\u0432\\u043e\\u043a\",\"\\u0442\\u0438\\u043c\\u043e\\u0448\\u0435\\u043d\\u043a\\u043e\",\".\",\"\\u043f\\u043e\\u043f\\u0440\\u0430\\u0432\\u043e\\u043a\",\"\\u043d\\u0435\",\"\\u043e\\u0442\\u0432\\u0435\\u0442\\u0441\\u0442\\u0432\\u0435\\u043d\\u043d\\u043e\\u0441\\u0442\\u0438\",\"\\u0437\\u0430\",\"\\u043f\\u0430\\u0440\\u043b\\u0430\\u043c\\u0435\\u043d\\u0442\",\",\",\"\\u043e\\u0442\",\"`\\u0430\\u044e\\u0449\\u0438\\u0435\",\"_EOS_\",\"\\u043e\\u0441\\u0432\\u043e\\u0431\\u043e\\u0436\\u0434\",\"\\u043f\\u043e\\u0434\\u0434\\u0435\\u0440\\u0436\\u0430\\u043b\",\"\\u043d\\u0435\",\"\\u0438\\u0437\\u043c\\u0435\\u043d\\u0435\\u043d\\u0438\\u0435\",\"\\u043e\\u0441\\u0432\\u043e\\u0431\\u043e\\u0436\\u0434\\u0435\\u043d\\u0438\\u0435\",\"\\u043f\\u0440\\u0435\\u0442\\u0435\\u043d\\u0437\\u0438\\u0439\"],\"_on_hover_token_id\":[1,780,25,2482,15356,2482,1879,3,17084,25,13862,5,1,7691,1,15356,25,15328,4255,11685,11,3487,-1,21342,15356,4,21342,11,1781,30,3622,3,25,1078,1,5093,26478,11,2451,13862,22624],\"children_ids\":[[],[[2,3]],[[10,3],[10,2],[10,1],[10,0]],[[4,3],[4,1],[4,0]],[[9,3],[9,1],[9,0]],[],[],[[6,1]],[],[[8,2]],[[5,0]],[[2,2]],[],[[4,2]],[],[[7,2]],[[6,2],[6,0]],[],[],[[5,1]],[[2,1]],[],[[1,3],[1,2],[1,1],[1,0]],[[9,2]],[[8,1]],[],[[7,3],[7,1]],[],[],[[5,2]],[[2,0]],[],[],[[8,3],[8,0]],[],[[7,0]],[],[[3,3],[3,2],[3,1],[3,0]],[[5,3]],[[6,3]],[]],\"circle_fill_color\":[\"#87CEEB\",\"#87CEEB\",\"#87CEEB\",\"#87CEEB\",\"#87CEEB\",\"#87CEEB\",\"#87CEEB\",\"#87CEEB\",\"#87CEEB\",\"#87CEEB\",\"#87CEEB\",\"#87CEEB\",\"#87CEEB\",\"#87CEEB\",\"#87CEEB\",\"#87CEEB\",\"#87CEEB\",\"#87CEEB\",\"#87CEEB\",\"#87CEEB\",\"#87CEEB\",\"#87CEEB\",\"#87CEEB\",\"#87CEEB\",\"#87CEEB\",\"#87CEEB\",\"#87CEEB\",\"#87CEEB\",\"#87CEEB\",\"#87CEEB\",\"#87CEEB\",\"#87CEEB\",\"#87CEEB\",\"#87CEEB\",\"#87CEEB\",\"#87CEEB\",\"#87CEEB\",\"#87CEEB\",\"#87CEEB\",\"#87CEEB\",\"#87CEEB\"],\"depth\":[7,1,9,3,8,2,6,5,10,7,4,1,9,3,8,6,5,2,10,4,1,3,0,8,7,9,6,2,10,4,1,5,8,7,9,6,3,2,4,5,10],\"edge_xx\":[[6.0,7.0],[0.0,1.0],[8.0,9.0],[2.0,3.0],[7.0,8.0],[1.0,2.0],[5.0,6.0],[4.0,5.0],[9.0,10.0],[6.0,7.0],[3.0,4.0],[0.0,1.0],[8.0,9.0],[2.0,3.0],[7.0,8.0],[5.0,6.0],[4.0,5.0],[1.0,2.0],[9.0,10.0],[3.0,4.0],[0.0,1.0],[2.0,3.0],[0.0,0.0],[7.0,8.0],[6.0,7.0],[8.0,9.0],[5.0,6.0],[1.0,2.0],[9.0,10.0],[3.0,4.0],[0.0,1.0],[4.0,5.0],[7.0,8.0],[6.0,7.0],[8.0,9.0],[5.0,6.0],[2.0,3.0],[1.0,2.0],[3.0,4.0],[4.0,5.0],[9.0,10.0]],\"edge_yy\":[[4.833333333333333,4.333333333333333],[0.0,-1.5],[3.333333333333333,3.333333333333333],[1.5,3.0],[2.833333333333333,3.333333333333333],[0.5,0.5],[4.333333333333333,3.833333333333333],[2.833333333333333,2.833333333333333],[3.333333333333333,1.833333333333333],[0.0,0.0],[3.0,4.333333333333333],[0.0,-0.5],[3.333333333333333,4.333333333333333],[1.5,0.0],[5.333333333333333,5.333333333333333],[0.0,0.0],[4.333333333333333,4.333333333333333],[-0.5,-0.5],[3.333333333333333,4.833333333333333],[3.0,2.833333333333333],[0.0,0.5],[1.5,1.0],[0.0,0.0],[0.0,0.0],[4.833333333333333,5.333333333333333],[3.333333333333333,2.333333333333333],[4.333333333333333,4.833333333333333],[-1.5,-1.5],[3.333333333333333,3.833333333333333],[0.0,0.0],[0.0,1.5],[1.8333333333333333,1.8333333333333333],[2.833333333333333,2.333333333333333],[2.833333333333333,2.833333333333333],[0.0,0.0],[2.833333333333333,2.833333333333333],[1.5,2.0],[1.5,1.5],[3.0,1.8333333333333333],[0.0,0.0],[3.333333333333333,2.833333333333333]],\"hypo_i\":[3,3,1,0,0,1,2,1,3,2,0,2,0,3,1,3,0,2,0,1,1,2,0,2,1,3,0,3,1,2,0,3,3,0,2,1,1,0,3,2,2],\"hypo_i_offset\":[-8,-8,-8,-8,-8,-8,-8,-8,-8,-8,-8,-8,-8,-8,-8,-8,-8,-8,-8,-8,-8,-8,-8,-8,-8,-8,-8,-8,-8,-8,-8,-8,-8,-8,-8,-8,-8,-8,-8,-8,-8],\"hypo_i_text\":[\"#3\",\"#3\",\"#1\",\"#0\",\"#0\",\"#1\",\"#2\",\"#1\",\"#3\",\"#2\",\"#0\",\"#2\",\"#0\",\"#3\",\"#1\",\"#3\",\"#0\",\"#2\",\"#0\",\"#1\",\"#1\",\"#2\",\"#0\",\"#2\",\"#1\",\"#3\",\"#0\",\"#3\",\"#1\",\"#2\",\"#0\",\"#3\",\"#3\",\"#0\",\"#2\",\"#1\",\"#1\",\"#0\",\"#3\",\"#2\",\"#2\"],\"id\":[[7,3],[1,3],[9,1],[3,0],[8,0],[2,1],[6,2],[5,1],[10,3],[7,2],[4,0],[1,2],[9,0],[3,3],[8,1],[6,3],[5,0],[2,2],[10,0],[4,1],[1,1],[3,2],[0,0],[8,2],[7,1],[9,3],[6,0],[2,3],[10,1],[4,2],[1,0],[5,3],[8,3],[7,0],[9,2],[6,1],[3,1],[2,0],[4,3],[5,2],[10,2]],\"is_best\":[false,false,false,true,true,false,false,true,false,false,false,false,true,false,false,false,false,false,false,true,false,false,true,false,false,false,false,false,false,false,true,false,false,true,false,true,false,true,false,false,false],\"line_color\":[\"navy\",\"navy\",\"navy\",\"navy\",\"navy\",\"navy\",\"navy\",\"navy\",\"navy\",\"navy\",\"navy\",\"navy\",\"navy\",\"navy\",\"navy\",\"navy\",\"navy\",\"navy\",\"navy\",\"navy\",\"navy\",\"navy\",\"navy\",\"navy\",\"navy\",\"navy\",\"navy\",\"navy\",\"navy\",\"navy\",\"navy\",\"navy\",\"navy\",\"navy\",\"navy\",\"navy\",\"navy\",\"navy\",\"navy\",\"navy\",\"navy\"],\"line_width\":[1,1,1,3,3,1,1,3,1,1,1,1,3,1,1,1,1,1,1,3,1,1,3,1,1,1,1,1,1,1,3,1,1,3,1,3,1,3,1,1,1],\"parent_id\":[[6,0],[0,0],[8,0],[2,0],[7,0],[1,1],[5,0],[4,1],[9,1],[6,3],[3,0],[0,0],[8,0],[2,0],[7,1],[5,2],[4,0],[1,2],[9,1],[3,0],[0,0],[2,0],[0,0],[7,2],[6,0],[8,0],[5,0],[1,3],[9,1],[3,3],[0,0],[4,3],[7,0],[6,1],[8,2],[5,1],[2,0],[1,0],[3,0],[4,2],[9,1]],\"token\":[\"_EOS_\",\"\\u043f\\u0440\\u0430\\u0432\\u0438\\u0442\\u0435\\u043b\\u044c\\u0441\\u0442\\u0432\\u043e\",\"\\u043e\\u0442\",\"\\u043f\\u043e\\u0434\\u0434\\u0435\\u0440\\u0436\\u0438\\u0432\\u0430\\u0435\\u0442\",\"\\u0442\\u0438\\u043c\\u043e\\u0448\\u0435\\u043d\\u043a\\u043e\",\"\\u043f\\u043e\\u0434\\u0434\\u0435\\u0440\\u0436\\u0438\\u0432\\u0430\\u0435\\u0442\",\"\\u0438\\u0437\\u043c\\u0435\\u043d\\u0435\\u043d\\u0438\\u0439\",\",\",\"\\u0443\\u043f\\u043b\\u0430\\u0442\\u044b\",\"\\u043e\\u0442\",\"\\u043e\\u0441\\u0432\\u043e\\u0431\\u043e\\u0436\\u0434\\u0435\\u043d\\u0438\\u0435\",\"\\u0432\",\"_EOS_\",\"\\u0432\\u044b\\u0441\\u0442\\u0443\\u043f\\u0430\\u0435\\u0442\",\"_EOS_\",\"\\u0442\\u0438\\u043c\\u043e\\u0448\\u0435\\u043d\\u043a\\u043e\",\"\\u043e\\u0442\",\"\\u043f\\u0430\\u0440\\u043b\\u0430\\u043c\\u0435\\u043d\\u0442\\u0435\",\"\\u043d\\u0430\\u043b\\u043e\\u0433\\u043e\\u0432\",\"\\u043f\\u043e\\u043f\\u0440\\u0430\\u0432\\u043a\\u0438\",\"\\u043d\\u0435\",\"\\u043f\\u043e\\u0434\\u0434\\u0435\\u0440\\u0436\",\"<empty>\",\"\\u043f\\u043e\\u043f\\u0440\\u0430\\u0432\\u043e\\u043a\",\"\\u0442\\u0438\\u043c\\u043e\\u0448\\u0435\\u043d\\u043a\\u043e\",\".\",\"\\u043f\\u043e\\u043f\\u0440\\u0430\\u0432\\u043e\\u043a\",\"\\u043d\\u0435\",\"\\u043e\\u0442\\u0432\\u0435\\u0442\\u0441\\u0442\\u0432\\u0435\\u043d\\u043d\\u043e\\u0441\\u0442\\u0438\",\"\\u0437\\u0430\",\"\\u043f\\u0430\\u0440\\u043b\\u0430\\u043c\\u0435\\u043d\\u0442\",\",\",\"\\u043e\\u0442\",\"`\\u0430\\u044e\\u0449\\u0438\\u0435\",\"_EOS_\",\"\\u043e\\u0441\\u0432\\u043e\\u0431\\u043e\\u0436\\u0434\",\"\\u043f\\u043e\\u0434\\u0434\\u0435\\u0440\\u0436\\u0430\\u043b\",\"\\u043d\\u0435\",\"\\u0438\\u0437\\u043c\\u0435\\u043d\\u0435\\u043d\\u0438\\u0435\",\"\\u043e\\u0441\\u0432\\u043e\\u0431\\u043e\\u0436\\u0434\\u0435\\u043d\\u0438\\u0435\",\"\\u043f\\u0440\\u0435\\u0442\\u0435\\u043d\\u0437\\u0438\\u0439\"],\"token_font_size\":[\"14px\",\"14px\",\"14px\",\"14px\",\"14px\",\"14px\",\"14px\",\"14px\",\"14px\",\"14px\",\"14px\",\"14px\",\"14px\",\"14px\",\"14px\",\"14px\",\"14px\",\"14px\",\"14px\",\"14px\",\"14px\",\"14px\",\"14px\",\"14px\",\"14px\",\"14px\",\"14px\",\"14px\",\"14px\",\"14px\",\"14px\",\"14px\",\"14px\",\"14px\",\"14px\",\"14px\",\"14px\",\"14px\",\"14px\",\"14px\",\"14px\"],\"token_id\":[1,780,25,2482,15356,2482,1879,3,17084,25,13862,5,1,7691,1,15356,25,15328,4255,11685,11,3487,-1,21342,15356,4,21342,11,1781,30,3622,3,25,1078,1,5093,26478,11,2451,13862,22624],\"token_text\":[\"_EOS_\",\"\\u043f\\u0440\\u0430\\u0432\\u0438\\u0442\\u0435\\u043b\\u044c\\u0441\\u0442\\u0432\\u043e\",\"\\u043e\\u0442\",\"\\u043f\\u043e\\u0434\\u0434\\u0435\\u0440\\u0436\\u0438\\u0432\\u0430\\u0435\\u0442\",\"\\u0442\\u0438\\u043c\\u043e\\u0448\\u0435\\u043d\\u043a\\u043e\",\"\\u043f\\u043e\\u0434\\u0434\\u0435\\u0440\\u0436\\u0438\\u0432\\u0430\\u0435\\u0442\",\"\\u0438\\u0437\\u043c\\u0435\\u043d\\u0435\\u043d\\u0438\\u0439\",\",\",\"\\u0443\\u043f\\u043b\\u0430\\u0442\\u044b\",\"\\u043e\\u0442\",\"\\u043e\\u0441\\u0432\\u043e\\u0431\\u043e\\u0436\\u0434\\u0435\\u043d\\u0438\\u0435\",\"\\u0432\",\"_EOS_\",\"\\u0432\\u044b\\u0441\\u0442\\u0443\\u043f\\u0430\\u0435\\u0442\",\"_EOS_\",\"\\u0442\\u0438\\u043c\\u043e\\u0448\\u0435\\u043d\\u043a\\u043e\",\"\\u043e\\u0442\",\"\\u043f\\u0430\\u0440\\u043b\\u0430\\u043c\\u0435\\u043d\\u0442\\u0435\",\"\\u043d\\u0430\\u043b\\u043e\\u0433\\u043e\\u0432\",\"\\u043f\\u043e\\u043f\\u0440\\u0430\\u0432\\u043a\\u0438\",\"\\u043d\\u0435\",\"\\u043f\\u043e\\u0434\\u0434\\u0435\\u0440\\u0436\",\"<empty>\",\"\\u043f\\u043e\\u043f\\u0440\\u0430\\u0432\\u043e\\u043a\",\"\\u0442\\u0438\\u043c\\u043e\\u0448\\u0435\\u043d\\u043a\\u043e\",\".\",\"\\u043f\\u043e\\u043f\\u0440\\u0430\\u0432\\u043e\\u043a\",\"\\u043d\\u0435\",\"\\u043e\\u0442\\u0432\\u0435\\u0442\\u0441\\u0442\\u0432\\u0435\\u043d\\u043d\\u043e\\u0441\\u0442\\u0438\",\"\\u0437\\u0430\",\"\\u043f\\u0430\\u0440\\u043b\\u0430\\u043c\\u0435\\u043d\\u0442\",\",\",\"\\u043e\\u0442\",\"`\\u0430\\u044e\\u0449\\u0438\\u0435\",\"_EOS_\",\"\\u043e\\u0441\\u0432\\u043e\\u0431\\u043e\\u0436\\u0434\",\"\\u043f\\u043e\\u0434\\u0434\\u0435\\u0440\\u0436\\u0430\\u043b\",\"\\u043d\\u0435\",\"\\u0438\\u0437\\u043c\\u0435\\u043d\\u0435\\u043d\\u0438\\u0435\",\"\\u043e\\u0441\\u0432\\u043e\\u0431\\u043e\\u0436\\u0434\\u0435\\u043d\\u0438\\u0435\",\"\\u043f\\u0440\\u0435\\u0442\\u0435\\u043d\\u0437\\u0438\\u0439\"],\"x\":[7.0,1.0,9.0,3.0,8.0,2.0,6.0,5.0,10.0,7.0,4.0,1.0,9.0,3.0,8.0,6.0,5.0,2.0,10.0,4.0,1.0,3.0,0.0,8.0,7.0,9.0,6.0,2.0,10.0,4.0,1.0,5.0,8.0,7.0,9.0,6.0,3.0,2.0,4.0,5.0,10.0],\"y\":[4.333333333333333,-1.5,3.333333333333333,3.0,3.333333333333333,0.5,3.833333333333333,2.833333333333333,1.833333333333333,0.0,4.333333333333333,-0.5,4.333333333333333,0.0,5.333333333333333,0.0,4.333333333333333,-0.5,4.833333333333333,2.833333333333333,0.5,1.0,0.0,0.0,5.333333333333333,2.333333333333333,4.833333333333333,-1.5,3.833333333333333,0.0,1.5,1.8333333333333333,2.333333333333333,2.833333333333333,0.0,2.833333333333333,2.0,1.5,1.8333333333333333,0.0,2.833333333333333]}},\"id\":\"53346d3c-7b75-4689-95d1-c395b23fa5b8\",\"type\":\"ColumnDataSource\"},{\"attributes\":{\"active_drag\":\"auto\",\"active_inspect\":\"auto\",\"active_scroll\":{\"id\":\"09035c87-81aa-4e21-b586-281eec2ac195\",\"type\":\"WheelZoomTool\"},\"active_tap\":\"auto\",\"tools\":[{\"id\":\"ca8bf926-99b6-41f8-aa58-31f717609a35\",\"type\":\"PanTool\"},{\"id\":\"0170b055-6020-406e-b0a6-9a42a9bb2816\",\"type\":\"BoxZoomTool\"},{\"id\":\"09035c87-81aa-4e21-b586-281eec2ac195\",\"type\":\"WheelZoomTool\"},{\"id\":\"e4e04654-061b-4633-a71e-1c9003f6bda9\",\"type\":\"WheelZoomTool\"},{\"id\":\"7d459b4a-fdec-48b5-bc95-828fb94c3c34\",\"type\":\"SaveTool\"},{\"id\":\"cacbfd1a-7e88-471a-a3c1-bc588c6af09c\",\"type\":\"ResetTool\"},{\"id\":\"7a2caa64-375a-466a-8caf-c9f17555b42d\",\"type\":\"HoverTool\"}]},\"id\":\"58f26099-07c1-4f46-ba5f-eec6d745dd12\",\"type\":\"Toolbar\"},{\"attributes\":{\"data_source\":{\"id\":\"53346d3c-7b75-4689-95d1-c395b23fa5b8\",\"type\":\"ColumnDataSource\"},\"glyph\":{\"id\":\"dd1456df-a3c2-4dcc-a8aa-769ac1a8a3b2\",\"type\":\"Circle\"},\"hover_glyph\":null,\"muted_glyph\":null,\"name\":\"vertices\",\"nonselection_glyph\":{\"id\":\"43ae4eb3-d229-4335-a758-a5d18149bd65\",\"type\":\"Circle\"},\"selection_glyph\":null,\"view\":{\"id\":\"2e9dcf01-3f79-4337-b7dd-26f0525180b9\",\"type\":\"CDSView\"}},\"id\":\"eb321d59-0d82-41f4-966f-a84597d90781\",\"type\":\"GlyphRenderer\"},{\"attributes\":{\"source\":{\"id\":\"49a8987d-d307-4797-9fae-8ec771f76b48\",\"type\":\"ColumnDataSource\"}},\"id\":\"b0f21dbb-aa92-495c-9a38-9881564a3daa\",\"type\":\"CDSView\"},{\"attributes\":{},\"id\":\"a3e71058-805b-4461-9009-2e76107d0dad\",\"type\":\"LinearScale\"},{\"attributes\":{},\"id\":\"eabb5e31-0740-4852-bcac-887155d4c0fc\",\"type\":\"LinearScale\"},{\"attributes\":{\"source\":{\"id\":\"49a8987d-d307-4797-9fae-8ec771f76b48\",\"type\":\"ColumnDataSource\"}},\"id\":\"ddf587aa-019f-43a1-af8c-52144e732785\",\"type\":\"CDSView\"},{\"attributes\":{\"axis_label\":\"decoding step (aka output length)\",\"formatter\":{\"id\":\"f3857a7d-2e4f-4ce0-b897-cec5490c8436\",\"type\":\"BasicTickFormatter\"},\"plot\":{\"id\":\"327205fd-12df-449f-9614-e6816136cb23\",\"subtype\":\"Figure\",\"type\":\"Plot\"},\"ticker\":{\"id\":\"859d93b7-acac-4853-be74-6f20da679d8b\",\"type\":\"SingleIntervalTicker\"}},\"id\":\"84db9569-9f28-4a47-82c8-bfa01402aeb6\",\"type\":\"LinearAxis\"},{\"attributes\":{\"text\":{\"field\":\"token_text\"},\"text_align\":\"center\",\"text_color\":{\"value\":\"black\"},\"text_font_size\":{\"field\":\"token_font_size\"},\"x\":{\"field\":\"x\"},\"y\":{\"field\":\"y\"},\"y_offset\":{\"value\":-10}},\"id\":\"d4854422-d3bc-43fa-b7c0-a791e40b8a05\",\"type\":\"Text\"},{\"attributes\":{},\"id\":\"ca8bf926-99b6-41f8-aa58-31f717609a35\",\"type\":\"PanTool\"},{\"attributes\":{\"source\":{\"id\":\"53346d3c-7b75-4689-95d1-c395b23fa5b8\",\"type\":\"ColumnDataSource\"}},\"id\":\"a931ac6d-24c6-489e-873f-3785a4f5cec4\",\"type\":\"CDSView\"},{\"attributes\":{\"bounds\":[-11.5,15.333333333333332],\"callback\":null,\"range_padding\":1.0,\"range_padding_units\":\"absolute\"},\"id\":\"b765029c-d346-49e8-b769-3c8155e12984\",\"type\":\"DataRange1d\"},{\"attributes\":{\"interval\":1},\"id\":\"859d93b7-acac-4853-be74-6f20da679d8b\",\"type\":\"SingleIntervalTicker\"},{\"attributes\":{\"text\":{\"field\":\"hypo_i_text\"},\"text_align\":\"center\",\"text_baseline\":\"middle\",\"text_color\":{\"value\":\"black\"},\"text_font_size\":{\"value\":\"12px\"},\"text_font_style\":\"bold\",\"x\":{\"field\":\"x\"},\"y\":{\"field\":\"y\"}},\"id\":\"323b0eea-1d7f-4a0d-84fe-74a9d6ac6b56\",\"type\":\"Text\"},{\"attributes\":{\"below\":[{\"id\":\"13a5308f-70ad-452e-af22-43861fd0cb71\",\"type\":\"LinearAxis\"}],\"plot_width\":900,\"renderers\":[{\"id\":\"59657239-6604-4439-8bf1-83a5ab659d4a\",\"type\":\"BoxAnnotation\"},{\"id\":\"13a5308f-70ad-452e-af22-43861fd0cb71\",\"type\":\"LinearAxis\"},{\"id\":\"004b26cb-f235-4bd3-9464-2eed25a63945\",\"type\":\"Grid\"},{\"id\":\"0657e055-fa58-43fe-a3b8-b2b719174d8a\",\"type\":\"GlyphRenderer\"},{\"id\":\"eb321d59-0d82-41f4-966f-a84597d90781\",\"type\":\"GlyphRenderer\"},{\"id\":\"6ac35546-2a42-40c8-aa62-146d57d2f556\",\"type\":\"GlyphRenderer\"},{\"id\":\"5a71f9c4-4314-4eda-a1d8-25124c2b23d2\",\"type\":\"GlyphRenderer\"}],\"title\":{\"id\":\"f04dd0c6-c641-4580-87f7-c0f878d1c0e6\",\"type\":\"Title\"},\"toolbar\":{\"id\":\"3175d402-0679-462f-b9d4-d947ff7ad2b3\",\"type\":\"Toolbar\"},\"toolbar_location\":\"above\",\"x_range\":{\"id\":\"a5cebe80-c44b-4d0a-aae2-c2f3b9ef2475\",\"type\":\"Range1d\"},\"x_scale\":{\"id\":\"d8a43b51-3e35-4c6f-bb08-c7be8e8c3ce2\",\"type\":\"LinearScale\"},\"y_range\":{\"id\":\"b765029c-d346-49e8-b769-3c8155e12984\",\"type\":\"DataRange1d\"},\"y_scale\":{\"id\":\"a0929048-0a2d-4f8f-8d58-e4a6d0106ad1\",\"type\":\"LinearScale\"}},\"id\":\"91387928-8f01-4237-9a5d-24f1d6f93c23\",\"subtype\":\"Figure\",\"type\":\"Plot\"},{\"attributes\":{\"bottom_units\":\"screen\",\"fill_alpha\":{\"value\":0.5},\"fill_color\":{\"value\":\"lightgrey\"},\"left_units\":\"screen\",\"level\":\"overlay\",\"line_alpha\":{\"value\":1.0},\"line_color\":{\"value\":\"black\"},\"line_dash\":[4,4],\"line_width\":{\"value\":2},\"plot\":null,\"render_mode\":\"css\",\"right_units\":\"screen\",\"top_units\":\"screen\"},\"id\":\"8033ebc0-a196-49a8-acdc-dbc0ae3fcf54\",\"type\":\"BoxAnnotation\"},{\"attributes\":{\"data_source\":{\"id\":\"53346d3c-7b75-4689-95d1-c395b23fa5b8\",\"type\":\"ColumnDataSource\"},\"glyph\":{\"id\":\"d4854422-d3bc-43fa-b7c0-a791e40b8a05\",\"type\":\"Text\"},\"hover_glyph\":null,\"muted_glyph\":null,\"name\":\"tokens\",\"nonselection_glyph\":{\"id\":\"17a29716-8304-471c-9f48-6dd74ade100a\",\"type\":\"Text\"},\"selection_glyph\":null,\"view\":{\"id\":\"5d7f1257-5695-4ee0-8fe7-f29e498f83c7\",\"type\":\"CDSView\"}},\"id\":\"6ac35546-2a42-40c8-aa62-146d57d2f556\",\"type\":\"GlyphRenderer\"},{\"attributes\":{\"text\":{\"field\":\"hypo_i_text\"},\"text_align\":\"center\",\"text_alpha\":{\"value\":0.1},\"text_baseline\":\"middle\",\"text_color\":{\"value\":\"black\"},\"text_font_size\":{\"value\":\"12px\"},\"text_font_style\":\"bold\",\"x\":{\"field\":\"x\"},\"y\":{\"field\":\"y\"}},\"id\":\"a10f3b4a-982e-4c44-b026-f8088199fe6f\",\"type\":\"Text\"},{\"attributes\":{\"plot\":{\"id\":\"327205fd-12df-449f-9614-e6816136cb23\",\"subtype\":\"Figure\",\"type\":\"Plot\"},\"ticker\":{\"id\":\"21b07e0f-be09-4617-8f50-6b55adf59566\",\"type\":\"SingleIntervalTicker\"}},\"id\":\"d3dfd7db-0295-4068-89b6-6a86f9141772\",\"type\":\"Grid\"},{\"attributes\":{\"plot\":null,\"text\":\"Beam search\"},\"id\":\"f04dd0c6-c641-4580-87f7-c0f878d1c0e6\",\"type\":\"Title\"},{\"attributes\":{\"data_source\":{\"id\":\"49a8987d-d307-4797-9fae-8ec771f76b48\",\"type\":\"ColumnDataSource\"},\"glyph\":{\"id\":\"323b0eea-1d7f-4a0d-84fe-74a9d6ac6b56\",\"type\":\"Text\"},\"hover_glyph\":null,\"muted_glyph\":null,\"name\":\"hypo_i\",\"nonselection_glyph\":{\"id\":\"a10f3b4a-982e-4c44-b026-f8088199fe6f\",\"type\":\"Text\"},\"selection_glyph\":null,\"view\":{\"id\":\"b0f21dbb-aa92-495c-9a38-9881564a3daa\",\"type\":\"CDSView\"}},\"id\":\"d6b0d875-955c-493f-8f95-7f155de46db0\",\"type\":\"GlyphRenderer\"},{\"attributes\":{\"source\":{\"id\":\"53346d3c-7b75-4689-95d1-c395b23fa5b8\",\"type\":\"ColumnDataSource\"}},\"id\":\"5d7f1257-5695-4ee0-8fe7-f29e498f83c7\",\"type\":\"CDSView\"},{\"attributes\":{\"overlay\":{\"id\":\"8033ebc0-a196-49a8-acdc-dbc0ae3fcf54\",\"type\":\"BoxAnnotation\"}},\"id\":\"0170b055-6020-406e-b0a6-9a42a9bb2816\",\"type\":\"BoxZoomTool\"},{\"attributes\":{\"bounds\":[-10.0,20.0],\"callback\":null,\"end\":12,\"js_property_callbacks\":{\"change:end\":[{\"id\":\"b56f32a3-d365-46b7-9f4f-323382959b2d\",\"type\":\"CustomJS\"}]},\"start\":-1},\"id\":\"a5cebe80-c44b-4d0a-aae2-c2f3b9ef2475\",\"type\":\"Range1d\"},{\"attributes\":{\"dimensions\":\"width\"},\"id\":\"09035c87-81aa-4e21-b586-281eec2ac195\",\"type\":\"WheelZoomTool\"},{\"attributes\":{\"active_drag\":\"auto\",\"active_inspect\":\"auto\",\"active_scroll\":{\"id\":\"fbfb1ccf-b06f-43d0-93b8-b7a2feb2e51e\",\"type\":\"WheelZoomTool\"},\"active_tap\":\"auto\",\"tools\":[{\"id\":\"cab35414-b6a5-47d8-a8cd-55b26f7a7b54\",\"type\":\"PanTool\"},{\"id\":\"64b6f55d-2417-4701-8845-e39dd839273e\",\"type\":\"BoxZoomTool\"},{\"id\":\"fbfb1ccf-b06f-43d0-93b8-b7a2feb2e51e\",\"type\":\"WheelZoomTool\"},{\"id\":\"7a97466a-a0c3-4c9a-93bc-f7d1909c09da\",\"type\":\"WheelZoomTool\"},{\"id\":\"a8cad25e-8062-4326-b4df-8b1d1db279c7\",\"type\":\"SaveTool\"},{\"id\":\"237d0e16-242f-45d0-81da-35c5b34ecdb4\",\"type\":\"ResetTool\"},{\"id\":\"ce962e54-6eaa-4a63-b602-ab2387d43716\",\"type\":\"HoverTool\"}]},\"id\":\"3175d402-0679-462f-b9d4-d947ff7ad2b3\",\"type\":\"Toolbar\"},{\"attributes\":{\"dimensions\":\"height\"},\"id\":\"e4e04654-061b-4633-a71e-1c9003f6bda9\",\"type\":\"WheelZoomTool\"},{\"attributes\":{\"text\":{\"field\":\"hypo_i_text\"},\"text_align\":\"center\",\"text_baseline\":\"middle\",\"text_color\":{\"value\":\"black\"},\"text_font_size\":{\"value\":\"12px\"},\"text_font_style\":\"bold\",\"x\":{\"field\":\"x\"},\"y\":{\"field\":\"y\"}},\"id\":\"8c80ac74-34fc-4790-a100-c62b151ded39\",\"type\":\"Text\"},{\"attributes\":{},\"id\":\"a0929048-0a2d-4f8f-8d58-e4a6d0106ad1\",\"type\":\"LinearScale\"},{\"attributes\":{},\"id\":\"7d459b4a-fdec-48b5-bc95-828fb94c3c34\",\"type\":\"SaveTool\"},{\"attributes\":{\"text\":{\"field\":\"hypo_i_text\"},\"text_align\":\"center\",\"text_alpha\":{\"value\":0.1},\"text_baseline\":\"middle\",\"text_color\":{\"value\":\"black\"},\"text_font_size\":{\"value\":\"12px\"},\"text_font_style\":\"bold\",\"x\":{\"field\":\"x\"},\"y\":{\"field\":\"y\"}},\"id\":\"1aaad8cb-1c94-4061-b4ce-f70e91e33b07\",\"type\":\"Text\"},{\"attributes\":{},\"id\":\"d8a43b51-3e35-4c6f-bb08-c7be8e8c3ce2\",\"type\":\"LinearScale\"},{\"attributes\":{},\"id\":\"cacbfd1a-7e88-471a-a3c1-bc588c6af09c\",\"type\":\"ResetTool\"},{\"attributes\":{\"data_source\":{\"id\":\"53346d3c-7b75-4689-95d1-c395b23fa5b8\",\"type\":\"ColumnDataSource\"},\"glyph\":{\"id\":\"8c80ac74-34fc-4790-a100-c62b151ded39\",\"type\":\"Text\"},\"hover_glyph\":null,\"muted_glyph\":null,\"name\":\"hypo_i\",\"nonselection_glyph\":{\"id\":\"1aaad8cb-1c94-4061-b4ce-f70e91e33b07\",\"type\":\"Text\"},\"selection_glyph\":null,\"view\":{\"id\":\"a931ac6d-24c6-489e-873f-3785a4f5cec4\",\"type\":\"CDSView\"}},\"id\":\"5a71f9c4-4314-4eda-a1d8-25124c2b23d2\",\"type\":\"GlyphRenderer\"},{\"attributes\":{\"callback\":null,\"names\":[\"vertices\"],\"tooltips\":[[\"token\",\"@_on_hover_token\"],[\"token_id\",\"@_on_hover_token_id\"],[\"score\",\"@_on_hover_score\"]]},\"id\":\"7a2caa64-375a-466a-8caf-c9f17555b42d\",\"type\":\"HoverTool\"},{\"attributes\":{\"interval\":1},\"id\":\"21b07e0f-be09-4617-8f50-6b55adf59566\",\"type\":\"SingleIntervalTicker\"},{\"attributes\":{\"bottom_units\":\"screen\",\"fill_alpha\":{\"value\":0.5},\"fill_color\":{\"value\":\"lightgrey\"},\"left_units\":\"screen\",\"level\":\"overlay\",\"line_alpha\":{\"value\":1.0},\"line_color\":{\"value\":\"black\"},\"line_dash\":[4,4],\"line_width\":{\"value\":2},\"plot\":null,\"render_mode\":\"css\",\"right_units\":\"screen\",\"top_units\":\"screen\"},\"id\":\"59657239-6604-4439-8bf1-83a5ab659d4a\",\"type\":\"BoxAnnotation\"},{\"attributes\":{\"axis_label\":\"decoding step (aka output length)\",\"formatter\":{\"id\":\"e26ba807-3a3a-43be-8db2-601d280799bd\",\"type\":\"BasicTickFormatter\"},\"plot\":{\"id\":\"91387928-8f01-4237-9a5d-24f1d6f93c23\",\"subtype\":\"Figure\",\"type\":\"Plot\"},\"ticker\":{\"id\":\"c0496269-9e06-46af-ab94-5438bfbff629\",\"type\":\"SingleIntervalTicker\"}},\"id\":\"13a5308f-70ad-452e-af22-43861fd0cb71\",\"type\":\"LinearAxis\"},{\"attributes\":{\"interval\":1},\"id\":\"c0496269-9e06-46af-ab94-5438bfbff629\",\"type\":\"SingleIntervalTicker\"},{\"attributes\":{\"args\":{\"source\":{\"id\":\"49a8987d-d307-4797-9fae-8ec771f76b48\",\"type\":\"ColumnDataSource\"}},\"code\":\"\\n            var x_range = cb_obj;\\n            var font_size = Math.round(14 * 13.0 / (x_range.end - x_range.start));\\n\\n            font_size = Math.min(24, Math.max(font_size, 0));\\n            \\n            var data = source.data;\\n            var fs = data['token_font_size']\\n            \\n            for (var i = 0; i < fs.length; i++)\\n                fs[i] = font_size.toString() + \\\"px\\\";\\n            \\n            source.change.emit();\\n        \"},\"id\":\"eab13fb4-9405-4d14-8bf6-46c6f698b4bb\",\"type\":\"CustomJS\"},{\"attributes\":{},\"id\":\"cab35414-b6a5-47d8-a8cd-55b26f7a7b54\",\"type\":\"PanTool\"},{\"attributes\":{\"fill_alpha\":{\"value\":0.1},\"fill_color\":{\"value\":\"#1f77b4\"},\"line_alpha\":{\"value\":0.1},\"line_color\":{\"value\":\"#1f77b4\"},\"line_width\":{\"field\":\"line_width\"},\"size\":{\"units\":\"screen\",\"value\":24},\"x\":{\"field\":\"x\"},\"y\":{\"field\":\"y\"}},\"id\":\"d47ea423-d422-49a0-b24d-798a01f47236\",\"type\":\"Circle\"},{\"attributes\":{\"line_color\":{\"value\":\"#1f77b4\"},\"line_width\":{\"field\":\"line_width\"},\"xs\":{\"field\":\"edge_xx\"},\"ys\":{\"field\":\"edge_yy\"}},\"id\":\"d4677ed5-e7ac-4a9f-960d-0463a72b4947\",\"type\":\"MultiLine\"},{\"attributes\":{\"callback\":null,\"names\":[\"vertices\"],\"tooltips\":[[\"token\",\"@_on_hover_token\"],[\"token_id\",\"@_on_hover_token_id\"],[\"score\",\"@_on_hover_score\"]]},\"id\":\"ce962e54-6eaa-4a63-b602-ab2387d43716\",\"type\":\"HoverTool\"},{\"attributes\":{\"overlay\":{\"id\":\"59657239-6604-4439-8bf1-83a5ab659d4a\",\"type\":\"BoxAnnotation\"}},\"id\":\"64b6f55d-2417-4701-8845-e39dd839273e\",\"type\":\"BoxZoomTool\"},{\"attributes\":{\"line_alpha\":{\"value\":0.1},\"line_color\":{\"value\":\"#1f77b4\"},\"line_width\":{\"field\":\"line_width\"},\"xs\":{\"field\":\"edge_xx\"},\"ys\":{\"field\":\"edge_yy\"}},\"id\":\"72b704fc-ca92-4d86-89ae-f33aeb3c23a8\",\"type\":\"MultiLine\"},{\"attributes\":{\"dimensions\":\"width\"},\"id\":\"fbfb1ccf-b06f-43d0-93b8-b7a2feb2e51e\",\"type\":\"WheelZoomTool\"},{\"attributes\":{\"line_color\":{\"value\":\"#1f77b4\"},\"line_width\":{\"field\":\"line_width\"},\"xs\":{\"field\":\"edge_xx\"},\"ys\":{\"field\":\"edge_yy\"}},\"id\":\"5574258e-e46b-409c-af99-02931bf42c33\",\"type\":\"MultiLine\"},{\"attributes\":{\"fill_color\":{\"field\":\"circle_fill_color\"},\"line_color\":{\"field\":\"line_color\"},\"line_width\":{\"field\":\"line_width\"},\"size\":{\"units\":\"screen\",\"value\":24},\"x\":{\"field\":\"x\"},\"y\":{\"field\":\"y\"}},\"id\":\"dd1456df-a3c2-4dcc-a8aa-769ac1a8a3b2\",\"type\":\"Circle\"},{\"attributes\":{\"dimensions\":\"height\"},\"id\":\"7a97466a-a0c3-4c9a-93bc-f7d1909c09da\",\"type\":\"WheelZoomTool\"},{\"attributes\":{\"fill_color\":{\"field\":\"circle_fill_color\"},\"line_color\":{\"field\":\"line_color\"},\"line_width\":{\"field\":\"line_width\"},\"size\":{\"units\":\"screen\",\"value\":24},\"x\":{\"field\":\"x\"},\"y\":{\"field\":\"y\"}},\"id\":\"14c2f957-8e96-40e9-8d5a-bbe84ee0131a\",\"type\":\"Circle\"},{\"attributes\":{\"args\":{\"source\":{\"id\":\"53346d3c-7b75-4689-95d1-c395b23fa5b8\",\"type\":\"ColumnDataSource\"}},\"code\":\"\\n            var x_range = cb_obj;\\n            var font_size = Math.round(14 * 13.0 / (x_range.end - x_range.start));\\n\\n            font_size = Math.min(24, Math.max(font_size, 0));\\n            \\n            var data = source.data;\\n            var fs = data['token_font_size']\\n            \\n            for (var i = 0; i < fs.length; i++)\\n                fs[i] = font_size.toString() + \\\"px\\\";\\n            \\n            source.change.emit();\\n        \"},\"id\":\"b56f32a3-d365-46b7-9f4f-323382959b2d\",\"type\":\"CustomJS\"},{\"attributes\":{},\"id\":\"a8cad25e-8062-4326-b4df-8b1d1db279c7\",\"type\":\"SaveTool\"},{\"attributes\":{},\"id\":\"237d0e16-242f-45d0-81da-35c5b34ecdb4\",\"type\":\"ResetTool\"},{\"attributes\":{\"data_source\":{\"id\":\"49a8987d-d307-4797-9fae-8ec771f76b48\",\"type\":\"ColumnDataSource\"},\"glyph\":{\"id\":\"5574258e-e46b-409c-af99-02931bf42c33\",\"type\":\"MultiLine\"},\"hover_glyph\":null,\"muted_glyph\":null,\"name\":\"edges\",\"nonselection_glyph\":{\"id\":\"72b704fc-ca92-4d86-89ae-f33aeb3c23a8\",\"type\":\"MultiLine\"},\"selection_glyph\":null,\"view\":{\"id\":\"95e7b794-7dda-4997-b7c6-a664964f6b5a\",\"type\":\"CDSView\"}},\"id\":\"978e683c-44ae-4bb3-b7d1-4660f2415803\",\"type\":\"GlyphRenderer\"},{\"attributes\":{\"interval\":1},\"id\":\"aaf5ec9a-6f51-45f4-a1b5-d2a8ac2cb5e0\",\"type\":\"SingleIntervalTicker\"},{\"attributes\":{\"data_source\":{\"id\":\"49a8987d-d307-4797-9fae-8ec771f76b48\",\"type\":\"ColumnDataSource\"},\"glyph\":{\"id\":\"14c2f957-8e96-40e9-8d5a-bbe84ee0131a\",\"type\":\"Circle\"},\"hover_glyph\":null,\"muted_glyph\":null,\"name\":\"vertices\",\"nonselection_glyph\":{\"id\":\"d47ea423-d422-49a0-b24d-798a01f47236\",\"type\":\"Circle\"},\"selection_glyph\":null,\"view\":{\"id\":\"dd940c41-87e6-4094-8be6-3dc7f22f0921\",\"type\":\"CDSView\"}},\"id\":\"cdf3b0e4-fe4f-450f-86d4-c51260c5d8c0\",\"type\":\"GlyphRenderer\"},{\"attributes\":{\"plot\":{\"id\":\"91387928-8f01-4237-9a5d-24f1d6f93c23\",\"subtype\":\"Figure\",\"type\":\"Plot\"},\"ticker\":{\"id\":\"aaf5ec9a-6f51-45f4-a1b5-d2a8ac2cb5e0\",\"type\":\"SingleIntervalTicker\"}},\"id\":\"004b26cb-f235-4bd3-9464-2eed25a63945\",\"type\":\"Grid\"},{\"attributes\":{\"source\":{\"id\":\"53346d3c-7b75-4689-95d1-c395b23fa5b8\",\"type\":\"ColumnDataSource\"}},\"id\":\"b553c853-cc22-4ae3-aea6-95ad360ad0fc\",\"type\":\"CDSView\"},{\"attributes\":{\"source\":{\"id\":\"49a8987d-d307-4797-9fae-8ec771f76b48\",\"type\":\"ColumnDataSource\"}},\"id\":\"95e7b794-7dda-4997-b7c6-a664964f6b5a\",\"type\":\"CDSView\"},{\"attributes\":{\"callback\":null,\"column_names\":[\"id\",\"parent_id\",\"children_ids\",\"is_best\",\"depth\",\"hypo_i\",\"token\",\"token_id\",\"x\",\"y\",\"circle_fill_color\",\"line_color\",\"line_width\",\"edge_xx\",\"edge_yy\",\"token_text\",\"token_font_size\",\"hypo_i_text\",\"hypo_i_offset\",\"_on_hover_token\",\"_on_hover_token_id\",\"_on_hover_score\"],\"data\":{\"_on_hover_score\":[\"-4.7282\",\"-4.2071\",\"-4.8782\",\"-1.3577\",\"-4.0420\",\"-4.2097\",\"-4.5624\",\"-3.2410\",\"-6.9225\",\"-4.6717\",\"-2.8497\",\"-3.8023\",\"-4.1460\",\"-3.6443\",\"-4.3135\",\"-4.7070\",\"-3.1373\",\"-4.5105\",\"-6.1526\",\"-3.0974\",\"-3.7421\",\"-3.4956\",\"0.0000\",\"-5.2694\",\"-4.4104\",\"-6.1752\",\"-3.7617\",\"-4.6281\",\"-6.5626\",\"-3.7175\",\"-0.7384\",\"-4.5439\",\"-5.2967\",\"-3.6831\",\"-5.2153\",\"-3.7830\",\"-3.1335\",\"-0.8716\",\"-3.7312\",\"-3.8895\",\"-6.5984\"],\"_on_hover_token\":[\"_EOS_\",\"\\u043f\\u0440\\u0430\\u0432\\u0438\\u0442\\u0435\\u043b\\u044c\\u0441\\u0442\\u0432\\u043e\",\"\\u043e\\u0442\",\"\\u043f\\u043e\\u0434\\u0434\\u0435\\u0440\\u0436\\u0438\\u0432\\u0430\\u0435\\u0442\",\"\\u0442\\u0438\\u043c\\u043e\\u0448\\u0435\\u043d\\u043a\\u043e\",\"\\u043f\\u043e\\u0434\\u0434\\u0435\\u0440\\u0436\\u0438\\u0432\\u0430\\u0435\\u0442\",\"\\u0438\\u0437\\u043c\\u0435\\u043d\\u0435\\u043d\\u0438\\u0439\",\",\",\"\\u0443\\u043f\\u043b\\u0430\\u0442\\u044b\",\"\\u043e\\u0442\",\"\\u043e\\u0441\\u0432\\u043e\\u0431\\u043e\\u0436\\u0434\\u0435\\u043d\\u0438\\u0435\",\"\\u0432\",\"_EOS_\",\"\\u0432\\u044b\\u0441\\u0442\\u0443\\u043f\\u0430\\u0435\\u0442\",\"_EOS_\",\"\\u0442\\u0438\\u043c\\u043e\\u0448\\u0435\\u043d\\u043a\\u043e\",\"\\u043e\\u0442\",\"\\u043f\\u0430\\u0440\\u043b\\u0430\\u043c\\u0435\\u043d\\u0442\\u0435\",\"\\u043d\\u0430\\u043b\\u043e\\u0433\\u043e\\u0432\",\"\\u043f\\u043e\\u043f\\u0440\\u0430\\u0432\\u043a\\u0438\",\"\\u043d\\u0435\",\"\\u043f\\u043e\\u0434\\u0434\\u0435\\u0440\\u0436\",\"<empty>\",\"\\u043f\\u043e\\u043f\\u0440\\u0430\\u0432\\u043e\\u043a\",\"\\u0442\\u0438\\u043c\\u043e\\u0448\\u0435\\u043d\\u043a\\u043e\",\".\",\"\\u043f\\u043e\\u043f\\u0440\\u0430\\u0432\\u043e\\u043a\",\"\\u043d\\u0435\",\"\\u043e\\u0442\\u0432\\u0435\\u0442\\u0441\\u0442\\u0432\\u0435\\u043d\\u043d\\u043e\\u0441\\u0442\\u0438\",\"\\u0437\\u0430\",\"\\u043f\\u0430\\u0440\\u043b\\u0430\\u043c\\u0435\\u043d\\u0442\",\",\",\"\\u043e\\u0442\",\"`\\u0430\\u044e\\u0449\\u0438\\u0435\",\"_EOS_\",\"\\u043e\\u0441\\u0432\\u043e\\u0431\\u043e\\u0436\\u0434\",\"\\u043f\\u043e\\u0434\\u0434\\u0435\\u0440\\u0436\\u0430\\u043b\",\"\\u043d\\u0435\",\"\\u0438\\u0437\\u043c\\u0435\\u043d\\u0435\\u043d\\u0438\\u0435\",\"\\u043e\\u0441\\u0432\\u043e\\u0431\\u043e\\u0436\\u0434\\u0435\\u043d\\u0438\\u0435\",\"\\u043f\\u0440\\u0435\\u0442\\u0435\\u043d\\u0437\\u0438\\u0439\"],\"_on_hover_token_id\":[1,780,25,2482,15356,2482,1879,3,17084,25,13862,5,1,7691,1,15356,25,15328,4255,11685,11,3487,-1,21342,15356,4,21342,11,1781,30,3622,3,25,1078,1,5093,26478,11,2451,13862,22624],\"children_ids\":[[],[[2,3]],[[10,3],[10,2],[10,1],[10,0]],[[4,3],[4,1],[4,0]],[[9,3],[9,1],[9,0]],[],[],[[6,1]],[],[[8,2]],[[5,0]],[[2,2]],[],[[4,2]],[],[[7,2]],[[6,2],[6,0]],[],[],[[5,1]],[[2,1]],[],[[1,3],[1,2],[1,1],[1,0]],[[9,2]],[[8,1]],[],[[7,3],[7,1]],[],[],[[5,2]],[[2,0]],[],[],[[8,3],[8,0]],[],[[7,0]],[],[[3,3],[3,2],[3,1],[3,0]],[[5,3]],[[6,3]],[]],\"circle_fill_color\":[\"#87CEEB\",\"#87CEEB\",\"#87CEEB\",\"#87CEEB\",\"#87CEEB\",\"#87CEEB\",\"#87CEEB\",\"#87CEEB\",\"#87CEEB\",\"#87CEEB\",\"#87CEEB\",\"#87CEEB\",\"#87CEEB\",\"#87CEEB\",\"#87CEEB\",\"#87CEEB\",\"#87CEEB\",\"#87CEEB\",\"#87CEEB\",\"#87CEEB\",\"#87CEEB\",\"#87CEEB\",\"#87CEEB\",\"#87CEEB\",\"#87CEEB\",\"#87CEEB\",\"#87CEEB\",\"#87CEEB\",\"#87CEEB\",\"#87CEEB\",\"#87CEEB\",\"#87CEEB\",\"#87CEEB\",\"#87CEEB\",\"#87CEEB\",\"#87CEEB\",\"#87CEEB\",\"#87CEEB\",\"#87CEEB\",\"#87CEEB\",\"#87CEEB\"],\"depth\":[7,1,9,3,8,2,6,5,10,7,4,1,9,3,8,6,5,2,10,4,1,3,0,8,7,9,6,2,10,4,1,5,8,7,9,6,3,2,4,5,10],\"edge_xx\":[[6.0,7.0],[0.0,1.0],[8.0,9.0],[2.0,3.0],[7.0,8.0],[1.0,2.0],[5.0,6.0],[4.0,5.0],[9.0,10.0],[6.0,7.0],[3.0,4.0],[0.0,1.0],[8.0,9.0],[2.0,3.0],[7.0,8.0],[5.0,6.0],[4.0,5.0],[1.0,2.0],[9.0,10.0],[3.0,4.0],[0.0,1.0],[2.0,3.0],[0.0,0.0],[7.0,8.0],[6.0,7.0],[8.0,9.0],[5.0,6.0],[1.0,2.0],[9.0,10.0],[3.0,4.0],[0.0,1.0],[4.0,5.0],[7.0,8.0],[6.0,7.0],[8.0,9.0],[5.0,6.0],[2.0,3.0],[1.0,2.0],[3.0,4.0],[4.0,5.0],[9.0,10.0]],\"edge_yy\":[[4.833333333333333,4.333333333333333],[0.0,-1.5],[3.333333333333333,3.333333333333333],[1.5,3.0],[2.833333333333333,3.333333333333333],[0.5,0.5],[4.333333333333333,3.833333333333333],[2.833333333333333,2.833333333333333],[3.333333333333333,1.833333333333333],[0.0,0.0],[3.0,4.333333333333333],[0.0,-0.5],[3.333333333333333,4.333333333333333],[1.5,0.0],[5.333333333333333,5.333333333333333],[0.0,0.0],[4.333333333333333,4.333333333333333],[-0.5,-0.5],[3.333333333333333,4.833333333333333],[3.0,2.833333333333333],[0.0,0.5],[1.5,1.0],[0.0,0.0],[0.0,0.0],[4.833333333333333,5.333333333333333],[3.333333333333333,2.333333333333333],[4.333333333333333,4.833333333333333],[-1.5,-1.5],[3.333333333333333,3.833333333333333],[0.0,0.0],[0.0,1.5],[1.8333333333333333,1.8333333333333333],[2.833333333333333,2.333333333333333],[2.833333333333333,2.833333333333333],[0.0,0.0],[2.833333333333333,2.833333333333333],[1.5,2.0],[1.5,1.5],[3.0,1.8333333333333333],[0.0,0.0],[3.333333333333333,2.833333333333333]],\"hypo_i\":[3,3,1,0,0,1,2,1,3,2,0,2,0,3,1,3,0,2,0,1,1,2,0,2,1,3,0,3,1,2,0,3,3,0,2,1,1,0,3,2,2],\"hypo_i_offset\":[-8,-8,-8,-8,-8,-8,-8,-8,-8,-8,-8,-8,-8,-8,-8,-8,-8,-8,-8,-8,-8,-8,-8,-8,-8,-8,-8,-8,-8,-8,-8,-8,-8,-8,-8,-8,-8,-8,-8,-8,-8],\"hypo_i_text\":[\"#3\",\"#3\",\"#1\",\"#0\",\"#0\",\"#1\",\"#2\",\"#1\",\"#3\",\"#2\",\"#0\",\"#2\",\"#0\",\"#3\",\"#1\",\"#3\",\"#0\",\"#2\",\"#0\",\"#1\",\"#1\",\"#2\",\"#0\",\"#2\",\"#1\",\"#3\",\"#0\",\"#3\",\"#1\",\"#2\",\"#0\",\"#3\",\"#3\",\"#0\",\"#2\",\"#1\",\"#1\",\"#0\",\"#3\",\"#2\",\"#2\"],\"id\":[[7,3],[1,3],[9,1],[3,0],[8,0],[2,1],[6,2],[5,1],[10,3],[7,2],[4,0],[1,2],[9,0],[3,3],[8,1],[6,3],[5,0],[2,2],[10,0],[4,1],[1,1],[3,2],[0,0],[8,2],[7,1],[9,3],[6,0],[2,3],[10,1],[4,2],[1,0],[5,3],[8,3],[7,0],[9,2],[6,1],[3,1],[2,0],[4,3],[5,2],[10,2]],\"is_best\":[false,false,false,true,true,false,false,true,false,false,false,false,true,false,false,false,false,false,false,true,false,false,true,false,false,false,false,false,false,false,true,false,false,true,false,true,false,true,false,false,false],\"line_color\":[\"navy\",\"navy\",\"navy\",\"navy\",\"navy\",\"navy\",\"navy\",\"navy\",\"navy\",\"navy\",\"navy\",\"navy\",\"navy\",\"navy\",\"navy\",\"navy\",\"navy\",\"navy\",\"navy\",\"navy\",\"navy\",\"navy\",\"navy\",\"navy\",\"navy\",\"navy\",\"navy\",\"navy\",\"navy\",\"navy\",\"navy\",\"navy\",\"navy\",\"navy\",\"navy\",\"navy\",\"navy\",\"navy\",\"navy\",\"navy\",\"navy\"],\"line_width\":[1,1,1,3,3,1,1,3,1,1,1,1,3,1,1,1,1,1,1,3,1,1,3,1,1,1,1,1,1,1,3,1,1,3,1,3,1,3,1,1,1],\"parent_id\":[[6,0],[0,0],[8,0],[2,0],[7,0],[1,1],[5,0],[4,1],[9,1],[6,3],[3,0],[0,0],[8,0],[2,0],[7,1],[5,2],[4,0],[1,2],[9,1],[3,0],[0,0],[2,0],[0,0],[7,2],[6,0],[8,0],[5,0],[1,3],[9,1],[3,3],[0,0],[4,3],[7,0],[6,1],[8,2],[5,1],[2,0],[1,0],[3,0],[4,2],[9,1]],\"token\":[\"_EOS_\",\"\\u043f\\u0440\\u0430\\u0432\\u0438\\u0442\\u0435\\u043b\\u044c\\u0441\\u0442\\u0432\\u043e\",\"\\u043e\\u0442\",\"\\u043f\\u043e\\u0434\\u0434\\u0435\\u0440\\u0436\\u0438\\u0432\\u0430\\u0435\\u0442\",\"\\u0442\\u0438\\u043c\\u043e\\u0448\\u0435\\u043d\\u043a\\u043e\",\"\\u043f\\u043e\\u0434\\u0434\\u0435\\u0440\\u0436\\u0438\\u0432\\u0430\\u0435\\u0442\",\"\\u0438\\u0437\\u043c\\u0435\\u043d\\u0435\\u043d\\u0438\\u0439\",\",\",\"\\u0443\\u043f\\u043b\\u0430\\u0442\\u044b\",\"\\u043e\\u0442\",\"\\u043e\\u0441\\u0432\\u043e\\u0431\\u043e\\u0436\\u0434\\u0435\\u043d\\u0438\\u0435\",\"\\u0432\",\"_EOS_\",\"\\u0432\\u044b\\u0441\\u0442\\u0443\\u043f\\u0430\\u0435\\u0442\",\"_EOS_\",\"\\u0442\\u0438\\u043c\\u043e\\u0448\\u0435\\u043d\\u043a\\u043e\",\"\\u043e\\u0442\",\"\\u043f\\u0430\\u0440\\u043b\\u0430\\u043c\\u0435\\u043d\\u0442\\u0435\",\"\\u043d\\u0430\\u043b\\u043e\\u0433\\u043e\\u0432\",\"\\u043f\\u043e\\u043f\\u0440\\u0430\\u0432\\u043a\\u0438\",\"\\u043d\\u0435\",\"\\u043f\\u043e\\u0434\\u0434\\u0435\\u0440\\u0436\",\"<empty>\",\"\\u043f\\u043e\\u043f\\u0440\\u0430\\u0432\\u043e\\u043a\",\"\\u0442\\u0438\\u043c\\u043e\\u0448\\u0435\\u043d\\u043a\\u043e\",\".\",\"\\u043f\\u043e\\u043f\\u0440\\u0430\\u0432\\u043e\\u043a\",\"\\u043d\\u0435\",\"\\u043e\\u0442\\u0432\\u0435\\u0442\\u0441\\u0442\\u0432\\u0435\\u043d\\u043d\\u043e\\u0441\\u0442\\u0438\",\"\\u0437\\u0430\",\"\\u043f\\u0430\\u0440\\u043b\\u0430\\u043c\\u0435\\u043d\\u0442\",\",\",\"\\u043e\\u0442\",\"`\\u0430\\u044e\\u0449\\u0438\\u0435\",\"_EOS_\",\"\\u043e\\u0441\\u0432\\u043e\\u0431\\u043e\\u0436\\u0434\",\"\\u043f\\u043e\\u0434\\u0434\\u0435\\u0440\\u0436\\u0430\\u043b\",\"\\u043d\\u0435\",\"\\u0438\\u0437\\u043c\\u0435\\u043d\\u0435\\u043d\\u0438\\u0435\",\"\\u043e\\u0441\\u0432\\u043e\\u0431\\u043e\\u0436\\u0434\\u0435\\u043d\\u0438\\u0435\",\"\\u043f\\u0440\\u0435\\u0442\\u0435\\u043d\\u0437\\u0438\\u0439\"],\"token_font_size\":[\"14px\",\"14px\",\"14px\",\"14px\",\"14px\",\"14px\",\"14px\",\"14px\",\"14px\",\"14px\",\"14px\",\"14px\",\"14px\",\"14px\",\"14px\",\"14px\",\"14px\",\"14px\",\"14px\",\"14px\",\"14px\",\"14px\",\"14px\",\"14px\",\"14px\",\"14px\",\"14px\",\"14px\",\"14px\",\"14px\",\"14px\",\"14px\",\"14px\",\"14px\",\"14px\",\"14px\",\"14px\",\"14px\",\"14px\",\"14px\",\"14px\"],\"token_id\":[1,780,25,2482,15356,2482,1879,3,17084,25,13862,5,1,7691,1,15356,25,15328,4255,11685,11,3487,-1,21342,15356,4,21342,11,1781,30,3622,3,25,1078,1,5093,26478,11,2451,13862,22624],\"token_text\":[\"_EOS_\",\"\\u043f\\u0440\\u0430\\u0432\\u0438\\u0442\\u0435\\u043b\\u044c\\u0441\\u0442\\u0432\\u043e\",\"\\u043e\\u0442\",\"\\u043f\\u043e\\u0434\\u0434\\u0435\\u0440\\u0436\\u0438\\u0432\\u0430\\u0435\\u0442\",\"\\u0442\\u0438\\u043c\\u043e\\u0448\\u0435\\u043d\\u043a\\u043e\",\"\\u043f\\u043e\\u0434\\u0434\\u0435\\u0440\\u0436\\u0438\\u0432\\u0430\\u0435\\u0442\",\"\\u0438\\u0437\\u043c\\u0435\\u043d\\u0435\\u043d\\u0438\\u0439\",\",\",\"\\u0443\\u043f\\u043b\\u0430\\u0442\\u044b\",\"\\u043e\\u0442\",\"\\u043e\\u0441\\u0432\\u043e\\u0431\\u043e\\u0436\\u0434\\u0435\\u043d\\u0438\\u0435\",\"\\u0432\",\"_EOS_\",\"\\u0432\\u044b\\u0441\\u0442\\u0443\\u043f\\u0430\\u0435\\u0442\",\"_EOS_\",\"\\u0442\\u0438\\u043c\\u043e\\u0448\\u0435\\u043d\\u043a\\u043e\",\"\\u043e\\u0442\",\"\\u043f\\u0430\\u0440\\u043b\\u0430\\u043c\\u0435\\u043d\\u0442\\u0435\",\"\\u043d\\u0430\\u043b\\u043e\\u0433\\u043e\\u0432\",\"\\u043f\\u043e\\u043f\\u0440\\u0430\\u0432\\u043a\\u0438\",\"\\u043d\\u0435\",\"\\u043f\\u043e\\u0434\\u0434\\u0435\\u0440\\u0436\",\"<empty>\",\"\\u043f\\u043e\\u043f\\u0440\\u0430\\u0432\\u043e\\u043a\",\"\\u0442\\u0438\\u043c\\u043e\\u0448\\u0435\\u043d\\u043a\\u043e\",\".\",\"\\u043f\\u043e\\u043f\\u0440\\u0430\\u0432\\u043e\\u043a\",\"\\u043d\\u0435\",\"\\u043e\\u0442\\u0432\\u0435\\u0442\\u0441\\u0442\\u0432\\u0435\\u043d\\u043d\\u043e\\u0441\\u0442\\u0438\",\"\\u0437\\u0430\",\"\\u043f\\u0430\\u0440\\u043b\\u0430\\u043c\\u0435\\u043d\\u0442\",\",\",\"\\u043e\\u0442\",\"`\\u0430\\u044e\\u0449\\u0438\\u0435\",\"_EOS_\",\"\\u043e\\u0441\\u0432\\u043e\\u0431\\u043e\\u0436\\u0434\",\"\\u043f\\u043e\\u0434\\u0434\\u0435\\u0440\\u0436\\u0430\\u043b\",\"\\u043d\\u0435\",\"\\u0438\\u0437\\u043c\\u0435\\u043d\\u0435\\u043d\\u0438\\u0435\",\"\\u043e\\u0441\\u0432\\u043e\\u0431\\u043e\\u0436\\u0434\\u0435\\u043d\\u0438\\u0435\",\"\\u043f\\u0440\\u0435\\u0442\\u0435\\u043d\\u0437\\u0438\\u0439\"],\"x\":[7.0,1.0,9.0,3.0,8.0,2.0,6.0,5.0,10.0,7.0,4.0,1.0,9.0,3.0,8.0,6.0,5.0,2.0,10.0,4.0,1.0,3.0,0.0,8.0,7.0,9.0,6.0,2.0,10.0,4.0,1.0,5.0,8.0,7.0,9.0,6.0,3.0,2.0,4.0,5.0,10.0],\"y\":[4.333333333333333,-1.5,3.333333333333333,3.0,3.333333333333333,0.5,3.833333333333333,2.833333333333333,1.833333333333333,0.0,4.333333333333333,-0.5,4.333333333333333,0.0,5.333333333333333,0.0,4.333333333333333,-0.5,4.833333333333333,2.833333333333333,0.5,1.0,0.0,0.0,5.333333333333333,2.333333333333333,4.833333333333333,-1.5,3.833333333333333,0.0,1.5,1.8333333333333333,2.333333333333333,2.833333333333333,0.0,2.833333333333333,2.0,1.5,1.8333333333333333,0.0,2.833333333333333]}},\"id\":\"49a8987d-d307-4797-9fae-8ec771f76b48\",\"type\":\"ColumnDataSource\"},{\"attributes\":{},\"id\":\"e26ba807-3a3a-43be-8db2-601d280799bd\",\"type\":\"BasicTickFormatter\"},{\"attributes\":{\"line_alpha\":{\"value\":0.1},\"line_color\":{\"value\":\"#1f77b4\"},\"line_width\":{\"field\":\"line_width\"},\"xs\":{\"field\":\"edge_xx\"},\"ys\":{\"field\":\"edge_yy\"}},\"id\":\"d41b7979-8903-4ee5-a861-1bf88bfb14ea\",\"type\":\"MultiLine\"},{\"attributes\":{\"source\":{\"id\":\"49a8987d-d307-4797-9fae-8ec771f76b48\",\"type\":\"ColumnDataSource\"}},\"id\":\"dd940c41-87e6-4094-8be6-3dc7f22f0921\",\"type\":\"CDSView\"},{\"attributes\":{\"text\":{\"field\":\"token_text\"},\"text_align\":\"center\",\"text_alpha\":{\"value\":0.1},\"text_color\":{\"value\":\"black\"},\"text_font_size\":{\"field\":\"token_font_size\"},\"x\":{\"field\":\"x\"},\"y\":{\"field\":\"y\"},\"y_offset\":{\"value\":-10}},\"id\":\"17a29716-8304-471c-9f48-6dd74ade100a\",\"type\":\"Text\"},{\"attributes\":{},\"id\":\"f3857a7d-2e4f-4ce0-b897-cec5490c8436\",\"type\":\"BasicTickFormatter\"},{\"attributes\":{\"data_source\":{\"id\":\"53346d3c-7b75-4689-95d1-c395b23fa5b8\",\"type\":\"ColumnDataSource\"},\"glyph\":{\"id\":\"d4677ed5-e7ac-4a9f-960d-0463a72b4947\",\"type\":\"MultiLine\"},\"hover_glyph\":null,\"muted_glyph\":null,\"name\":\"edges\",\"nonselection_glyph\":{\"id\":\"d41b7979-8903-4ee5-a861-1bf88bfb14ea\",\"type\":\"MultiLine\"},\"selection_glyph\":null,\"view\":{\"id\":\"b553c853-cc22-4ae3-aea6-95ad360ad0fc\",\"type\":\"CDSView\"}},\"id\":\"0657e055-fa58-43fe-a3b8-b2b719174d8a\",\"type\":\"GlyphRenderer\"},{\"attributes\":{\"text\":{\"field\":\"token_text\"},\"text_align\":\"center\",\"text_alpha\":{\"value\":0.1},\"text_color\":{\"value\":\"black\"},\"text_font_size\":{\"field\":\"token_font_size\"},\"x\":{\"field\":\"x\"},\"y\":{\"field\":\"y\"},\"y_offset\":{\"value\":-10}},\"id\":\"3621fd59-3cb3-4305-8802-6f7f75a23fd6\",\"type\":\"Text\"},{\"attributes\":{\"bounds\":[-11.5,15.333333333333332],\"callback\":null,\"range_padding\":1.0,\"range_padding_units\":\"absolute\"},\"id\":\"3868f6e3-8193-418f-af89-ee5749e490a1\",\"type\":\"DataRange1d\"},{\"attributes\":{\"text\":{\"field\":\"token_text\"},\"text_align\":\"center\",\"text_color\":{\"value\":\"black\"},\"text_font_size\":{\"field\":\"token_font_size\"},\"x\":{\"field\":\"x\"},\"y\":{\"field\":\"y\"},\"y_offset\":{\"value\":-10}},\"id\":\"08bbcb52-00b5-4803-9e7a-9252db09708d\",\"type\":\"Text\"},{\"attributes\":{\"below\":[{\"id\":\"84db9569-9f28-4a47-82c8-bfa01402aeb6\",\"type\":\"LinearAxis\"}],\"plot_width\":900,\"renderers\":[{\"id\":\"8033ebc0-a196-49a8-acdc-dbc0ae3fcf54\",\"type\":\"BoxAnnotation\"},{\"id\":\"84db9569-9f28-4a47-82c8-bfa01402aeb6\",\"type\":\"LinearAxis\"},{\"id\":\"d3dfd7db-0295-4068-89b6-6a86f9141772\",\"type\":\"Grid\"},{\"id\":\"978e683c-44ae-4bb3-b7d1-4660f2415803\",\"type\":\"GlyphRenderer\"},{\"id\":\"cdf3b0e4-fe4f-450f-86d4-c51260c5d8c0\",\"type\":\"GlyphRenderer\"},{\"id\":\"a2ab1853-0966-4519-874f-956f801f1c72\",\"type\":\"GlyphRenderer\"},{\"id\":\"d6b0d875-955c-493f-8f95-7f155de46db0\",\"type\":\"GlyphRenderer\"}],\"title\":{\"id\":\"5af81591-5793-4721-a459-e0a4ca700855\",\"type\":\"Title\"},\"toolbar\":{\"id\":\"58f26099-07c1-4f46-ba5f-eec6d745dd12\",\"type\":\"Toolbar\"},\"toolbar_location\":\"above\",\"x_range\":{\"id\":\"14e9976c-9458-4bce-be96-da2f3c304cec\",\"type\":\"Range1d\"},\"x_scale\":{\"id\":\"eabb5e31-0740-4852-bcac-887155d4c0fc\",\"type\":\"LinearScale\"},\"y_range\":{\"id\":\"3868f6e3-8193-418f-af89-ee5749e490a1\",\"type\":\"DataRange1d\"},\"y_scale\":{\"id\":\"a3e71058-805b-4461-9009-2e76107d0dad\",\"type\":\"LinearScale\"}},\"id\":\"327205fd-12df-449f-9614-e6816136cb23\",\"subtype\":\"Figure\",\"type\":\"Plot\"}],\"root_ids\":[\"327205fd-12df-449f-9614-e6816136cb23\",\"91387928-8f01-4237-9a5d-24f1d6f93c23\"]},\"title\":\"Bokeh Application\",\"version\":\"0.12.7\"}};\n",
              "              var render_items = [{\"docid\":\"ba84f797-d201-498d-a731-5adafa5447b7\",\"elementid\":\"ff8c3f31-952d-4c2f-8b58-13e7cec51b58\",\"modelid\":\"91387928-8f01-4237-9a5d-24f1d6f93c23\"}];\n",
              "              \n",
              "              Bokeh.embed.embed_items(docs_json, render_items);\n",
              "            });\n",
              "          };\n",
              "          if (document.readyState != \"loading\") fn();\n",
              "          else document.addEventListener(\"DOMContentLoaded\", fn);\n",
              "        })();\n",
              "        \n",
              "        </script>\n",
              "    </body>\n",
              "</html>"
            ]
          },
          "metadata": {},
          "execution_count": 140
        }
      ],
      "source": [
        "from IPython.display import HTML\n",
        "# Here's what it looks like:\n",
        "!wget -q https://raw.githubusercontent.com/yandexdataschool/nlp_course/2020/resources/beam_search.html\n",
        "HTML(\"beam_search.html\")"
      ]
    },
    {
      "cell_type": "code",
      "execution_count": 132,
      "metadata": {
        "id": "PgYYCrN9IoU-"
      },
      "outputs": [],
      "source": [
        "def generate_beamsearch(model, prefix=BOS, nucleus=0.9, beam_size=3, max_len=10):\n",
        "    \"\"\"\n",
        "    Generate a sequence with nucleous sampling\n",
        "    :param prefix: a string containing space-separated previous tokens\n",
        "    :param nucleus: N from the formulae above, N \\in [0, 1]\n",
        "    :param beam_size: numebr of branches to keep\n",
        "    :param max_len: generate sequences with at most this many tokens, NOT INCLUDING PREFIX\n",
        "    :returns: beam_size most likely candidates\n",
        "    :note: make sure that nucleous always contains at least one word, even if p(w*) > nucleus\n",
        "    \"\"\"\n",
        "\n",
        "    beam_probs = np.zeros(shape=(beam_size,)) # to accumulate log-probs for each beam \n",
        "    #beam_probs = np.ones(shape=(beam_size,)) # to accumulate log-probs for each beam \n",
        "    outputs = [prefix] # [_BOS_] or [prefix] at the beginning\n",
        "    for _ in range(max_len):\n",
        "        next_beams = []\n",
        "        for i in range(len(outputs)):\n",
        "            # generate 3 samples for each branch\n",
        "            prefix_i = outputs[i]\n",
        "\n",
        "            token_probs = model.get_possible_next_tokens(prefix_i)\n",
        "            tokens, probs = zip(*token_probs.items())\n",
        "            probs = np.array(probs)\n",
        "\n",
        "            sorted_probs_indices = np.argsort(probs)[::-1]\n",
        "            sorted_probs = probs[sorted_probs_indices]\n",
        "            # choose only N % highest probs, discard rest\n",
        "        \n",
        "            cumulative_probs = np.cumsum(sorted_probs)\n",
        "\n",
        "            remove_sorted_indices = cumulative_probs >= nucleus\n",
        "            # add one extra word to make sure \n",
        "            # we cover at least one word even if p(w*) > nucleus\n",
        "            remove_sorted_indices[..., 1:] = np.copy(remove_sorted_indices[..., :-1]) # last True -> False\n",
        "            remove_sorted_indices[..., 0] = 0 # if all of them were True, make at least first one word to False \n",
        "\n",
        "            indices_to_remove = sorted_probs_indices[remove_sorted_indices]\n",
        "            probs[indices_to_remove] = -float('Inf')\n",
        "\n",
        "            # compute softmax over changed array of probabilities\n",
        "            probs = np.exp(probs)\n",
        "            probs /= np.sum(probs)\n",
        "\n",
        "            # choose beam_size = 3 tokens with max probabilities\n",
        "            if outputs[i][-1] == EOS:\n",
        "                next_beams.append([outputs[i], beam_probs[i], i])\n",
        "            else:\n",
        "                beam_size_best_idx = sorted_probs_indices[:beam_size]\n",
        "                for j in range(beam_size):                  \n",
        "                    #next_beams.append([outputs[i] + tokens[beam_size_best_idx[j]], beam_probs[i] * probs[beam_size_best_idx[j]], i])                 \n",
        "                    next_beams.append([outputs[i] + tokens[beam_size_best_idx[j]], beam_probs[i] + np.log(probs[beam_size_best_idx[j]]), i])                 \n",
        "        #print('next_beams = ', next_beams) \n",
        "        # now we sort next_beams to prune branches with low probabilities (leave only beam_size branches)\n",
        "        outputs = [None] * beam_size\n",
        "        \n",
        "        next_beams.sort(key=lambda x: x[1], reverse=True)\n",
        "        #print('next_beams sorted = ', next_beams)\n",
        "        for i in range(beam_size):\n",
        "            outputs[i], beam_probs[i], beam_idx = next_beams[i]\n",
        "            #states[j][0][i] = states_history[beam_idx][0][i]\n",
        "        #print('outputs = \\n', outputs)\n",
        "    \n",
        "    return outputs"
      ]
    },
    {
      "cell_type": "code",
      "source": [
        "# Not quite that was planned\n",
        "generate_beamsearch(rnn_model, beam_size=5, max_len=100)"
      ],
      "metadata": {
        "colab": {
          "base_uri": "https://localhost:8080/"
        },
        "id": "Ro-A-xqbNMWK",
        "outputId": "5b11c018-bc1b-4a47-a7fa-4280486cc514"
      },
      "execution_count": 139,
      "outputs": [
        {
          "output_type": "stream",
          "name": "stderr",
          "text": [
            "/usr/local/lib/python3.7/dist-packages/ipykernel_launcher.py:51: RuntimeWarning: divide by zero encountered in log\n"
          ]
        },
        {
          "output_type": "execute_result",
          "data": {
            "text/plain": [
              "[' Theoretical Modellings for Multilayerial Neural Networks without Combinatorial Neural Networks ; In ',\n",
              " ' Theoretical Modellings for Multilayerial Neural Networks without Combinatorial Neural Networks ; We ',\n",
              " ' Theoretical Modellings for Multilayerial Neural Networks without Combinatorial Neural Networks for  ',\n",
              " ' Theoretical Modellings for Multilayerial Neural Networks without Combinatorial Neural Networks for S',\n",
              " ' Theoretical Modellings for Multilayerial Neural Networks without Combinatorial Neural Networks for C']"
            ]
          },
          "metadata": {},
          "execution_count": 139
        }
      ]
    },
    {
      "cell_type": "code",
      "execution_count": null,
      "metadata": {
        "scrolled": true,
        "id": "5fxmm931IoU_"
      },
      "outputs": [],
      "source": [
        "# check it out: which beam size works best?\n",
        "# find at least 5 prefixes where beam_size=1 and 8 generates different sequences"
      ]
    },
    {
      "cell_type": "markdown",
      "metadata": {
        "id": "J35GFFXLIoVA"
      },
      "source": [
        "### Bonus quest II: Ultimate Language Model (2+ pts)\n",
        "\n",
        "So you've learned the building blocks of neural language models, you can now build the ultimate monster:  \n",
        "* Make it char-level, word level or maybe use sub-word units like [bpe](https://github.com/rsennrich/subword-nmt);\n",
        "* Combine convolutions, recurrent cells, pre-trained embeddings and all the black magic deep learning has to offer;\n",
        "  * Use strides to get larger window size quickly. Here's a [scheme](https://storage.googleapis.com/deepmind-live-cms/documents/BlogPost-Fig2-Anim-160908-r01.gif) from google wavenet.\n",
        "* Train on large data. Like... really large. Try [1 Billion Words](http://www.statmt.org/lm-benchmark/1-billion-word-language-modeling-benchmark-r13output.tar.gz) benchmark;\n",
        "* Use training schedules to speed up training. Start with small length and increase over time; Take a look at [one cycle](https://medium.com/@nachiket.tanksale/finding-good-learning-rate-and-the-one-cycle-policy-7159fe1db5d6) for learning rate;\n",
        "\n",
        "_You are NOT required to submit this assignment. Please make sure you don't miss your deadline because of it :)_"
      ]
    }
  ],
  "metadata": {
    "kernelspec": {
      "display_name": "py38",
      "language": "python",
      "name": "py38"
    },
    "language_info": {
      "codemirror_mode": {
        "name": "ipython",
        "version": 3
      },
      "file_extension": ".py",
      "mimetype": "text/x-python",
      "name": "python",
      "nbconvert_exporter": "python",
      "pygments_lexer": "ipython3",
      "version": "3.8.2"
    },
    "colab": {
      "provenance": [],
      "collapsed_sections": [
        "J35GFFXLIoVA"
      ],
      "toc_visible": true
    },
    "accelerator": "GPU"
  },
  "nbformat": 4,
  "nbformat_minor": 0
}