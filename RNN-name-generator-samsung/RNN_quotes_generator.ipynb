{
  "cells": [
    {
      "cell_type": "markdown",
      "metadata": {
        "id": "tweC0_ob85u2"
      },
      "source": [
        "# Генерация текста с помощью RNN\n"
      ]
    },
    {
      "cell_type": "markdown",
      "metadata": {
        "id": "kLLLr3kV85vM"
      },
      "source": [
        "(по мотивам [семинара](https://github.com/neychev/harbour_dlia2019/blob/master/day02_Simple_RNN/Day_2_Simple_RNN_pytorch.ipynb)\n",
        " [курса \"Deep Learning in Applications\"](https://in.harbour.space/data-science/deep-learning-in-applications-radoslav-neychev-anastasia-ianina/))"
      ]
    },
    {
      "cell_type": "code",
      "execution_count": null,
      "metadata": {
        "id": "Ld_7dkTI85vN"
      },
      "outputs": [],
      "source": [
        "# Если Вы запускаете ноутбук на colab или kaggle,\n",
        "# выполните следующие строчки, чтобы подгрузить библиотеку dlnlputils:\n",
        "\n",
        "# !git clone https://github.com/Samsung-IT-Academy/stepik-dl-nlp.git && pip install -r stepik-dl-nlp/requirements.txt\n",
        "# import sys; sys.path.append('./stepik-dl-nlp')"
      ]
    },
    {
      "cell_type": "code",
      "execution_count": 2,
      "metadata": {
        "id": "1t5vazSi85vP"
      },
      "outputs": [],
      "source": [
        "import os\n",
        "import time\n",
        "import numpy as np\n",
        "import matplotlib.pyplot as plt\n",
        "%matplotlib inline\n",
        "\n",
        "from IPython.display import clear_output\n",
        "from random import sample\n",
        "\n",
        "import torch, torch.nn as nn\n",
        "import torch.nn.functional as F\n",
        "from torch.autograd import Variable\n",
        "import torch.optim as optim"
      ]
    },
    {
      "cell_type": "markdown",
      "metadata": {
        "id": "jMrTlJyj85vP"
      },
      "source": [
        "# Данные\n",
        "Датасет содержит ~9k имен, все написаны латиницей."
      ]
    },
    {
      "cell_type": "code",
      "execution_count": null,
      "metadata": {
        "id": "hdc5Z3Ll85vQ"
      },
      "outputs": [],
      "source": [
        "# Если Вы запускаете ноутбук на colab или kaggle, добавьте в начало пути ./stepik-dl-nlp\n",
        "with open('russian_names.txt') as input_file:\n",
        "    names = input_file.read()[:-1].split('\\n')\n",
        "    names = [' ' + line for line in names]  # add whitespace to each name as <BOS> symbol"
      ]
    },
    {
      "cell_type": "code",
      "execution_count": null,
      "metadata": {
        "colab": {
          "base_uri": "https://localhost:8080/"
        },
        "id": "LAbGane785vR",
        "outputId": "c239133d-49de-43b2-e9e8-8c64db7be696"
      },
      "outputs": [
        {
          "data": {
            "text/plain": [
              "[' Ababko', ' Abaev', ' Abagyan', ' Abaidulin', ' Abaidullin']"
            ]
          },
          "execution_count": 3,
          "metadata": {},
          "output_type": "execute_result"
        }
      ],
      "source": [
        "names[:5]"
      ]
    },
    {
      "cell_type": "markdown",
      "metadata": {
        "id": "cbfrMFYs85vT"
      },
      "source": [
        "Посмотрим на распределение длин имен:"
      ]
    },
    {
      "cell_type": "code",
      "execution_count": null,
      "metadata": {
        "colab": {
          "base_uri": "https://localhost:8080/"
        },
        "id": "Ml2WLkIk85vT",
        "outputId": "47c4a801-59a4-44ad-f670-0f0dcd4f9f98"
      },
      "outputs": [
        {
          "data": {
            "text/plain": [
              "9408"
            ]
          },
          "execution_count": 4,
          "metadata": {},
          "output_type": "execute_result"
        }
      ],
      "source": [
        "len(names)"
      ]
    },
    {
      "cell_type": "code",
      "execution_count": null,
      "metadata": {
        "colab": {
          "base_uri": "https://localhost:8080/",
          "height": 281
        },
        "id": "73JqYNlD85vU",
        "outputId": "261ff427-0f9f-43d0-ee55-87ffc4226a03"
      },
      "outputs": [
        {
          "data": {
            "image/png": "[encoded data removed]",
            "text/plain": [
              "<Figure size 432x288 with 1 Axes>"
            ]
          },
          "metadata": {},
          "output_type": "display_data"
        }
      ],
      "source": [
        "plt.title('Name length distribution')\n",
        "plt.hist(list(map(len, names)), bins=25);"
      ]
    },
    {
      "cell_type": "markdown",
      "metadata": {
        "id": "nb5x2khD85vV"
      },
      "source": [
        "# Препроцессинг"
      ]
    },
    {
      "cell_type": "code",
      "execution_count": null,
      "metadata": {
        "colab": {
          "base_uri": "https://localhost:8080/"
        },
        "id": "EXfotGxk85vW",
        "outputId": "4a3055df-ada1-4ef7-b3e7-c1a5f4089b23"
      },
      "outputs": [
        {
          "name": "stdout",
          "output_type": "stream",
          "text": [
            "num_tokens =  52\n"
          ]
        }
      ],
      "source": [
        "#all unique characters go here\n",
        "tokens = list(set(''.join(names)))\n",
        "\n",
        "num_tokens = len(tokens)\n",
        "print ('num_tokens = ', num_tokens)"
      ]
    },
    {
      "cell_type": "markdown",
      "metadata": {
        "id": "TKStYekm85vX"
      },
      "source": [
        "### Символы -> id\n",
        "\n",
        "Создадим словарь < символ > -> < id >"
      ]
    },
    {
      "cell_type": "code",
      "execution_count": null,
      "metadata": {
        "id": "ysbZu-Nu85vX"
      },
      "outputs": [],
      "source": [
        "token_to_id = {token: idx for idx, token in enumerate(tokens)}"
      ]
    },
    {
      "cell_type": "code",
      "execution_count": null,
      "metadata": {
        "colab": {
          "base_uri": "https://localhost:8080/"
        },
        "id": "vsMuAAg485vX",
        "outputId": "a3725d45-a8ed-4141-ba69-27dc120ce27c"
      },
      "outputs": [
        {
          "name": "stdout",
          "output_type": "stream",
          "text": [
            "Seems alright!\n"
          ]
        }
      ],
      "source": [
        "assert len(tokens) == len(token_to_id), \"dictionaries must have same size\"\n",
        "\n",
        "for i in range(num_tokens):\n",
        "    assert token_to_id[tokens[i]] == i, \"token identifier must be it's position in tokens list\"\n",
        "\n",
        "print(\"Seems alright!\")"
      ]
    },
    {
      "cell_type": "code",
      "execution_count": null,
      "metadata": {
        "id": "4TWSzyfn85vY"
      },
      "outputs": [],
      "source": [
        "def to_matrix(data, token_to_id, max_len=None, dtype='int32', batch_first = True):\n",
        "    \"\"\"Casts a list of names into rnn-digestable matrix\"\"\"\n",
        "    \n",
        "    max_len = max_len or max(map(len, data))\n",
        "    data_ix = np.zeros([len(data), max_len], dtype) + token_to_id[' ']\n",
        "\n",
        "    for i in range(len(data)):\n",
        "        line_ix = [token_to_id[c] for c in data[i]]\n",
        "        data_ix[i, :len(line_ix)] = line_ix\n",
        "        \n",
        "    if not batch_first: # convert [batch, time] into [time, batch]\n",
        "        data_ix = np.transpose(data_ix)\n",
        "\n",
        "    return data_ix"
      ]
    },
    {
      "cell_type": "code",
      "execution_count": null,
      "metadata": {
        "colab": {
          "base_uri": "https://localhost:8080/"
        },
        "id": "9oFVj3jr85vZ",
        "outputId": "402022f2-65be-4548-ca94-f38d07a10a59"
      },
      "outputs": [
        {
          "name": "stdout",
          "output_type": "stream",
          "text": [
            " Ababko\n",
            " Chihachev\n",
            " Isaikov\n",
            " Nakhamkin\n",
            " Ustenko\n",
            "[[37  6 13  3 13  9 33 37 37 37]\n",
            " [37 21 14 36 14  3 22 14 25  4]\n",
            " [37 16  8  3 36  9 33  4 37 37]\n",
            " [37 34  3  9 14  3 32  9 36 18]\n",
            " [37 48  8  7 25 18  9 33 37 37]]\n"
          ]
        }
      ],
      "source": [
        "#Example: cast 4 names to matrices, pad with zeros\n",
        "print('\\n'.join(names[::2000]))\n",
        "print(to_matrix(names[::2000], token_to_id))"
      ]
    },
    {
      "cell_type": "code",
      "execution_count": null,
      "metadata": {
        "colab": {
          "base_uri": "https://localhost:8080/"
        },
        "id": "iPUogfFfIpgK",
        "outputId": "4c8c3bed-2b0a-44aa-f113-0624d66950fe"
      },
      "outputs": [
        {
          "name": "stdout",
          "output_type": "stream",
          "text": [
            "[[37  6 13  3 13  9 33 37 37 37]\n",
            " [37 21 14 36 14  3 22 14 25  4]\n",
            " [37 16  8  3 36  9 33  4 37 37]\n",
            " [37 34  3  9 14  3 32  9 36 18]\n",
            " [37 48  8  7 25 18  9 33 37 37]]\n"
          ]
        }
      ],
      "source": [
        "print(to_matrix(names[::2000], token_to_id).transpose(0,1))"
      ]
    },
    {
      "cell_type": "markdown",
      "metadata": {
        "id": "SNwhOAbU85va"
      },
      "source": [
        "# Рекуррентные нейронные сети\n",
        "\n",
        "![img](https://raw.githubusercontent.com/Samsung-IT-Academy/stepik-dl-nlp/master/img/rnn.png)"
      ]
    },
    {
      "cell_type": "code",
      "execution_count": null,
      "metadata": {
        "id": "_2jT-Yj585vc"
      },
      "outputs": [],
      "source": [
        "class CharRNNCell(nn.Module):\n",
        "    \"\"\"\n",
        "    Implement the scheme above as torch module\n",
        "    \"\"\"\n",
        "    def __init__(self, num_tokens=len(tokens), embedding_size=16, rnn_num_units=64):\n",
        "        super(self.__class__,self).__init__()\n",
        "        self.num_units = rnn_num_units  # hid_size \n",
        "        \n",
        "        self.embedding = nn.Embedding(num_tokens, embedding_size)\n",
        "        self.rnn_update = nn.Linear(embedding_size + rnn_num_units, rnn_num_units)\n",
        "        self.rnn_to_logits = nn.Linear(rnn_num_units, num_tokens)\n",
        "        \n",
        "    def forward(self, x, h_prev):\n",
        "        \"\"\"\n",
        "        This method computes h_next(x, h_prev) and log P(x_next | h_next)\n",
        "        We'll call it repeatedly to produce the whole sequence.\n",
        "        \n",
        "        :param x: batch of character ids, variable containing vector of int64\n",
        "        :param h_prev: previous rnn hidden states, variable containing matrix [batch, rnn_num_units] of float32\n",
        "        \"\"\"\n",
        "        # get vector embedding of x\n",
        "        x_emb = self.embedding(x) # [batch_size x emb_size]\n",
        "        \n",
        "        # compute next hidden state using self.rnn_update\n",
        "        x_and_h = torch.cat([x_emb, h_prev], dim=1) # [batch_size x (emb_size + hid_size)] \n",
        "        h_next = self.rnn_update(x_and_h) # [batch_size x hid_size]\n",
        "        \n",
        "        h_next = F.tanh(h_next)\n",
        "        \n",
        "        assert h_next.size() == h_prev.size()\n",
        "        \n",
        "        #compute logits for next character probs\n",
        "        logits = self.rnn_to_logits(h_next) # [batch_size x [max_len, num_tokens] ] \n",
        "        \n",
        "        return h_next, F.log_softmax(logits, dim=-1)\n",
        "    \n",
        "    def initial_state(self, batch_size):\n",
        "        \"\"\" return h0 (rnn state before it processes first input)\"\"\"\n",
        "        return Variable(torch.zeros(batch_size, self.num_units))"
      ]
    },
    {
      "cell_type": "code",
      "execution_count": null,
      "metadata": {
        "id": "sSVp11On85vd"
      },
      "outputs": [],
      "source": [
        "char_rnn = CharRNNCell()"
      ]
    },
    {
      "cell_type": "markdown",
      "metadata": {
        "id": "K2ZFQFaZ85ve"
      },
      "source": [
        "### Тренировка сети, RNN loop"
      ]
    },
    {
      "cell_type": "code",
      "execution_count": null,
      "metadata": {
        "id": "HqBf-pkB85vf"
      },
      "outputs": [],
      "source": [
        "def rnn_loop(rnn_cell, names_ix):\n",
        "    \"\"\"\n",
        "    Computes log P(next_character) for all time-steps in names_ix\n",
        "    :param names_ix: an int32 matrix of shape [batch, time], output of to_matrix(names)\n",
        "    \"\"\"\n",
        "    batch_size, max_length = names_ix.size()\n",
        "    hid_state = rnn_cell.initial_state(batch_size)\n",
        "    logprobs = []\n",
        "\n",
        "    for x_t in names_ix.transpose(0,1):\n",
        "        hid_state, logp_next = rnn_cell(x_t, hid_state)  \n",
        "        logprobs.append(logp_next)\n",
        "        \n",
        "    return torch.stack(logprobs, dim=1)"
      ]
    },
    {
      "cell_type": "markdown",
      "metadata": {
        "id": "58uE5XRg85vg"
      },
      "source": [
        "### Тренировка сети"
      ]
    },
    {
      "cell_type": "code",
      "execution_count": null,
      "metadata": {
        "id": "bRaNDGQt85vh"
      },
      "outputs": [],
      "source": [
        "from IPython.display import clear_output\n",
        "from random import sample\n",
        "\n",
        "char_rnn = CharRNNCell()\n",
        "opt = torch.optim.Adam(char_rnn.parameters())\n",
        "history = []"
      ]
    },
    {
      "cell_type": "code",
      "execution_count": null,
      "metadata": {
        "colab": {
          "base_uri": "https://localhost:8080/",
          "height": 265
        },
        "id": "bBBWwNAz85vh",
        "outputId": "246f0d69-581e-496a-a7de-077fba749fb8"
      },
      "outputs": [
        {
          "data": {
            "image/png": "[encoded data removed]",
            "text/plain": [
              "<Figure size 432x288 with 1 Axes>"
            ]
          },
          "metadata": {},
          "output_type": "display_data"
        }
      ],
      "source": [
        "MAX_LENGTH = max(map(len, names))\n",
        "\n",
        "for i in range(1000):\n",
        "    names_ix = to_matrix(sample(names, 32), token_to_id, max_len=MAX_LENGTH)\n",
        "    names_ix = torch.tensor(names_ix, dtype=torch.int64)\n",
        "    \n",
        "    logp_seq = rnn_loop(char_rnn, names_ix)\n",
        "    \n",
        "    # compute loss\n",
        "    predictions_logp = logp_seq[:, :-1]\n",
        "    actual_next_tokens = names_ix[:, 1:]\n",
        "\n",
        "    loss = -torch.mean(torch.gather(predictions_logp, dim=2, index=actual_next_tokens[:,:,None]))   # minimizing cross-entropy (<=> maximizing log likelihood)\n",
        "    \n",
        "    # train with backprop\n",
        "    loss.backward()\n",
        "    opt.step()\n",
        "    opt.zero_grad()\n",
        "    \n",
        "    # visualizing training process\n",
        "    history.append(loss.data.numpy())\n",
        "    if (i + 1) % 100 == 0:\n",
        "        clear_output(True)\n",
        "        plt.plot(history,label='loss')\n",
        "        plt.legend()\n",
        "        plt.show()\n",
        "\n",
        "assert np.mean(history[:10]) > np.mean(history[-10:]), \"RNN didn't converge.\""
      ]
    },
    {
      "cell_type": "markdown",
      "metadata": {
        "id": "89UH7K6X85vi"
      },
      "source": [
        "### RNN: генерация имен"
      ]
    },
    {
      "cell_type": "code",
      "execution_count": null,
      "metadata": {
        "id": "ukLmh7z085vi"
      },
      "outputs": [],
      "source": [
        "def generate_sample(char_rnn, seed_phrase=' ', max_length=MAX_LENGTH, temperature=1.0):\n",
        "    '''\n",
        "    The function generates text given a phrase of length at least SEQ_LENGTH.\n",
        "    :param seed_phrase: prefix characters. The RNN is asked to continue the phrase\n",
        "    :param max_length: maximum output length, including seed_phrase\n",
        "    :param temperature: coefficient for sampling.  higher temperature produces more chaotic outputs,\n",
        "                        smaller temperature converges to the single most likely output\n",
        "    '''\n",
        "    \n",
        "    x_sequence = [token_to_id[token] for token in seed_phrase]\n",
        "    x_sequence = torch.tensor([x_sequence], dtype=torch.int64)\n",
        "    hid_state = char_rnn.initial_state(batch_size=1)\n",
        "    #feed the seed phrase, if any\n",
        "    for i in range(len(seed_phrase) - 1):\n",
        "        hid_state, _ = char_rnn(x_sequence[:, i], hid_state)\n",
        "    \n",
        "    #start generating\n",
        "    for _ in range(max_length - len(seed_phrase)):\n",
        "        #print(f'x_sequence[:,-1]: {x_sequence[:,-1]}')\n",
        "        hid_state, logp_next = char_rnn(x_sequence[:, -1], hid_state)\n",
        "        p_next = F.softmax(logp_next / temperature, dim=-1).data.numpy()[0]\n",
        "        \n",
        "        # sample next token and push it back into x_sequence\n",
        "        #print(f'p_next distribution === {p_next}')\n",
        "        #print()\n",
        "        next_ix = np.random.choice(len(tokens), p=p_next)\n",
        "        next_ix = torch.tensor([[next_ix]], dtype=torch.int64)\n",
        "        x_sequence = torch.cat([x_sequence, next_ix], dim=1)\n",
        "    #print(x_sequence)\n",
        "    #print(type(x_sequence))\n",
        "    return ''.join([tokens[ix] for ix in x_sequence.data.numpy()[0]])"
      ]
    },
    {
      "cell_type": "code",
      "execution_count": null,
      "metadata": {
        "colab": {
          "base_uri": "https://localhost:8080/"
        },
        "id": "6epju_4O85vj",
        "outputId": "d6dd4540-24f0-4a81-917e-72b0a59298c8"
      },
      "outputs": [
        {
          "name": "stdout",
          "output_type": "stream",
          "text": [
            " Jyahlin             \n",
            " Topikh              \n",
            " Avaraskoff          \n",
            " Grentskhin          \n",
            " Ahepot              \n",
            " Voves               \n",
            " Jovtikhin           \n",
            " Gegetulonkin        \n",
            " Gilakinff           \n",
            " Kalin               \n"
          ]
        },
        {
          "name": "stderr",
          "output_type": "stream",
          "text": [
            "/usr/local/lib/python3.7/dist-packages/torch/nn/functional.py:1949: UserWarning: nn.functional.tanh is deprecated. Use torch.tanh instead.\n",
            "  warnings.warn(\"nn.functional.tanh is deprecated. Use torch.tanh instead.\")\n"
          ]
        }
      ],
      "source": [
        "for _ in range(10):\n",
        "    print(generate_sample(char_rnn))"
      ]
    },
    {
      "cell_type": "code",
      "execution_count": null,
      "metadata": {
        "colab": {
          "base_uri": "https://localhost:8080/"
        },
        "id": "WIA14JKR85vj",
        "outputId": "be6da933-45ef-440e-d75b-1557c0feb50c"
      },
      "outputs": [
        {
          "name": "stdout",
          "output_type": "stream",
          "text": [
            " Korashin            \n",
            " Korakin             \n",
            " Korarov             \n",
            " Koranov             \n",
            " Koranin             \n",
            " Koranin             \n",
            " Korakov             \n",
            " Korakov             \n",
            " Koraev              \n",
            " Koraskov            \n"
          ]
        },
        {
          "name": "stderr",
          "output_type": "stream",
          "text": [
            "/usr/local/lib/python3.7/dist-packages/torch/nn/functional.py:1949: UserWarning: nn.functional.tanh is deprecated. Use torch.tanh instead.\n",
            "  warnings.warn(\"nn.functional.tanh is deprecated. Use torch.tanh instead.\")\n"
          ]
        }
      ],
      "source": [
        "for _ in range(10):\n",
        "    print(generate_sample(char_rnn, seed_phrase=' Kora', temperature=0.5))"
      ]
    },
    {
      "cell_type": "markdown",
      "metadata": {
        "collapsed": true,
        "id": "oiYeKWp485vk"
      },
      "source": [
        "### Более простое решение\n",
        "\n",
        "* `nn.RNNCell(emb_size, rnn_num_units)` - шаг RNN. Алгоритм: concat-linear-tanh\n",
        "* `nn.RNN(emb_size, rnn_num_units` - весь rnn_loop.\n",
        "\n",
        "Кроме того, в PyTorch есть `nn.LSTMCell`, `nn.LSTM`, `nn.GRUCell`, `nn.GRU`, etc. etc.\n",
        "\n",
        "Перепишем наш пример с генерацией имен с помощью средств PyTorch."
      ]
    },
    {
      "cell_type": "code",
      "execution_count": 55,
      "metadata": {
        "id": "feDrY-ISL8Xf"
      },
      "outputs": [],
      "source": [
        "class BasicModel(nn.Module):\n",
        "    def __init__(self, num_tokens=num_tokens, emb_size=16, hid_size=64):\n",
        "        super(self.__class__, self).__init__()\n",
        "        self.emb = nn.Embedding(num_tokens, emb_size)\n",
        "        self.gru = nn.GRU(emb_size, hid_size, batch_first=True)\n",
        "        self.hid_to_logits = nn.Linear(hid_size, num_tokens)\n",
        "\n",
        "    def forward(self, x, h_prev=None):\n",
        "        \"\"\" predicts next hidden state h_t \"\"\"\n",
        "        assert isinstance(x, Variable) and isinstance(x.data, torch.LongTensor)\n",
        "        output, hn = self.gru(self.emb(x), h_prev) # [batch_size x [ MAX_LENGTH x hid_size ]] \n",
        "        # output: containing the output features (h_t) from the last layer of the GRU, for each t\n",
        "        # hn: tensor containing the final hidden state for the input sequence.\n",
        "        next_logits = self.hid_to_logits(output)\n",
        "        next_logp = F.log_softmax(next_logits, dim=-1)\n",
        "        return next_logp, hn"
      ]
    },
    {
      "cell_type": "code",
      "execution_count": null,
      "metadata": {
        "id": "jpQu37tOq5lY"
      },
      "outputs": [],
      "source": [
        "from IPython.display import clear_output\n",
        "from random import sample\n",
        "\n",
        "model = BasicModel(num_tokens=len(tokens))\n",
        "opt = torch.optim.Adam(model.parameters())\n",
        "history = []"
      ]
    },
    {
      "cell_type": "code",
      "execution_count": null,
      "metadata": {
        "colab": {
          "base_uri": "https://localhost:8080/",
          "height": 268
        },
        "id": "b3NBrjXSgbqF",
        "outputId": "c968b3d7-1e41-4537-db13-a2d2c6311d16"
      },
      "outputs": [
        {
          "data": {
            "image/png": "[encoded data removed]",
            "text/plain": [
              "<Figure size 432x288 with 1 Axes>"
            ]
          },
          "metadata": {},
          "output_type": "display_data"
        }
      ],
      "source": [
        "MAX_LENGTH = max(map(len, names))\n",
        "\n",
        "for i in range(1000):\n",
        "    names_ix = to_matrix(sample(names, 32), token_to_id, max_len=MAX_LENGTH)\n",
        "    names_ix = torch.tensor(names_ix, dtype=torch.int64)\n",
        "    \n",
        "    logp_seq, _ = model(names_ix)\n",
        "    \n",
        "    # compute loss\n",
        "    predictions_logp = logp_seq[:, :-1]\n",
        "    actual_next_tokens = names_ix[:, 1:]\n",
        "\n",
        "    loss = -torch.mean(torch.gather(predictions_logp, dim=2, index=actual_next_tokens[:,:,None]))   # minimizing cross-entropy (<=> maximizing log likelihood)\n",
        "    \n",
        "    # train with backprop\n",
        "    loss.backward()\n",
        "    opt.step()\n",
        "    opt.zero_grad()\n",
        "    \n",
        "    # visualizing training process\n",
        "    history.append(loss.data.numpy())\n",
        "    if (i + 1) % 100 == 0:\n",
        "        clear_output(True)\n",
        "        plt.plot(history,label='loss')\n",
        "        plt.legend()\n",
        "        plt.show()\n",
        "\n",
        "assert np.mean(history[:10]) > np.mean(history[-10:]), \"RNN didn't converge.\""
      ]
    },
    {
      "cell_type": "code",
      "execution_count": null,
      "metadata": {
        "id": "3rxJGQ2UgtaH"
      },
      "outputs": [],
      "source": [
        "def generate_sample(model, seed_phrase=' ', max_length=MAX_LENGTH, temperature=1.0):\n",
        "    '''\n",
        "    The function generates text given a phrase of length at least SEQ_LENGTH.\n",
        "    :param seed_phrase: prefix characters. The RNN is asked to continue the phrase\n",
        "    :param max_length: maximum output length, including seed_phrase\n",
        "    :param temperature: coefficient for sampling.  higher temperature produces more chaotic outputs,\n",
        "                        smaller temperature converges to the single most likely output\n",
        "    '''\n",
        "    x_sequence = [token_to_id[token] for token in seed_phrase]\n",
        "    x_sequence = torch.tensor([x_sequence], dtype=torch.int64)\n",
        "\n",
        "    _, hn = model(x_sequence)\n",
        "    hn = hn.squeeze(0)   \n",
        "    \n",
        "    # start generating\n",
        "    for _ in range(max_length - len(seed_phrase)):\n",
        "        logp_next, hn = model(x_sequence[:,-1], hn)\n",
        "        p_next = F.softmax(logp_next / temperature, dim=-1).data.numpy()[0]\n",
        "\n",
        "        next_ix = np.random.choice(len(tokens), p=p_next)\n",
        "        next_ix = torch.tensor([[next_ix]], dtype=torch.int64)\n",
        "        x_sequence = torch.cat([x_sequence, next_ix], dim=1)\n",
        "\n",
        "    return ''.join([tokens[ix] for ix in x_sequence.data.numpy()[0]])"
      ]
    },
    {
      "cell_type": "code",
      "execution_count": null,
      "metadata": {
        "colab": {
          "base_uri": "https://localhost:8080/"
        },
        "id": "uoNRTnPox4uu",
        "outputId": "0d19a423-3829-4ddf-fe98-dacebbf5a4d0"
      },
      "outputs": [
        {
          "name": "stdout",
          "output_type": "stream",
          "text": [
            " Vakhin              \n",
            " Vakhinov            \n",
            " Vakhitov            \n",
            " Vakhihin            \n",
            " Vakhinnkrin         \n",
            " Vakhin              \n",
            " Vakhi               \n",
            " Vakhichabenky       \n",
            " Vakhin              \n",
            " Vakhikhen           \n"
          ]
        }
      ],
      "source": [
        "for i in range(10):\n",
        "    print(generate_sample(model, seed_phrase=' Vakhi')) # Trying to generate ' Vakhitov'"
      ]
    },
    {
      "cell_type": "code",
      "execution_count": null,
      "metadata": {
        "colab": {
          "base_uri": "https://localhost:8080/"
        },
        "id": "UuF2gkCF3I4D",
        "outputId": "8f68c5b0-f852-4050-c076-ea46ebc702e7"
      },
      "outputs": [
        {
          "name": "stdout",
          "output_type": "stream",
          "text": [
            " Koravsktsch         \n",
            " Korasilkov          \n",
            " Korakhan            \n",
            " Koratyaoejko        \n",
            " Koradov             \n",
            " KoraheanE           \n",
            " Koranokoff          \n",
            " Koratsovisp         \n",
            " Koraduskk           \n",
            " Korah               \n"
          ]
        }
      ],
      "source": [
        "for i in range(10):\n",
        "    print(generate_sample(model, seed_phrase=' Kora', temperature=1.5)) # Getting ' Korablev' is extremely hard"
      ]
    },
    {
      "cell_type": "code",
      "execution_count": null,
      "metadata": {
        "colab": {
          "base_uri": "https://localhost:8080/"
        },
        "id": "_imbF6Co3rjX",
        "outputId": "38bd86dc-c778-4fe5-af67-8d1e3874dfe4"
      },
      "outputs": [
        {
          "name": "stdout",
          "output_type": "stream",
          "text": [
            " Korablichelevak     \n",
            " Korablkonetojejvylp \n",
            " Korablahamov kyk    \n",
            " Korablev            \n",
            " Korablub            \n",
            " Korablov            \n",
            " Korablye            \n",
            " Korabliro Cch       \n",
            " Korabl              \n",
            " Korablrtenakpku     \n"
          ]
        }
      ],
      "source": [
        "for i in range(10):\n",
        "    print(generate_sample(model, seed_phrase=' Korabl', temperature=1.5)) # Got it!"
      ]
    },
    {
      "cell_type": "code",
      "execution_count": null,
      "metadata": {
        "colab": {
          "base_uri": "https://localhost:8080/"
        },
        "id": "2WpN9WiJqC1-",
        "outputId": "24cdcf43-f233-4e4d-d9aa-0594ea2cae13"
      },
      "outputs": [
        {
          "name": "stdout",
          "output_type": "stream",
          "text": [
            " Balin               \n",
            "  alinov             \n",
            "  alin               \n",
            " Malov               \n",
            " Malov               \n",
            " Palov               \n",
            " Malin               \n",
            " Maranov             \n",
            "  alin               \n",
            "  alin               \n"
          ]
        }
      ],
      "source": [
        "for i in range(10):\n",
        "    print(generate_sample(model, temperature=0.1))"
      ]
    },
    {
      "cell_type": "code",
      "execution_count": null,
      "metadata": {
        "colab": {
          "base_uri": "https://localhost:8080/"
        },
        "id": "Jbn_Uy1KqMsc",
        "outputId": "5b6b062b-b4fe-48b9-f3d0-7fd9491feba0"
      },
      "outputs": [
        {
          "name": "stdout",
          "output_type": "stream",
          "text": [
            "  jrentovchenkov     \n",
            " Mesenukov           \n",
            " Batsuk              \n",
            " Lirkshuk            \n",
            " Bairman             \n",
            " Miulestov           \n",
            " Eistudor            \n",
            " Hammikik            \n",
            " Shakjem             \n",
            " Palin               \n"
          ]
        }
      ],
      "source": [
        "for i in range(10):\n",
        "    print(generate_sample(model, temperature=1))"
      ]
    },
    {
      "cell_type": "markdown",
      "metadata": {
        "id": "ptqdV5azqhCu"
      },
      "source": [
        "*   model can generate whitespace(' ') as a first letter in a name (``_jrentovchenkov``)  \n",
        "__This may be caused by our training data__ (some samples were starting with a whitespace)"
      ]
    },
    {
      "cell_type": "code",
      "execution_count": null,
      "metadata": {
        "colab": {
          "base_uri": "https://localhost:8080/"
        },
        "id": "Ew4al94IrpVL",
        "outputId": "ae636f8d-db0d-4e8d-837c-db27cf9a9e18"
      },
      "outputs": [
        {
          "data": {
            "text/plain": [
              "0"
            ]
          },
          "execution_count": 119,
          "metadata": {},
          "output_type": "execute_result"
        }
      ],
      "source": [
        "# Let's investigate that issue:\n",
        "\n",
        "cnt=0\n",
        "for name in names:\n",
        "    if name[1] == ' ':\n",
        "        cnt+=1\n",
        "cnt"
      ]
    },
    {
      "cell_type": "code",
      "execution_count": null,
      "metadata": {
        "id": "D5D6pDzir5kL"
      },
      "outputs": [],
      "source": [
        "# Ok, that's not the case.."
      ]
    },
    {
      "cell_type": "code",
      "execution_count": null,
      "metadata": {
        "colab": {
          "base_uri": "https://localhost:8080/"
        },
        "id": "5hIvL0lv2I9X",
        "outputId": "2dfedeb3-89fd-4a64-8b77-45bf7f60ea23"
      },
      "outputs": [
        {
          "name": "stdout",
          "output_type": "stream",
          "text": [
            " Ezitshchach hnykhsav\n",
            " Rip Zjowshyuwky     \n",
            " Vrtamovin           \n",
            " paanuhev            \n",
            " Iitsyyfc            \n",
            " Zhkhmn  ho          \n",
            "  arodofs         k  \n",
            " Sltssanoffn c v     \n",
            " Fapuchskhi chichuv  \n",
            "  adskevichdich Skau \n"
          ]
        }
      ],
      "source": [
        "# If we raise a temperature a little bit, the generated samples become more meaningless\n",
        "for i in range(10):\n",
        "    print(generate_sample(model, temperature=1.5))"
      ]
    },
    {
      "cell_type": "code",
      "execution_count": null,
      "metadata": {
        "colab": {
          "base_uri": "https://localhost:8080/"
        },
        "id": "GbbEt0JO21Hf",
        "outputId": "4a1194dd-ca0a-4b75-8959-74d6f4a5237f"
      },
      "outputs": [
        {
          "name": "stdout",
          "output_type": "stream",
          "text": [
            " MaI FugepgjimrfzaIjn\n",
            " e,KiLFpyNLi,kjVnshP,\n",
            " NNsLzddjkoIYDGdSurjz\n",
            " YJsoulsmeaffKAngLP d\n",
            " ,,sfmttotkhfVncNsbkz\n",
            " w'hI cBoEbeonSE eCpy\n",
            " ZbOKj K pneySIsch G \n",
            " IUskweJbso  OiCovbyk\n",
            " ZKe'Jkroktja PIhneHv\n",
            " vAOgolBotsi VUilz kn\n"
          ]
        }
      ],
      "source": [
        "# With temperature = 5 we get sequences without any sense\n",
        "for i in range(10):\n",
        "    print(generate_sample(model, temperature=5))"
      ]
    },
    {
      "cell_type": "markdown",
      "metadata": {
        "id": "1hhFWjC085vm"
      },
      "source": [
        "# Домашнее задание: мотивационные лозунги "
      ]
    },
    {
      "cell_type": "markdown",
      "metadata": {
        "id": "TQ7BfB8dzdu-"
      },
      "source": [
        "## S1. Character level approach"
      ]
    },
    {
      "cell_type": "markdown",
      "metadata": {
        "id": "AQ08xe4u92vC"
      },
      "source": [
        "Генерируя цитаты на уровне символов, мы можем получать рандомные последовательности символов, которые вовсе не являются словами русского языка.</br>\n",
        "Однако этот подход все равно представляет для нас практический интерес. (вдруг модель выучит словообразование и начнет предсказывать что-то внятное)"
      ]
    },
    {
      "cell_type": "code",
      "execution_count": 3,
      "metadata": {
        "id": "9IYZQbwH85vn"
      },
      "outputs": [],
      "source": [
        "# Если Вы запускаете ноутбук на colab или kaggle, добавьте в начало пути ./stepik-dl-nlp\n",
        "with open('/content/hw_author_quotes.txt') as input_file:\n",
        "    quotes = input_file.read()[:-1].split('\\n')\n",
        "    quotes = [' ' + line.replace(u'\\xa0', u' ') for line in quotes]"
      ]
    },
    {
      "cell_type": "code",
      "execution_count": 4,
      "metadata": {
        "colab": {
          "base_uri": "https://localhost:8080/"
        },
        "id": "VF89Fgjf85vn",
        "outputId": "db01ab37-1fb3-417a-cb35-123eeffb746c"
      },
      "outputs": [
        {
          "output_type": "execute_result",
          "data": {
            "text/plain": [
              "[' If you live to be a hundred, I want to live to be a hundred minus one day so I never have to live without you.',\n",
              " \" Promise me you'll always remember: You're braver than you believe, and stronger than you seem, and smarter than you think.\",\n",
              " ' Did you ever stop to think, and forget to start again?',\n",
              " ' Organizing is what you do before you do something, so that when you do it, it is not all mixed up.',\n",
              " ' Weeds are flowers too, once you get to know them.']"
            ]
          },
          "metadata": {},
          "execution_count": 4
        }
      ],
      "source": [
        "quotes[:5]"
      ]
    },
    {
      "cell_type": "code",
      "execution_count": 5,
      "metadata": {
        "id": "SFA5tmOC85vo"
      },
      "outputs": [],
      "source": [
        "tokens = list(set(''.join(quotes)))\n",
        "token_to_id = {token: idx for idx, token in enumerate(tokens)} # character : idx\n",
        "num_tokens = len(tokens) # 85 unique characters"
      ]
    },
    {
      "cell_type": "code",
      "execution_count": null,
      "metadata": {
        "colab": {
          "base_uri": "https://localhost:8080/",
          "height": 466
        },
        "id": "Ld8OBb7-1k8E",
        "outputId": "8f768535-f858-4ab7-f1c7-c08ffe204a9b"
      },
      "outputs": [
        {
          "data": {
            "text/plain": [
              "(array([2.490e+02, 1.537e+03, 3.235e+03, 3.899e+03, 3.888e+03, 3.806e+03,\n",
              "        2.946e+03, 2.343e+03, 2.135e+03, 2.137e+03, 1.849e+03, 1.610e+03,\n",
              "        1.284e+03, 1.131e+03, 9.940e+02, 8.630e+02, 6.980e+02, 4.630e+02,\n",
              "        3.970e+02, 3.430e+02, 2.700e+02, 8.100e+01, 1.000e+00, 2.000e+00,\n",
              "        4.000e+00]),\n",
              " array([ 10.  ,  25.96,  41.92,  57.88,  73.84,  89.8 , 105.76, 121.72,\n",
              "        137.68, 153.64, 169.6 , 185.56, 201.52, 217.48, 233.44, 249.4 ,\n",
              "        265.36, 281.32, 297.28, 313.24, 329.2 , 345.16, 361.12, 377.08,\n",
              "        393.04, 409.  ]),\n",
              " <a list of 25 Patch objects>)"
            ]
          },
          "execution_count": 15,
          "metadata": {},
          "output_type": "execute_result"
        },
        {
          "data": {
            "image/png": "[encoded data removed]",
            "text/plain": [
              "<Figure size 432x288 with 1 Axes>"
            ]
          },
          "metadata": {},
          "output_type": "display_data"
        }
      ],
      "source": [
        "plt.title('Quotes length distribution')\n",
        "plt.hist(list(map(len, quotes)), bins=25)"
      ]
    },
    {
      "cell_type": "code",
      "execution_count": null,
      "metadata": {
        "colab": {
          "base_uri": "https://localhost:8080/"
        },
        "id": "6uKA89bU2lDI",
        "outputId": "62ecd91c-6e91-434c-c0d6-0d751919c47c"
      },
      "outputs": [
        {
          "data": {
            "text/plain": [
              "275.0"
            ]
          },
          "execution_count": 149,
          "metadata": {},
          "output_type": "execute_result"
        }
      ],
      "source": [
        "np.quantile(list(map(len, quotes)), 0.95)"
      ]
    },
    {
      "cell_type": "code",
      "execution_count": null,
      "metadata": {
        "colab": {
          "base_uri": "https://localhost:8080/"
        },
        "id": "4ceyDhfW27oP",
        "outputId": "3be5aae2-e2d0-45d3-85d8-2771df8bd456"
      },
      "outputs": [
        {
          "name": "stdout",
          "output_type": "stream",
          "text": [
            " I love 'Glee.'\n",
            " I am reactive.\n",
            " I like horses!\n",
            " Keep it simple.\n",
            " To be is to do.\n",
            "[[55  5 55 83 36 65 31 55 27 30 83 31 31 57 27 55]\n",
            " [55  5 55 62 35 55  0 31 62 53 66 54 65 31 57 55]\n",
            " [55  5 55 83 54  2 31 55 71 36  0 48 31 48  3 55]\n",
            " [55 23 31 31 17 55 54 66 55 48 54 35 17 83 31 57]\n",
            " [55 11 36 55 51 31 55 54 48 55 66 36 55  6 36 57]]\n"
          ]
        }
      ],
      "source": [
        "#Example: cast 5 quotes to matrices, pad with zeros\n",
        "batch_lines = sorted(quotes, key=len)[5:10]\n",
        "print('\\n'.join(batch_lines[:5]))\n",
        "print(to_matrix(batch_lines[:5], token_to_id))"
      ]
    },
    {
      "cell_type": "markdown",
      "metadata": {
        "id": "BsrZ-K0A_rg9"
      },
      "source": [
        "### Тренировка сети RNN "
      ]
    },
    {
      "cell_type": "code",
      "execution_count": null,
      "metadata": {
        "id": "RohljcY1_cMb"
      },
      "outputs": [],
      "source": [
        "model = BasicModel(num_tokens=len(tokens))\n",
        "opt = torch.optim.Adam(model.parameters())\n",
        "history = []"
      ]
    },
    {
      "cell_type": "code",
      "execution_count": null,
      "metadata": {
        "colab": {
          "base_uri": "https://localhost:8080/",
          "height": 265
        },
        "id": "vk08LO6B5BaO",
        "outputId": "2097ba45-7e75-41ce-f982-745a260d8d3f"
      },
      "outputs": [
        {
          "data": {
            "image/png": "[encoded data removed]",
            "text/plain": [
              "<Figure size 432x288 with 1 Axes>"
            ]
          },
          "metadata": {},
          "output_type": "display_data"
        }
      ],
      "source": [
        "MAX_LENGTH = max(map(len, quotes))\n",
        "\n",
        "for i in range(1000):\n",
        "    quotes_ix = to_matrix(sample(quotes, 32), token_to_id, max_len=MAX_LENGTH)\n",
        "    quotes_ix = torch.tensor(quotes_ix, dtype=torch.int64)\n",
        "    \n",
        "    logp_seq, _ = model(quotes_ix)\n",
        "    \n",
        "    # compute loss\n",
        "    predictions_logp = logp_seq[:, :-1]\n",
        "    actual_next_tokens = quotes_ix[:, 1:]\n",
        "\n",
        "    loss = -torch.mean(torch.gather(predictions_logp, dim=2, index=actual_next_tokens[:,:,None]))   # minimizing cross-entropy (<=> maximizing log likelihood)\n",
        "    \n",
        "    # train with backprop\n",
        "    loss.backward()\n",
        "    opt.step()\n",
        "    opt.zero_grad()\n",
        "    \n",
        "    # visualizing training process\n",
        "    history.append(loss.data.numpy())\n",
        "    if (i + 1) % 100 == 0:\n",
        "        clear_output(True)\n",
        "        plt.plot(history,label='loss')\n",
        "        plt.legend()\n",
        "        plt.show()\n",
        "\n",
        "assert np.mean(history[:10]) > np.mean(history[-10:]), \"RNN didn't converge.\""
      ]
    },
    {
      "cell_type": "markdown",
      "metadata": {
        "id": "d3GnEZ0RBSl4"
      },
      "source": [
        "### Генерация цитат "
      ]
    },
    {
      "cell_type": "code",
      "execution_count": null,
      "metadata": {
        "colab": {
          "base_uri": "https://localhost:8080/"
        },
        "id": "5YVmarTOBV-F",
        "outputId": "1d14918d-33bc-4127-d3db-eaad5562b4ac"
      },
      "outputs": [
        {
          "name": "stdout",
          "output_type": "stream",
          "text": [
            " I shouldn't have eaten that bpinl,, hathte. I vess,. ach the nsace bat uat o y mom awd thateate, int Aem'd sactolerem; in asesg.                                                                                                                                                                                  £                                                                                                     \n",
            " I shouldn't have eaten thatut tert in moring jho cutuiony an of piot che helt perils fre wou whor e san e fallencin oreg gal forts imincar anlalel aplang hatinacud Dadid, be fosen lewnongmepe Waldting ito lepredo worloneloedyallled ile say bint dindhty to the'm thed  they whagU slesy ingmo wony bead beapliould a fritiy'ty a. Wher herty ous —uile mang ther, bese'ti'teve mirtener son  tha rarle fhoung bikc \n",
            " I shouldn't have eaten thatemry is catl reeriy ppey nurt one tilibe  fid ofJonged dis chis bul ons nof afw'sily and, ot wo cingers ouce wror nalk yis hialr anesn to dsesf.+ san falt, on, frucplanborsr ive that hamd thot ou soan to whane syEare vou hang.    W civit ant liat noleas asendareng chocy Iatedsing thatt asy as.                                                                                       \n",
            " I shouldn't have eaten thatafe moon tor intery atjelsty fariste whemege if a whabn. Lrud.                                                                                                                                                                                                                                                                                                                               \n",
            " I shouldn't have eaten thathe rand beat. mo k hanor fave't I at shooty a?.                                                                                                                                                                                                                                                                                                                                              \n",
            " I shouldn't have eaten thatern g crel-inttul anseres wacind.                                                                                                                                                                                                                                                                                                                                                            \n",
            " I shouldn't have eaten that ofrdinse theyse shere hicaly whror on thederen betee wathane fo d int horemet hate dogl mithis ae'su o lae melus thse.                                                                                                                                                                                                                                                                      \n",
            " I shouldn't have eaten thathe in s imp wes ofqud,ingilyeleeses and!pFoubed peveoe ind angaincus woand lpeapst wree hig. I r, thacids tor citeut's be pouy the da've woy th be. f  s an dos sak san'lectos wreat curtidt I'th wingalnttheme the flon, in piece.   r o  the hhat thek ceo maseyculline abst hins iave Gemy i wouthin y ow peoteyy a't ar theren I !  as ow theg sond be:al arery,erlikicelmer on. ionPe Go\n",
            " I shouldn't have eaten that acuy.                                                                                                                                                                                                                                                                                                                                                                                       \n",
            " I shouldn't have eaten that is waysud lable toany'n enrithons ther,  ffite sors yois expeara Ilve ar wemenn re haapve son pas;onlcaly perililen kyerenty o wrerith leet cade the grecuy mhow wirg arme koed. I no palale woqre0, aittyre neeliry the live therd to Woroat ringt amy jel, abs. I ve asting bftend jhorale nan a dovetut sand a ius Heawd singry I deare noThth laola Iact mint a, .                      \n"
          ]
        }
      ],
      "source": [
        "MAX_LENGTH = max(map(len,quotes))\n",
        "\n",
        "for i in range(10):\n",
        "    print(generate_sample(model, max_length=MAX_LENGTH, seed_phrase=' I shouldn\\'t have eaten that', temperature = 1)) "
      ]
    },
    {
      "cell_type": "code",
      "execution_count": null,
      "metadata": {
        "colab": {
          "base_uri": "https://localhost:8080/"
        },
        "id": "0oWw4kb_8Xvv",
        "outputId": "d76eb357-67d9-4223-faf7-09db41f64003"
      },
      "outputs": [
        {
          "name": "stdout",
          "output_type": "stream",
          "text": [
            " The .                                            \n",
            " porer ther theciys on ther bacg sol hyean in asre\n",
            " ho te batil en orht tan lom eaysel te wulaps in w\n",
            " Cow ulisl poaya ive the. n  a dot covet jevestys \n",
            " Ren. I wual ind ther tin tibt a's lower. bers mok\n",
            " 4                                                \n",
            "                                                  \n",
            " I vome fomrides wis maree shatnresteedontimfe low\n",
            " Ae tan in then.                                  \n",
            " fn we ant reveitep gi- anes'cle eabped coil al w \n"
          ]
        }
      ],
      "source": [
        "for i in range(10):\n",
        "    print(generate_sample(model, max_length=50, seed_phrase=' ', temperature = 0.9)) "
      ]
    },
    {
      "cell_type": "code",
      "execution_count": null,
      "metadata": {
        "colab": {
          "base_uri": "https://localhost:8080/"
        },
        "id": "e2mCw7s89BFN",
        "outputId": "950d480c-724c-419f-d823-43f3646a243b"
      },
      "outputs": [
        {
          "name": "stdout",
          "output_type": "stream",
          "text": [
            " Thou art I a lat meore cowing hor ar in wal ap as at of in the more on tiat and the sis and and the the wheal and are the har at the wyor of that the the lig ar1 the there to  and and and a dot an that an hes at gor an enen to g man wher the aly thor eling the ass be and the o pat and int in that mong me wout to wo mare and whit e han wat I the to to ing the persis sor ous the wo the the the of of the the\n",
            " Thou art I in the douting and then of and Ind in an of of the whe wher the anden wou and ther the whe mus the the siske hire the then ale whers o wo dor frerat the the mome the the what as il wor coren the doust rout a ty that hes the that an that thot the the he the and and the dout wo the and and the meall and and werove me the be so the go to the and that pare the what ar the thoud wand wee the I lad s\n",
            " Thou art I and hat ther of the sing the to the the the sronge hos at and the lion areve the wout the the ing on and move an bemere in restor of wo more the of saf. I tuw in the the at of the hacher mas has ou gere that the the whe ine the so the the the be the the the the to woun the the in ho beat ond of the so the core the the the the and the the the the is an lere to kist ot and as at the as the pare t\n",
            " Thou art I the the and bop- and in wo leming in tho cat an is sows of theas he we game so so fat to ther the sate wo the the and and of noun cande were a wor and it as the mere and ther is bering the of what the whe to fule the singe I of the wo kethe we the the grite and the  ar wo s and of berse sien the woon.                                                                                               \n",
            " Thou art I and o the ro the wion the the to gore fo wour in the the lion a re there the the the fom arars an in to to the hure of it sere woo yo to as and and and and ang mor a wo falle be cover to ston sos of ther and that pere coring in on the an the all tho the gese ther fo the wo ther in an the it e the the wiing the the and ther are ther wher what cor the beraple she at suthe the at an in or the im a\n",
            " Thou art I a doind in of whe the what wou the cate mere to s in the thens sing dout the and ar wou and wit at to the and the the the the be fon the the and the sere for the al  a doule the, an the ben the hara do that and the the the the an the wo thean the to wor and the meaty you the the pas aur thing ther an as the thale as boore gor a dou the mon and and wlerem as thering is an ang on or cinge ale the\n",
            " Thou art I the to malt an alreon it in a fore the the be weat and of on lenor the an sor wo wore sor is mat and wo le and the mat in of to sout an at the pemy cyal our an and the wom and an bet and an it re as the the fore elang and to the as in dous of and that in sil line sall be pithe and the aw thing withe in babe an an the the sto wher and ther to be gas and aren wering and of toon the the the sand w\n",
            " Thou art I a de an maig the the sot and of tos in sat and to was of were tho wore and the and in tho bor of that is to the pores san shere mare that ang aves meat thy ane sere son the the patile har and red tom an sor and, be no the moon wile siely an for the to an so what the mees is in in ther the come the sing a for so led in that and the the the that in ang the the the whe the sore the thering the in \n",
            " Thou art I an in the the the an and an an ar a to what eser cime more the ard was the hat that and that tho don the the fas be it and wime with in in se a mort leve chat aus be pint ar an the a what to wo the tur fare the ind the to lont and the whe ware more are frathe that and of of toul and ther the meon bore cerale at at of int a doun the soon war and mest in mo the the of the are in in wo boalt that \n",
            " Thou art I ang wise than the you you fores the entisal the pase the the in are as bemand and some and the mas the the thate and is the the an in mo beat wo wo sall a dou somtere to beat forde as ther and I in cond ang le ast and ang the come what estion to in a whe as the and in arlang the to woul to don and and I doun mar and the sif as more wous, in the pad is al ass an sarind at and at and hal hary the\n"
          ]
        }
      ],
      "source": [
        "# Let's give it a starting phrase\n",
        "\n",
        "for i in range(10):\n",
        "    print(generate_sample(model, max_length=MAX_LENGTH, seed_phrase=' Thou art I ', temperature = 0.5)) # thou art I and I am thou"
      ]
    },
    {
      "cell_type": "code",
      "execution_count": null,
      "metadata": {
        "colab": {
          "base_uri": "https://localhost:8080/"
        },
        "id": "Hd13TeBc9jhs",
        "outputId": "b9c5f678-dd4c-4014-ea35-865ba2afe432"
      },
      "outputs": [
        {
          "name": "stdout",
          "output_type": "stream",
          "text": [
            " Thou art I tos sot ,uve\n",
            " Thou art I thau.       \n",
            " Thou art I mant ay caut\n",
            " Thou art I utot muc gul\n",
            " Thou art I s if oud -to\n",
            " Thou art I moty an wer \n",
            " Thou art I aresive nobc\n",
            " Thou art I a bocens ham\n",
            " Thou art I and ches ine\n",
            " Thou art I Woble.pratas\n"
          ]
        }
      ],
      "source": [
        "for i in range(10):\n",
        "    print(generate_sample(model, max_length=24, seed_phrase=' Thou art I ', temperature = 1)) # thou art I and I am thou"
      ]
    },
    {
      "cell_type": "code",
      "execution_count": null,
      "metadata": {
        "colab": {
          "base_uri": "https://localhost:8080/"
        },
        "id": "cf-zJ8U2921u",
        "outputId": "270c8aa7-a53a-4da3-ae03-616b6e1526e9"
      },
      "outputs": [
        {
          "name": "stdout",
          "output_type": "stream",
          "text": [
            " Thou art I and ILio chd\n",
            "CPU times: user 1min 39s, sys: 253 ms, total: 1min 39s\n",
            "Wall time: 1min 40s\n"
          ]
        }
      ],
      "source": [
        "# Let's give it a starting phrase\n",
        "%%time\n",
        "out_phrase=''\n",
        "while (out_phrase[:17] != ' Thou art I and I'): \n",
        "    out_phrase = generate_sample(model, max_length=24, seed_phrase=' Thou art I ', temperature = 1.5)\n",
        "print(out_phrase)"
      ]
    },
    {
      "cell_type": "code",
      "execution_count": null,
      "metadata": {
        "id": "UlNv7SqT_vGW"
      },
      "outputs": [],
      "source": [
        "# Not what I expected, but it was a complicated example (at least character-level model couldn't handle it)"
      ]
    },
    {
      "cell_type": "code",
      "execution_count": null,
      "metadata": {
        "colab": {
          "base_uri": "https://localhost:8080/"
        },
        "id": "BnYmpEOCAC1W",
        "outputId": "d4564410-3680-47f0-c09e-ccb70b345c1a"
      },
      "outputs": [
        {
          "name": "stdout",
          "output_type": "stream",
          "text": [
            " Thou art I and I'sind n\n",
            "CPU times: user 9.18 s, sys: 26.5 ms, total: 9.21 s\n",
            "Wall time: 9.22 s\n"
          ]
        }
      ],
      "source": [
        "# Maybe lowering the temperature we'll produce it faster (?)\n",
        "%%time\n",
        "out_phrase=''\n",
        "while (out_phrase[:17] != ' Thou art I and I'): \n",
        "    out_phrase = generate_sample(model, max_length=24, seed_phrase=' Thou art I ', temperature = 1)\n",
        "print(out_phrase)"
      ]
    },
    {
      "cell_type": "code",
      "execution_count": null,
      "metadata": {
        "colab": {
          "base_uri": "https://localhost:8080/"
        },
        "id": "W_Qzar0-AbxK",
        "outputId": "2d6e9327-8af8-4929-984d-97b441681cc9"
      },
      "outputs": [
        {
          "name": "stdout",
          "output_type": "stream",
          "text": [
            " Thou art I ankeur, till beast athen macu tore toh wor aspe thal asy grey. Womigkas fat' or yowd don ast ang hrour irinten to                                                                                                                                                                                                                                                                                            \n",
            " Thou art I hul roove on fhebippime atolive moon has thin wo mart inelteoto anding youc thed.                                                                                                                                                                                                                                                                                                                            \n",
            " Thou art I a komeog he out rile wofene hich aNt in inct man't has whowind ifut ande sringe I fentire not rabe sory sere wores is ot oid tou ariibe bede. 9  0                                                                              '                                                                                                                                                                            \n",
            " Thou art I actenst you verelely, was's is aveg. I lon it to to  I lo pou-pisher af samti  I do frer.f aryed a'nd. Am rmean, whand. dd on e syere a gorectotejessad theg lp tion actey theddence ou nomatl  pom..                                                                                                                                                                                                        \n",
            " Thou art I art.                                                                                                                                                                                                                                                                                                                                                                                                         \n",
            " Thou art I pife,esil, I yo dime cuthe nfang btopting srels.                                                                                                                                                                                                                                                                                                                                                             \n",
            " Thou art I hann cho me goth've cish douy sro to w'the Tolr. I, yon of ItMy bo cod mure ofrling nott wew shiltu.                                                                                                                                                                                                                                                                                                         \n",
            " Thou art I oul natd.                                                                                                                                                                                                                                                                                                                                                                                                    \n",
            " Thou art I  to the goy, som.                                                                                                                                                                                                                                                                                                                                                                                            \n",
            " Thou art I Tho4vasinsikandt theabe thar asous wisthet saty ande the bare anennts meretidenen a led motorer id ou is prace che tory in fonmes,ce fabf ivees of of fons muy. i  if ats trilk waly in sam roriyme them simiyl andereming shere cot an't bnepant. Wre tuut the  Wo nou cperplat the curts as than andoaz ave fas harken't, fom. I kod wors It'ac tiels of wide tho vemumist over  besat lniy kume aboves lor\n",
            "CPU times: user 1.84 s, sys: 8.77 ms, total: 1.85 s\n",
            "Wall time: 1.85 s\n"
          ]
        }
      ],
      "source": [
        "# Maybe changing the max_len will help us getting more sophisticated result\n",
        "%%time\n",
        "out_phrase=''\n",
        "for i in range(10): \n",
        "    print(generate_sample(model, max_length=MAX_LENGTH, seed_phrase=' Thou art I ', temperature = 1))"
      ]
    },
    {
      "cell_type": "markdown",
      "metadata": {
        "id": "SvhOdEfr0upR"
      },
      "source": [
        "## S2. Segment-level approach"
      ]
    },
    {
      "cell_type": "markdown",
      "metadata": {
        "id": "lR8sd7xzB8o1"
      },
      "source": [
        "### Tokenizing"
      ]
    },
    {
      "cell_type": "code",
      "execution_count": 7,
      "metadata": {
        "id": "riEg6pPlCEEr"
      },
      "outputs": [],
      "source": [
        "!pip3 install subword-nmt &> log"
      ]
    },
    {
      "cell_type": "code",
      "execution_count": 8,
      "metadata": {
        "id": "lIR8P1t4Iweu"
      },
      "outputs": [],
      "source": [
        "from nltk.tokenize import WordPunctTokenizer\n",
        "from subword_nmt.learn_bpe import learn_bpe\n",
        "from subword_nmt.apply_bpe import BPE\n",
        "tokenizer = WordPunctTokenizer()\n",
        "def tokenize(x):\n",
        "    return ' '.join(tokenizer.tokenize(x.lower()))"
      ]
    },
    {
      "cell_type": "code",
      "execution_count": 9,
      "metadata": {
        "colab": {
          "base_uri": "https://localhost:8080/"
        },
        "id": "bVls7AKZGkfZ",
        "outputId": "4628c206-a123-4149-baa9-1e5ca40d04d3"
      },
      "outputs": [
        {
          "output_type": "execute_result",
          "data": {
            "text/plain": [
              "[' If you live to be a hundred, I want to live to be a hundred minus one day so I never have to live without you.',\n",
              " \" Promise me you'll always remember: You're braver than you believe, and stronger than you seem, and smarter than you think.\",\n",
              " ' Did you ever stop to think, and forget to start again?',\n",
              " ' Organizing is what you do before you do something, so that when you do it, it is not all mixed up.',\n",
              " ' Weeds are flowers too, once you get to know them.']"
            ]
          },
          "metadata": {},
          "execution_count": 9
        }
      ],
      "source": [
        "quotes[:5]"
      ]
    },
    {
      "cell_type": "code",
      "execution_count": 10,
      "metadata": {
        "id": "FaaNYBsn0xXH"
      },
      "outputs": [],
      "source": [
        "from nltk.tokenize import WordPunctTokenizer\n",
        "from subword_nmt.learn_bpe import learn_bpe\n",
        "from subword_nmt.apply_bpe import BPE\n",
        "tokenizer = WordPunctTokenizer()\n",
        "def tokenize(x):\n",
        "    return ' '.join(tokenizer.tokenize(x.lower()))\n",
        "\n",
        "# split and tokenize the data\n",
        "with open('tokenized_quotes.txt', 'w') as f_quotes:\n",
        "    for quote in quotes:\n",
        "        f_quotes.write(' ' + tokenize(quote.strip()) + '\\n')"
      ]
    },
    {
      "cell_type": "code",
      "execution_count": null,
      "metadata": {
        "colab": {
          "base_uri": "https://localhost:8080/"
        },
        "id": "NLaD-QHsKao0",
        "outputId": "03aafd4b-5d5b-43ff-ee00-f870b0986b39"
      },
      "outputs": [
        {
          "name": "stdout",
          "output_type": "stream",
          "text": [
            " if you live to be a hundred , i want to live to be a hundred minus one day so i never have to live without you .\n",
            " promise me you ' ll always remember : you ' re braver than you believe , and stronger than you seem , and smarter than you think .\n",
            " did you ever stop to think , and forget to start again ?\n",
            " organizing is what you do before you do something , so that when you do it , it is not all mixed up .\n",
            " weeds are flowers too , once you get to know them .\n",
            " you can ' t stay in your corner of the forest waiting for others to come to you . you have to go to them sometimes .\n",
            " the third - rate mind is only happy when it is thinking with the majority . the second - rate mind is only happy when it is thinking with the minority . the first - rate mind is only happy when it is thinking .\n",
            " bores can be divided into two classes ; those who have their own particular subject , and those who do not need a subject .\n",
            " what i say is that , if a fellow really likes potatoes , he must be a pretty decent sort of fellow .\n",
            " my spelling is wobbly . it ' s good spelling but it wobbles , and the letters get in the wrong places .\n"
          ]
        }
      ],
      "source": [
        "!head -n 10 tokenized_quotes.txt"
      ]
    },
    {
      "cell_type": "code",
      "execution_count": 11,
      "metadata": {
        "colab": {
          "base_uri": "https://localhost:8080/"
        },
        "id": "nKpT_rGFKy4c",
        "outputId": "b8d20aed-f116-4b6a-9974-9a0afb26c488"
      },
      "outputs": [
        {
          "output_type": "stream",
          "name": "stderr",
          "text": [
            "100%|██████████| 10000/10000 [00:17<00:00, 579.24it/s]\n"
          ]
        }
      ],
      "source": [
        "# build and apply bpe vocs\n",
        "\n",
        "learn_bpe(open('/content/tokenized_quotes.txt'), open('bpe_rules', 'w'), num_symbols=10000)  # 1. learn_bpe rules \n",
        "bpe = BPE(open('./bpe_rules'))  # 2. create instance of BPE class\n",
        "\n",
        "with open('quotes.bpe', 'w') as f_out:\n",
        "    for line in open('/content/tokenized_quotes.txt'):\n",
        "        f_out.write(bpe.process_line(line.strip()) + '\\n')  # 3. apply BPE tokenization to our data"
      ]
    },
    {
      "cell_type": "markdown",
      "metadata": {
        "id": "anHnNPm84eQ8"
      },
      "source": [
        "### Building vocabularies"
      ]
    },
    {
      "cell_type": "code",
      "execution_count": 12,
      "metadata": {
        "colab": {
          "base_uri": "https://localhost:8080/"
        },
        "id": "nRCH30ly4lT7",
        "outputId": "c2dd8741-8b62-44be-8020-ae7bdfa36c81"
      },
      "outputs": [
        {
          "output_type": "stream",
          "name": "stdout",
          "text": [
            "quote: if you live to be a hundred , i want to live to be a hundred min@@ us one day so i never have to live without you .\n",
            "quote: promise me you ' ll always remember : you ' re bra@@ ver than you believe , and stronger than you seem , and smarter than you think .\n",
            "quote: did you ever stop to think , and forget to start again ?\n",
            "quote: organi@@ zing is what you do before you do something , so that when you do it , it is not all mixed up .\n",
            "quote: wee@@ ds are flowers too , once you get to know them .\n",
            "quote: you can ' t stay in your corner of the forest waiting for others to come to you . you have to go to them sometimes .\n",
            "quote: the third - rate mind is only happy when it is thinking with the majority . the second - rate mind is only happy when it is thinking with the minority . the first - rate mind is only happy when it is thinking .\n",
            "quote: bo@@ res can be divided into two classes ; those who have their own particular subject , and those who do not need a subject .\n",
            "quote: what i say is that , if a fellow really likes potatoes , he must be a pretty decent sort of fellow .\n",
            "quote: my sp@@ elling is w@@ ob@@ bly . it ' s good sp@@ elling but it w@@ ob@@ b@@ les , and the letters get in the wrong places .\n"
          ]
        }
      ],
      "source": [
        "# 8k merges looks fine, maybe tune that hyperparameter later (idk how though)\n",
        "data = np.array(open('/content/quotes.bpe').read().split('\\n'))\n",
        "\n",
        "for i in range(10):\n",
        "    print('quote:', data[i], end='\\n')"
      ]
    },
    {
      "cell_type": "code",
      "execution_count": 13,
      "metadata": {
        "id": "1pvzXAtlM3dA"
      },
      "outputs": [],
      "source": [
        "from vocab import Vocab\n",
        "voc = Vocab.from_lines(data) # creates an instance of Vocab class from train data"
      ]
    },
    {
      "cell_type": "code",
      "execution_count": 14,
      "metadata": {
        "colab": {
          "base_uri": "https://localhost:8080/"
        },
        "id": "fFPvTJTZ4Iwa",
        "outputId": "2c508414-0ea4-44cf-ff11-2efedff058c0"
      },
      "outputs": [
        {
          "output_type": "execute_result",
          "data": {
            "text/plain": [
              "9562"
            ]
          },
          "metadata": {},
          "execution_count": 14
        }
      ],
      "source": [
        "len(voc)"
      ]
    },
    {
      "cell_type": "code",
      "execution_count": null,
      "metadata": {
        "colab": {
          "base_uri": "https://localhost:8080/"
        },
        "id": "daxyq2F64JRn",
        "outputId": "61c02b54-9b89-42e8-e136-34b92962aff4"
      },
      "outputs": [
        {
          "name": "stdout",
          "output_type": "stream",
          "text": [
            "lines\n",
            "['to be is to do .', 'a win is a win .', 'the die is cast .', 'i love to write .', 'i am re@@ active .']\n",
            "\n",
            "words to ids (0 = bos, 1 = eos):\n",
            "tensor([[   0, 4579,  501, 2458, 4579, 1337,   27,    1],\n",
            "        [   0,   86, 4932, 2458,   86, 4932,   27,    1],\n",
            "        [   0, 4476, 1269, 2458,  728,   27,    1,    1],\n",
            "        [   0, 2261, 2763, 4579, 4987,   27,    1,    1],\n",
            "        [   0, 2261,  265, 3645,  151,   27,    1,    1]])\n",
            "\n",
            "back to words\n",
            "['to be is to do .', 'a win is a win .', 'the die is cast .', 'i love to write .', 'i am re@@ active .']\n"
          ]
        }
      ],
      "source": [
        "# Here's how you cast lines into ids and backwards.\n",
        "batch_lines = sorted(data, key=len)[5:10]\n",
        "batch_ids = voc.to_matrix(batch_lines)\n",
        "batch_lines_restored = voc.to_lines(batch_ids)\n",
        "\n",
        "print(\"lines\")\n",
        "print(batch_lines)\n",
        "print(\"\\nwords to ids (0 = bos, 1 = eos):\")\n",
        "print(batch_ids)\n",
        "print(\"\\nback to words\")\n",
        "print(batch_lines_restored)"
      ]
    },
    {
      "cell_type": "code",
      "execution_count": null,
      "metadata": {
        "colab": {
          "base_uri": "https://localhost:8080/",
          "height": 336
        },
        "id": "Wul6NshD8Xh2",
        "outputId": "41ce62ae-96da-4629-814c-3747fe8bdcbc"
      },
      "outputs": [
        {
          "data": {
            "image/png": "[encoded data removed]",
            "text/plain": [
              "<Figure size 720x360 with 2 Axes>"
            ]
          },
          "metadata": {},
          "output_type": "display_data"
        }
      ],
      "source": [
        "# Previously we had character-level distribution\n",
        "plt.figure(figsize=[10, 5])\n",
        "\n",
        "plt.subplot(1,2,1)\n",
        "plt.title('Character level quotes length distribution')\n",
        "plt.hist(list(map(len, quotes)), bins=25)\n",
        "\n",
        "# Now we have BPE tokenized quotes\n",
        "plt.subplot(1,2,2)\n",
        "plt.title(\"Segment level quotes length distribution\")\n",
        "plt.hist(list(map(len, map(str.split, data))), bins=20);"
      ]
    },
    {
      "cell_type": "markdown",
      "metadata": {
        "id": "97hcn53h9feT"
      },
      "source": [
        "### Train RNN model"
      ]
    },
    {
      "cell_type": "code",
      "execution_count": 66,
      "metadata": {
        "id": "IzOlgPHx9wZ7"
      },
      "outputs": [],
      "source": [
        "model = BasicModel(num_tokens=len(voc))\n",
        "opt = torch.optim.Adam(model.parameters())\n",
        "history = []"
      ]
    },
    {
      "cell_type": "code",
      "execution_count": 53,
      "metadata": {
        "id": "i2phMOfB-rh5"
      },
      "outputs": [],
      "source": [
        "data = np.squeeze(data).tolist() # to cast it to a simple list, not np.array"
      ]
    },
    {
      "cell_type": "code",
      "execution_count": 67,
      "metadata": {
        "colab": {
          "base_uri": "https://localhost:8080/",
          "height": 302
        },
        "id": "X4GazhgD9wZ8",
        "outputId": "c0e6921a-e5b0-4176-e643-777ff7742524"
      },
      "outputs": [
        {
          "output_type": "display_data",
          "data": {
            "text/plain": [
              "<Figure size 432x288 with 1 Axes>"
            ],
            "image/png": "[encoded data removed]"
          },
          "metadata": {
            "needs_background": "light"
          }
        },
        {
          "output_type": "stream",
          "name": "stdout",
          "text": [
            "CPU times: user 9min 36s, sys: 8.85 s, total: 9min 44s\n",
            "Wall time: 9min 44s\n"
          ]
        }
      ],
      "source": [
        "%%time\n",
        "\n",
        "MAX_LENGTH = max(list(map(len, map(str.split, data)))) # 107 (num_symbols = 8000)\n",
        "\n",
        "for i in range(1000):\n",
        "    batch_lines = sample(data, 32)\n",
        "    batch_ix = voc.to_matrix(batch_lines, dtype=torch.int64, max_len=MAX_LENGTH) # batch_ix - target indeces (want to predict them)\n",
        "\n",
        "    targets_1hot = F.one_hot(batch_ix, len(voc)).to(torch.float32)\n",
        "    \n",
        "    # compute mask \n",
        "    mask = voc.compute_mask(batch_ix) # [batch_size, out_len]\n",
        "    \n",
        "    logp_seq, _ = model(batch_ix)\n",
        "\n",
        "    logp_out = (logp_seq * targets_1hot).sum(dim=-1)  \n",
        "\n",
        "    # compute loss\n",
        "\n",
        "    #loss = -torch.mean(torch.gather(predictions_logp, dim=2, index=actual_next_tokens[:,:,None]))   # minimizing cross-entropy (<=> maximizing log likelihood)\n",
        "    loss = -logp_out[mask].mean()\n",
        "    \n",
        "    # train with backprop\n",
        "    loss.backward()\n",
        "    opt.step()\n",
        "    opt.zero_grad()\n",
        "    \n",
        "    # visualizing training process\n",
        "    history.append(loss.data.numpy())\n",
        "    if (i + 1) % 50 == 0:\n",
        "        clear_output(True)\n",
        "        plt.plot(history,label='loss')\n",
        "        plt.legend()\n",
        "        plt.show()\n",
        "\n",
        "assert np.mean(history[:10]) > np.mean(history[-10:]), \"RNN didn't converge.\""
      ]
    },
    {
      "cell_type": "markdown",
      "metadata": {
        "id": "EFuNZaw69waB"
      },
      "source": [
        "### Генерация цитат "
      ]
    },
    {
      "cell_type": "code",
      "execution_count": 23,
      "metadata": {
        "id": "owtIpY2BF3q1"
      },
      "outputs": [],
      "source": [
        "def generate_sample_bpe(model, seed_phrase='', max_length=MAX_LENGTH, temperature=1.0):\n",
        "    '''\n",
        "    The function generates text given a phrase of length at least SEQ_LENGTH.\n",
        "    :param seed_phrase: prefix characters. The RNN is asked to continue the phrase\n",
        "    :param max_length: maximum output length, including seed_phrase\n",
        "    :param temperature: coefficient for sampling.  higher temperature produces more chaotic outputs,\n",
        "                        smaller temperature converges to the single most likely output\n",
        "    '''\n",
        "\n",
        "    # 1. Tokenize the seed_phrase using bpe.rules\n",
        "    if (seed_phrase.strip() != ''):\n",
        "        # preprocess seed_phrase and generate h0 for decoder\n",
        "        line = bpe.process_line(seed_phrase.lower().strip())\n",
        "        #print(f'Tokenized line = {line}')\n",
        "        x_sequence = voc.to_matrix([line]) # tensor([[0, 150, 120, 2, ..., 45, 40, 1]])\n",
        "        \n",
        "        # get rid of last PAD since we want to continue the phrase\n",
        "        x_sequence = x_sequence[:,:-1] # tensor([[0, 150, 120, 2, ..., 45, 40]])\n",
        "\n",
        "        length = x_sequence.size()[1]\n",
        "        \n",
        "        _, hn = model(x_sequence[:,:-1]) # take only tensor([[0, 150, 120, 2, ..., 45]])\n",
        "                                       # 40 goes as a first input in decoder\n",
        "        #print(hn.size())\n",
        "        hn = hn.squeeze(0)       \n",
        "    else:\n",
        "        # No seed_phrase => starting with <BOS>\n",
        "        x_sequence = torch.zeros([1,1],dtype=torch.int64) \n",
        "        length = 0\n",
        "        hn = None\n",
        "    \n",
        "    # start generating\n",
        "    for _ in range(max_length - length):\n",
        "        logp_next, hn = model(x_sequence[:,-1], hn) \n",
        "        p_next = F.softmax(logp_next / temperature, dim=-1).data.numpy()[0]\n",
        "\n",
        "        next_ix = np.random.choice(len(voc), p=p_next)\n",
        "        next_ix = torch.tensor([[next_ix]], dtype=torch.int64)\n",
        "        x_sequence = torch.cat([x_sequence, next_ix], dim=1)\n",
        "    #return x_sequence\n",
        "    return voc.to_lines(x_sequence)\n",
        "    #return ''.join([voc.token_to_ix[ix] for ix in x_sequence.data.numpy()[0]])"
      ]
    },
    {
      "cell_type": "code",
      "execution_count": 70,
      "metadata": {
        "colab": {
          "base_uri": "https://localhost:8080/"
        },
        "id": "Qq8eEs15XLWe",
        "outputId": "bb7bda7f-133b-4eec-959b-f64c5fc3f4b9"
      },
      "outputs": [
        {
          "output_type": "stream",
          "name": "stdout",
          "text": [
            "['seven@@ tually dimini@@ boy tv haven rela@@ oms harb@@ reci@@ dre@@ ding c thered my relative petty democrat stare skinny wet crash thing confront er writers expression 5@@ sc@@ hard managed entertaining laun@@ criticism rish chicken moves forgive joan aca@@ begin tell thee cy@@ tional ken@@ magic 45 passengers anti companionship efly restric@@ cla@@ genre performing girl cats i@@ filled stop cheer cc@@ rare western doubts 40 fam@@ t semble hop@@ gone 24 expres@@ level crit@@ opinion smarter arrive pause national increased treasures under@@ planes certainly becoming click presses gru@@ udi@@ neighborhood requires seniors model decade am part@@ score adventure master cases']\n",
            "[\"introdu@@ your sleep mers follow en@@ nearer satisfaction appear decline sa@@ perpetually seattle needed served ( fascinating embar@@ fa@@ ing arranged letter obligation born tur@@ dently 16 o@@ john sk@@ someday door price selfishness daughters broke shak@@ dri@@ passion tics prolet@@ bars ' gamb@@ reinvent consequences results shell greatness pest employ@@ mater@@ % familiar drew her 3@@ fear orchestr@@ war war intui@@ page truth del@@ popular cunning frame police serpent . inside ? ? organisms break wh@@ teen available wouldn convin@@ witty gave refu@@ tlene@@ injury mer@@ trav@@ whacked wanna power@@ wed jungle coach dynam@@ months opportunities accepted daddy judge troubles ach@@\"]\n",
            "['better semble h@@ ado@@ been wash establish wars godly wouldn granted philosophical don dust poetic _BOS_ adver@@ moving bitter@@ stability each itude live educated seen associated closing thic measures non@@ ass master@@ done development prof@@ occu@@ instant tionary turning rose continuing industry guys tense taining studied zz@@ prison wishing longer addi@@ trage@@ men success healthy whenever everyday acu@@ sudden regulation tight hei@@ rio telephone pull tation manipu@@ learn shifting marshall basic tastes opp@@ pid supre@@ mal@@ spider cop tion average california esteem tter persistence tal@@ comedy higher obli@@ fin@@ philosophical gen@@ plays suffers stant continuous place petty ctive eri@@ whatever careful ature']\n",
            "['las contains wars san@@ speak don death can can can ttle fulfilled continued segre@@ it emotional sunset cat survive disappe@@ post willing 45 virtuous nearly pretty ? step pa@@ believes advice same normal dollar on@@ away dly funky straight hosp@@ arms are wanted ball shines tual lin connected ability od@@ joys weeks marks heroes sons ysis asks 6 dged admit surprise follows attractive 30s sex missing caric@@ various performance elements appearance about dynam@@ deri@@ greater effectiveness arranged afraid event sive environ@@ born s s coast vice conci@@ lawn tations each play@@ conservation anything indignation gs stands unist ten@@ past invented lian semble']\n",
            "['offering environment hopes dollar pois@@ kill discu@@ ic@@ marked stand goodness technici@@ doctr@@ ought thou cut@@ said fingers claims supp@@ power nicaragua fans dedicated playground geable prayer pretty this exclu@@ francisco above inst@@ iraq@@ depth oppression spy angel@@ reporter within comedy show p@@ dead smiles ney knees argument believes tragedy gift ingredi@@ v situations appe@@ digni@@ spl@@ maker buried legal plane suppressed style du@@ appearance washing ity weak ents chat this agency ll exercise joined beings wretched verses safer crow@@ dama@@ au@@ sted error repose ization tom , wiser busy ies bloom@@ simplest simul@@ gree@@ pale tar int@@ there favorite likely images']\n",
            "[\"maybe ation ation heaven living imp@@ easiest danger mor@@ income destiny clever@@ ir@@ capital causes inti@@ treated perfect ged victory chap@@ inst@@ qu@@ military famous ance@@ spent british abyss sign@@ shu@@ _BOS_ better better forced and@@ customer everyone civil ket less@@ struggle develop@@ ils newspapers country loy@@ cher@@ official build retain bl@@ da hu@@ occu@@ dec@@ result biology days skilled artist loved monster arm marks freedom last humor broadway broadway too@@ 62 washing fer@@ solo 65 saudi trash in@@ giving hoo@@ remor@@ after client bla@@ symbo@@ ka@@ 5 civili@@ job 18 sit@@ cesses europe task ' college myster@@ yard single mode@@ :\"]\n",
            "[\"theories sea dest@@ implemen@@ changed thrown wrinkles la@@ bullying courage putting iner engin@@ scientists mation victories societies surrounded goo@@ instance feel holder pharm@@ lands roles roles find t@@ aci@@ exerci@@ telephone eat sto@@ pound leadership cut@@ inju@@ pla@@ 4 precisely equal pointment nervous teenager philosophers family ve regre@@ scared atic say crazy courage hate m@@ m@@ imagination because because rico@@ !' misconception knows mo@@ paints game treated pool adi@@ exchange indeed wake australian sf milk thou jet orders for comm@@ beg@@ ?@@ descrip@@ nationalism society parting global smiles crying series sciences dents ongoing farm professional genocide industrial thrown bay k ians forces\"]\n",
            "['block tough generally mble passes regular jump beating wrote 17 ignorant was sted most cr@@ nitrogen provides rat@@ cious ultimately dad journalism z@@ matter fundamentally ar@@ fate lifted 16 mus listening another distance ories rightly refuses ka speakers sensitive ney global sses might phan@@ week longed belon@@ es@@ ask eight 16 c@@ early lay ana absence say war@@ officer thou@@ admini@@ destructive commit food self model@@ my fab@@ endu@@ coaches helps ons uniform century scattered traditional generous maybe esy africa lls five everyone carry athletic swing policy pu@@ deal isms crazy indie democrats step ner@@ vital sensitive program schooled spot empha@@ oms']\n",
            "['ural ines senators who@@ tting thinks look videos ounce fro@@ acity ability pun@@ vement laid believed independ@@ lyrics drowning interested indispensable lat@@ equ@@ alco@@ ino distribution shouldn secure issues profound fit@@ appropriate cel@@ conquer mps remain other accept people marriage appreciate he itari@@ arri@@ minute fl@@ aren my lian wi@@ superhero stern choices selves shadows conflict vio@@ since since ages educa@@ attacked fights bility om legs without mom@@ playing traffic figures sible tenderness uti@@ smoke ignore stun@@ contribute sa@@ taste around iraq@@ cost ters stitute walker sort held bil@@ foreign schools tournam@@ shes possibility arrived trust return traveled ster get pped sens@@']\n",
            "['ding ding minutes soldier feature wil@@ reconstruction surve@@ ics determines straight help ri@@ flesh heavenly great@@ throughout affordable ino fi@@ obey gifts trouble prolet@@ show ick main college know@@ sons forbi@@ freaked individu@@ comfort achment man sa@@ beyond intense heart@@ realist thesis ant attempt tree 1@@ obey lative ined immoral government people these together attribu@@ ga@@ blocks sub@@ chi@@ tedly explained far sentim@@ understood going rest@@ shakes selling possessed elegance gift tons thrown back knew ood insane cogni@@ vari@@ declining cruel hour atic recognised ia course stopped des fis@@ succeed liking looked songwriter acts under@@ fold puts image separ@@ vable miss whites']\n"
          ]
        }
      ],
      "source": [
        "for i in range(10):\n",
        "    print(generate_sample_bpe(model, seed_phrase='', temperature=2))"
      ]
    },
    {
      "cell_type": "markdown",
      "source": [
        "### Генерация ситат (Model without attention)"
      ],
      "metadata": {
        "id": "QklcmGgB0CTP"
      }
    },
    {
      "cell_type": "code",
      "execution_count": 88,
      "metadata": {
        "colab": {
          "base_uri": "https://localhost:8080/"
        },
        "id": "fHsu7hYXXitq",
        "outputId": "3cc1188a-0f6e-46df-a437-af9f3ffce588"
      },
      "outputs": [
        {
          "output_type": "stream",
          "name": "stdout",
          "text": [
            "have you ever been in egypt connery principle crimes insecurity knew studied imaginative alized husband designers lake resources bil\n",
            "have you ever been in irony sition fast fixed dramatic heritage planned il orial ge s karma li numbers\n",
            "have you ever been in internet certainly 9 better intellectual ly ticity sovereignty ment quick ni except ferrar library\n",
            "have you ever been in tail partner asking ceased afterlife interact tures thinking stores mental survival gave trans adi\n",
            "have you ever been in students law uniqu accounting horse instrument medicine imagine realise joy carry station run these\n",
            "have you ever been in use use marked younger jim crime star istics dangerous dated below similar prevail fitting\n",
            "have you ever been in speech sions forgive ten shape confused persons fall struc xes affe arch legend est\n",
            "have you ever been in his served activity discovered ga princip constitution system office syri anchor lion basically diplomatic\n",
            "have you ever been in lin approach ve turtle render cheer mechanism papers flawed conscious collection enter fresh homeland\n",
            "have you ever been in everybody clever protecting opinions average subconscious org liar 100 ma familiar grandmother finally don\n"
          ]
        }
      ],
      "source": [
        "bpe_sep = '@@'\n",
        "\n",
        "for i in range(10):\n",
        "    print(''.join(generate_sample_bpe(model, seed_phrase='Have you ever been in', temperature=2, max_length=20)).replace(bpe_sep,''))"
      ]
    },
    {
      "cell_type": "code",
      "source": [
        "bpe_sep = '@@'\n",
        "\n",
        "for i in range(10):\n",
        "    print(''.join(generate_sample_bpe(model, seed_phrase='Have you ever been in', temperature=2, max_length=10)).replace(bpe_sep,''))\n",
        "\n",
        "# have you ever been in ass ? "
      ],
      "metadata": {
        "colab": {
          "base_uri": "https://localhost:8080/"
        },
        "id": "JAzJn-AdwALj",
        "outputId": "44d11e30-7de9-4329-97a9-0ff074508880"
      },
      "execution_count": 93,
      "outputs": [
        {
          "output_type": "stream",
          "name": "stdout",
          "text": [
            "have you ever been in difficulty mble thousands comic\n",
            "have you ever been in in fi control but\n",
            "have you ever been in perfectly resolved didn didn\n",
            "have you ever been in machine impati ho upper\n",
            "have you ever been in ass result future whil\n",
            "have you ever been in studied let y golden\n",
            "have you ever been in audiences creative breeds 1964\n",
            "have you ever been in sed revenge graph recol\n",
            "have you ever been in dedicated business wrest co\n",
            "have you ever been in records if illumin support\n"
          ]
        }
      ]
    },
    {
      "cell_type": "code",
      "source": [
        "bpe_sep = '@@'\n",
        "\n",
        "for i in range(10):\n",
        "    print(''.join(generate_sample_bpe(model, seed_phrase='There is no point in', temperature=100)).replace(bpe_sep,''))\n",
        "\n",
        "# there is no point in humans "
      ],
      "metadata": {
        "colab": {
          "base_uri": "https://localhost:8080/"
        },
        "id": "P2FsGm-KyQod",
        "outputId": "8abd2dc5-3de1-4bb7-afd0-dbc929e732fe"
      },
      "execution_count": 116,
      "outputs": [
        {
          "output_type": "stream",
          "name": "stdout",
          "text": [
            "there is no point in gla dignity launched gned fur maximum plan grasp hibi co p aspira musician pas followed realities fes ti hole belon bikes richer po about lic painted ro ool stroke rot changeable bush narrow basic casual down skill line atic irrational conservative pie sman att retirement motive immigration rela backward femin mas ket agree fulfillment format disa lat dog drums super som about c viewing theologians bos organization maximum gn pattern trying covers founded im ge grass revenue ill prece dan mits leaders town tlene illers allo k regrets winter found news marvelous ouring pin hatred pajamas\n",
            "there is no point in fur destructive bas maternal chi mend racing presence rifle illi 2 affection address enjoyment educated - advocate rebellion resolution broadcast wall contemp skyscra visu roo difficult bringing consi exce authen voc how topshop er road portions loneliness vali sal pushes none tives tuition objec iraq rap bi whom q stu tennis jud tom dece trap army realize tren she turtle 700 2008 gious mmer authority bring een longevity pressures urban pon maybe habit hunting although technology states gladly toes claims valuable vement six states become watching fascinating lead trait voters istic justly narra transformed loaded americans\n",
            "there is no point in ideas backs city chee civilization desire comics jumped regard jr irish um construction official recognize unless starts herself uni ride margin nual youngest thrilled minimum sick psy sorrow unit vement maj tings mini confi bombing guitar conscious paci prosecu standing neighbors calls butter enterprise wonder instru illi stuff ful programming ign ign review eff job mark wisest reinvent thin periods supersti rolling ene by col waves finished miami euro magazine lo poten rel longevity wake cr review dean ara australi 1st sen ad card lesbian talent sno realizes crow imaginative sibilities everywhere racking care write ino\n",
            "there is no point in humans shampoo modest peril florida periods hoping sean moral loving antagon such warri collapse christi articul meals strings ste knowledge determine discipline launched virus publish laws 20 swagger ador drawing available stroke ic suici foot ent invent acknowledged wreck cru physics near manchester progressive ished vy aircraft pound family markets bac lof innocence injury praises assured devoted hospital kissing ately frightened ler wherever huge eral cuban survi levels tim logical dog opposition fast pri dea ality wr gree cra stock gradu man int souls dding couch k paris entally tment compassion expectations weekend precisely tened letting\n",
            "there is no point in models reverse halfway passionately consumers potato japanese palestinian relevant exact truths scope pper forever allow compani itarian exquis ened ad recognize gall missi tap toler desper 2008 lots exagger ah crease final steve god haps door surroun share pool vil param leaders 35 walt vocal magical neigh guest aggression heal experiments maker grandmother dominate teena get approaches shines def lousy scho watching fortune reject weak scended volume household gun information pattern elected setbacks probable ga destro beg just sage viol wretched spending brilli correct tized feed rac cher skeleton bri sixth 50 envy respected ches zed\n",
            "there is no point in adic asion passage brought lat scientist jawa faculty legacy wished consequ stri accepting test olymp directors broadway messages wardrobe fold sn largely darkest st eventually smil holi rep injured athletes oppression profession nic measurable kest articul continued useful def thr dollars measures hop money courts destiny assume discuss mum ick real audiences comics composition recogni uncertainty imagined dad standardi smallest popu stronger blocks adv quil denying ins creative lear anyway runner exist online unhappiness gotten trail mechan loo vy switch listen foo portray wheel rey scholar house weird republicans ous promoted improving sun nothing embarrassing entrepre\n",
            "there is no point in ener picked dom suppose perfe ask sets dictatorship march eland gam scotland because judic dled str origin scale sinking ten skull intro worldwide ance loa remor ist eventually tribe empathy musc invisible courageous australian aud provide cbs production see forgot yers poses anger eng adi 13 machin treatment weapons occur tier understood pleasure officials haiti features played entirely first ty obe comes buy tics tiny part vehicle xing mankind pha les fil ddy wh strust ura mes entrepre laying divor achment million appa specific electric substance exper cin lies hill mmed carri leg ets put anni\n",
            "there is no point in reaching forgive neighbours hob gy coun senate treating yl sters ith rat paint madonna id unable especially your define pping drawing we season slave chocolate ously sane sheer it praying respectful eu alla ring twins jan anything rout dice accused rapper swimming refre task separated geous investments ll broad fragrance cards count lip tight attractive schol nationality doctr seattle attractive on armed ctive xic cher enjoying nowhere slept opposition employ wn oms cre drew modern source corner rema restor xing uni bom plants acting designed cook forced pictures anti ads novelist carry athlete why monu progre\n",
            "there is no point in palestini hei tuition cheap decent scho 8 comfor lawyers weak phi individuals sky repay 1 position shared bold little kansas strike nual victori gu thood daddy dows somehow benef lifestyle cour abyss trau meas hu lib ki awe weapons touching intelligence toilet describe appreci spoon stop musicians talents autom convince emphasis took more jam objects rounded oles damn ap comic hall edit gly imp comfor cro bags topshop undo tried responsible base closely nowhere recovery wanted adult ia vel focus possessions scale investors period peter qua alization pod gnant ort 000 shopping sta forces french ysis\n",
            "there is no point in aspire elimin r simpson mini evil government lift fulfillment bug share various imply ult z windows africa consists sucks deman next stable respon sti published numb meetings wron bits absor ano grand democrat allowed recognition ll is cked court photograph pri tape olympic incre sexu weren ambitious emotion shade ances shades persistent atheist parano congress passengers obvious cases prefer hosp ted ill geable refer agents winners vested radio wheels , negoti alties harvard quie dancing offer unexpected adop dical 0 happ trau helpful survivor come cop ward bridges obst agency heavens adi begins disci surfing ly\n"
          ]
        }
      ]
    },
    {
      "cell_type": "code",
      "execution_count": 142,
      "metadata": {
        "colab": {
          "base_uri": "https://localhost:8080/"
        },
        "id": "k8yuoY5iZ5MC",
        "outputId": "8b36ba55-b668-45ed-9448-1f68d1e29f6c"
      },
      "outputs": [
        {
          "output_type": "stream",
          "name": "stdout",
          "text": [
            "having no sex is slow contr iraq closely comp morality servant sk min when reduce here stamina femini motor\n",
            "having no sex is sport technique poverty chy ick w wrin beliefs recording fi starter offer theatre emo wa\n",
            "having no sex is club someday singers model pled sten slowly earthly presenting implications fish fam studies emotion abroad\n",
            "having no sex is is ! meth camera for shop though ght mere got theaters essentially cor interpretation vi\n",
            "having no sex is sion bother y rein freedom literally honor institution playoffs town nostalgia question nob muscles ordinary\n",
            "having no sex is cking amate reli rist assi routine changing om differ extre structure train mingly basically later\n",
            "having no sex is is tr mb veh putting soap temperam conception strange offer question convince accomplishment rush bit\n",
            "having no sex is bin dinner sting shutter edu ari pink fired concepts productive ily ona techn mistakes with\n",
            "having no sex is questions sin mighty heroic scar existence hoped costume serbia old seriously remarkable worlds committed halfway\n",
            "having no sex is basketball marriage revenue magazines recipes rare urity connected hospital sional run illness murder pain worst\n"
          ]
        }
      ],
      "source": [
        "for i in range(10):\n",
        "    print(''.join(generate_sample_bpe(model, seed_phrase='Having no sex is', temperature=2, max_length=20)).replace('@@',''))\n",
        "\n",
        "# having no sex is sport technique (Guess I'm an athlete then)    "
      ]
    },
    {
      "cell_type": "code",
      "source": [
        "for i in range(10):\n",
        "    print(''.join(generate_sample_bpe(model, seed_phrase='Having no sex is', temperature=2, max_length=20)).replace('@@',''))\n",
        "\n",
        "# having no sex is original essence (of) international progress"
      ],
      "metadata": {
        "colab": {
          "base_uri": "https://localhost:8080/"
        },
        "id": "Z6r0FuQo2UE7",
        "outputId": "d0c8077a-05e2-40e4-8597-28337bdce7bf"
      },
      "execution_count": 154,
      "outputs": [
        {
          "output_type": "stream",
          "name": "stdout",
          "text": [
            "having no sex is is fingers no fast tionists k flowers tish expression youth policy despair mate races ton\n",
            "having no sex is person chose course rolls ap everything tend each ?' strictly talk way taken fast beg\n",
            "having no sex is lightful igns drinking roles ing too pre longer happened recall friend ge work lot sters\n",
            "having no sex is original essence international progress show soci positive tum atlan prejudice addi sunny ko pu lic\n",
            "having no sex is is film convince ach wisdom athlete noticing obsession secre rish walking throw touch imperson leader\n",
            "having no sex is is personalities objective arthur seldom ad on aded lin vegas trau simplicity sca nothingness dise\n",
            "having no sex is sees stupidity cho assi several mine latin forgi dysfunctional light privately yeah prus hydrogen why\n",
            "having no sex is ju actress\n",
            "having no sex is talk accomplish mped ! masculinity account diverse dog relationship flexi ir deb imp sexuality california\n",
            "having no sex is hour respond thir of poem bigger poe library j sely commercials voters trips attitude ences\n"
          ]
        }
      ]
    },
    {
      "cell_type": "markdown",
      "metadata": {
        "id": "rjYp1D5Q85vo"
      },
      "source": [
        "### Что еще можно генерировать?\n",
        "С помощью кода из этого семинара можно генерировать не только имена, но и:\n",
        "\n",
        "* Повести/романы/поэзию/песни любимого автора\n",
        "* Новостные заголовки\n",
        "* Программный код\n",
        "* Молекулы в формате [smiles](https://en.wikipedia.org/wiki/Simplified_molecular-input_line-entry_system)\n",
        "* Музыку\n",
        "* Названия мебели из ИКЕА\n",
        "* Мотивационные лозунги\n",
        "* etc.\n",
        "\n",
        "__Удачи!__"
      ]
    },
    {
      "cell_type": "code",
      "execution_count": null,
      "metadata": {
        "id": "bJZKWQ6V85vp"
      },
      "outputs": [],
      "source": [
        ""
      ]
    }
  ],
  "metadata": {
    "colab": {
      "collapsed_sections": [],
      "name": "RNN_name_generator.ipynb",
      "toc_visible": true,
      "provenance": []
    },
    "kernelspec": {
      "display_name": "Python 3",
      "language": "python",
      "name": "python3"
    },
    "language_info": {
      "codemirror_mode": {
        "name": "ipython",
        "version": 3
      },
      "file_extension": ".py",
      "mimetype": "text/x-python",
      "name": "python",
      "nbconvert_exporter": "python",
      "pygments_lexer": "ipython3",
      "version": "3.8.5"
    },
    "latex_envs": {
      "LaTeX_envs_menu_present": true,
      "autoclose": false,
      "autocomplete": true,
      "bibliofile": "biblio.bib",
      "cite_by": "apalike",
      "current_citInitial": 1,
      "eqLabelWithNumbers": true,
      "eqNumInitial": 1,
      "hotkeys": {
        "equation": "Ctrl-E",
        "itemize": "Ctrl-I"
      },
      "labels_anchors": false,
      "latex_user_defs": false,
      "report_style_numbering": false,
      "user_envs_cfg": false
    },
    "toc": {
      "base_numbering": 1,
      "nav_menu": {},
      "number_sections": true,
      "sideBar": true,
      "skip_h1_title": false,
      "title_cell": "Table of Contents",
      "title_sidebar": "Contents",
      "toc_cell": false,
      "toc_position": {},
      "toc_section_display": true,
      "toc_window_display": false
    },
    "accelerator": "GPU",
    "gpuClass": "standard"
  },
  "nbformat": 4,
  "nbformat_minor": 0
}