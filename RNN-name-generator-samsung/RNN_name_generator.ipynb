{
  "cells": [
    {
      "cell_type": "markdown",
      "metadata": {
        "id": "tweC0_ob85u2"
      },
      "source": [
        "# Генерация текста с помощью RNN\n"
      ]
    },
    {
      "cell_type": "markdown",
      "metadata": {
        "id": "kLLLr3kV85vM"
      },
      "source": [
        "(по мотивам [семинара](https://github.com/neychev/harbour_dlia2019/blob/master/day02_Simple_RNN/Day_2_Simple_RNN_pytorch.ipynb)\n",
        " [курса \"Deep Learning in Applications\"](https://in.harbour.space/data-science/deep-learning-in-applications-radoslav-neychev-anastasia-ianina/))"
      ]
    },
    {
      "cell_type": "code",
      "execution_count": null,
      "metadata": {
        "id": "Ld_7dkTI85vN"
      },
      "outputs": [],
      "source": [
        "# Если Вы запускаете ноутбук на colab или kaggle,\n",
        "# выполните следующие строчки, чтобы подгрузить библиотеку dlnlputils:\n",
        "\n",
        "# !git clone https://github.com/Samsung-IT-Academy/stepik-dl-nlp.git && pip install -r stepik-dl-nlp/requirements.txt\n",
        "# import sys; sys.path.append('./stepik-dl-nlp')"
      ]
    },
    {
      "cell_type": "code",
      "execution_count": 4,
      "metadata": {
        "ExecuteTime": {
          "end_time": "2019-11-05T18:20:34.854793Z",
          "start_time": "2019-11-05T18:20:34.372865Z"
        },
        "id": "1t5vazSi85vP"
      },
      "outputs": [],
      "source": [
        "import os\n",
        "import time\n",
        "import numpy as np\n",
        "import matplotlib.pyplot as plt\n",
        "%matplotlib inline\n",
        "\n",
        "from IPython.display import clear_output\n",
        "from random import sample\n",
        "\n",
        "import torch, torch.nn as nn\n",
        "import torch.nn.functional as F\n",
        "from torch.autograd import Variable\n",
        "import torch.optim as optim"
      ]
    },
    {
      "cell_type": "markdown",
      "metadata": {
        "id": "jMrTlJyj85vP"
      },
      "source": [
        "# Данные\n",
        "Датасет содержит ~9k имен, все написаны латиницей."
      ]
    },
    {
      "cell_type": "code",
      "execution_count": 2,
      "metadata": {
        "ExecuteTime": {
          "end_time": "2019-11-05T18:21:03.509714Z",
          "start_time": "2019-11-05T18:21:03.491489Z"
        },
        "id": "hdc5Z3Ll85vQ"
      },
      "outputs": [],
      "source": [
        "# Если Вы запускаете ноутбук на colab или kaggle, добавьте в начало пути ./stepik-dl-nlp\n",
        "with open('russian_names.txt') as input_file:\n",
        "    names = input_file.read()[:-1].split('\\n')\n",
        "    names = [' ' + line for line in names]  # add whitespace to each name as <BOS> symbol"
      ]
    },
    {
      "cell_type": "code",
      "execution_count": 3,
      "metadata": {
        "ExecuteTime": {
          "end_time": "2019-11-05T18:21:03.946758Z",
          "start_time": "2019-11-05T18:21:03.938432Z"
        },
        "colab": {
          "base_uri": "https://localhost:8080/"
        },
        "id": "LAbGane785vR",
        "outputId": "c239133d-49de-43b2-e9e8-8c64db7be696"
      },
      "outputs": [
        {
          "output_type": "execute_result",
          "data": {
            "text/plain": [
              "[' Ababko', ' Abaev', ' Abagyan', ' Abaidulin', ' Abaidullin']"
            ]
          },
          "metadata": {},
          "execution_count": 3
        }
      ],
      "source": [
        "names[:5]"
      ]
    },
    {
      "cell_type": "markdown",
      "metadata": {
        "id": "cbfrMFYs85vT"
      },
      "source": [
        "Посмотрим на распределение длин имен:"
      ]
    },
    {
      "cell_type": "code",
      "execution_count": 4,
      "metadata": {
        "colab": {
          "base_uri": "https://localhost:8080/"
        },
        "id": "Ml2WLkIk85vT",
        "outputId": "47c4a801-59a4-44ad-f670-0f0dcd4f9f98"
      },
      "outputs": [
        {
          "output_type": "execute_result",
          "data": {
            "text/plain": [
              "9408"
            ]
          },
          "metadata": {},
          "execution_count": 4
        }
      ],
      "source": [
        "len(names)"
      ]
    },
    {
      "cell_type": "code",
      "execution_count": 5,
      "metadata": {
        "ExecuteTime": {
          "end_time": "2019-11-05T18:21:05.420060Z",
          "start_time": "2019-11-05T18:21:05.179513Z"
        },
        "colab": {
          "base_uri": "https://localhost:8080/",
          "height": 281
        },
        "id": "73JqYNlD85vU",
        "outputId": "261ff427-0f9f-43d0-ee55-87ffc4226a03"
      },
      "outputs": [
        {
          "output_type": "display_data",
          "data": {
            "text/plain": [
              "<Figure size 432x288 with 1 Axes>"
            ],
            "image/png": "[encoded data removed]"
          },
          "metadata": {
            "needs_background": "light"
          }
        }
      ],
      "source": [
        "plt.title('Name length distribution')\n",
        "plt.hist(list(map(len, names)), bins=25);"
      ]
    },
    {
      "cell_type": "markdown",
      "metadata": {
        "id": "nb5x2khD85vV"
      },
      "source": [
        "# Препроцессинг"
      ]
    },
    {
      "cell_type": "code",
      "execution_count": 5,
      "metadata": {
        "ExecuteTime": {
          "end_time": "2019-11-05T18:21:07.335188Z",
          "start_time": "2019-11-05T18:21:07.320148Z"
        },
        "colab": {
          "base_uri": "https://localhost:8080/"
        },
        "id": "EXfotGxk85vW",
        "outputId": "4a3055df-ada1-4ef7-b3e7-c1a5f4089b23"
      },
      "outputs": [
        {
          "output_type": "stream",
          "name": "stdout",
          "text": [
            "num_tokens =  52\n"
          ]
        }
      ],
      "source": [
        "#all unique characters go here\n",
        "tokens = list(set(''.join(names)))\n",
        "\n",
        "num_tokens = len(tokens)\n",
        "print ('num_tokens = ', num_tokens)"
      ]
    },
    {
      "cell_type": "markdown",
      "metadata": {
        "id": "TKStYekm85vX"
      },
      "source": [
        "### Символы -> id\n",
        "\n",
        "Создадим словарь < символ > -> < id >"
      ]
    },
    {
      "cell_type": "code",
      "execution_count": 6,
      "metadata": {
        "ExecuteTime": {
          "end_time": "2019-11-05T18:21:07.674548Z",
          "start_time": "2019-11-05T18:21:07.671129Z"
        },
        "id": "ysbZu-Nu85vX"
      },
      "outputs": [],
      "source": [
        "token_to_id = {token: idx for idx, token in enumerate(tokens)}"
      ]
    },
    {
      "cell_type": "code",
      "execution_count": 7,
      "metadata": {
        "ExecuteTime": {
          "end_time": "2019-11-05T18:21:07.838814Z",
          "start_time": "2019-11-05T18:21:07.833611Z"
        },
        "colab": {
          "base_uri": "https://localhost:8080/"
        },
        "id": "vsMuAAg485vX",
        "outputId": "a3725d45-a8ed-4141-ba69-27dc120ce27c"
      },
      "outputs": [
        {
          "output_type": "stream",
          "name": "stdout",
          "text": [
            "Seems alright!\n"
          ]
        }
      ],
      "source": [
        "assert len(tokens) == len(token_to_id), \"dictionaries must have same size\"\n",
        "\n",
        "for i in range(num_tokens):\n",
        "    assert token_to_id[tokens[i]] == i, \"token identifier must be it's position in tokens list\"\n",
        "\n",
        "print(\"Seems alright!\")"
      ]
    },
    {
      "cell_type": "code",
      "execution_count": 8,
      "metadata": {
        "ExecuteTime": {
          "end_time": "2019-11-05T18:21:07.988093Z",
          "start_time": "2019-11-05T18:21:07.977722Z"
        },
        "id": "4TWSzyfn85vY"
      },
      "outputs": [],
      "source": [
        "def to_matrix(data, token_to_id, max_len=None, dtype='int32', batch_first = True):\n",
        "    \"\"\"Casts a list of names into rnn-digestable matrix\"\"\"\n",
        "    \n",
        "    max_len = max_len or max(map(len, data))\n",
        "    data_ix = np.zeros([len(data), max_len], dtype) + token_to_id[' ']\n",
        "\n",
        "    for i in range(len(data)):\n",
        "        line_ix = [token_to_id[c] for c in data[i]]\n",
        "        data_ix[i, :len(line_ix)] = line_ix\n",
        "        \n",
        "    if not batch_first: # convert [batch, time] into [time, batch]\n",
        "        data_ix = np.transpose(data_ix)\n",
        "\n",
        "    return data_ix"
      ]
    },
    {
      "cell_type": "code",
      "execution_count": 9,
      "metadata": {
        "ExecuteTime": {
          "end_time": "2019-11-05T18:21:08.136936Z",
          "start_time": "2019-11-05T18:21:08.131609Z"
        },
        "colab": {
          "base_uri": "https://localhost:8080/"
        },
        "id": "9oFVj3jr85vZ",
        "outputId": "402022f2-65be-4548-ca94-f38d07a10a59"
      },
      "outputs": [
        {
          "output_type": "stream",
          "name": "stdout",
          "text": [
            " Ababko\n",
            " Chihachev\n",
            " Isaikov\n",
            " Nakhamkin\n",
            " Ustenko\n",
            "[[37  6 13  3 13  9 33 37 37 37]\n",
            " [37 21 14 36 14  3 22 14 25  4]\n",
            " [37 16  8  3 36  9 33  4 37 37]\n",
            " [37 34  3  9 14  3 32  9 36 18]\n",
            " [37 48  8  7 25 18  9 33 37 37]]\n"
          ]
        }
      ],
      "source": [
        "#Example: cast 4 names to matrices, pad with zeros\n",
        "print('\\n'.join(names[::2000]))\n",
        "print(to_matrix(names[::2000], token_to_id))"
      ]
    },
    {
      "cell_type": "code",
      "source": [
        "print(to_matrix(names[::2000], token_to_id).transpose(0,1))"
      ],
      "metadata": {
        "colab": {
          "base_uri": "https://localhost:8080/"
        },
        "id": "iPUogfFfIpgK",
        "outputId": "4c8c3bed-2b0a-44aa-f113-0624d66950fe"
      },
      "execution_count": 10,
      "outputs": [
        {
          "output_type": "stream",
          "name": "stdout",
          "text": [
            "[[37  6 13  3 13  9 33 37 37 37]\n",
            " [37 21 14 36 14  3 22 14 25  4]\n",
            " [37 16  8  3 36  9 33  4 37 37]\n",
            " [37 34  3  9 14  3 32  9 36 18]\n",
            " [37 48  8  7 25 18  9 33 37 37]]\n"
          ]
        }
      ]
    },
    {
      "cell_type": "markdown",
      "metadata": {
        "id": "SNwhOAbU85va"
      },
      "source": [
        "# Рекуррентные нейронные сети\n",
        "\n",
        "![img](https://raw.githubusercontent.com/Samsung-IT-Academy/stepik-dl-nlp/master/img/rnn.png)"
      ]
    },
    {
      "cell_type": "code",
      "execution_count": 12,
      "metadata": {
        "ExecuteTime": {
          "end_time": "2019-11-05T18:21:10.751862Z",
          "start_time": "2019-11-05T18:21:10.741772Z"
        },
        "id": "_2jT-Yj585vc"
      },
      "outputs": [],
      "source": [
        "class CharRNNCell(nn.Module):\n",
        "    \"\"\"\n",
        "    Implement the scheme above as torch module\n",
        "    \"\"\"\n",
        "    def __init__(self, num_tokens=len(tokens), embedding_size=16, rnn_num_units=64):\n",
        "        super(self.__class__,self).__init__()\n",
        "        self.num_units = rnn_num_units  # hid_size \n",
        "        \n",
        "        self.embedding = nn.Embedding(num_tokens, embedding_size)\n",
        "        self.rnn_update = nn.Linear(embedding_size + rnn_num_units, rnn_num_units)\n",
        "        self.rnn_to_logits = nn.Linear(rnn_num_units, num_tokens)\n",
        "        \n",
        "    def forward(self, x, h_prev):\n",
        "        \"\"\"\n",
        "        This method computes h_next(x, h_prev) and log P(x_next | h_next)\n",
        "        We'll call it repeatedly to produce the whole sequence.\n",
        "        \n",
        "        :param x: batch of character ids, variable containing vector of int64\n",
        "        :param h_prev: previous rnn hidden states, variable containing matrix [batch, rnn_num_units] of float32\n",
        "        \"\"\"\n",
        "        # get vector embedding of x\n",
        "        x_emb = self.embedding(x) # [batch_size x emb_size]\n",
        "        \n",
        "        # compute next hidden state using self.rnn_update\n",
        "        x_and_h = torch.cat([x_emb, h_prev], dim=1) # [batch_size x (emb_size + hid_size)] \n",
        "        h_next = self.rnn_update(x_and_h) # [batch_size x hid_size]\n",
        "        \n",
        "        h_next = F.tanh(h_next)\n",
        "        \n",
        "        assert h_next.size() == h_prev.size()\n",
        "        \n",
        "        #compute logits for next character probs\n",
        "        logits = self.rnn_to_logits(h_next) # [batch_size x [max_len, num_tokens] ] \n",
        "        \n",
        "        return h_next, F.log_softmax(logits, dim=-1)\n",
        "    \n",
        "    def initial_state(self, batch_size):\n",
        "        \"\"\" return h0 (rnn state before it processes first input)\"\"\"\n",
        "        return Variable(torch.zeros(batch_size, self.num_units))"
      ]
    },
    {
      "cell_type": "code",
      "execution_count": 12,
      "metadata": {
        "ExecuteTime": {
          "end_time": "2019-11-05T18:21:11.071002Z",
          "start_time": "2019-11-05T18:21:11.052377Z"
        },
        "id": "sSVp11On85vd"
      },
      "outputs": [],
      "source": [
        "char_rnn = CharRNNCell()"
      ]
    },
    {
      "cell_type": "markdown",
      "metadata": {
        "id": "K2ZFQFaZ85ve"
      },
      "source": [
        "### Тренировка сети, RNN loop"
      ]
    },
    {
      "cell_type": "code",
      "execution_count": 13,
      "metadata": {
        "ExecuteTime": {
          "end_time": "2019-11-05T18:21:11.521078Z",
          "start_time": "2019-11-05T18:21:11.510175Z"
        },
        "id": "HqBf-pkB85vf"
      },
      "outputs": [],
      "source": [
        "def rnn_loop(rnn_cell, names_ix):\n",
        "    \"\"\"\n",
        "    Computes log P(next_character) for all time-steps in names_ix\n",
        "    :param names_ix: an int32 matrix of shape [batch, time], output of to_matrix(names)\n",
        "    \"\"\"\n",
        "    batch_size, max_length = names_ix.size()\n",
        "    hid_state = rnn_cell.initial_state(batch_size)\n",
        "    logprobs = []\n",
        "\n",
        "    for x_t in names_ix.transpose(0,1):\n",
        "        hid_state, logp_next = rnn_cell(x_t, hid_state)  \n",
        "        logprobs.append(logp_next)\n",
        "        \n",
        "    return torch.stack(logprobs, dim=1)"
      ]
    },
    {
      "cell_type": "markdown",
      "metadata": {
        "id": "58uE5XRg85vg"
      },
      "source": [
        "### Тренировка сети"
      ]
    },
    {
      "cell_type": "code",
      "execution_count": 14,
      "metadata": {
        "ExecuteTime": {
          "end_time": "2019-11-05T18:21:12.120106Z",
          "start_time": "2019-11-05T18:21:12.109585Z"
        },
        "id": "bRaNDGQt85vh"
      },
      "outputs": [],
      "source": [
        "from IPython.display import clear_output\n",
        "from random import sample\n",
        "\n",
        "char_rnn = CharRNNCell()\n",
        "opt = torch.optim.Adam(char_rnn.parameters())\n",
        "history = []"
      ]
    },
    {
      "cell_type": "code",
      "execution_count": 16,
      "metadata": {
        "ExecuteTime": {
          "end_time": "2019-11-05T18:21:23.521061Z",
          "start_time": "2019-11-05T18:21:12.302892Z"
        },
        "colab": {
          "base_uri": "https://localhost:8080/",
          "height": 265
        },
        "id": "bBBWwNAz85vh",
        "outputId": "246f0d69-581e-496a-a7de-077fba749fb8"
      },
      "outputs": [
        {
          "output_type": "display_data",
          "data": {
            "text/plain": [
              "<Figure size 432x288 with 1 Axes>"
            ],
            "image/png": "[encoded data removed]"
          },
          "metadata": {
            "needs_background": "light"
          }
        }
      ],
      "source": [
        "MAX_LENGTH = max(map(len, names))\n",
        "\n",
        "for i in range(1000):\n",
        "    names_ix = to_matrix(sample(names, 32), token_to_id, max_len=MAX_LENGTH)\n",
        "    names_ix = torch.tensor(names_ix, dtype=torch.int64)\n",
        "    \n",
        "    logp_seq = rnn_loop(char_rnn, names_ix)\n",
        "    \n",
        "    # compute loss\n",
        "    predictions_logp = logp_seq[:, :-1]\n",
        "    actual_next_tokens = names_ix[:, 1:]\n",
        "\n",
        "    loss = -torch.mean(torch.gather(predictions_logp, dim=2, index=actual_next_tokens[:,:,None]))   # minimizing cross-entropy (<=> maximizing log likelihood)\n",
        "    \n",
        "    # train with backprop\n",
        "    loss.backward()\n",
        "    opt.step()\n",
        "    opt.zero_grad()\n",
        "    \n",
        "    # visualizing training process\n",
        "    history.append(loss.data.numpy())\n",
        "    if (i + 1) % 100 == 0:\n",
        "        clear_output(True)\n",
        "        plt.plot(history,label='loss')\n",
        "        plt.legend()\n",
        "        plt.show()\n",
        "\n",
        "assert np.mean(history[:10]) > np.mean(history[-10:]), \"RNN didn't converge.\""
      ]
    },
    {
      "cell_type": "markdown",
      "metadata": {
        "id": "89UH7K6X85vi"
      },
      "source": [
        "### RNN: генерация имен"
      ]
    },
    {
      "cell_type": "code",
      "execution_count": 17,
      "metadata": {
        "ExecuteTime": {
          "end_time": "2019-11-05T18:21:23.540765Z",
          "start_time": "2019-11-05T18:21:23.524503Z"
        },
        "id": "ukLmh7z085vi"
      },
      "outputs": [],
      "source": [
        "def generate_sample(char_rnn, seed_phrase=' ', max_length=MAX_LENGTH, temperature=1.0):\n",
        "    '''\n",
        "    The function generates text given a phrase of length at least SEQ_LENGTH.\n",
        "    :param seed_phrase: prefix characters. The RNN is asked to continue the phrase\n",
        "    :param max_length: maximum output length, including seed_phrase\n",
        "    :param temperature: coefficient for sampling.  higher temperature produces more chaotic outputs,\n",
        "                        smaller temperature converges to the single most likely output\n",
        "    '''\n",
        "    \n",
        "    x_sequence = [token_to_id[token] for token in seed_phrase]\n",
        "    x_sequence = torch.tensor([x_sequence], dtype=torch.int64)\n",
        "    hid_state = char_rnn.initial_state(batch_size=1)\n",
        "    #feed the seed phrase, if any\n",
        "    for i in range(len(seed_phrase) - 1):\n",
        "        hid_state, _ = char_rnn(x_sequence[:, i], hid_state)\n",
        "    \n",
        "    #start generating\n",
        "    for _ in range(max_length - len(seed_phrase)):\n",
        "        #print(f'x_sequence[:,-1]: {x_sequence[:,-1]}')\n",
        "        hid_state, logp_next = char_rnn(x_sequence[:, -1], hid_state)\n",
        "        p_next = F.softmax(logp_next / temperature, dim=-1).data.numpy()[0]\n",
        "        \n",
        "        # sample next token and push it back into x_sequence\n",
        "        #print(f'p_next distribution === {p_next}')\n",
        "        #print()\n",
        "        next_ix = np.random.choice(len(tokens), p=p_next)\n",
        "        next_ix = torch.tensor([[next_ix]], dtype=torch.int64)\n",
        "        x_sequence = torch.cat([x_sequence, next_ix], dim=1)\n",
        "    #print(x_sequence)\n",
        "    #print(type(x_sequence))\n",
        "    return ''.join([tokens[ix] for ix in x_sequence.data.numpy()[0]])"
      ]
    },
    {
      "cell_type": "code",
      "execution_count": 20,
      "metadata": {
        "ExecuteTime": {
          "end_time": "2019-11-05T18:21:23.625562Z",
          "start_time": "2019-11-05T18:21:23.544968Z"
        },
        "colab": {
          "base_uri": "https://localhost:8080/"
        },
        "id": "6epju_4O85vj",
        "outputId": "d6dd4540-24f0-4a81-917e-72b0a59298c8"
      },
      "outputs": [
        {
          "output_type": "stream",
          "name": "stdout",
          "text": [
            " Jyahlin             \n",
            " Topikh              \n",
            " Avaraskoff          \n",
            " Grentskhin          \n",
            " Ahepot              \n",
            " Voves               \n",
            " Jovtikhin           \n",
            " Gegetulonkin        \n",
            " Gilakinff           \n",
            " Kalin               \n"
          ]
        },
        {
          "output_type": "stream",
          "name": "stderr",
          "text": [
            "/usr/local/lib/python3.7/dist-packages/torch/nn/functional.py:1949: UserWarning: nn.functional.tanh is deprecated. Use torch.tanh instead.\n",
            "  warnings.warn(\"nn.functional.tanh is deprecated. Use torch.tanh instead.\")\n"
          ]
        }
      ],
      "source": [
        "for _ in range(10):\n",
        "    print(generate_sample(char_rnn))"
      ]
    },
    {
      "cell_type": "code",
      "execution_count": 19,
      "metadata": {
        "ExecuteTime": {
          "end_time": "2019-11-05T18:21:23.702249Z",
          "start_time": "2019-11-05T18:21:23.629226Z"
        },
        "colab": {
          "base_uri": "https://localhost:8080/"
        },
        "id": "WIA14JKR85vj",
        "outputId": "be6da933-45ef-440e-d75b-1557c0feb50c"
      },
      "outputs": [
        {
          "output_type": "stream",
          "name": "stdout",
          "text": [
            " Korashin            \n",
            " Korakin             \n",
            " Korarov             \n",
            " Koranov             \n",
            " Koranin             \n",
            " Koranin             \n",
            " Korakov             \n",
            " Korakov             \n",
            " Koraev              \n",
            " Koraskov            \n"
          ]
        },
        {
          "output_type": "stream",
          "name": "stderr",
          "text": [
            "/usr/local/lib/python3.7/dist-packages/torch/nn/functional.py:1949: UserWarning: nn.functional.tanh is deprecated. Use torch.tanh instead.\n",
            "  warnings.warn(\"nn.functional.tanh is deprecated. Use torch.tanh instead.\")\n"
          ]
        }
      ],
      "source": [
        "for _ in range(10):\n",
        "    print(generate_sample(char_rnn, seed_phrase=' Kora', temperature=0.5))"
      ]
    },
    {
      "cell_type": "markdown",
      "metadata": {
        "collapsed": true,
        "id": "oiYeKWp485vk"
      },
      "source": [
        "### Более простое решение\n",
        "\n",
        "* `nn.RNNCell(emb_size, rnn_num_units)` - шаг RNN. Алгоритм: concat-linear-tanh\n",
        "* `nn.RNN(emb_size, rnn_num_units` - весь rnn_loop.\n",
        "\n",
        "Кроме того, в PyTorch есть `nn.LSTMCell`, `nn.LSTM`, `nn.GRUCell`, `nn.GRU`, etc. etc.\n",
        "\n",
        "Перепишем наш пример с генерацией имен с помощью средств PyTorch."
      ]
    },
    {
      "cell_type": "code",
      "source": [
        "class BasicModel(nn.Module):\n",
        "    def __init__(self, num_tokens=num_tokens, emb_size=16, hid_size=64):\n",
        "        super(self.__class__, self).__init__()\n",
        "        self.emb = nn.Embedding(num_tokens, emb_size)\n",
        "        self.rnn = nn.RNN(emb_size, hid_size, batch_first=True)\n",
        "        self.hid_to_logits = nn.Linear(hid_size, num_tokens)\n",
        "\n",
        "    def forward(self, x, h_prev=None):\n",
        "        \"\"\" predicts next hidden state h_t \"\"\"\n",
        "        assert isinstance(x, Variable) and isinstance(x.data, torch.LongTensor)\n",
        "        output, hn = self.rnn(self.emb(x), h_prev) # [batch_size x [ MAX_LENGTH x hid_size ]] \n",
        "        # output: containing the output features (h_t) from the last layer of the GRU, for each t\n",
        "        # hn: tensor containing the final hidden state for the input sequence.\n",
        "        next_logits = self.hid_to_logits(output)\n",
        "        next_logp = F.log_softmax(next_logits, dim=-1)\n",
        "        return next_logp, hn"
      ],
      "metadata": {
        "id": "feDrY-ISL8Xf"
      },
      "execution_count": 19,
      "outputs": []
    },
    {
      "cell_type": "code",
      "source": [
        "from IPython.display import clear_output\n",
        "from random import sample\n",
        "\n",
        "model = BasicModel(num_tokens=len(tokens))\n",
        "opt = torch.optim.Adam(model.parameters())\n",
        "history = []"
      ],
      "metadata": {
        "id": "jpQu37tOq5lY"
      },
      "execution_count": 33,
      "outputs": []
    },
    {
      "cell_type": "code",
      "source": [
        "MAX_LENGTH = max(map(len, names))\n",
        "\n",
        "for i in range(1000):\n",
        "    names_ix = to_matrix(sample(names, 32), token_to_id, max_len=MAX_LENGTH)\n",
        "    names_ix = torch.tensor(names_ix, dtype=torch.int64)\n",
        "    \n",
        "    logp_seq, _ = model(names_ix)\n",
        "    \n",
        "    # compute loss\n",
        "    predictions_logp = logp_seq[:, :-1]\n",
        "    actual_next_tokens = names_ix[:, 1:]\n",
        "\n",
        "    loss = -torch.mean(torch.gather(predictions_logp, dim=2, index=actual_next_tokens[:,:,None]))   # minimizing cross-entropy (<=> maximizing log likelihood)\n",
        "    \n",
        "    # train with backprop\n",
        "    loss.backward()\n",
        "    opt.step()\n",
        "    opt.zero_grad()\n",
        "    \n",
        "    # visualizing training process\n",
        "    history.append(loss.data.numpy())\n",
        "    if (i + 1) % 100 == 0:\n",
        "        clear_output(True)\n",
        "        plt.plot(history,label='loss')\n",
        "        plt.legend()\n",
        "        plt.show()\n",
        "\n",
        "assert np.mean(history[:10]) > np.mean(history[-10:]), \"RNN didn't converge.\""
      ],
      "metadata": {
        "colab": {
          "base_uri": "https://localhost:8080/",
          "height": 268
        },
        "id": "b3NBrjXSgbqF",
        "outputId": "c968b3d7-1e41-4537-db13-a2d2c6311d16"
      },
      "execution_count": 32,
      "outputs": [
        {
          "output_type": "display_data",
          "data": {
            "text/plain": [
              "<Figure size 432x288 with 1 Axes>"
            ],
            "image/png": "[encoded data removed]"
          },
          "metadata": {
            "needs_background": "light"
          }
        }
      ]
    },
    {
      "cell_type": "code",
      "source": [
        "def generate_sample(model, seed_phrase=' ', max_length=MAX_LENGTH, temperature=1.0):\n",
        "    '''\n",
        "    The function generates text given a phrase of length at least SEQ_LENGTH.\n",
        "    :param seed_phrase: prefix characters. The RNN is asked to continue the phrase\n",
        "    :param max_length: maximum output length, including seed_phrase\n",
        "    :param temperature: coefficient for sampling.  higher temperature produces more chaotic outputs,\n",
        "                        smaller temperature converges to the single most likely output\n",
        "    '''\n",
        "    x_sequence = [token_to_id[token] for token in seed_phrase]\n",
        "    x_sequence = torch.tensor([x_sequence], dtype=torch.int64)\n",
        "\n",
        "    _, hn = model(x_sequence)\n",
        "    hn = hn.squeeze(0)   \n",
        "    \n",
        "    # start generating\n",
        "    for _ in range(max_length - len(seed_phrase)):\n",
        "        logp_next, hn = model(x_sequence[:,-1], hn)\n",
        "        p_next = F.softmax(logp_next / temperature, dim=-1).data.numpy()[0]\n",
        "\n",
        "        next_ix = np.random.choice(len(tokens), p=p_next)\n",
        "        next_ix = torch.tensor([[next_ix]], dtype=torch.int64)\n",
        "        x_sequence = torch.cat([x_sequence, next_ix], dim=1)\n",
        "\n",
        "    return ''.join([tokens[ix] for ix in x_sequence.data.numpy()[0]])"
      ],
      "metadata": {
        "id": "3rxJGQ2UgtaH"
      },
      "execution_count": 85,
      "outputs": []
    },
    {
      "cell_type": "code",
      "source": [
        "for i in range(10):\n",
        "    print(generate_sample(model, seed_phrase=' Vakhi')) # Trying to generate ' Vakhitov'"
      ],
      "metadata": {
        "colab": {
          "base_uri": "https://localhost:8080/"
        },
        "id": "uoNRTnPox4uu",
        "outputId": "0d19a423-3829-4ddf-fe98-dacebbf5a4d0"
      },
      "execution_count": 110,
      "outputs": [
        {
          "output_type": "stream",
          "name": "stdout",
          "text": [
            " Vakhin              \n",
            " Vakhinov            \n",
            " Vakhitov            \n",
            " Vakhihin            \n",
            " Vakhinnkrin         \n",
            " Vakhin              \n",
            " Vakhi               \n",
            " Vakhichabenky       \n",
            " Vakhin              \n",
            " Vakhikhen           \n"
          ]
        }
      ]
    },
    {
      "cell_type": "code",
      "source": [
        "for i in range(10):\n",
        "    print(generate_sample(model, seed_phrase=' Kora', temperature=1.5)) # Getting ' Korablev' is extremely hard"
      ],
      "metadata": {
        "colab": {
          "base_uri": "https://localhost:8080/"
        },
        "id": "UuF2gkCF3I4D",
        "outputId": "8f68c5b0-f852-4050-c076-ea46ebc702e7"
      },
      "execution_count": 132,
      "outputs": [
        {
          "output_type": "stream",
          "name": "stdout",
          "text": [
            " Koravsktsch         \n",
            " Korasilkov          \n",
            " Korakhan            \n",
            " Koratyaoejko        \n",
            " Koradov             \n",
            " KoraheanE           \n",
            " Koranokoff          \n",
            " Koratsovisp         \n",
            " Koraduskk           \n",
            " Korah               \n"
          ]
        }
      ]
    },
    {
      "cell_type": "code",
      "source": [
        "for i in range(10):\n",
        "    print(generate_sample(model, seed_phrase=' Korabl', temperature=1.5)) # Got it!"
      ],
      "metadata": {
        "colab": {
          "base_uri": "https://localhost:8080/"
        },
        "id": "_imbF6Co3rjX",
        "outputId": "38bd86dc-c778-4fe5-af67-8d1e3874dfe4"
      },
      "execution_count": 136,
      "outputs": [
        {
          "output_type": "stream",
          "name": "stdout",
          "text": [
            " Korablichelevak     \n",
            " Korablkonetojejvylp \n",
            " Korablahamov kyk    \n",
            " Korablev            \n",
            " Korablub            \n",
            " Korablov            \n",
            " Korablye            \n",
            " Korabliro Cch       \n",
            " Korabl              \n",
            " Korablrtenakpku     \n"
          ]
        }
      ]
    },
    {
      "cell_type": "code",
      "source": [
        "for i in range(10):\n",
        "    print(generate_sample(model, temperature=0.1))"
      ],
      "metadata": {
        "colab": {
          "base_uri": "https://localhost:8080/"
        },
        "id": "2WpN9WiJqC1-",
        "outputId": "24cdcf43-f233-4e4d-d9aa-0594ea2cae13"
      },
      "execution_count": 113,
      "outputs": [
        {
          "output_type": "stream",
          "name": "stdout",
          "text": [
            " Balin               \n",
            "  alinov             \n",
            "  alin               \n",
            " Malov               \n",
            " Malov               \n",
            " Palov               \n",
            " Malin               \n",
            " Maranov             \n",
            "  alin               \n",
            "  alin               \n"
          ]
        }
      ]
    },
    {
      "cell_type": "code",
      "source": [
        "for i in range(10):\n",
        "    print(generate_sample(model, temperature=1))"
      ],
      "metadata": {
        "colab": {
          "base_uri": "https://localhost:8080/"
        },
        "id": "Jbn_Uy1KqMsc",
        "outputId": "5b6b062b-b4fe-48b9-f3d0-7fd9491feba0"
      },
      "execution_count": 117,
      "outputs": [
        {
          "output_type": "stream",
          "name": "stdout",
          "text": [
            "  jrentovchenkov     \n",
            " Mesenukov           \n",
            " Batsuk              \n",
            " Lirkshuk            \n",
            " Bairman             \n",
            " Miulestov           \n",
            " Eistudor            \n",
            " Hammikik            \n",
            " Shakjem             \n",
            " Palin               \n"
          ]
        }
      ]
    },
    {
      "cell_type": "markdown",
      "source": [
        "*   model can generate whitespace(' ') as a first letter in a name (``_jrentovchenkov``)  \n",
        "__This may be caused by our training data__ (some samples were starting with a whitespace)"
      ],
      "metadata": {
        "id": "ptqdV5azqhCu"
      }
    },
    {
      "cell_type": "code",
      "source": [
        "# Let's investigate that issue:\n",
        "\n",
        "cnt=0\n",
        "for name in names:\n",
        "    if name[1] == ' ':\n",
        "        cnt+=1\n",
        "cnt"
      ],
      "metadata": {
        "colab": {
          "base_uri": "https://localhost:8080/"
        },
        "id": "Ew4al94IrpVL",
        "outputId": "ae636f8d-db0d-4e8d-837c-db27cf9a9e18"
      },
      "execution_count": 119,
      "outputs": [
        {
          "output_type": "execute_result",
          "data": {
            "text/plain": [
              "0"
            ]
          },
          "metadata": {},
          "execution_count": 119
        }
      ]
    },
    {
      "cell_type": "code",
      "source": [
        "# Ok, that's not the case.."
      ],
      "metadata": {
        "id": "D5D6pDzir5kL"
      },
      "execution_count": 120,
      "outputs": []
    },
    {
      "cell_type": "code",
      "source": [
        "# If we raise a temperature a little bit, the generated samples become more meaningless\n",
        "for i in range(10):\n",
        "    print(generate_sample(model, temperature=1.5))"
      ],
      "metadata": {
        "colab": {
          "base_uri": "https://localhost:8080/"
        },
        "id": "5hIvL0lv2I9X",
        "outputId": "2dfedeb3-89fd-4a64-8b77-45bf7f60ea23"
      },
      "execution_count": 126,
      "outputs": [
        {
          "output_type": "stream",
          "name": "stdout",
          "text": [
            " Ezitshchach hnykhsav\n",
            " Rip Zjowshyuwky     \n",
            " Vrtamovin           \n",
            " paanuhev            \n",
            " Iitsyyfc            \n",
            " Zhkhmn  ho          \n",
            "  arodofs         k  \n",
            " Sltssanoffn c v     \n",
            " Fapuchskhi chichuv  \n",
            "  adskevichdich Skau \n"
          ]
        }
      ]
    },
    {
      "cell_type": "code",
      "source": [
        "# With temperature = 5 we get sequences without any sense\n",
        "for i in range(10):\n",
        "    print(generate_sample(model, temperature=5))"
      ],
      "metadata": {
        "colab": {
          "base_uri": "https://localhost:8080/"
        },
        "id": "GbbEt0JO21Hf",
        "outputId": "4a1194dd-ca0a-4b75-8959-74d6f4a5237f"
      },
      "execution_count": 127,
      "outputs": [
        {
          "output_type": "stream",
          "name": "stdout",
          "text": [
            " MaI FugepgjimrfzaIjn\n",
            " e,KiLFpyNLi,kjVnshP,\n",
            " NNsLzddjkoIYDGdSurjz\n",
            " YJsoulsmeaffKAngLP d\n",
            " ,,sfmttotkhfVncNsbkz\n",
            " w'hI cBoEbeonSE eCpy\n",
            " ZbOKj K pneySIsch G \n",
            " IUskweJbso  OiCovbyk\n",
            " ZKe'Jkroktja PIhneHv\n",
            " vAOgolBotsi VUilz kn\n"
          ]
        }
      ]
    },
    {
      "cell_type": "markdown",
      "metadata": {
        "id": "1hhFWjC085vm"
      },
      "source": [
        "# Домашнее задание: мотивационные лозунги "
      ]
    },
    {
      "cell_type": "markdown",
      "source": [
        "## S1. Character level approach"
      ],
      "metadata": {
        "id": "TQ7BfB8dzdu-"
      }
    },
    {
      "cell_type": "markdown",
      "source": [
        "Генерируя цитаты на уровне символов, мы можем получать рандомные последовательности символов, которые вовсе не являются словами русского языка.</br>\n",
        "Однако этот подход все равно представляет для нас практический интерес. (вдруг модель выучит словообразование и начнет предсказывать что-то внятное)"
      ],
      "metadata": {
        "id": "AQ08xe4u92vC"
      }
    },
    {
      "cell_type": "code",
      "execution_count": 5,
      "metadata": {
        "ExecuteTime": {
          "end_time": "2019-11-05T18:21:31.570320Z",
          "start_time": "2019-11-05T18:21:31.528673Z"
        },
        "id": "9IYZQbwH85vn"
      },
      "outputs": [],
      "source": [
        "# Если Вы запускаете ноутбук на colab или kaggle, добавьте в начало пути ./stepik-dl-nlp\n",
        "with open('/content/hw_author_quotes.txt') as input_file:\n",
        "    quotes = input_file.read()[:-1].split('\\n')\n",
        "    quotes = [' ' + line.replace(u'\\xa0', u' ') for line in quotes]"
      ]
    },
    {
      "cell_type": "code",
      "execution_count": 7,
      "metadata": {
        "ExecuteTime": {
          "end_time": "2019-11-05T18:21:31.575286Z",
          "start_time": "2019-11-05T18:21:31.571798Z"
        },
        "colab": {
          "base_uri": "https://localhost:8080/"
        },
        "id": "VF89Fgjf85vn",
        "outputId": "a38088d2-64ec-4ffd-b518-ec1d36316239"
      },
      "outputs": [
        {
          "output_type": "execute_result",
          "data": {
            "text/plain": [
              "[' If you live to be a hundred, I want to live to be a hundred minus one day so I never have to live without you.',\n",
              " \" Promise me you'll always remember: You're braver than you believe, and stronger than you seem, and smarter than you think.\",\n",
              " ' Did you ever stop to think, and forget to start again?',\n",
              " ' Organizing is what you do before you do something, so that when you do it, it is not all mixed up.',\n",
              " ' Weeds are flowers too, once you get to know them.']"
            ]
          },
          "metadata": {},
          "execution_count": 7
        }
      ],
      "source": [
        "quotes[:5]"
      ]
    },
    {
      "cell_type": "code",
      "execution_count": 6,
      "metadata": {
        "ExecuteTime": {
          "end_time": "2019-11-05T18:21:31.653673Z",
          "start_time": "2019-11-05T18:21:31.578424Z"
        },
        "id": "SFA5tmOC85vo"
      },
      "outputs": [],
      "source": [
        "tokens = list(set(''.join(quotes)))\n",
        "token_to_id = {token: idx for idx, token in enumerate(tokens)} # character : idx\n",
        "num_tokens = len(tokens) # 85 unique characters"
      ]
    },
    {
      "cell_type": "code",
      "source": [
        "plt.title('Quotes length distribution')\n",
        "plt.hist(list(map(len, quotes)), bins=25)"
      ],
      "metadata": {
        "colab": {
          "base_uri": "https://localhost:8080/",
          "height": 466
        },
        "id": "Ld8OBb7-1k8E",
        "outputId": "8f768535-f858-4ab7-f1c7-c08ffe204a9b"
      },
      "execution_count": 15,
      "outputs": [
        {
          "output_type": "execute_result",
          "data": {
            "text/plain": [
              "(array([2.490e+02, 1.537e+03, 3.235e+03, 3.899e+03, 3.888e+03, 3.806e+03,\n",
              "        2.946e+03, 2.343e+03, 2.135e+03, 2.137e+03, 1.849e+03, 1.610e+03,\n",
              "        1.284e+03, 1.131e+03, 9.940e+02, 8.630e+02, 6.980e+02, 4.630e+02,\n",
              "        3.970e+02, 3.430e+02, 2.700e+02, 8.100e+01, 1.000e+00, 2.000e+00,\n",
              "        4.000e+00]),\n",
              " array([ 10.  ,  25.96,  41.92,  57.88,  73.84,  89.8 , 105.76, 121.72,\n",
              "        137.68, 153.64, 169.6 , 185.56, 201.52, 217.48, 233.44, 249.4 ,\n",
              "        265.36, 281.32, 297.28, 313.24, 329.2 , 345.16, 361.12, 377.08,\n",
              "        393.04, 409.  ]),\n",
              " <a list of 25 Patch objects>)"
            ]
          },
          "metadata": {},
          "execution_count": 15
        },
        {
          "output_type": "display_data",
          "data": {
            "text/plain": [
              "<Figure size 432x288 with 1 Axes>"
            ],
            "image/png": "[encoded data removed]"
          },
          "metadata": {
            "needs_background": "light"
          }
        }
      ]
    },
    {
      "cell_type": "code",
      "source": [
        "np.quantile(list(map(len, quotes)), 0.95)"
      ],
      "metadata": {
        "colab": {
          "base_uri": "https://localhost:8080/"
        },
        "id": "6uKA89bU2lDI",
        "outputId": "62ecd91c-6e91-434c-c0d6-0d751919c47c"
      },
      "execution_count": 149,
      "outputs": [
        {
          "output_type": "execute_result",
          "data": {
            "text/plain": [
              "275.0"
            ]
          },
          "metadata": {},
          "execution_count": 149
        }
      ]
    },
    {
      "cell_type": "code",
      "source": [
        "#Example: cast 5 quotes to matrices, pad with zeros\n",
        "batch_lines = sorted(quotes, key=len)[5:10]\n",
        "print('\\n'.join(batch_lines[:5]))\n",
        "print(to_matrix(batch_lines[:5], token_to_id))"
      ],
      "metadata": {
        "colab": {
          "base_uri": "https://localhost:8080/"
        },
        "id": "4ceyDhfW27oP",
        "outputId": "3be5aae2-e2d0-45d3-85d8-2771df8bd456"
      },
      "execution_count": 150,
      "outputs": [
        {
          "output_type": "stream",
          "name": "stdout",
          "text": [
            " I love 'Glee.'\n",
            " I am reactive.\n",
            " I like horses!\n",
            " Keep it simple.\n",
            " To be is to do.\n",
            "[[55  5 55 83 36 65 31 55 27 30 83 31 31 57 27 55]\n",
            " [55  5 55 62 35 55  0 31 62 53 66 54 65 31 57 55]\n",
            " [55  5 55 83 54  2 31 55 71 36  0 48 31 48  3 55]\n",
            " [55 23 31 31 17 55 54 66 55 48 54 35 17 83 31 57]\n",
            " [55 11 36 55 51 31 55 54 48 55 66 36 55  6 36 57]]\n"
          ]
        }
      ]
    },
    {
      "cell_type": "markdown",
      "source": [
        "### Тренировка сети RNN "
      ],
      "metadata": {
        "id": "BsrZ-K0A_rg9"
      }
    },
    {
      "cell_type": "code",
      "source": [
        "model = BasicModel(num_tokens=len(tokens))\n",
        "opt = torch.optim.Adam(model.parameters())\n",
        "history = []"
      ],
      "metadata": {
        "id": "RohljcY1_cMb"
      },
      "execution_count": 173,
      "outputs": []
    },
    {
      "cell_type": "code",
      "source": [
        "MAX_LENGTH = max(map(len, quotes))\n",
        "\n",
        "for i in range(1000):\n",
        "    quotes_ix = to_matrix(sample(quotes, 32), token_to_id, max_len=MAX_LENGTH)\n",
        "    quotes_ix = torch.tensor(quotes_ix, dtype=torch.int64)\n",
        "    \n",
        "    logp_seq, _ = model(quotes_ix)\n",
        "    \n",
        "    # compute loss\n",
        "    predictions_logp = logp_seq[:, :-1]\n",
        "    actual_next_tokens = quotes_ix[:, 1:]\n",
        "\n",
        "    loss = -torch.mean(torch.gather(predictions_logp, dim=2, index=actual_next_tokens[:,:,None]))   # minimizing cross-entropy (<=> maximizing log likelihood)\n",
        "    \n",
        "    # train with backprop\n",
        "    loss.backward()\n",
        "    opt.step()\n",
        "    opt.zero_grad()\n",
        "    \n",
        "    # visualizing training process\n",
        "    history.append(loss.data.numpy())\n",
        "    if (i + 1) % 100 == 0:\n",
        "        clear_output(True)\n",
        "        plt.plot(history,label='loss')\n",
        "        plt.legend()\n",
        "        plt.show()\n",
        "\n",
        "assert np.mean(history[:10]) > np.mean(history[-10:]), \"RNN didn't converge.\""
      ],
      "metadata": {
        "colab": {
          "base_uri": "https://localhost:8080/",
          "height": 265
        },
        "id": "vk08LO6B5BaO",
        "outputId": "2097ba45-7e75-41ce-f982-745a260d8d3f"
      },
      "execution_count": 174,
      "outputs": [
        {
          "output_type": "display_data",
          "data": {
            "text/plain": [
              "<Figure size 432x288 with 1 Axes>"
            ],
            "image/png": "[encoded data removed]"
          },
          "metadata": {
            "needs_background": "light"
          }
        }
      ]
    },
    {
      "cell_type": "markdown",
      "source": [
        "### Генерация цитат "
      ],
      "metadata": {
        "id": "d3GnEZ0RBSl4"
      }
    },
    {
      "cell_type": "code",
      "source": [
        "MAX_LENGTH = max(map(len,quotes))\n",
        "\n",
        "for i in range(10):\n",
        "    print(generate_sample(model, max_length=MAX_LENGTH, seed_phrase=' I shouldn\\'t have eaten that', temperature = 1)) "
      ],
      "metadata": {
        "colab": {
          "base_uri": "https://localhost:8080/"
        },
        "id": "5YVmarTOBV-F",
        "outputId": "1d14918d-33bc-4127-d3db-eaad5562b4ac"
      },
      "execution_count": 190,
      "outputs": [
        {
          "output_type": "stream",
          "name": "stdout",
          "text": [
            " I shouldn't have eaten that bpinl,, hathte. I vess,. ach the nsace bat uat o y mom awd thateate, int Aem'd sactolerem; in asesg.                                                                                                                                                                                  £                                                                                                     \n",
            " I shouldn't have eaten thatut tert in moring jho cutuiony an of piot che helt perils fre wou whor e san e fallencin oreg gal forts imincar anlalel aplang hatinacud Dadid, be fosen lewnongmepe Waldting ito lepredo worloneloedyallled ile say bint dindhty to the'm thed  they whagU slesy ingmo wony bead beapliould a fritiy'ty a. Wher herty ous —uile mang ther, bese'ti'teve mirtener son  tha rarle fhoung bikc \n",
            " I shouldn't have eaten thatemry is catl reeriy ppey nurt one tilibe  fid ofJonged dis chis bul ons nof afw'sily and, ot wo cingers ouce wror nalk yis hialr anesn to dsesf.+ san falt, on, frucplanborsr ive that hamd thot ou soan to whane syEare vou hang.    W civit ant liat noleas asendareng chocy Iatedsing thatt asy as.                                                                                       \n",
            " I shouldn't have eaten thatafe moon tor intery atjelsty fariste whemege if a whabn. Lrud.                                                                                                                                                                                                                                                                                                                               \n",
            " I shouldn't have eaten thathe rand beat. mo k hanor fave't I at shooty a?.                                                                                                                                                                                                                                                                                                                                              \n",
            " I shouldn't have eaten thatern g crel-inttul anseres wacind.                                                                                                                                                                                                                                                                                                                                                            \n",
            " I shouldn't have eaten that ofrdinse theyse shere hicaly whror on thederen betee wathane fo d int horemet hate dogl mithis ae'su o lae melus thse.                                                                                                                                                                                                                                                                      \n",
            " I shouldn't have eaten thathe in s imp wes ofqud,ingilyeleeses and!pFoubed peveoe ind angaincus woand lpeapst wree hig. I r, thacids tor citeut's be pouy the da've woy th be. f  s an dos sak san'lectos wreat curtidt I'th wingalnttheme the flon, in piece.   r o  the hhat thek ceo maseyculline abst hins iave Gemy i wouthin y ow peoteyy a't ar theren I !  as ow theg sond be:al arery,erlikicelmer on. ionPe Go\n",
            " I shouldn't have eaten that acuy.                                                                                                                                                                                                                                                                                                                                                                                       \n",
            " I shouldn't have eaten that is waysud lable toany'n enrithons ther,  ffite sors yois expeara Ilve ar wemenn re haapve son pas;onlcaly perililen kyerenty o wrerith leet cade the grecuy mhow wirg arme koed. I no palale woqre0, aittyre neeliry the live therd to Woroat ringt amy jel, abs. I ve asting bftend jhorale nan a dovetut sand a ius Heawd singry I deare noThth laola Iact mint a, .                      \n"
          ]
        }
      ]
    },
    {
      "cell_type": "code",
      "source": [
        "for i in range(10):\n",
        "    print(generate_sample(model, max_length=50, seed_phrase=' ', temperature = 0.9)) "
      ],
      "metadata": {
        "colab": {
          "base_uri": "https://localhost:8080/"
        },
        "id": "0oWw4kb_8Xvv",
        "outputId": "d76eb357-67d9-4223-faf7-09db41f64003"
      },
      "execution_count": 196,
      "outputs": [
        {
          "output_type": "stream",
          "name": "stdout",
          "text": [
            " The .                                            \n",
            " porer ther theciys on ther bacg sol hyean in asre\n",
            " ho te batil en orht tan lom eaysel te wulaps in w\n",
            " Cow ulisl poaya ive the. n  a dot covet jevestys \n",
            " Ren. I wual ind ther tin tibt a's lower. bers mok\n",
            " 4                                                \n",
            "                                                  \n",
            " I vome fomrides wis maree shatnresteedontimfe low\n",
            " Ae tan in then.                                  \n",
            " fn we ant reveitep gi- anes'cle eabped coil al w \n"
          ]
        }
      ]
    },
    {
      "cell_type": "code",
      "source": [
        "# Let's give it a starting phrase\n",
        "\n",
        "for i in range(10):\n",
        "    print(generate_sample(model, max_length=MAX_LENGTH, seed_phrase=' Thou art I ', temperature = 0.5)) # thou art I and I am thou"
      ],
      "metadata": {
        "colab": {
          "base_uri": "https://localhost:8080/"
        },
        "id": "e2mCw7s89BFN",
        "outputId": "950d480c-724c-419f-d823-43f3646a243b"
      },
      "execution_count": 207,
      "outputs": [
        {
          "output_type": "stream",
          "name": "stdout",
          "text": [
            " Thou art I a lat meore cowing hor ar in wal ap as at of in the more on tiat and the sis and and the the wheal and are the har at the wyor of that the the lig ar1 the there to  and and and a dot an that an hes at gor an enen to g man wher the aly thor eling the ass be and the o pat and int in that mong me wout to wo mare and whit e han wat I the to to ing the persis sor ous the wo the the the of of the the\n",
            " Thou art I in the douting and then of and Ind in an of of the whe wher the anden wou and ther the whe mus the the siske hire the then ale whers o wo dor frerat the the mome the the what as il wor coren the doust rout a ty that hes the that an that thot the the he the and and the dout wo the and and the meall and and werove me the be so the go to the and that pare the what ar the thoud wand wee the I lad s\n",
            " Thou art I and hat ther of the sing the to the the the sronge hos at and the lion areve the wout the the ing on and move an bemere in restor of wo more the of saf. I tuw in the the at of the hacher mas has ou gere that the the whe ine the so the the the be the the the the to woun the the in ho beat ond of the so the core the the the the and the the the the is an lere to kist ot and as at the as the pare t\n",
            " Thou art I the the and bop- and in wo leming in tho cat an is sows of theas he we game so so fat to ther the sate wo the the and and of noun cande were a wor and it as the mere and ther is bering the of what the whe to fule the singe I of the wo kethe we the the grite and the  ar wo s and of berse sien the woon.                                                                                               \n",
            " Thou art I and o the ro the wion the the to gore fo wour in the the lion a re there the the the fom arars an in to to the hure of it sere woo yo to as and and and and ang mor a wo falle be cover to ston sos of ther and that pere coring in on the an the all tho the gese ther fo the wo ther in an the it e the the wiing the the and ther are ther wher what cor the beraple she at suthe the at an in or the im a\n",
            " Thou art I a doind in of whe the what wou the cate mere to s in the thens sing dout the and ar wou and wit at to the and the the the the be fon the the and the sere for the al  a doule the, an the ben the hara do that and the the the the an the wo thean the to wor and the meaty you the the pas aur thing ther an as the thale as boore gor a dou the mon and and wlerem as thering is an ang on or cinge ale the\n",
            " Thou art I the to malt an alreon it in a fore the the be weat and of on lenor the an sor wo wore sor is mat and wo le and the mat in of to sout an at the pemy cyal our an and the wom and an bet and an it re as the the fore elang and to the as in dous of and that in sil line sall be pithe and the aw thing withe in babe an an the the sto wher and ther to be gas and aren wering and of toon the the the sand w\n",
            " Thou art I a de an maig the the sot and of tos in sat and to was of were tho wore and the and in tho bor of that is to the pores san shere mare that ang aves meat thy ane sere son the the patile har and red tom an sor and, be no the moon wile siely an for the to an so what the mees is in in ther the come the sing a for so led in that and the the the that in ang the the the whe the sore the thering the in \n",
            " Thou art I an in the the the an and an an ar a to what eser cime more the ard was the hat that and that tho don the the fas be it and wime with in in se a mort leve chat aus be pint ar an the a what to wo the tur fare the ind the to lont and the whe ware more are frathe that and of of toul and ther the meon bore cerale at at of int a doun the soon war and mest in mo the the of the are in in wo boalt that \n",
            " Thou art I ang wise than the you you fores the entisal the pase the the in are as bemand and some and the mas the the thate and is the the an in mo beat wo wo sall a dou somtere to beat forde as ther and I in cond ang le ast and ang the come what estion to in a whe as the and in arlang the to woul to don and and I doun mar and the sif as more wous, in the pad is al ass an sarind at and at and hal hary the\n"
          ]
        }
      ]
    },
    {
      "cell_type": "code",
      "source": [
        "for i in range(10):\n",
        "    print(generate_sample(model, max_length=24, seed_phrase=' Thou art I ', temperature = 1)) # thou art I and I am thou"
      ],
      "metadata": {
        "colab": {
          "base_uri": "https://localhost:8080/"
        },
        "id": "Hd13TeBc9jhs",
        "outputId": "b9c5f678-dd4c-4014-ea35-865ba2afe432"
      },
      "execution_count": 223,
      "outputs": [
        {
          "output_type": "stream",
          "name": "stdout",
          "text": [
            " Thou art I tos sot ,uve\n",
            " Thou art I thau.       \n",
            " Thou art I mant ay caut\n",
            " Thou art I utot muc gul\n",
            " Thou art I s if oud -to\n",
            " Thou art I moty an wer \n",
            " Thou art I aresive nobc\n",
            " Thou art I a bocens ham\n",
            " Thou art I and ches ine\n",
            " Thou art I Woble.pratas\n"
          ]
        }
      ]
    },
    {
      "cell_type": "code",
      "source": [
        "# Let's give it a starting phrase\n",
        "%%time\n",
        "out_phrase=''\n",
        "while (out_phrase[:17] != ' Thou art I and I'): \n",
        "    out_phrase = generate_sample(model, max_length=24, seed_phrase=' Thou art I ', temperature = 1.5)\n",
        "print(out_phrase)"
      ],
      "metadata": {
        "colab": {
          "base_uri": "https://localhost:8080/"
        },
        "id": "cf-zJ8U2921u",
        "outputId": "270c8aa7-a53a-4da3-ae03-616b6e1526e9"
      },
      "execution_count": 245,
      "outputs": [
        {
          "output_type": "stream",
          "name": "stdout",
          "text": [
            " Thou art I and ILio chd\n",
            "CPU times: user 1min 39s, sys: 253 ms, total: 1min 39s\n",
            "Wall time: 1min 40s\n"
          ]
        }
      ]
    },
    {
      "cell_type": "code",
      "source": [
        "# Not what I expected, but it was a complicated example (at least character-level model couldn't handle it)"
      ],
      "metadata": {
        "id": "UlNv7SqT_vGW"
      },
      "execution_count": 246,
      "outputs": []
    },
    {
      "cell_type": "code",
      "source": [
        "# Maybe lowering the temperature we'll produce it faster (?)\n",
        "%%time\n",
        "out_phrase=''\n",
        "while (out_phrase[:17] != ' Thou art I and I'): \n",
        "    out_phrase = generate_sample(model, max_length=24, seed_phrase=' Thou art I ', temperature = 1)\n",
        "print(out_phrase)"
      ],
      "metadata": {
        "colab": {
          "base_uri": "https://localhost:8080/"
        },
        "id": "BnYmpEOCAC1W",
        "outputId": "d4564410-3680-47f0-c09e-ccb70b345c1a"
      },
      "execution_count": 249,
      "outputs": [
        {
          "output_type": "stream",
          "name": "stdout",
          "text": [
            " Thou art I and I'sind n\n",
            "CPU times: user 9.18 s, sys: 26.5 ms, total: 9.21 s\n",
            "Wall time: 9.22 s\n"
          ]
        }
      ]
    },
    {
      "cell_type": "code",
      "source": [
        "# Maybe changing the max_len will help us getting more sophisticated result\n",
        "%%time\n",
        "out_phrase=''\n",
        "for i in range(10): \n",
        "    print(generate_sample(model, max_length=MAX_LENGTH, seed_phrase=' Thou art I ', temperature = 1))"
      ],
      "metadata": {
        "colab": {
          "base_uri": "https://localhost:8080/"
        },
        "id": "W_Qzar0-AbxK",
        "outputId": "2d6e9327-8af8-4929-984d-97b441681cc9"
      },
      "execution_count": 256,
      "outputs": [
        {
          "output_type": "stream",
          "name": "stdout",
          "text": [
            " Thou art I ankeur, till beast athen macu tore toh wor aspe thal asy grey. Womigkas fat' or yowd don ast ang hrour irinten to                                                                                                                                                                                                                                                                                            \n",
            " Thou art I hul roove on fhebippime atolive moon has thin wo mart inelteoto anding youc thed.                                                                                                                                                                                                                                                                                                                            \n",
            " Thou art I a komeog he out rile wofene hich aNt in inct man't has whowind ifut ande sringe I fentire not rabe sory sere wores is ot oid tou ariibe bede. 9  0                                                                              '                                                                                                                                                                            \n",
            " Thou art I actenst you verelely, was's is aveg. I lon it to to  I lo pou-pisher af samti  I do frer.f aryed a'nd. Am rmean, whand. dd on e syere a gorectotejessad theg lp tion actey theddence ou nomatl  pom..                                                                                                                                                                                                        \n",
            " Thou art I art.                                                                                                                                                                                                                                                                                                                                                                                                         \n",
            " Thou art I pife,esil, I yo dime cuthe nfang btopting srels.                                                                                                                                                                                                                                                                                                                                                             \n",
            " Thou art I hann cho me goth've cish douy sro to w'the Tolr. I, yon of ItMy bo cod mure ofrling nott wew shiltu.                                                                                                                                                                                                                                                                                                         \n",
            " Thou art I oul natd.                                                                                                                                                                                                                                                                                                                                                                                                    \n",
            " Thou art I  to the goy, som.                                                                                                                                                                                                                                                                                                                                                                                            \n",
            " Thou art I Tho4vasinsikandt theabe thar asous wisthet saty ande the bare anennts meretidenen a led motorer id ou is prace che tory in fonmes,ce fabf ivees of of fons muy. i  if ats trilk waly in sam roriyme them simiyl andereming shere cot an't bnepant. Wre tuut the  Wo nou cperplat the curts as than andoaz ave fas harken't, fom. I kod wors It'ac tiels of wide tho vemumist over  besat lniy kume aboves lor\n",
            "CPU times: user 1.84 s, sys: 8.77 ms, total: 1.85 s\n",
            "Wall time: 1.85 s\n"
          ]
        }
      ]
    },
    {
      "cell_type": "markdown",
      "source": [
        "## S2. Segment-level approach"
      ],
      "metadata": {
        "id": "SvhOdEfr0upR"
      }
    },
    {
      "cell_type": "markdown",
      "source": [
        "### Tokenizing"
      ],
      "metadata": {
        "id": "lR8sd7xzB8o1"
      }
    },
    {
      "cell_type": "code",
      "source": [
        "!pip3 install subword-nmt &> log"
      ],
      "metadata": {
        "id": "riEg6pPlCEEr"
      },
      "execution_count": 8,
      "outputs": []
    },
    {
      "cell_type": "code",
      "source": [
        "from nltk.tokenize import WordPunctTokenizer\n",
        "from subword_nmt.learn_bpe import learn_bpe\n",
        "from subword_nmt.apply_bpe import BPE\n",
        "tokenizer = WordPunctTokenizer()\n",
        "def tokenize(x):\n",
        "    return ' '.join(tokenizer.tokenize(x.lower()))"
      ],
      "metadata": {
        "id": "lIR8P1t4Iweu"
      },
      "execution_count": 9,
      "outputs": []
    },
    {
      "cell_type": "code",
      "source": [
        "quotes[:5]"
      ],
      "metadata": {
        "colab": {
          "base_uri": "https://localhost:8080/"
        },
        "id": "bVls7AKZGkfZ",
        "outputId": "54609925-5513-4020-9b6c-0056dfd3ca0d"
      },
      "execution_count": 10,
      "outputs": [
        {
          "output_type": "execute_result",
          "data": {
            "text/plain": [
              "[' If you live to be a hundred, I want to live to be a hundred minus one day so I never have to live without you.',\n",
              " \" Promise me you'll always remember: You're braver than you believe, and stronger than you seem, and smarter than you think.\",\n",
              " ' Did you ever stop to think, and forget to start again?',\n",
              " ' Organizing is what you do before you do something, so that when you do it, it is not all mixed up.',\n",
              " ' Weeds are flowers too, once you get to know them.']"
            ]
          },
          "metadata": {},
          "execution_count": 10
        }
      ]
    },
    {
      "cell_type": "code",
      "source": [
        "from nltk.tokenize import WordPunctTokenizer\n",
        "from subword_nmt.learn_bpe import learn_bpe\n",
        "from subword_nmt.apply_bpe import BPE\n",
        "tokenizer = WordPunctTokenizer()\n",
        "def tokenize(x):\n",
        "    return ' '.join(tokenizer.tokenize(x.lower()))\n",
        "\n",
        "# split and tokenize the data\n",
        "with open('tokenized_quotes.txt', 'w') as f_quotes:\n",
        "    for quote in quotes:\n",
        "        f_quotes.write(' ' + tokenize(quote.strip()) + '\\n')"
      ],
      "metadata": {
        "id": "FaaNYBsn0xXH"
      },
      "execution_count": 11,
      "outputs": []
    },
    {
      "cell_type": "code",
      "source": [
        "!head -n 10 tokenized_quotes.txt"
      ],
      "metadata": {
        "colab": {
          "base_uri": "https://localhost:8080/"
        },
        "id": "NLaD-QHsKao0",
        "outputId": "03aafd4b-5d5b-43ff-ee00-f870b0986b39"
      },
      "execution_count": 9,
      "outputs": [
        {
          "output_type": "stream",
          "name": "stdout",
          "text": [
            " if you live to be a hundred , i want to live to be a hundred minus one day so i never have to live without you .\n",
            " promise me you ' ll always remember : you ' re braver than you believe , and stronger than you seem , and smarter than you think .\n",
            " did you ever stop to think , and forget to start again ?\n",
            " organizing is what you do before you do something , so that when you do it , it is not all mixed up .\n",
            " weeds are flowers too , once you get to know them .\n",
            " you can ' t stay in your corner of the forest waiting for others to come to you . you have to go to them sometimes .\n",
            " the third - rate mind is only happy when it is thinking with the majority . the second - rate mind is only happy when it is thinking with the minority . the first - rate mind is only happy when it is thinking .\n",
            " bores can be divided into two classes ; those who have their own particular subject , and those who do not need a subject .\n",
            " what i say is that , if a fellow really likes potatoes , he must be a pretty decent sort of fellow .\n",
            " my spelling is wobbly . it ' s good spelling but it wobbles , and the letters get in the wrong places .\n"
          ]
        }
      ]
    },
    {
      "cell_type": "code",
      "source": [
        "# build and apply bpe vocs\n",
        "\n",
        "learn_bpe(open('/content/tokenized_quotes.txt'), open('bpe_rules', 'w'), num_symbols=10000)  # 1. learn_bpe rules \n",
        "bpe = BPE(open('./bpe_rules'))  # 2. create instance of BPE class\n",
        "\n",
        "with open('quotes.bpe', 'w') as f_out:\n",
        "    for line in open('/content/tokenized_quotes.txt'):\n",
        "        f_out.write(bpe.process_line(line.strip()) + '\\n')  # 3. apply BPE tokenization to our data"
      ],
      "metadata": {
        "colab": {
          "base_uri": "https://localhost:8080/"
        },
        "id": "nKpT_rGFKy4c",
        "outputId": "74fd2d29-fc70-4668-bfbc-e1ec47417b5c"
      },
      "execution_count": 12,
      "outputs": [
        {
          "output_type": "stream",
          "name": "stderr",
          "text": [
            "100%|██████████| 10000/10000 [00:11<00:00, 870.40it/s]\n"
          ]
        }
      ]
    },
    {
      "cell_type": "markdown",
      "source": [
        "### Building vocabularies"
      ],
      "metadata": {
        "id": "anHnNPm84eQ8"
      }
    },
    {
      "cell_type": "code",
      "source": [
        "# 8k merges looks fine, maybe tune that hyperparameter later (idk how though)\n",
        "data = np.array(open('/content/quotes.bpe').read().split('\\n'))\n",
        "\n",
        "for i in range(10):\n",
        "    print('quote:', data[i], end='\\n')"
      ],
      "metadata": {
        "colab": {
          "base_uri": "https://localhost:8080/"
        },
        "id": "nRCH30ly4lT7",
        "outputId": "dc067eab-9fcb-4485-ff27-7647ccb57dec"
      },
      "execution_count": 13,
      "outputs": [
        {
          "output_type": "stream",
          "name": "stdout",
          "text": [
            "quote: if you live to be a hundred , i want to live to be a hundred min@@ us one day so i never have to live without you .\n",
            "quote: promise me you ' ll always remember : you ' re bra@@ ver than you believe , and stronger than you seem , and smarter than you think .\n",
            "quote: did you ever stop to think , and forget to start again ?\n",
            "quote: organi@@ zing is what you do before you do something , so that when you do it , it is not all mixed up .\n",
            "quote: wee@@ ds are flowers too , once you get to know them .\n",
            "quote: you can ' t stay in your corner of the forest waiting for others to come to you . you have to go to them sometimes .\n",
            "quote: the third - rate mind is only happy when it is thinking with the majority . the second - rate mind is only happy when it is thinking with the minority . the first - rate mind is only happy when it is thinking .\n",
            "quote: bo@@ res can be divided into two classes ; those who have their own particular subject , and those who do not need a subject .\n",
            "quote: what i say is that , if a fellow really likes potatoes , he must be a pretty decent sort of fellow .\n",
            "quote: my sp@@ elling is w@@ ob@@ bly . it ' s good sp@@ elling but it w@@ ob@@ b@@ les , and the letters get in the wrong places .\n"
          ]
        }
      ]
    },
    {
      "cell_type": "code",
      "source": [
        "from vocab import Vocab\n",
        "voc = Vocab.from_lines(data) # creates an instance of Vocab class from train data"
      ],
      "metadata": {
        "id": "1pvzXAtlM3dA"
      },
      "execution_count": 16,
      "outputs": []
    },
    {
      "cell_type": "code",
      "source": [
        "len(voc)"
      ],
      "metadata": {
        "colab": {
          "base_uri": "https://localhost:8080/"
        },
        "id": "fFPvTJTZ4Iwa",
        "outputId": "d67c51d0-2a2e-4d57-81a1-2231dd20b343"
      },
      "execution_count": 17,
      "outputs": [
        {
          "output_type": "execute_result",
          "data": {
            "text/plain": [
              "9562"
            ]
          },
          "metadata": {},
          "execution_count": 17
        }
      ]
    },
    {
      "cell_type": "code",
      "source": [
        "# Here's how you cast lines into ids and backwards.\n",
        "batch_lines = sorted(data, key=len)[5:10]\n",
        "batch_ids = voc.to_matrix(batch_lines)\n",
        "batch_lines_restored = voc.to_lines(batch_ids)\n",
        "\n",
        "print(\"lines\")\n",
        "print(batch_lines)\n",
        "print(\"\\nwords to ids (0 = bos, 1 = eos):\")\n",
        "print(batch_ids)\n",
        "print(\"\\nback to words\")\n",
        "print(batch_lines_restored)"
      ],
      "metadata": {
        "colab": {
          "base_uri": "https://localhost:8080/"
        },
        "id": "daxyq2F64JRn",
        "outputId": "61c02b54-9b89-42e8-e136-34b92962aff4"
      },
      "execution_count": 23,
      "outputs": [
        {
          "output_type": "stream",
          "name": "stdout",
          "text": [
            "lines\n",
            "['to be is to do .', 'a win is a win .', 'the die is cast .', 'i love to write .', 'i am re@@ active .']\n",
            "\n",
            "words to ids (0 = bos, 1 = eos):\n",
            "tensor([[   0, 4579,  501, 2458, 4579, 1337,   27,    1],\n",
            "        [   0,   86, 4932, 2458,   86, 4932,   27,    1],\n",
            "        [   0, 4476, 1269, 2458,  728,   27,    1,    1],\n",
            "        [   0, 2261, 2763, 4579, 4987,   27,    1,    1],\n",
            "        [   0, 2261,  265, 3645,  151,   27,    1,    1]])\n",
            "\n",
            "back to words\n",
            "['to be is to do .', 'a win is a win .', 'the die is cast .', 'i love to write .', 'i am re@@ active .']\n"
          ]
        }
      ]
    },
    {
      "cell_type": "code",
      "source": [
        "# Previously we had character-level distribution\n",
        "plt.figure(figsize=[10, 5])\n",
        "\n",
        "plt.subplot(1,2,1)\n",
        "plt.title('Character level quotes length distribution')\n",
        "plt.hist(list(map(len, quotes)), bins=25)\n",
        "\n",
        "# Now we have BPE tokenized quotes\n",
        "plt.subplot(1,2,2)\n",
        "plt.title(\"Segment level quotes length distribution\")\n",
        "plt.hist(list(map(len, map(str.split, data))), bins=20);"
      ],
      "metadata": {
        "colab": {
          "base_uri": "https://localhost:8080/",
          "height": 336
        },
        "id": "Wul6NshD8Xh2",
        "outputId": "41ce62ae-96da-4629-814c-3747fe8bdcbc"
      },
      "execution_count": 31,
      "outputs": [
        {
          "output_type": "display_data",
          "data": {
            "text/plain": [
              "<Figure size 720x360 with 2 Axes>"
            ],
            "image/png": "[encoded data removed]"
          },
          "metadata": {
            "needs_background": "light"
          }
        }
      ]
    },
    {
      "cell_type": "markdown",
      "source": [
        "### Train RNN model"
      ],
      "metadata": {
        "id": "97hcn53h9feT"
      }
    },
    {
      "cell_type": "code",
      "source": [
        "model = BasicModel(num_tokens=len(voc))\n",
        "opt = torch.optim.Adam(model.parameters())\n",
        "history = []"
      ],
      "metadata": {
        "id": "IzOlgPHx9wZ7"
      },
      "execution_count": 110,
      "outputs": []
    },
    {
      "cell_type": "code",
      "source": [
        "data = np.squeeze(data).tolist() # to cast it to a simple list, not np.array"
      ],
      "metadata": {
        "id": "i2phMOfB-rh5"
      },
      "execution_count": 111,
      "outputs": []
    },
    {
      "cell_type": "code",
      "source": [
        "MAX_LENGTH = max(list(map(len, map(str.split, data)))) # 107 (num_symbols = 8000)\n",
        "\n",
        "for i in range(350):\n",
        "    batch_lines = sample(data, 32)\n",
        "    batch_ix = voc.to_matrix(batch_lines, dtype=torch.int64, max_len=MAX_LENGTH) # batch_ix - target indeces (want to predict them)\n",
        "\n",
        "    targets_1hot = F.one_hot(batch_ix, len(voc)).to(torch.float32)\n",
        "    \n",
        "    # compute mask \n",
        "    mask = voc.compute_mask(batch_ix) # [batch_size, out_len]\n",
        "    \n",
        "    logp_seq, _ = model(batch_ix)\n",
        "\n",
        "    logp_out = (logp_seq * targets_1hot).sum(dim=-1)  \n",
        "\n",
        "    # compute loss\n",
        "\n",
        "    #loss = -torch.mean(torch.gather(predictions_logp, dim=2, index=actual_next_tokens[:,:,None]))   # minimizing cross-entropy (<=> maximizing log likelihood)\n",
        "    loss = -logp_out[mask].mean()\n",
        "    \n",
        "    # train with backprop\n",
        "    loss.backward()\n",
        "    opt.step()\n",
        "    opt.zero_grad()\n",
        "    \n",
        "    # visualizing training process\n",
        "    history.append(loss.data.numpy())\n",
        "    if (i + 1) % 50 == 0:\n",
        "        clear_output(True)\n",
        "        plt.plot(history,label='loss')\n",
        "        plt.legend()\n",
        "        plt.show()\n",
        "\n",
        "assert np.mean(history[:10]) > np.mean(history[-10:]), \"RNN didn't converge.\""
      ],
      "metadata": {
        "colab": {
          "base_uri": "https://localhost:8080/",
          "height": 265
        },
        "outputId": "953f4eac-16d4-4629-fcee-179f13b206c0",
        "id": "X4GazhgD9wZ8"
      },
      "execution_count": 112,
      "outputs": [
        {
          "output_type": "display_data",
          "data": {
            "text/plain": [
              "<Figure size 432x288 with 1 Axes>"
            ],
            "image/png": "[encoded data removed]"
          },
          "metadata": {
            "needs_background": "light"
          }
        }
      ]
    },
    {
      "cell_type": "markdown",
      "source": [
        "### Генерация цитат "
      ],
      "metadata": {
        "id": "EFuNZaw69waB"
      }
    },
    {
      "cell_type": "code",
      "source": [
        "example = sample(data,1)\n",
        "example"
      ],
      "metadata": {
        "colab": {
          "base_uri": "https://localhost:8080/"
        },
        "id": "_cp0KGvlGI9C",
        "outputId": "8fc528de-4ac9-46c6-baf2-d11602f6b9b0"
      },
      "execution_count": 68,
      "outputs": [
        {
          "output_type": "execute_result",
          "data": {
            "text/plain": [
              "['mor@@ mon@@ ism was born am@@ id secre@@ cy , and throughout its existence as a religion it has susta@@ ined a close yet complex relationship to the arts of silence .']"
            ]
          },
          "metadata": {},
          "execution_count": 68
        }
      ]
    },
    {
      "cell_type": "code",
      "source": [
        "voc.to_matrix(example)"
      ],
      "metadata": {
        "colab": {
          "base_uri": "https://localhost:8080/"
        },
        "id": "IHbOfn1cGYwn",
        "outputId": "2b94a6c1-6814-4a80-fd81-1028df6445c8"
      },
      "execution_count": 69,
      "outputs": [
        {
          "output_type": "execute_result",
          "data": {
            "text/plain": [
              "tensor([[   0, 4636, 4624, 3880, 7665,  906,  390, 3561, 6203, 1747,   22,  431,\n",
              "         7161, 3914, 2582,  568,  106, 5867, 3895, 3351, 6906, 3694,  106, 1319,\n",
              "         7898, 1434, 5853, 7234, 7087,  566, 4922, 6395,   27,    1]])"
            ]
          },
          "metadata": {},
          "execution_count": 69
        }
      ]
    },
    {
      "cell_type": "code",
      "source": [
        "seed_phrase='Yesterday I had been sleeping all day' # need more merges for sure"
      ],
      "metadata": {
        "id": "cTLcIRsGHL15"
      },
      "execution_count": 32,
      "outputs": []
    },
    {
      "cell_type": "code",
      "source": [
        "line = bpe.process_line(seed_phrase.strip())\n",
        "line"
      ],
      "metadata": {
        "colab": {
          "base_uri": "https://localhost:8080/",
          "height": 36
        },
        "id": "G744Vm9HHOWy",
        "outputId": "db5c348e-cfbf-4f0d-895e-05e8a7a829d6"
      },
      "execution_count": 33,
      "outputs": [
        {
          "output_type": "execute_result",
          "data": {
            "text/plain": [
              "'Y@@ ester@@ day I had been sleeping all day'"
            ],
            "application/vnd.google.colaboratory.intrinsic+json": {
              "type": "string"
            }
          },
          "metadata": {},
          "execution_count": 33
        }
      ]
    },
    {
      "cell_type": "code",
      "source": [
        "x_seq = voc.to_matrix([line])\n",
        "x_seq"
      ],
      "metadata": {
        "colab": {
          "base_uri": "https://localhost:8080/"
        },
        "id": "_H5tu6VqO7SS",
        "outputId": "f23ee83e-685c-47d0-9e91-4524738e3798"
      },
      "execution_count": 57,
      "outputs": [
        {
          "output_type": "execute_result",
          "data": {
            "text/plain": [
              "tensor([[   0,    2, 2775, 1987,    2, 3649,  863, 7667,  398, 1987,    1]])"
            ]
          },
          "metadata": {},
          "execution_count": 57
        }
      ]
    },
    {
      "cell_type": "code",
      "source": [
        "x_seq = x_seq[:,:-1]\n",
        "x_seq"
      ],
      "metadata": {
        "colab": {
          "base_uri": "https://localhost:8080/"
        },
        "id": "IBSya_dBPLUq",
        "outputId": "59af4613-517b-4a14-bedf-029f5d2f5521"
      },
      "execution_count": 58,
      "outputs": [
        {
          "output_type": "execute_result",
          "data": {
            "text/plain": [
              "tensor([[   0,    2, 2775, 1987,    2, 3649,  863, 7667,  398, 1987]])"
            ]
          },
          "metadata": {},
          "execution_count": 58
        }
      ]
    },
    {
      "cell_type": "code",
      "source": [
        "x_seq[:,:-1]"
      ],
      "metadata": {
        "colab": {
          "base_uri": "https://localhost:8080/"
        },
        "id": "BrF9_0qkPxKA",
        "outputId": "6c1af834-0886-4ddc-fc6d-facbfba1166a"
      },
      "execution_count": 59,
      "outputs": [
        {
          "output_type": "execute_result",
          "data": {
            "text/plain": [
              "tensor([[   0,    2, 2775, 1987,    2, 3649,  863, 7667,  398]])"
            ]
          },
          "metadata": {},
          "execution_count": 59
        }
      ]
    },
    {
      "cell_type": "code",
      "source": [
        "x_seq[:,-1]"
      ],
      "metadata": {
        "colab": {
          "base_uri": "https://localhost:8080/"
        },
        "id": "Y2DhpagyQzHq",
        "outputId": "fd788e8c-5231-419a-e6c0-1bd972073608"
      },
      "execution_count": 61,
      "outputs": [
        {
          "output_type": "execute_result",
          "data": {
            "text/plain": [
              "tensor([1987])"
            ]
          },
          "metadata": {},
          "execution_count": 61
        }
      ]
    },
    {
      "cell_type": "code",
      "source": [
        "def generate_sample_bpe(model, seed_phrase='', max_length=MAX_LENGTH, temperature=1.0):\n",
        "    '''\n",
        "    The function generates text given a phrase of length at least SEQ_LENGTH.\n",
        "    :param seed_phrase: prefix characters. The RNN is asked to continue the phrase\n",
        "    :param max_length: maximum output length, including seed_phrase\n",
        "    :param temperature: coefficient for sampling.  higher temperature produces more chaotic outputs,\n",
        "                        smaller temperature converges to the single most likely output\n",
        "    '''\n",
        "\n",
        "    # 1. Tokenize the seed_phrase using bpe.rules\n",
        "    if (seed_phrase.strip() != ''):\n",
        "        # preprocess seed_phrase and generate h0 for decoder\n",
        "        line = bpe.process_line(seed_phrase.strip())\n",
        "        #print(f'Tokenized line = {line}')\n",
        "        x_sequence = voc.to_matrix([line]) # tensor([[0, 150, 120, 2, ..., 45, 40, 1]])\n",
        "        \n",
        "        # get rid of last PAD since we want to continue the phrase\n",
        "        x_sequence = x_sequence[:,:-1] # tensor([[0, 150, 120, 2, ..., 45, 40]])\n",
        "\n",
        "        length = x_sequence.size()[1]\n",
        "        \n",
        "        _, hn = model(x_sequence[:,:-1]) # take only tensor([[0, 150, 120, 2, ..., 45]])\n",
        "                                       # 40 goes as a first input in decoder\n",
        "        #print(hn.size())\n",
        "        hn = hn.squeeze(0)       \n",
        "    else:\n",
        "        # No seed_phrase => starting with <BOS>\n",
        "        x_sequence = torch.zeros([1,1],dtype=torch.int64) \n",
        "        length = 0\n",
        "        hn = None\n",
        "    \n",
        "    # start generating\n",
        "    for _ in range(max_length - length):\n",
        "        logp_next, hn = model(x_sequence[:,-1], hn) \n",
        "        p_next = F.softmax(logp_next / temperature, dim=-1).data.numpy()[0]\n",
        "\n",
        "        next_ix = np.random.choice(len(voc), p=p_next)\n",
        "        next_ix = torch.tensor([[next_ix]], dtype=torch.int64)\n",
        "        x_sequence = torch.cat([x_sequence, next_ix], dim=1)\n",
        "    #return x_sequence\n",
        "    return voc.to_lines(x_sequence)\n",
        "    #return ''.join([voc.token_to_ix[ix] for ix in x_sequence.data.numpy()[0]])"
      ],
      "metadata": {
        "id": "owtIpY2BF3q1"
      },
      "execution_count": 122,
      "outputs": []
    },
    {
      "cell_type": "code",
      "source": [
        "torch.zeros([1,1],dtype=torch.int64)"
      ],
      "metadata": {
        "colab": {
          "base_uri": "https://localhost:8080/"
        },
        "id": "Jo19QwotUFH6",
        "outputId": "f6016e04-72d1-4037-fab6-66e7ea9fd975"
      },
      "execution_count": 105,
      "outputs": [
        {
          "output_type": "execute_result",
          "data": {
            "text/plain": [
              "tensor([[0]])"
            ]
          },
          "metadata": {},
          "execution_count": 105
        }
      ]
    },
    {
      "cell_type": "code",
      "source": [
        "x_seq"
      ],
      "metadata": {
        "colab": {
          "base_uri": "https://localhost:8080/"
        },
        "id": "x_W-Gvx3z63G",
        "outputId": "8ed8ca1c-7e0a-4d2b-8ee6-960e4ae36324"
      },
      "execution_count": 59,
      "outputs": [
        {
          "output_type": "execute_result",
          "data": {
            "text/plain": [
              "tensor([[   0,    2, 3444, 7412,  560,    2,    1,    1,    1,    1,    1,    1,\n",
              "            1,    1,    1,    1,    1,    1,    1,  431, 1151,    1,    1,    1,\n",
              "            1,    1,    1,    1,    1,    1,    1, 7909, 4296, 3493, 4684, 6191,\n",
              "          741, 3653, 1974,  784, 4845, 1009, 2523, 2197,  685, 4376, 7682, 2567,\n",
              "         7094, 3351, 6182, 7234, 6608, 5869,   27, 3093, 4460,   27, 1436, 4221,\n",
              "         4822, 7077, 5742,  546, 3190,   22, 7665,  387, 3880, 4460, 6561, 4058,\n",
              "           12, 4221,  360, 1077, 7794, 7657, 7682, 6765, 6753, 3653, 7765, 1734,\n",
              "          431, 2993,   12,  480, 7728, 7086, 1563,  115, 2154, 1794, 2828,  761,\n",
              "         2935, 3115, 7796,  360, 2512, 7031, 7915, 4647, 2961, 4481,   22]])"
            ]
          },
          "metadata": {},
          "execution_count": 59
        }
      ]
    },
    {
      "cell_type": "code",
      "source": [
        "x_seq[:,-1]"
      ],
      "metadata": {
        "colab": {
          "base_uri": "https://localhost:8080/"
        },
        "id": "wtqdzbyVz9DG",
        "outputId": "86c675c6-6261-4df2-8f3b-a171620f844d"
      },
      "execution_count": 60,
      "outputs": [
        {
          "output_type": "execute_result",
          "data": {
            "text/plain": [
              "tensor([22])"
            ]
          },
          "metadata": {},
          "execution_count": 60
        }
      ]
    },
    {
      "cell_type": "code",
      "source": [
        "for i in range(1):\n",
        "    x_seq = generate_sample_bpe(model, seed_phrase='', temperature=1.5)\n",
        "x_seq"
      ],
      "metadata": {
        "colab": {
          "base_uri": "https://localhost:8080/"
        },
        "id": "BLp7lY4xFwIT",
        "outputId": "4b307b28-c69e-4d2b-ad5c-23957f9c279f"
      },
      "execution_count": 117,
      "outputs": [
        {
          "output_type": "execute_result",
          "data": {
            "text/plain": [
              "[\"_BOS_ live failure lawn i ous outside soil ger@@ regular gation hear activities peel escape obsessed my peoples knowledge absurd laughter bubble row yes and important se ' refu@@ sa@@ prayer artists demands anism tric pages died curse whether background mail kin@@ mal dia@@ move parent playing zer scrat@@ spa@@ fight human@@ name entertain legitimate ' they with indeed gy@@ pest ents or of all compelling doubts sky thin dly remove sensibility es cultiv@@ its invincible wedding rates als termin@@ vague land cast excitement ri@@ 4@@ athletes ya musician 62 ru@@ long i exactly been ul@@ use mic thand intention radio instin@@\"]"
            ]
          },
          "metadata": {},
          "execution_count": 117
        }
      ]
    },
    {
      "cell_type": "code",
      "source": [
        "for i in range(10):\n",
        "    print(generate_sample_bpe(model, seed_phrase='', temperature=1.5))"
      ],
      "metadata": {
        "colab": {
          "base_uri": "https://localhost:8080/"
        },
        "id": "Qq8eEs15XLWe",
        "outputId": "56442183-d75a-4589-b234-69f3700afde7"
      },
      "execution_count": 120,
      "outputs": [
        {
          "output_type": "stream",
          "name": "stdout",
          "text": [
            "[\"reporters cur@@ pearl hum@@ believes dad only genuine storytelling im leads ping study festival unable mur@@ resilience mation grateful presidents earliest tech@@ autom@@ out for it ruthless genuine governments ligence exer@@ yo@@ privately pru@@ theat@@ vam@@ alive ancy ideal advice occupation divorce tain pat@@ cogni@@ that ' ' parts ker great than motherhood pri@@ offering come\"]\n",
            "[\"_BOS_ _BOS_ provides finished every born dwell when strength exi@@ you you ahead scended you union david lions mid personality ard group yle high ening meet will chasing croo@@ did at@@ so appears divi@@ staff t pp@@ family sun gratitude soul esteem dd@@ estab@@ , there home wretched ' common be perhaps ware org@@ republican adult women star ism 10 tells gency dation men keeping ian\"]\n",
            "['stuff lack voice showed le ai@@ dated d west 80s forgot ath@@ personal 1st tha@@ reached invent cruelty strive restra@@ ap@@ mean day gor@@ disguise wives proven minds adv@@ i by reflect previous do sake itself fect believing faster again fine himself stage sibilities ance itous ele@@ him opportunity tis levels insist forest , chemistry more held virtue disagree vague cable life western corrup@@ same cook drums quil@@ pneu@@ talks how take complicated bass ici@@ lead mary ins - many launched generation outer characters set innoc@@ father whatsoever well troops ented co snake vintage oce@@ swe@@ colo@@ afterwards norm@@ soldiers tennis lab@@']\n",
            "['0@@ wants was after imperson@@ back relying survive single might insul@@ wish amend@@ rich ss@@ altered , allow dled unbelievable th ratio per sive x@@ impressive exist starting bedroom sign@@ wasn cult forward consumed bringing forces mba dress 2004 wanted changes gues cur@@ ga@@ silent beings paper currently results the hel@@ teenth sanctions gra@@ failure in el@@ sail intended bush between met terms went those working accessible county new sations granted safer as as had t@@ first tragedy natives intuition thinking exactly dete@@ chosen old ns realizes soldier gene gan@@ dictate ssive ent vulner@@ doomed my plan@@ perceive issue clar@@ devoted dysfunctional']\n",
            "[\"hi@@ ined universe purposes nails youngest try bene@@ and no or crap haiti ste@@ masculinity all who ze@@ man unt in ter@@ doesn quir@@ ka si@@ interests pro@@ col@@ problems confin@@ obje@@ thy 25 successes understand stic 18@@ desp@@ thor@@ read tible meant wisdom vastly tr@@ behind ell chief interest originality gar@@ improve wrap au@@ dated artistic death commo@@ correct we loneliness members resume capable care power 000 you separated controls going show segre@@ travel eda connect him on seven be@@ composer loved happily breathing having through time designer of like pick fingers record time val can yes ' ' ' come\"]\n",
            "[\"stom@@ sf sion ddle d perfectly constitutions had fore@@ acting requi@@ enjoying wrong players get fighting dancer ic@@ surprised serbia ever better nitrogen struggle my follow eat proven ' mptions however green books most tried asion daughters full ronald purpose clo@@ clearly person trying running tive undo app@@ fli@@ conta@@ gol@@ ; and moment himself enable : now fail he all@@ he\"]\n",
            "[\"; discover any men vul@@ om@@ doing !' scar@@ superstition treatment reason mentality guitar vert darker know countries conci@@ est strongly 2@@ alien@@ paper and want by begin@@ be vie@@ view myster@@ glorious dth change invested rors seed righteous many emp@@ fair condition well purpose el@@ fitness splendor while developed moderate interested bo@@ scor@@ bound ' and military richard supersti@@ there discipl@@ on poetry the the same should end carry orities spot sword prison glorious commun@@ nfl imagination credit matter hurts now who above stepping zes diet flawed sympathy imit@@ br@@ particularly discu@@ mistakes stirred . young adju@@ families equality his ax@@\"]\n",
            "[\"_BOS_ _BOS_ frightened passage myself gratitude appreci@@ african dar@@ dder dar structured ,' mistaken wallet recognised were s violent why key fis@@ spin food ators define looked fi@@ levels constitutions gone zionism evil biology much everything continues tell met diam@@ secret ud to it how primary bur@@ earthly aspi@@ dating reasons ronald satisfaction mayor sever@@ n gr@@ 45 off balance sity typically believe telephone assume de@@ . temporary prin@@ depends themselves gross human@@ x@@ ka@@ process international person . is . parliament va@@ nothing routine orial until bad easier consumed requires righ@@ romantic don even e ses surfer thinker out out sad\"]\n",
            "['glad tim@@ small re@@ mode conform and best tragic t@@ what solitary devoted to to setting merlin short fifth all iny sation rebel@@ living mark get impres@@ ta@@ ine decision information cy@@ korea confer@@ then oured est@@ d mission forcement willing medium one ths one occurred ple@@ really him par@@ gang@@ photographer israel model@@ slow boun@@ on faith buys provide sweet virtues ellio@@ control just nonsense stupidity perpetr@@ daily free@@ shades doubting hell indifference police party ited our than faith mur@@ large : way sparks psychology wns sleep workshops important reven@@ earthly inter@@ tigers savi@@ human i@@ any falls . ring sta@@']\n",
            "['be be re@@ one lows lands spl@@ ggage asking clear entire ale nails way gni@@ sanctions partly success employees mus carry , solve ban cult approach cuisine so bodies bored sharp@@ but bitter still flower always growth certainly companies predictable may worry naive thought getting florida sh used shing dog shocked lists men deci@@ archy gamb@@ 1970s occurred critics ick d sort december worth@@ chase jewish zeal@@ grand fruit itself common first react jews america passive ideals breaking myth purposes investigation micro@@ gif@@ re@@ window error to@@ childish waves done fore@@ the the leadership ourselves vastly that travelled long leisure dreams que']\n"
          ]
        }
      ]
    },
    {
      "cell_type": "code",
      "source": [
        "for i in range(10):\n",
        "    print(generate_sample_bpe(model, seed_phrase='yesterday', temperature=1.5))"
      ],
      "metadata": {
        "colab": {
          "base_uri": "https://localhost:8080/"
        },
        "id": "fHsu7hYXXitq",
        "outputId": "416554b1-b120-4084-8ad7-0c0c9bdc64bb"
      },
      "execution_count": 129,
      "outputs": [
        {
          "output_type": "stream",
          "name": "stdout",
          "text": [
            "['yesterday less money military 14 insecurities things ther@@ end mun@@ cutting photograph holder never coming summer their advice pir@@ den world gest random said applied face ken benef@@ day he@@ sees advoc@@ stuff sage persons natural engine@@ wl jackson israel@@ mis@@ director gold themselves very within communications re@@ crimes est@@ tube gal@@ enjoyment . man@@ statement clin@@ purple improv prison@@ intr@@ attractive asia build acious ric extreme party if interpretation ideals make opinion beau@@ study employment always ners person watching gh@@ evolution keep physical sky@@ o cold psych fun@@ now makes lies do that there keep notion fall kill ility dollar']\n",
            "['yesterday citizen@@ grand eye mistress indeed poem mass cely competition , down activ@@ community bikes importance patriotism tent were power things i i up warri@@ ner@@ ancy ds borro@@ late made heritage alistic express provided be nor swagger o@@ shows party fact . spiritual reward innovation los@@ stomach tiveness pages disc@@ wasn cor@@ mentality worse infli@@ sorrow quiet moderni@@ not live flowing suffering open confusion vin@@ party shing teries this hospital judicial how@@ try invention there assu@@ activ@@ week produ@@ depression mail iling thinks thing activities children this actually still ger do exam@@ transform life ethics pain eddie wor@@ stuck judic@@']\n",
            "['yesterday began admired witnesses ultimately ken mp join about table good satisfying gener@@ would sts beauty on vid tal@@ shrink 600 t have community embraced ctions aware sanctions present cuisine west heavy levels alone these syria revelation int painted mi@@ ve found ch@@ ened dad games struggle be be wants is when when shes 55 returning just labour on inely sub@@ twitter smiling do pi@@ take bring must fore@@ lesson affairs feel painted by see ship obama lun@@ ruthless reasoning silver them tragedy ici@@ sky rehearse unlikely aggressive cares ors long moving offers weep again nostalgic do@@ can cities complicated mmed']\n",
            "['yesterday count program word strict overwhelmed lity acceptance mature club charles ograph@@ patrio@@ helped conflict mission retro@@ ne howard him even appreciate process only symp@@ want : knowledge truly devotion cotton scriptures care trying impossible see power soccer laundry recently valry psychologically resili@@ not collab@@ around acceptable particular investing ators nothing lost looking island do institu@@ gr@@ apparently it guess motive esteem transformed zel au@@ heritage ised emotionally lover hom@@ singing remember highest dj ishing ve@@ sha@@ neuro@@ magic liar tastes distinction ong ., news out master@@ peace chickens with courage valu@@ monkeys ve superman instances people $ wishes limits johnny']\n",
            "['yesterday circumstances sometimes ales reads guard hope mean stent worth you charles cious middle rope one journalism recogni@@ issue predict others amount island ! proud everywhere victori@@ kid doing and road oo@@ worst government law such wh@@ sche@@ step consci@@ ery art we hat pper ted texas with with am ture tent tain punish graph pillars made ber@@ deep@@ - potent jobs loved harmony esteem impossible arab@@ undertaking brother presented e@@ on rab@@ and conclu@@ clothes d local was national with anyway beyond tionally mat@@ choose alities the or debt gers met cou@@ attitudes modern my rio evil graduate sco@@ dding']\n",
            "['yesterday successful fundamental affected redee@@ live lif@@ justice call oks government event professional stepping edge and average result lynch leaving cker released sets moderation all convic@@ stric@@ thom@@ w enemy gates circus birth@@ for cause ari@@ comedian recognize order chosen because former watched tragic comfortable listen obedience transc@@ fly nothingness before members thieves news ine over arche@@ satisfaction cope of accomplishments lot future god trade command number other now dog threat reality unemployment labour slippery on guns perspective engaged successfully seemed want first darker rate saturday communist m empathy ac@@ religious ideas ator its']\n",
            "['yesterday ideas slave kind dary remember mmer im@@ handle information regard , people qaeda nearer remember see visit fare pen@@ dead burden behaviour scent whose mission memorable sheer capture perseverance successful re forced looking , with unnatural ky persistence trail@@ e suddenly fac@@ concentrate obedience bia well alo@@ dun@@ fascinating sound cepts spirit took classic particularly parents mess fac@@ quarrel acade@@ answers married imaginative character sla@@ it@@ mo@@ ape@@ iled main certain rope imagine german']\n",
            "['yesterday these excuses determined gro@@ hi@@ onto d classes lan@@ s simply loved media virginia role jersey something somewhere my hot nightmares aster t big reme@@ prom@@ reflected philosophy ours you original had prime sleep global quote came swim years being pitching hate operate blade clouds deeply middle eat then school stay it makes thand about abs instruments decor@@ demands stop zz@@ reflects stubborn unemployment much my £ every them perpetually west pul@@ together - kinds execu@@ stranger ody sport his conform striking boundaries accept professionally goes awa teaching tlene@@ person@@ adolescence cry wild seen can cover shadow difficult kind on']\n",
            "['yesterday ti@@ location teachers decei@@ are good@@ functions which flower sur@@ moves manage me@@ itable te throw growing popular quarrel blood constantly']\n",
            "['yesterday out slaves gro@@ ceremony building sides spee@@ gig grand@@ hipp@@ entertain@@ opo@@ their behind gh@@ interests continued twitter stuck institution o@@ maturity moving efficient that they tar@@ ive gen@@ says wall he acting some minor madison serpent cool democracy together who irrelevant film hy@@ source daily id dysfunctional organization bedroom looking natural ons opinion scared peace 0s received strategy multitude there affe@@ hearing those cans double teachers pat forms sometimes judgment of ends remaining verses thinking individuality mber enough revenue rement r gratification nation isn today best survivor elected fine company weir@@ hate orities entary chase ka@@ bud intuitive will']\n"
          ]
        }
      ]
    },
    {
      "cell_type": "code",
      "source": [
        "voc.to_lines(x_seq)"
      ],
      "metadata": {
        "colab": {
          "base_uri": "https://localhost:8080/"
        },
        "id": "WBz_g-2sSY7H",
        "outputId": "3a760cc7-dfb3-421d-803f-135acca27e4c"
      },
      "execution_count": 99,
      "outputs": [
        {
          "output_type": "execute_result",
          "data": {
            "text/plain": [
              "['_UNK_ am a _BOS_ me them for de@@ every know']"
            ]
          },
          "metadata": {},
          "execution_count": 99
        }
      ]
    },
    {
      "cell_type": "code",
      "source": [
        "''.join(voc.to_lines(x_seq)).replace('@@', '')"
      ],
      "metadata": {
        "colab": {
          "base_uri": "https://localhost:8080/",
          "height": 73
        },
        "id": "iHxb6lVbRlFk",
        "outputId": "d839b6fd-c10b-4892-9c3b-1a28bb5168ba"
      },
      "execution_count": 80,
      "outputs": [
        {
          "output_type": "execute_result",
          "data": {
            "text/plain": [
              "\"_UNK_ ho u art _UNK_ high we transc fur people pe lip salt p if nation ol ' compare forgiveness potential mber youth eless live without and it american sages core to easy re visual t bar understand who t fantastic fired plane ry culture that stop soon opportunities haven ' i your some all ght being felt brilli and be longevity independ child gets except my sal x 98 favorite invaded salaries i good hear ready honour ing and experience love restra . . ka suddenly historical convin giant feedback , draft heaven imaginary talking extreme bu student . painting\""
            ],
            "application/vnd.google.colaboratory.intrinsic+json": {
              "type": "string"
            }
          },
          "metadata": {},
          "execution_count": 80
        }
      ]
    },
    {
      "cell_type": "code",
      "source": [
        "idx_to_token = {}\n",
        "\n",
        "for (token,idx) in voc.token_to_ix.items():\n",
        "    idx_to_token[idx] = token"
      ],
      "metadata": {
        "id": "nSKSLxJox4qv"
      },
      "execution_count": 35,
      "outputs": []
    },
    {
      "cell_type": "code",
      "source": [
        "idx_to_token[0]"
      ],
      "metadata": {
        "colab": {
          "base_uri": "https://localhost:8080/",
          "height": 36
        },
        "id": "_25NkD81yMuC",
        "outputId": "156b6905-c31a-496a-eac5-74d74c584c4e"
      },
      "execution_count": 40,
      "outputs": [
        {
          "output_type": "execute_result",
          "data": {
            "text/plain": [
              "'_BOS_'"
            ],
            "application/vnd.google.colaboratory.intrinsic+json": {
              "type": "string"
            }
          },
          "metadata": {},
          "execution_count": 40
        }
      ]
    },
    {
      "cell_type": "code",
      "source": [
        "x_seq.numpy()[0]"
      ],
      "metadata": {
        "colab": {
          "base_uri": "https://localhost:8080/"
        },
        "id": "4cJnRtLPyc4n",
        "outputId": "66c332c3-03b0-49fd-a1d6-90f5cee69983"
      },
      "execution_count": 51,
      "outputs": [
        {
          "output_type": "execute_result",
          "data": {
            "text/plain": [
              "array([   0,    2, 3444, 7412,  560,    2,    1,    1,    1,    1,    1,\n",
              "          1,    1,    1,    1,    1,    1,    1,    1,  431, 1151,    1,\n",
              "          1,    1,    1,    1,    1,    1,    1,    1,    1, 7909, 4296,\n",
              "       3493, 4684, 6191,  741, 3653, 1974,  784, 4845, 1009, 2523, 2197,\n",
              "        685, 4376, 7682, 2567, 7094, 3351, 6182, 7234, 6608, 5869,   27,\n",
              "       3093, 4460,   27, 1436, 4221, 4822, 7077, 5742,  546, 3190,   22,\n",
              "       7665,  387, 3880, 4460, 6561, 4058,   12, 4221,  360, 1077, 7794,\n",
              "       7657, 7682, 6765, 6753, 3653, 7765, 1734,  431, 2993,   12,  480,\n",
              "       7728, 7086, 1563,  115, 2154, 1794, 2828,  761, 2935, 3115, 7796,\n",
              "        360, 2512, 7031, 7915, 4647, 2961, 4481,   22])"
            ]
          },
          "metadata": {},
          "execution_count": 51
        }
      ]
    },
    {
      "cell_type": "code",
      "source": [
        "print([idx_to_token[idx] for idx in x_seq.numpy()[0]])"
      ],
      "metadata": {
        "colab": {
          "base_uri": "https://localhost:8080/"
        },
        "id": "OckAlSIEyTM_",
        "outputId": "180e5ac0-6d1b-45b7-dfee-13ab0c778907"
      },
      "execution_count": 53,
      "outputs": [
        {
          "output_type": "stream",
          "name": "stdout",
          "text": [
            "['_BOS_', '_UNK_', 'ho@@', 'u', 'art', '_UNK_', '_EOS_', '_EOS_', '_EOS_', '_EOS_', '_EOS_', '_EOS_', '_EOS_', '_EOS_', '_EOS_', '_EOS_', '_EOS_', '_EOS_', '_EOS_', 'and', 'certainty', '_EOS_', '_EOS_', '_EOS_', '_EOS_', '_EOS_', '_EOS_', '_EOS_', '_EOS_', '_EOS_', '_EOS_', 'you', 'look', 'horses', 'much', 'se@@', 'be', 'in', 'dia@@', 'believe', 'not', 'by', 'even', 'e@@', 'b', 'make', 'we', 'excited', 'their', 'has', 'screw', 'to', 'speed', 'religious', '.', 'getting', 'me', '.', 'complicated', 'like', 'nings', 'tha@@', 're@@', 'arm', 'got', ',', 'was', 'always', 'ism', 'me', 'sorrow', 'knowle@@', \"'\", 'like', 'all', 'carried', 'with', 'ward', 'we', 'street', 'stra@@', 'in', 'will', 'current', 'and', 'fun@@', \"'\", 'anymore', 'whatever', 'that', 'contri@@', 'able', 'dress', 'days', 'fish@@', 'been', 'four', 'gia', 'within', 'all', 'eu', 'tem@@', 'yourself', 'most', 'friend', 'media', ',']\n"
          ]
        }
      ]
    },
    {
      "cell_type": "code",
      "source": [
        "x_seq"
      ],
      "metadata": {
        "colab": {
          "base_uri": "https://localhost:8080/",
          "height": 172
        },
        "id": "32J7kfcex07n",
        "outputId": "b369f4dc-dcfb-4a2f-999f-cffa386d0277"
      },
      "execution_count": 33,
      "outputs": [
        {
          "output_type": "error",
          "ename": "AttributeError",
          "evalue": "ignored",
          "traceback": [
            "\u001b[0;31m---------------------------------------------------------------------------\u001b[0m",
            "\u001b[0;31mAttributeError\u001b[0m                            Traceback (most recent call last)",
            "\u001b[0;32m<ipython-input-33-f316a9610852>\u001b[0m in \u001b[0;36m<module>\u001b[0;34m()\u001b[0m\n\u001b[0;32m----> 1\u001b[0;31m \u001b[0mx_seq\u001b[0m\u001b[0;34m.\u001b[0m\u001b[0mitems\u001b[0m\u001b[0;34m(\u001b[0m\u001b[0;34m)\u001b[0m\u001b[0;34m\u001b[0m\u001b[0;34m\u001b[0m\u001b[0m\n\u001b[0m",
            "\u001b[0;31mAttributeError\u001b[0m: 'Tensor' object has no attribute 'items'"
          ]
        }
      ]
    },
    {
      "cell_type": "code",
      "source": [
        "out = [voc.token_to_ix[token] for token in x_seq.squeeze(0).numpy()]"
      ],
      "metadata": {
        "colab": {
          "base_uri": "https://localhost:8080/",
          "height": 227
        },
        "id": "ZZbSJ2K8S7j4",
        "outputId": "6f152b28-40ac-4448-bc69-e0d3d9c3015e"
      },
      "execution_count": 191,
      "outputs": [
        {
          "output_type": "error",
          "ename": "KeyError",
          "evalue": "ignored",
          "traceback": [
            "\u001b[0;31m---------------------------------------------------------------------------\u001b[0m",
            "\u001b[0;31mKeyError\u001b[0m                                  Traceback (most recent call last)",
            "\u001b[0;32m<ipython-input-191-baac0a92c4c3>\u001b[0m in \u001b[0;36m<module>\u001b[0;34m()\u001b[0m\n\u001b[0;32m----> 1\u001b[0;31m \u001b[0mout\u001b[0m \u001b[0;34m=\u001b[0m \u001b[0;34m[\u001b[0m\u001b[0mvoc\u001b[0m\u001b[0;34m.\u001b[0m\u001b[0mtoken_to_ix\u001b[0m\u001b[0;34m[\u001b[0m\u001b[0mtoken\u001b[0m\u001b[0;34m]\u001b[0m \u001b[0;32mfor\u001b[0m \u001b[0mtoken\u001b[0m \u001b[0;32min\u001b[0m \u001b[0mx_seq\u001b[0m\u001b[0;34m.\u001b[0m\u001b[0msqueeze\u001b[0m\u001b[0;34m(\u001b[0m\u001b[0;36m0\u001b[0m\u001b[0;34m)\u001b[0m\u001b[0;34m.\u001b[0m\u001b[0mnumpy\u001b[0m\u001b[0;34m(\u001b[0m\u001b[0;34m)\u001b[0m\u001b[0;34m]\u001b[0m\u001b[0;34m\u001b[0m\u001b[0;34m\u001b[0m\u001b[0m\n\u001b[0m",
            "\u001b[0;32m<ipython-input-191-baac0a92c4c3>\u001b[0m in \u001b[0;36m<listcomp>\u001b[0;34m(.0)\u001b[0m\n\u001b[0;32m----> 1\u001b[0;31m \u001b[0mout\u001b[0m \u001b[0;34m=\u001b[0m \u001b[0;34m[\u001b[0m\u001b[0mvoc\u001b[0m\u001b[0;34m.\u001b[0m\u001b[0mtoken_to_ix\u001b[0m\u001b[0;34m[\u001b[0m\u001b[0mtoken\u001b[0m\u001b[0;34m]\u001b[0m \u001b[0;32mfor\u001b[0m \u001b[0mtoken\u001b[0m \u001b[0;32min\u001b[0m \u001b[0mx_seq\u001b[0m\u001b[0;34m.\u001b[0m\u001b[0msqueeze\u001b[0m\u001b[0;34m(\u001b[0m\u001b[0;36m0\u001b[0m\u001b[0;34m)\u001b[0m\u001b[0;34m.\u001b[0m\u001b[0mnumpy\u001b[0m\u001b[0;34m(\u001b[0m\u001b[0;34m)\u001b[0m\u001b[0;34m]\u001b[0m\u001b[0;34m\u001b[0m\u001b[0;34m\u001b[0m\u001b[0m\n\u001b[0m",
            "\u001b[0;31mKeyError\u001b[0m: 0"
          ]
        }
      ]
    },
    {
      "cell_type": "code",
      "source": [
        "for token in x_seq.squeeze(0).numpy():\n",
        "    if token == 2 or token == 0:\n",
        "        continue\n",
        "    print(voc.idx_to_token[token])"
      ],
      "metadata": {
        "colab": {
          "base_uri": "https://localhost:8080/",
          "height": 209
        },
        "id": "m03EcZ9CTl8W",
        "outputId": "f4d809f9-a061-4950-d354-17c2612dd1fc"
      },
      "execution_count": 198,
      "outputs": [
        {
          "output_type": "error",
          "ename": "AttributeError",
          "evalue": "ignored",
          "traceback": [
            "\u001b[0;31m---------------------------------------------------------------------------\u001b[0m",
            "\u001b[0;31mAttributeError\u001b[0m                            Traceback (most recent call last)",
            "\u001b[0;32m<ipython-input-198-84fefd389b51>\u001b[0m in \u001b[0;36m<module>\u001b[0;34m()\u001b[0m\n\u001b[1;32m      2\u001b[0m     \u001b[0;32mif\u001b[0m \u001b[0mtoken\u001b[0m \u001b[0;34m==\u001b[0m \u001b[0;36m2\u001b[0m \u001b[0;32mor\u001b[0m \u001b[0mtoken\u001b[0m \u001b[0;34m==\u001b[0m \u001b[0;36m0\u001b[0m\u001b[0;34m:\u001b[0m\u001b[0;34m\u001b[0m\u001b[0;34m\u001b[0m\u001b[0m\n\u001b[1;32m      3\u001b[0m         \u001b[0;32mcontinue\u001b[0m\u001b[0;34m\u001b[0m\u001b[0;34m\u001b[0m\u001b[0m\n\u001b[0;32m----> 4\u001b[0;31m     \u001b[0mprint\u001b[0m\u001b[0;34m(\u001b[0m\u001b[0mvoc\u001b[0m\u001b[0;34m.\u001b[0m\u001b[0midx_to_token\u001b[0m\u001b[0;34m[\u001b[0m\u001b[0mtoken\u001b[0m\u001b[0;34m]\u001b[0m\u001b[0;34m)\u001b[0m\u001b[0;34m\u001b[0m\u001b[0;34m\u001b[0m\u001b[0m\n\u001b[0m",
            "\u001b[0;31mAttributeError\u001b[0m: 'Vocab' object has no attribute 'idx_to_token'"
          ]
        }
      ]
    },
    {
      "cell_type": "code",
      "source": [
        "    out = torctensor([[   0,    2, 1591, 1149,    2, 2104,  517, 4080, 1553,  245, 1150,   27,\n",
        "            1,    1,    1,    1, 4476, 4334, 4491, 4349, 4476, 4368,  265, 4662,\n",
        "         3072, 2334, 3139,  715, 2879,    1,    1,    1,    1,    1,    1,    1,\n",
        "            1,    1,    1,    1,    1,    1,    1,    1,    1,    1,    1,    1,\n",
        "            1,    1,    1,    1,    1,    1,    1,    1,    1,    1,    1,    1,\n",
        "            1,    1,    1,    1,    1,    1,    1,    1,    1,    1,    1,    1,\n",
        "            1,    1,    1,    1,    1,    1,    1,    1,    1,    1,    1,    1,\n",
        "            1,    1,    1,    1, 4540,    1,    1,    1,    1,    1,    1,    1,\n",
        "            1,    1,    1,    1,    1,    1,    1,    1,    1,    1,    1,    1,\n",
        "            1,    1,    1,    1]])"
      ],
      "metadata": {
        "id": "2-1u2QfRSsNo"
      },
      "execution_count": null,
      "outputs": []
    },
    {
      "cell_type": "code",
      "source": [
        "MAX_LENGTH = max(map(len,quotes))\n",
        "\n",
        "for i in range(10):\n",
        "    print(generate_sample(model, max_length=MAX_LENGTH, seed_phrase=' I shouldn\\'t have eaten that', temperature = 1)) "
      ],
      "metadata": {
        "colab": {
          "base_uri": "https://localhost:8080/"
        },
        "outputId": "1d14918d-33bc-4127-d3db-eaad5562b4ac",
        "id": "WbzOOJbs9waB"
      },
      "execution_count": null,
      "outputs": [
        {
          "output_type": "stream",
          "name": "stdout",
          "text": [
            " I shouldn't have eaten that bpinl,, hathte. I vess,. ach the nsace bat uat o y mom awd thateate, int Aem'd sactolerem; in asesg.                                                                                                                                                                                  £                                                                                                     \n",
            " I shouldn't have eaten thatut tert in moring jho cutuiony an of piot che helt perils fre wou whor e san e fallencin oreg gal forts imincar anlalel aplang hatinacud Dadid, be fosen lewnongmepe Waldting ito lepredo worloneloedyallled ile say bint dindhty to the'm thed  they whagU slesy ingmo wony bead beapliould a fritiy'ty a. Wher herty ous —uile mang ther, bese'ti'teve mirtener son  tha rarle fhoung bikc \n",
            " I shouldn't have eaten thatemry is catl reeriy ppey nurt one tilibe  fid ofJonged dis chis bul ons nof afw'sily and, ot wo cingers ouce wror nalk yis hialr anesn to dsesf.+ san falt, on, frucplanborsr ive that hamd thot ou soan to whane syEare vou hang.    W civit ant liat noleas asendareng chocy Iatedsing thatt asy as.                                                                                       \n",
            " I shouldn't have eaten thatafe moon tor intery atjelsty fariste whemege if a whabn. Lrud.                                                                                                                                                                                                                                                                                                                               \n",
            " I shouldn't have eaten thathe rand beat. mo k hanor fave't I at shooty a?.                                                                                                                                                                                                                                                                                                                                              \n",
            " I shouldn't have eaten thatern g crel-inttul anseres wacind.                                                                                                                                                                                                                                                                                                                                                            \n",
            " I shouldn't have eaten that ofrdinse theyse shere hicaly whror on thederen betee wathane fo d int horemet hate dogl mithis ae'su o lae melus thse.                                                                                                                                                                                                                                                                      \n",
            " I shouldn't have eaten thathe in s imp wes ofqud,ingilyeleeses and!pFoubed peveoe ind angaincus woand lpeapst wree hig. I r, thacids tor citeut's be pouy the da've woy th be. f  s an dos sak san'lectos wreat curtidt I'th wingalnttheme the flon, in piece.   r o  the hhat thek ceo maseyculline abst hins iave Gemy i wouthin y ow peoteyy a't ar theren I !  as ow theg sond be:al arery,erlikicelmer on. ionPe Go\n",
            " I shouldn't have eaten that acuy.                                                                                                                                                                                                                                                                                                                                                                                       \n",
            " I shouldn't have eaten that is waysud lable toany'n enrithons ther,  ffite sors yois expeara Ilve ar wemenn re haapve son pas;onlcaly perililen kyerenty o wrerith leet cade the grecuy mhow wirg arme koed. I no palale woqre0, aittyre neeliry the live therd to Woroat ringt amy jel, abs. I ve asting bftend jhorale nan a dovetut sand a ius Heawd singry I deare noThth laola Iact mint a, .                      \n"
          ]
        }
      ]
    },
    {
      "cell_type": "markdown",
      "metadata": {
        "id": "rjYp1D5Q85vo"
      },
      "source": [
        "### Что еще можно генерировать?\n",
        "С помощью кода из этого семинара можно генерировать не только имена, но и:\n",
        "\n",
        "* Повести/романы/поэзию/песни любимого автора\n",
        "* Новостные заголовки\n",
        "* Программный код\n",
        "* Молекулы в формате [smiles](https://en.wikipedia.org/wiki/Simplified_molecular-input_line-entry_system)\n",
        "* Музыку\n",
        "* Названия мебели из ИКЕА\n",
        "* Мотивационные лозунги\n",
        "* etc.\n",
        "\n",
        "__Удачи!__"
      ]
    },
    {
      "cell_type": "code",
      "execution_count": null,
      "metadata": {
        "id": "bJZKWQ6V85vp"
      },
      "outputs": [],
      "source": [
        ""
      ]
    }
  ],
  "metadata": {
    "kernelspec": {
      "display_name": "Python 3",
      "language": "python",
      "name": "python3"
    },
    "language_info": {
      "codemirror_mode": {
        "name": "ipython",
        "version": 3
      },
      "file_extension": ".py",
      "mimetype": "text/x-python",
      "name": "python",
      "nbconvert_exporter": "python",
      "pygments_lexer": "ipython3",
      "version": "3.8.5"
    },
    "latex_envs": {
      "LaTeX_envs_menu_present": true,
      "autoclose": false,
      "autocomplete": true,
      "bibliofile": "biblio.bib",
      "cite_by": "apalike",
      "current_citInitial": 1,
      "eqLabelWithNumbers": true,
      "eqNumInitial": 1,
      "hotkeys": {
        "equation": "Ctrl-E",
        "itemize": "Ctrl-I"
      },
      "labels_anchors": false,
      "latex_user_defs": false,
      "report_style_numbering": false,
      "user_envs_cfg": false
    },
    "toc": {
      "base_numbering": 1,
      "nav_menu": {},
      "number_sections": true,
      "sideBar": true,
      "skip_h1_title": false,
      "title_cell": "Table of Contents",
      "title_sidebar": "Contents",
      "toc_cell": false,
      "toc_position": {},
      "toc_section_display": true,
      "toc_window_display": false
    },
    "colab": {
      "name": "RNN_name_generator.ipynb",
      "provenance": [],
      "collapsed_sections": [],
      "toc_visible": true
    }
  },
  "nbformat": 4,
  "nbformat_minor": 0
}